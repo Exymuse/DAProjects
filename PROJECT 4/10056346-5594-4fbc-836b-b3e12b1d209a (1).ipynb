{
 "cells": [
  {
   "cell_type": "markdown",
   "metadata": {},
   "source": [
    "<div style=\"border:solid black 2px; padding: 20px\"><h1 style=\"color:black; margin-bottom:20px\">Reviewer's comment v1</h1>\n",
    "Halo Cakra !\n",
    "\n",
    "Perkenalkan saya disini sebagai Code Reviewers, disini dengan senang hati saya akan mereview tugas Cakra ya.\n",
    "\n",
    "Saya akan memberikan beberapa komen seperti dibawah ini, tolong jangan dipindah, dirubah, maupun dihapus ya.\n",
    "\n",
    "Komen yang saya berikan akan muncul dalam warna hijau, kuning, atau pun merah seperti ini:\n",
    "\n",
    "<div class=\"alert alert-success\">\n",
    "<b>Code Reviewers's comment v.1</b> <a class=\"tocSkip\"></a>\n",
    "\n",
    "Bagus, code yang dijalankan sudah sesuai dengan instruksi dari project.\n",
    "\n",
    "</div>\n",
    "\n",
    "<div class=\"alert alert-warning\">\n",
    "<b>Code Reviewers's comment v.1</b> <a class=\"tocSkip\"></a>\n",
    "\n",
    "Terdapat beberapa catatan.\n",
    "\n",
    "</div>\n",
    "\n",
    "<div class=\"alert alert-danger\">\n",
    "<b>Code Reviewers's comment v.1</b> <a class=\"tocSkip\"></a>\n",
    "\n",
    "Perlu beberapa perbaikan\n",
    "\n",
    "</div>\n",
    "\n",
    "Dan tentu saja Cakra dapat menjawab saya dengan menggunakan ini\n",
    "\n",
    "<div class=\"alert alert-block alert-info\">\n",
    "<b>Student answer.</b> <a class=\"tocSkip\"></a>\n",
    "    \n",
    "Baik kak\n",
    "</div>"
   ]
  },
  {
   "cell_type": "markdown",
   "metadata": {},
   "source": [
    "# Paket Prabayar Manakah yang Lebih Baik?\n",
    "\n",
    "Anda bekerja sebagai seorang analis di perusahaan operator telekomunikasi bernama Megaline. Perusahaan tersebut menawarkan kliennya dua jenis paket prabayar, yaitu paket Surf dan paket Ultimate. Departemen periklanan ingin mengetahui paket prabayar mana yang menghasilkan lebih banyak pendapatan, sehingga mereka bisa membuat anggaran iklan yang sesuai.\n",
    "\n",
    "Anda akan melakukan analisis awal untuk paket-paket prabayar tersebut berdasarkan sampel klien yang berukuran relatif kecil. Anda memiliki 500 data klien Megaline, yang berisi informasi seperti: siapa mereka, dari mana asalnya, jenis paket apa yang mereka gunakan, serta jumlah panggilan dan pesan yang mereka kirim di tahun 2018. Tugas Anda adalah untuk menganalisis perilaku para pengguna, lalu menentukan paket prabayar manakah yang lebih menguntungkan."
   ]
  },
  {
   "cell_type": "markdown",
   "metadata": {},
   "source": [
    "[Kami telah memberikan Anda beberapa komentar yang bisa Anda jadikan panduan untuk menyelesaikan proyek ini. Akan tetapi, pastikan untuk menghapus semua komentar yang berada di dalam tanda kurung sebelum mengirimkan proyek Anda.]\n",
    "\n",
    "[Sebelum Anda menganalisis data lebih jauh, jelaskan tujuan dari proyek ini dan langkah apa saja yang akan Anda lakukan.]\n",
    "\n",
    "[Perlu diingat bahwa mempelajari, mengubah, dan menganalisis data merupakan proses yang dilakukan secara berulang-ulang. Memeriksa kembali langkah sebelumnya agar kesalahan yang Anda buat tidak akan memengaruhi langkah berikutnya adalah hal yang lumrah dilakukan.]"
   ]
  },
  {
   "cell_type": "markdown",
   "metadata": {},
   "source": [
    "# Konten <a id='back'></a>\n",
    "\n",
    "* [Pendahuluan](#intro)\n",
    "    * [Tujuan](#purpose)\n",
    "    * [Tahapan](#step)\n",
    "\n",
    "* [Tahap 1. Pra-Pemrosesan Data](#data_review)\n",
    "    * [1.1 Inisialisasi](#inisialisasi)\n",
    "    * [1.2 Memuat data](#data_load)\n",
    "    * [1.3 Cek Kualitas Sample data dan Eksploarasi data awal](#data_review)\n",
    "         * [1.3.1 Eksploarasi data awal](#data_explore)\n",
    "         * [1.3.2 Cek data duplikat](#data_eduplicat)\n",
    "* [Tahap 2. Transformasi Data](#data_transform)\n",
    "    * [2.1 Memeriksa Sample dan Tipe data)](#sample_type)\n",
    "    * [2.2 Memperbaiki Tipe Data](#data_type)\n",
    "    * [2.3 Memperbaiki Kualitas Data](#data_quality)\n",
    "* [Tahap 3. Mempelajari Syarat dan Kondisi Terkait Paket Prabayar](#terms_condition)\n",
    "    * [3.1 Tampilkan persyaratan paket prabayar](#learn_terms')\n",
    "    * [3.2 Mengagregasi Data per Pengguna](#data_aggregate)\n",
    "    * [3.3 Penggabungan Data](#data_merge)\n",
    "* [Tahap 4. Exploratory Data Analysis](#EDA)\n",
    "    * [4.1 Data Calls(Panggilan)](#calls_eda)\n",
    "    * [4.2 Data Messages(SMS/Pesan)](#msg_eda)\n",
    "    * [4.3 Data Internet](#internet_eda)\n",
    "    * [4.4 Data Income (Pendapatan)](#income_eda)\n",
    "    * [4.5 Korelasi Data ](#data_correlation)\n",
    "* [Tahap 5. Menguji Hipotesis Statistik](#hypotesis)\n",
    "    * [5.1 Rata-rata pendapatan dari pengguna paket telepon Ultimate dan Surf berbeda.](#income_avg)\n",
    "    * [5.2 Rata-rata pendapatan pengguna di wilayah NY-NJ berbeda dengan pendapatan pengguna dari wilayah lain.](#income_area)\n",
    "    \n",
    "     \n",
    "\n",
    "* [Kesimpulan Umum](#conlusion)"
   ]
  },
  {
   "cell_type": "markdown",
   "metadata": {},
   "source": [
    "# Pendahuluan <a id='intro'></a>\n",
    "\n",
    "Di dunia industri telekomunikasi, penawaran paket prabayar sangatlah penting bagi perusahaan dalam hal strategi pemasarannya. Megaline, sebagai salah satu perusahaan terkemuka di industri ini, menawarkan dua pilihan paket prabayar kepada para pelanggan: paket Surf dan paket Ultimate. Tujuan dari proyek ini adalah melakukan analisis awal tentang perilaku pengguna berdasarkan data yang telah dikumpulkan dari 500 klien Megaline. Ini adalah data yang berisi informasi penting tentang pelanggan, termasuk dari mana mereka berasal, jenis paket yang telah mereka pilih, serta jumlah panggilan dan pesan yang mereka gunakan selama tahun 2018.\n",
    "\n",
    "Dalam proyek ini, kita akan melakukan analisis terhadap data klien Megaline yang menggunakan paket prabayar, khususnya paket Surf dan paket Ultimate. Anda akan menjalankan uji hipotesis untuk menentukan apakah rata-rata pendapatan dari pengguna kedua paket tersebut berbeda. Selain itu, Anda akan menyelidiki apakah rata-rata pendapatan dari pengguna di wilayah NY-NJ berbeda dengan rata-rata pendapatan pengguna dari wilayah lainnya.\n",
    "\n",
    "Analisis ini akan mencakup penelusuran perilaku pengguna, pola panggilan dan pesan yang digunakan, serta membandingkan pendapatan dari kedua jenis paket prabayar. Informasi yang dihasilkan akan memberikan bantuan kepada departemen periklanan untuk mengambil keputusan berdasarkan data dan merancang strategi iklan yang lebih baik.\n",
    "\n",
    "\n",
    "\n",
    "\n",
    "## Tujuan\n",
    "Tujuan dari proyek ini mencakup:\n",
    "\n",
    "1. Menguji Perbedaan Rata-rata Pendapatan Paket Telepon\n",
    "\n",
    "    * Menggunakan uji hipotesis statistik dengan metode  Two-Sample t-Test for Independent Samples untuk menentukan apakah           terdapat perbedaan signifikan dalam rata-rata pendapatan antara pengguna paket Surf dan Ultimate.\n",
    "\n",
    "2. Mengidentifikasi Perbedaan Rata-rata Pendapatan antara Wilayah NY-NJ dengan pendapatan pengguna dari wilayah lain.\n",
    "\n",
    "    * Melalui uji hipotesis statisti dengan metode  Two-Sample t-Test for Independent Samples, mencari tahu apakah rata-rata         pendapatan dari pengguna di wilayah NY-NJ berbeda secara signifikan dengan rata-rata pendapatan pengguna dari wilayah lain. \n",
    "    \n",
    "## Tahapan\n",
    "Proyek ini akan melalui beberapa tahap analisis, yaitu:\n",
    "\n",
    "1. Pra-Pemrosesan Data\n",
    "2. Transformasi Data\n",
    "3. Mempelajari Syarat dan Kondisi Paket Prabayar\n",
    "4. Exploratory Data Analysis (EDA)\n",
    "5. Menguji Hipotesis Statistik\n",
    "\n",
    "[Kembali ke Konten](#back)"
   ]
  },
  {
   "cell_type": "markdown",
   "metadata": {},
   "source": [
    "<div class=\"alert alert-success\">\n",
    "<b>Code Reviewers's comment v.1</b> <a class=\"tocSkip\"></a>\n",
    "\n",
    "Bagus, code yang dijalankan sudah sesuai dengan instruksi dari project.\n",
    "\n",
    "</div>"
   ]
  },
  {
   "cell_type": "markdown",
   "metadata": {},
   "source": [
    "# 1. Pra - Pemrosesan Data  <a id='data_review'></a>"
   ]
  },
  {
   "cell_type": "markdown",
   "metadata": {},
   "source": [
    "## 1.1 Inisialisasi <a id='inisialisasi'></a>"
   ]
  },
  {
   "cell_type": "markdown",
   "metadata": {},
   "source": [
    "[Mengimpor library yang dibutuhkan untuk membantu analisis] "
   ]
  },
  {
   "cell_type": "code",
   "execution_count": 1,
   "metadata": {},
   "outputs": [],
   "source": [
    "# Muat semua library\n",
    "\n",
    "# import library data processing\n",
    "import pandas as pd, numpy as np\n",
    "\n",
    "# Import Library Data Visualization\n",
    "import matplotlib.pyplot as plt, seaborn as sns\n",
    "\n",
    "# Import Library Statistics\n",
    "from scipy.stats import ttest_ind "
   ]
  },
  {
   "cell_type": "markdown",
   "metadata": {},
   "source": [
    "## 1.2 Memuat Data <a id='data_load'></a>"
   ]
  },
  {
   "cell_type": "markdown",
   "metadata": {},
   "source": []
  },
  {
   "cell_type": "markdown",
   "metadata": {},
   "source": [
    "[ Memuat semua datasets seperti users, calls, messages, internet, plans]"
   ]
  },
  {
   "cell_type": "code",
   "execution_count": 2,
   "metadata": {},
   "outputs": [],
   "source": [
    "# Muat file data ke dalam DataFrame yang berbeda\n",
    "path = r'C:/Users/cakra2/OneDrive/Desktop/TripleTen-Project-Sprint/PROJECT 4/DATASET/'\n",
    "calls= r'megaline_calls.csv'\n",
    "users= r'megaline_users.csv'\n",
    "messages= r'megaline_messages.csv'\n",
    "internet= r'megaline_internet.csv'\n",
    "plans= r'megaline_plans.csv'\n",
    "\n",
    "\n",
    "\n",
    "\n",
    "df_users = pd.read_csv(path + users)\n",
    "df_calls = pd.read_csv(path + calls)\n",
    "df_msg = pd.read_csv(path+messages)\n",
    "df_internet = pd.read_csv(path+internet)\n",
    "df_plans = pd.read_csv(path+plans)\n"
   ]
  },
  {
   "cell_type": "markdown",
   "metadata": {},
   "source": [
    "<div class=\"alert alert-success\">\n",
    "<b>Code Reviewers's comment v.1</b> <a class=\"tocSkip\"></a>\n",
    "\n",
    "Bagus, code yang dijalankan sudah sesuai dengan instruksi dari project.\n",
    "\n",
    "</div>"
   ]
  },
  {
   "cell_type": "markdown",
   "metadata": {},
   "source": [
    "## 1.3 Cek kualitas sample data dan eksplorasi data <a id='data_review'></a>"
   ]
  },
  {
   "cell_type": "markdown",
   "metadata": {},
   "source": [
    "[Data untuk proyek ini dibagi menjadi beberapa tabel. Jelajahi masing-masing tabel untuk mendapatkan pemahaman awal tentang data Anda. Lakukan koreksi di setiap tabel jika memang diperlukan.]"
   ]
  },
  {
   "cell_type": "markdown",
   "metadata": {},
   "source": [
    "### 1.3.1 Eksplorasi  data awal <a id='data_explore'></a>"
   ]
  },
  {
   "cell_type": "markdown",
   "metadata": {},
   "source": [
    "### Data Users"
   ]
  },
  {
   "cell_type": "markdown",
   "metadata": {},
   "source": [
    "#### Deskripsi Kolom Dataset Users\n",
    "* `user_id` — ID pengguna\n",
    "* `first_name` — nama depan pengguna\n",
    "* `last_name` — nama belakang pengguna\n",
    "* `age — usia` pengguna (tahun)\n",
    "* `reg_date` — tanggal mulai berlangganan (dd, mm, yy)\n",
    "* `churn_date` — tanggal penggun\n",
    "a berhenti menggunakan layanan (jika nilainya hilang atau tidak ada, berarti paket layanan     sedang digunakan saat data ini dibuat)\n",
    "* `city` — kota tempat tinggal pengguna\n",
    "* `plan` — nama paket telepon"
   ]
  },
  {
   "cell_type": "code",
   "execution_count": 3,
   "metadata": {},
   "outputs": [
    {
     "name": "stdout",
     "output_type": "stream",
     "text": [
      "<class 'pandas.core.frame.DataFrame'>\n",
      "RangeIndex: 500 entries, 0 to 499\n",
      "Data columns (total 8 columns):\n",
      " #   Column      Non-Null Count  Dtype \n",
      "---  ------      --------------  ----- \n",
      " 0   user_id     500 non-null    int64 \n",
      " 1   first_name  500 non-null    object\n",
      " 2   last_name   500 non-null    object\n",
      " 3   age         500 non-null    int64 \n",
      " 4   city        500 non-null    object\n",
      " 5   reg_date    500 non-null    object\n",
      " 6   plan        500 non-null    object\n",
      " 7   churn_date  34 non-null     object\n",
      "dtypes: int64(2), object(6)\n",
      "memory usage: 31.4+ KB\n"
     ]
    },
    {
     "data": {
      "text/plain": [
       "(500, 8)"
      ]
     },
     "execution_count": 3,
     "metadata": {},
     "output_type": "execute_result"
    }
   ],
   "source": [
    "# Tampilkan informasi/rangkuman umum tentang DataFrame pengguna\n",
    "df_users.info()\n",
    "df_users.shape"
   ]
  },
  {
   "cell_type": "code",
   "execution_count": 4,
   "metadata": {},
   "outputs": [
    {
     "data": {
      "text/html": [
       "<div>\n",
       "<style scoped>\n",
       "    .dataframe tbody tr th:only-of-type {\n",
       "        vertical-align: middle;\n",
       "    }\n",
       "\n",
       "    .dataframe tbody tr th {\n",
       "        vertical-align: top;\n",
       "    }\n",
       "\n",
       "    .dataframe thead th {\n",
       "        text-align: right;\n",
       "    }\n",
       "</style>\n",
       "<table border=\"1\" class=\"dataframe\">\n",
       "  <thead>\n",
       "    <tr style=\"text-align: right;\">\n",
       "      <th></th>\n",
       "      <th>user_id</th>\n",
       "      <th>age</th>\n",
       "    </tr>\n",
       "  </thead>\n",
       "  <tbody>\n",
       "    <tr>\n",
       "      <th>count</th>\n",
       "      <td>500.000000</td>\n",
       "      <td>500.000000</td>\n",
       "    </tr>\n",
       "    <tr>\n",
       "      <th>mean</th>\n",
       "      <td>1249.500000</td>\n",
       "      <td>45.486000</td>\n",
       "    </tr>\n",
       "    <tr>\n",
       "      <th>std</th>\n",
       "      <td>144.481833</td>\n",
       "      <td>16.972269</td>\n",
       "    </tr>\n",
       "    <tr>\n",
       "      <th>min</th>\n",
       "      <td>1000.000000</td>\n",
       "      <td>18.000000</td>\n",
       "    </tr>\n",
       "    <tr>\n",
       "      <th>25%</th>\n",
       "      <td>1124.750000</td>\n",
       "      <td>30.000000</td>\n",
       "    </tr>\n",
       "    <tr>\n",
       "      <th>50%</th>\n",
       "      <td>1249.500000</td>\n",
       "      <td>46.000000</td>\n",
       "    </tr>\n",
       "    <tr>\n",
       "      <th>75%</th>\n",
       "      <td>1374.250000</td>\n",
       "      <td>61.000000</td>\n",
       "    </tr>\n",
       "    <tr>\n",
       "      <th>max</th>\n",
       "      <td>1499.000000</td>\n",
       "      <td>75.000000</td>\n",
       "    </tr>\n",
       "  </tbody>\n",
       "</table>\n",
       "</div>"
      ],
      "text/plain": [
       "           user_id         age\n",
       "count   500.000000  500.000000\n",
       "mean   1249.500000   45.486000\n",
       "std     144.481833   16.972269\n",
       "min    1000.000000   18.000000\n",
       "25%    1124.750000   30.000000\n",
       "50%    1249.500000   46.000000\n",
       "75%    1374.250000   61.000000\n",
       "max    1499.000000   75.000000"
      ]
     },
     "execution_count": 4,
     "metadata": {},
     "output_type": "execute_result"
    }
   ],
   "source": [
    "df_users.describe()"
   ]
  },
  {
   "cell_type": "code",
   "execution_count": 5,
   "metadata": {},
   "outputs": [
    {
     "data": {
      "text/html": [
       "<div>\n",
       "<style scoped>\n",
       "    .dataframe tbody tr th:only-of-type {\n",
       "        vertical-align: middle;\n",
       "    }\n",
       "\n",
       "    .dataframe tbody tr th {\n",
       "        vertical-align: top;\n",
       "    }\n",
       "\n",
       "    .dataframe thead th {\n",
       "        text-align: right;\n",
       "    }\n",
       "</style>\n",
       "<table border=\"1\" class=\"dataframe\">\n",
       "  <thead>\n",
       "    <tr style=\"text-align: right;\">\n",
       "      <th></th>\n",
       "      <th>user_id</th>\n",
       "      <th>first_name</th>\n",
       "      <th>last_name</th>\n",
       "      <th>age</th>\n",
       "      <th>city</th>\n",
       "      <th>reg_date</th>\n",
       "      <th>plan</th>\n",
       "      <th>churn_date</th>\n",
       "    </tr>\n",
       "  </thead>\n",
       "  <tbody>\n",
       "    <tr>\n",
       "      <th>0</th>\n",
       "      <td>1000</td>\n",
       "      <td>Anamaria</td>\n",
       "      <td>Bauer</td>\n",
       "      <td>45</td>\n",
       "      <td>Atlanta-Sandy Springs-Roswell, GA MSA</td>\n",
       "      <td>2018-12-24</td>\n",
       "      <td>ultimate</td>\n",
       "      <td>NaN</td>\n",
       "    </tr>\n",
       "    <tr>\n",
       "      <th>1</th>\n",
       "      <td>1001</td>\n",
       "      <td>Mickey</td>\n",
       "      <td>Wilkerson</td>\n",
       "      <td>28</td>\n",
       "      <td>Seattle-Tacoma-Bellevue, WA MSA</td>\n",
       "      <td>2018-08-13</td>\n",
       "      <td>surf</td>\n",
       "      <td>NaN</td>\n",
       "    </tr>\n",
       "    <tr>\n",
       "      <th>2</th>\n",
       "      <td>1002</td>\n",
       "      <td>Carlee</td>\n",
       "      <td>Hoffman</td>\n",
       "      <td>36</td>\n",
       "      <td>Las Vegas-Henderson-Paradise, NV MSA</td>\n",
       "      <td>2018-10-21</td>\n",
       "      <td>surf</td>\n",
       "      <td>NaN</td>\n",
       "    </tr>\n",
       "    <tr>\n",
       "      <th>3</th>\n",
       "      <td>1003</td>\n",
       "      <td>Reynaldo</td>\n",
       "      <td>Jenkins</td>\n",
       "      <td>52</td>\n",
       "      <td>Tulsa, OK MSA</td>\n",
       "      <td>2018-01-28</td>\n",
       "      <td>surf</td>\n",
       "      <td>NaN</td>\n",
       "    </tr>\n",
       "    <tr>\n",
       "      <th>4</th>\n",
       "      <td>1004</td>\n",
       "      <td>Leonila</td>\n",
       "      <td>Thompson</td>\n",
       "      <td>40</td>\n",
       "      <td>Seattle-Tacoma-Bellevue, WA MSA</td>\n",
       "      <td>2018-05-23</td>\n",
       "      <td>surf</td>\n",
       "      <td>NaN</td>\n",
       "    </tr>\n",
       "    <tr>\n",
       "      <th>5</th>\n",
       "      <td>1005</td>\n",
       "      <td>Livia</td>\n",
       "      <td>Shields</td>\n",
       "      <td>31</td>\n",
       "      <td>Dallas-Fort Worth-Arlington, TX MSA</td>\n",
       "      <td>2018-11-29</td>\n",
       "      <td>surf</td>\n",
       "      <td>NaN</td>\n",
       "    </tr>\n",
       "    <tr>\n",
       "      <th>6</th>\n",
       "      <td>1006</td>\n",
       "      <td>Jesusa</td>\n",
       "      <td>Bradford</td>\n",
       "      <td>73</td>\n",
       "      <td>San Francisco-Oakland-Berkeley, CA MSA</td>\n",
       "      <td>2018-11-27</td>\n",
       "      <td>ultimate</td>\n",
       "      <td>2018-12-18</td>\n",
       "    </tr>\n",
       "    <tr>\n",
       "      <th>7</th>\n",
       "      <td>1007</td>\n",
       "      <td>Eusebio</td>\n",
       "      <td>Welch</td>\n",
       "      <td>42</td>\n",
       "      <td>Grand Rapids-Kentwood, MI MSA</td>\n",
       "      <td>2018-07-11</td>\n",
       "      <td>surf</td>\n",
       "      <td>NaN</td>\n",
       "    </tr>\n",
       "    <tr>\n",
       "      <th>8</th>\n",
       "      <td>1008</td>\n",
       "      <td>Emely</td>\n",
       "      <td>Hoffman</td>\n",
       "      <td>53</td>\n",
       "      <td>Orlando-Kissimmee-Sanford, FL MSA</td>\n",
       "      <td>2018-08-03</td>\n",
       "      <td>ultimate</td>\n",
       "      <td>NaN</td>\n",
       "    </tr>\n",
       "    <tr>\n",
       "      <th>9</th>\n",
       "      <td>1009</td>\n",
       "      <td>Gerry</td>\n",
       "      <td>Little</td>\n",
       "      <td>19</td>\n",
       "      <td>San Jose-Sunnyvale-Santa Clara, CA MSA</td>\n",
       "      <td>2018-04-22</td>\n",
       "      <td>surf</td>\n",
       "      <td>NaN</td>\n",
       "    </tr>\n",
       "  </tbody>\n",
       "</table>\n",
       "</div>"
      ],
      "text/plain": [
       "   user_id first_name  last_name  age                                    city  \\\n",
       "0     1000   Anamaria      Bauer   45   Atlanta-Sandy Springs-Roswell, GA MSA   \n",
       "1     1001     Mickey  Wilkerson   28         Seattle-Tacoma-Bellevue, WA MSA   \n",
       "2     1002     Carlee    Hoffman   36    Las Vegas-Henderson-Paradise, NV MSA   \n",
       "3     1003   Reynaldo    Jenkins   52                           Tulsa, OK MSA   \n",
       "4     1004    Leonila   Thompson   40         Seattle-Tacoma-Bellevue, WA MSA   \n",
       "5     1005      Livia    Shields   31     Dallas-Fort Worth-Arlington, TX MSA   \n",
       "6     1006     Jesusa   Bradford   73  San Francisco-Oakland-Berkeley, CA MSA   \n",
       "7     1007    Eusebio      Welch   42           Grand Rapids-Kentwood, MI MSA   \n",
       "8     1008      Emely    Hoffman   53       Orlando-Kissimmee-Sanford, FL MSA   \n",
       "9     1009      Gerry     Little   19  San Jose-Sunnyvale-Santa Clara, CA MSA   \n",
       "\n",
       "     reg_date      plan  churn_date  \n",
       "0  2018-12-24  ultimate         NaN  \n",
       "1  2018-08-13      surf         NaN  \n",
       "2  2018-10-21      surf         NaN  \n",
       "3  2018-01-28      surf         NaN  \n",
       "4  2018-05-23      surf         NaN  \n",
       "5  2018-11-29      surf         NaN  \n",
       "6  2018-11-27  ultimate  2018-12-18  \n",
       "7  2018-07-11      surf         NaN  \n",
       "8  2018-08-03  ultimate         NaN  \n",
       "9  2018-04-22      surf         NaN  "
      ]
     },
     "execution_count": 5,
     "metadata": {},
     "output_type": "execute_result"
    }
   ],
   "source": [
    "df_users.head(10)"
   ]
  },
  {
   "cell_type": "markdown",
   "metadata": {},
   "source": [
    "### Data Calls"
   ]
  },
  {
   "cell_type": "markdown",
   "metadata": {},
   "source": [
    "#### Deskripsi Kolom Dataset Calls\n",
    "* `id` — ID panggilan unik\n",
    "* `call_date` — tanggal panggilan\n",
    "* `duration` — durasi panggilan (dalam menit)\n",
    "* `user_id` — ID pengguna yang melakukan panggilan"
   ]
  },
  {
   "cell_type": "code",
   "execution_count": 6,
   "metadata": {},
   "outputs": [
    {
     "name": "stdout",
     "output_type": "stream",
     "text": [
      "<class 'pandas.core.frame.DataFrame'>\n",
      "RangeIndex: 137735 entries, 0 to 137734\n",
      "Data columns (total 4 columns):\n",
      " #   Column     Non-Null Count   Dtype  \n",
      "---  ------     --------------   -----  \n",
      " 0   id         137735 non-null  object \n",
      " 1   user_id    137735 non-null  int64  \n",
      " 2   call_date  137735 non-null  object \n",
      " 3   duration   137735 non-null  float64\n",
      "dtypes: float64(1), int64(1), object(2)\n",
      "memory usage: 4.2+ MB\n"
     ]
    },
    {
     "data": {
      "text/plain": [
       "(137735, 4)"
      ]
     },
     "execution_count": 6,
     "metadata": {},
     "output_type": "execute_result"
    }
   ],
   "source": [
    "# Tampilkan informasi/rangkuman umum tentang DataFrame panggilan\n",
    "\n",
    "df_calls.info()\n",
    "df_calls.shape"
   ]
  },
  {
   "cell_type": "code",
   "execution_count": 7,
   "metadata": {},
   "outputs": [
    {
     "data": {
      "text/html": [
       "<div>\n",
       "<style scoped>\n",
       "    .dataframe tbody tr th:only-of-type {\n",
       "        vertical-align: middle;\n",
       "    }\n",
       "\n",
       "    .dataframe tbody tr th {\n",
       "        vertical-align: top;\n",
       "    }\n",
       "\n",
       "    .dataframe thead th {\n",
       "        text-align: right;\n",
       "    }\n",
       "</style>\n",
       "<table border=\"1\" class=\"dataframe\">\n",
       "  <thead>\n",
       "    <tr style=\"text-align: right;\">\n",
       "      <th></th>\n",
       "      <th>user_id</th>\n",
       "      <th>duration</th>\n",
       "    </tr>\n",
       "  </thead>\n",
       "  <tbody>\n",
       "    <tr>\n",
       "      <th>count</th>\n",
       "      <td>137735.000000</td>\n",
       "      <td>137735.000000</td>\n",
       "    </tr>\n",
       "    <tr>\n",
       "      <th>mean</th>\n",
       "      <td>1247.658046</td>\n",
       "      <td>6.745927</td>\n",
       "    </tr>\n",
       "    <tr>\n",
       "      <th>std</th>\n",
       "      <td>139.416268</td>\n",
       "      <td>5.839241</td>\n",
       "    </tr>\n",
       "    <tr>\n",
       "      <th>min</th>\n",
       "      <td>1000.000000</td>\n",
       "      <td>0.000000</td>\n",
       "    </tr>\n",
       "    <tr>\n",
       "      <th>25%</th>\n",
       "      <td>1128.000000</td>\n",
       "      <td>1.290000</td>\n",
       "    </tr>\n",
       "    <tr>\n",
       "      <th>50%</th>\n",
       "      <td>1247.000000</td>\n",
       "      <td>5.980000</td>\n",
       "    </tr>\n",
       "    <tr>\n",
       "      <th>75%</th>\n",
       "      <td>1365.000000</td>\n",
       "      <td>10.690000</td>\n",
       "    </tr>\n",
       "    <tr>\n",
       "      <th>max</th>\n",
       "      <td>1499.000000</td>\n",
       "      <td>37.600000</td>\n",
       "    </tr>\n",
       "  </tbody>\n",
       "</table>\n",
       "</div>"
      ],
      "text/plain": [
       "             user_id       duration\n",
       "count  137735.000000  137735.000000\n",
       "mean     1247.658046       6.745927\n",
       "std       139.416268       5.839241\n",
       "min      1000.000000       0.000000\n",
       "25%      1128.000000       1.290000\n",
       "50%      1247.000000       5.980000\n",
       "75%      1365.000000      10.690000\n",
       "max      1499.000000      37.600000"
      ]
     },
     "execution_count": 7,
     "metadata": {},
     "output_type": "execute_result"
    }
   ],
   "source": [
    "df_calls.describe()"
   ]
  },
  {
   "cell_type": "code",
   "execution_count": 8,
   "metadata": {},
   "outputs": [
    {
     "data": {
      "text/html": [
       "<div>\n",
       "<style scoped>\n",
       "    .dataframe tbody tr th:only-of-type {\n",
       "        vertical-align: middle;\n",
       "    }\n",
       "\n",
       "    .dataframe tbody tr th {\n",
       "        vertical-align: top;\n",
       "    }\n",
       "\n",
       "    .dataframe thead th {\n",
       "        text-align: right;\n",
       "    }\n",
       "</style>\n",
       "<table border=\"1\" class=\"dataframe\">\n",
       "  <thead>\n",
       "    <tr style=\"text-align: right;\">\n",
       "      <th></th>\n",
       "      <th>id</th>\n",
       "      <th>user_id</th>\n",
       "      <th>call_date</th>\n",
       "      <th>duration</th>\n",
       "    </tr>\n",
       "  </thead>\n",
       "  <tbody>\n",
       "    <tr>\n",
       "      <th>0</th>\n",
       "      <td>1000_93</td>\n",
       "      <td>1000</td>\n",
       "      <td>2018-12-27</td>\n",
       "      <td>8.52</td>\n",
       "    </tr>\n",
       "    <tr>\n",
       "      <th>1</th>\n",
       "      <td>1000_145</td>\n",
       "      <td>1000</td>\n",
       "      <td>2018-12-27</td>\n",
       "      <td>13.66</td>\n",
       "    </tr>\n",
       "    <tr>\n",
       "      <th>2</th>\n",
       "      <td>1000_247</td>\n",
       "      <td>1000</td>\n",
       "      <td>2018-12-27</td>\n",
       "      <td>14.48</td>\n",
       "    </tr>\n",
       "    <tr>\n",
       "      <th>3</th>\n",
       "      <td>1000_309</td>\n",
       "      <td>1000</td>\n",
       "      <td>2018-12-28</td>\n",
       "      <td>5.76</td>\n",
       "    </tr>\n",
       "    <tr>\n",
       "      <th>4</th>\n",
       "      <td>1000_380</td>\n",
       "      <td>1000</td>\n",
       "      <td>2018-12-30</td>\n",
       "      <td>4.22</td>\n",
       "    </tr>\n",
       "    <tr>\n",
       "      <th>5</th>\n",
       "      <td>1000_388</td>\n",
       "      <td>1000</td>\n",
       "      <td>2018-12-31</td>\n",
       "      <td>2.20</td>\n",
       "    </tr>\n",
       "    <tr>\n",
       "      <th>6</th>\n",
       "      <td>1000_510</td>\n",
       "      <td>1000</td>\n",
       "      <td>2018-12-27</td>\n",
       "      <td>5.75</td>\n",
       "    </tr>\n",
       "    <tr>\n",
       "      <th>7</th>\n",
       "      <td>1000_521</td>\n",
       "      <td>1000</td>\n",
       "      <td>2018-12-28</td>\n",
       "      <td>14.18</td>\n",
       "    </tr>\n",
       "    <tr>\n",
       "      <th>8</th>\n",
       "      <td>1000_530</td>\n",
       "      <td>1000</td>\n",
       "      <td>2018-12-28</td>\n",
       "      <td>5.77</td>\n",
       "    </tr>\n",
       "    <tr>\n",
       "      <th>9</th>\n",
       "      <td>1000_544</td>\n",
       "      <td>1000</td>\n",
       "      <td>2018-12-26</td>\n",
       "      <td>4.40</td>\n",
       "    </tr>\n",
       "  </tbody>\n",
       "</table>\n",
       "</div>"
      ],
      "text/plain": [
       "         id  user_id   call_date  duration\n",
       "0   1000_93     1000  2018-12-27      8.52\n",
       "1  1000_145     1000  2018-12-27     13.66\n",
       "2  1000_247     1000  2018-12-27     14.48\n",
       "3  1000_309     1000  2018-12-28      5.76\n",
       "4  1000_380     1000  2018-12-30      4.22\n",
       "5  1000_388     1000  2018-12-31      2.20\n",
       "6  1000_510     1000  2018-12-27      5.75\n",
       "7  1000_521     1000  2018-12-28     14.18\n",
       "8  1000_530     1000  2018-12-28      5.77\n",
       "9  1000_544     1000  2018-12-26      4.40"
      ]
     },
     "execution_count": 8,
     "metadata": {},
     "output_type": "execute_result"
    }
   ],
   "source": [
    "df_calls.head(10)"
   ]
  },
  {
   "cell_type": "markdown",
   "metadata": {},
   "source": [
    "### Data Messages"
   ]
  },
  {
   "cell_type": "markdown",
   "metadata": {},
   "source": [
    "#### Deskripsi Kolom Dataset Messages\n",
    "* `id` — ID SMS unik\n",
    "* `message_date` — tanggal SMS dikirim\n",
    "* `user_id` — ID pengguna yang mengirim SMS\n",
    " \n",
    "\n"
   ]
  },
  {
   "cell_type": "code",
   "execution_count": 9,
   "metadata": {},
   "outputs": [
    {
     "name": "stdout",
     "output_type": "stream",
     "text": [
      "<class 'pandas.core.frame.DataFrame'>\n",
      "RangeIndex: 76051 entries, 0 to 76050\n",
      "Data columns (total 3 columns):\n",
      " #   Column        Non-Null Count  Dtype \n",
      "---  ------        --------------  ----- \n",
      " 0   id            76051 non-null  object\n",
      " 1   user_id       76051 non-null  int64 \n",
      " 2   message_date  76051 non-null  object\n",
      "dtypes: int64(1), object(2)\n",
      "memory usage: 1.7+ MB\n"
     ]
    },
    {
     "data": {
      "text/plain": [
       "(76051, 3)"
      ]
     },
     "execution_count": 9,
     "metadata": {},
     "output_type": "execute_result"
    }
   ],
   "source": [
    "# Tampilkan informasi/rangkuman umum tentang DataFrame SMS\n",
    "\n",
    "df_msg.info()\n",
    "df_msg.shape"
   ]
  },
  {
   "cell_type": "code",
   "execution_count": 10,
   "metadata": {},
   "outputs": [
    {
     "data": {
      "text/html": [
       "<div>\n",
       "<style scoped>\n",
       "    .dataframe tbody tr th:only-of-type {\n",
       "        vertical-align: middle;\n",
       "    }\n",
       "\n",
       "    .dataframe tbody tr th {\n",
       "        vertical-align: top;\n",
       "    }\n",
       "\n",
       "    .dataframe thead th {\n",
       "        text-align: right;\n",
       "    }\n",
       "</style>\n",
       "<table border=\"1\" class=\"dataframe\">\n",
       "  <thead>\n",
       "    <tr style=\"text-align: right;\">\n",
       "      <th></th>\n",
       "      <th>user_id</th>\n",
       "    </tr>\n",
       "  </thead>\n",
       "  <tbody>\n",
       "    <tr>\n",
       "      <th>count</th>\n",
       "      <td>76051.000000</td>\n",
       "    </tr>\n",
       "    <tr>\n",
       "      <th>mean</th>\n",
       "      <td>1245.972768</td>\n",
       "    </tr>\n",
       "    <tr>\n",
       "      <th>std</th>\n",
       "      <td>139.843635</td>\n",
       "    </tr>\n",
       "    <tr>\n",
       "      <th>min</th>\n",
       "      <td>1000.000000</td>\n",
       "    </tr>\n",
       "    <tr>\n",
       "      <th>25%</th>\n",
       "      <td>1123.000000</td>\n",
       "    </tr>\n",
       "    <tr>\n",
       "      <th>50%</th>\n",
       "      <td>1251.000000</td>\n",
       "    </tr>\n",
       "    <tr>\n",
       "      <th>75%</th>\n",
       "      <td>1362.000000</td>\n",
       "    </tr>\n",
       "    <tr>\n",
       "      <th>max</th>\n",
       "      <td>1497.000000</td>\n",
       "    </tr>\n",
       "  </tbody>\n",
       "</table>\n",
       "</div>"
      ],
      "text/plain": [
       "            user_id\n",
       "count  76051.000000\n",
       "mean    1245.972768\n",
       "std      139.843635\n",
       "min     1000.000000\n",
       "25%     1123.000000\n",
       "50%     1251.000000\n",
       "75%     1362.000000\n",
       "max     1497.000000"
      ]
     },
     "execution_count": 10,
     "metadata": {},
     "output_type": "execute_result"
    }
   ],
   "source": [
    "df_msg.describe()"
   ]
  },
  {
   "cell_type": "code",
   "execution_count": 11,
   "metadata": {},
   "outputs": [
    {
     "data": {
      "text/html": [
       "<div>\n",
       "<style scoped>\n",
       "    .dataframe tbody tr th:only-of-type {\n",
       "        vertical-align: middle;\n",
       "    }\n",
       "\n",
       "    .dataframe tbody tr th {\n",
       "        vertical-align: top;\n",
       "    }\n",
       "\n",
       "    .dataframe thead th {\n",
       "        text-align: right;\n",
       "    }\n",
       "</style>\n",
       "<table border=\"1\" class=\"dataframe\">\n",
       "  <thead>\n",
       "    <tr style=\"text-align: right;\">\n",
       "      <th></th>\n",
       "      <th>id</th>\n",
       "      <th>user_id</th>\n",
       "      <th>message_date</th>\n",
       "    </tr>\n",
       "  </thead>\n",
       "  <tbody>\n",
       "    <tr>\n",
       "      <th>0</th>\n",
       "      <td>1000_125</td>\n",
       "      <td>1000</td>\n",
       "      <td>2018-12-27</td>\n",
       "    </tr>\n",
       "    <tr>\n",
       "      <th>1</th>\n",
       "      <td>1000_160</td>\n",
       "      <td>1000</td>\n",
       "      <td>2018-12-31</td>\n",
       "    </tr>\n",
       "    <tr>\n",
       "      <th>2</th>\n",
       "      <td>1000_223</td>\n",
       "      <td>1000</td>\n",
       "      <td>2018-12-31</td>\n",
       "    </tr>\n",
       "    <tr>\n",
       "      <th>3</th>\n",
       "      <td>1000_251</td>\n",
       "      <td>1000</td>\n",
       "      <td>2018-12-27</td>\n",
       "    </tr>\n",
       "    <tr>\n",
       "      <th>4</th>\n",
       "      <td>1000_255</td>\n",
       "      <td>1000</td>\n",
       "      <td>2018-12-26</td>\n",
       "    </tr>\n",
       "    <tr>\n",
       "      <th>5</th>\n",
       "      <td>1000_346</td>\n",
       "      <td>1000</td>\n",
       "      <td>2018-12-29</td>\n",
       "    </tr>\n",
       "    <tr>\n",
       "      <th>6</th>\n",
       "      <td>1000_386</td>\n",
       "      <td>1000</td>\n",
       "      <td>2018-12-30</td>\n",
       "    </tr>\n",
       "    <tr>\n",
       "      <th>7</th>\n",
       "      <td>1000_413</td>\n",
       "      <td>1000</td>\n",
       "      <td>2018-12-31</td>\n",
       "    </tr>\n",
       "    <tr>\n",
       "      <th>8</th>\n",
       "      <td>1000_502</td>\n",
       "      <td>1000</td>\n",
       "      <td>2018-12-27</td>\n",
       "    </tr>\n",
       "    <tr>\n",
       "      <th>9</th>\n",
       "      <td>1000_525</td>\n",
       "      <td>1000</td>\n",
       "      <td>2018-12-28</td>\n",
       "    </tr>\n",
       "  </tbody>\n",
       "</table>\n",
       "</div>"
      ],
      "text/plain": [
       "         id  user_id message_date\n",
       "0  1000_125     1000   2018-12-27\n",
       "1  1000_160     1000   2018-12-31\n",
       "2  1000_223     1000   2018-12-31\n",
       "3  1000_251     1000   2018-12-27\n",
       "4  1000_255     1000   2018-12-26\n",
       "5  1000_346     1000   2018-12-29\n",
       "6  1000_386     1000   2018-12-30\n",
       "7  1000_413     1000   2018-12-31\n",
       "8  1000_502     1000   2018-12-27\n",
       "9  1000_525     1000   2018-12-28"
      ]
     },
     "execution_count": 11,
     "metadata": {},
     "output_type": "execute_result"
    }
   ],
   "source": [
    "df_msg.head(10)"
   ]
  },
  {
   "cell_type": "markdown",
   "metadata": {},
   "source": [
    "### Data Internet"
   ]
  },
  {
   "cell_type": "markdown",
   "metadata": {},
   "source": [
    "#### Deskripsi Kolom Dataset Internet\n",
    "* `id — ID` sesi web unik\n",
    "* `mb_used` — volume data yang dihabiskan selama sesi (dalam megabyte)\n",
    "* `session_date` — tanggal sesi web\n",
    "* `user_id — ID` pengguna berhenti menggunakan layanan (jika nilainya hilang atau tidak ada, berarti paket layanan     sedang digunakan saat data ini dibuat)\n",
    "* `city` — kota tempat tinggal pengguna\n",
    "* `plan` — nama paket telepon\n",
    "\n",
    " \n"
   ]
  },
  {
   "cell_type": "code",
   "execution_count": 12,
   "metadata": {},
   "outputs": [
    {
     "name": "stdout",
     "output_type": "stream",
     "text": [
      "<class 'pandas.core.frame.DataFrame'>\n",
      "RangeIndex: 104825 entries, 0 to 104824\n",
      "Data columns (total 4 columns):\n",
      " #   Column        Non-Null Count   Dtype  \n",
      "---  ------        --------------   -----  \n",
      " 0   id            104825 non-null  object \n",
      " 1   user_id       104825 non-null  int64  \n",
      " 2   session_date  104825 non-null  object \n",
      " 3   mb_used       104825 non-null  float64\n",
      "dtypes: float64(1), int64(1), object(2)\n",
      "memory usage: 3.2+ MB\n"
     ]
    },
    {
     "data": {
      "text/plain": [
       "(104825, 4)"
      ]
     },
     "execution_count": 12,
     "metadata": {},
     "output_type": "execute_result"
    }
   ],
   "source": [
    "# Tampilkan informasi/rangkuman umum tentang DataFrame internet\n",
    "\n",
    "df_internet.info()\n",
    "df_internet.shape"
   ]
  },
  {
   "cell_type": "code",
   "execution_count": 13,
   "metadata": {},
   "outputs": [
    {
     "data": {
      "text/html": [
       "<div>\n",
       "<style scoped>\n",
       "    .dataframe tbody tr th:only-of-type {\n",
       "        vertical-align: middle;\n",
       "    }\n",
       "\n",
       "    .dataframe tbody tr th {\n",
       "        vertical-align: top;\n",
       "    }\n",
       "\n",
       "    .dataframe thead th {\n",
       "        text-align: right;\n",
       "    }\n",
       "</style>\n",
       "<table border=\"1\" class=\"dataframe\">\n",
       "  <thead>\n",
       "    <tr style=\"text-align: right;\">\n",
       "      <th></th>\n",
       "      <th>user_id</th>\n",
       "      <th>mb_used</th>\n",
       "    </tr>\n",
       "  </thead>\n",
       "  <tbody>\n",
       "    <tr>\n",
       "      <th>count</th>\n",
       "      <td>104825.000000</td>\n",
       "      <td>104825.000000</td>\n",
       "    </tr>\n",
       "    <tr>\n",
       "      <th>mean</th>\n",
       "      <td>1242.496361</td>\n",
       "      <td>366.713701</td>\n",
       "    </tr>\n",
       "    <tr>\n",
       "      <th>std</th>\n",
       "      <td>142.053913</td>\n",
       "      <td>277.170542</td>\n",
       "    </tr>\n",
       "    <tr>\n",
       "      <th>min</th>\n",
       "      <td>1000.000000</td>\n",
       "      <td>0.000000</td>\n",
       "    </tr>\n",
       "    <tr>\n",
       "      <th>25%</th>\n",
       "      <td>1122.000000</td>\n",
       "      <td>136.080000</td>\n",
       "    </tr>\n",
       "    <tr>\n",
       "      <th>50%</th>\n",
       "      <td>1236.000000</td>\n",
       "      <td>343.980000</td>\n",
       "    </tr>\n",
       "    <tr>\n",
       "      <th>75%</th>\n",
       "      <td>1367.000000</td>\n",
       "      <td>554.610000</td>\n",
       "    </tr>\n",
       "    <tr>\n",
       "      <th>max</th>\n",
       "      <td>1499.000000</td>\n",
       "      <td>1693.470000</td>\n",
       "    </tr>\n",
       "  </tbody>\n",
       "</table>\n",
       "</div>"
      ],
      "text/plain": [
       "             user_id        mb_used\n",
       "count  104825.000000  104825.000000\n",
       "mean     1242.496361     366.713701\n",
       "std       142.053913     277.170542\n",
       "min      1000.000000       0.000000\n",
       "25%      1122.000000     136.080000\n",
       "50%      1236.000000     343.980000\n",
       "75%      1367.000000     554.610000\n",
       "max      1499.000000    1693.470000"
      ]
     },
     "execution_count": 13,
     "metadata": {},
     "output_type": "execute_result"
    }
   ],
   "source": [
    "df_internet.describe()"
   ]
  },
  {
   "cell_type": "code",
   "execution_count": 14,
   "metadata": {},
   "outputs": [
    {
     "data": {
      "text/html": [
       "<div>\n",
       "<style scoped>\n",
       "    .dataframe tbody tr th:only-of-type {\n",
       "        vertical-align: middle;\n",
       "    }\n",
       "\n",
       "    .dataframe tbody tr th {\n",
       "        vertical-align: top;\n",
       "    }\n",
       "\n",
       "    .dataframe thead th {\n",
       "        text-align: right;\n",
       "    }\n",
       "</style>\n",
       "<table border=\"1\" class=\"dataframe\">\n",
       "  <thead>\n",
       "    <tr style=\"text-align: right;\">\n",
       "      <th></th>\n",
       "      <th>id</th>\n",
       "      <th>user_id</th>\n",
       "      <th>session_date</th>\n",
       "      <th>mb_used</th>\n",
       "    </tr>\n",
       "  </thead>\n",
       "  <tbody>\n",
       "    <tr>\n",
       "      <th>0</th>\n",
       "      <td>1000_13</td>\n",
       "      <td>1000</td>\n",
       "      <td>2018-12-29</td>\n",
       "      <td>89.86</td>\n",
       "    </tr>\n",
       "    <tr>\n",
       "      <th>1</th>\n",
       "      <td>1000_204</td>\n",
       "      <td>1000</td>\n",
       "      <td>2018-12-31</td>\n",
       "      <td>0.00</td>\n",
       "    </tr>\n",
       "    <tr>\n",
       "      <th>2</th>\n",
       "      <td>1000_379</td>\n",
       "      <td>1000</td>\n",
       "      <td>2018-12-28</td>\n",
       "      <td>660.40</td>\n",
       "    </tr>\n",
       "    <tr>\n",
       "      <th>3</th>\n",
       "      <td>1000_413</td>\n",
       "      <td>1000</td>\n",
       "      <td>2018-12-26</td>\n",
       "      <td>270.99</td>\n",
       "    </tr>\n",
       "    <tr>\n",
       "      <th>4</th>\n",
       "      <td>1000_442</td>\n",
       "      <td>1000</td>\n",
       "      <td>2018-12-27</td>\n",
       "      <td>880.22</td>\n",
       "    </tr>\n",
       "    <tr>\n",
       "      <th>5</th>\n",
       "      <td>1001_0</td>\n",
       "      <td>1001</td>\n",
       "      <td>2018-08-24</td>\n",
       "      <td>284.68</td>\n",
       "    </tr>\n",
       "    <tr>\n",
       "      <th>6</th>\n",
       "      <td>1001_3</td>\n",
       "      <td>1001</td>\n",
       "      <td>2018-12-09</td>\n",
       "      <td>656.04</td>\n",
       "    </tr>\n",
       "    <tr>\n",
       "      <th>7</th>\n",
       "      <td>1001_4</td>\n",
       "      <td>1001</td>\n",
       "      <td>2018-11-04</td>\n",
       "      <td>16.97</td>\n",
       "    </tr>\n",
       "    <tr>\n",
       "      <th>8</th>\n",
       "      <td>1001_10</td>\n",
       "      <td>1001</td>\n",
       "      <td>2018-11-27</td>\n",
       "      <td>135.18</td>\n",
       "    </tr>\n",
       "    <tr>\n",
       "      <th>9</th>\n",
       "      <td>1001_15</td>\n",
       "      <td>1001</td>\n",
       "      <td>2018-12-13</td>\n",
       "      <td>761.92</td>\n",
       "    </tr>\n",
       "  </tbody>\n",
       "</table>\n",
       "</div>"
      ],
      "text/plain": [
       "         id  user_id session_date  mb_used\n",
       "0   1000_13     1000   2018-12-29    89.86\n",
       "1  1000_204     1000   2018-12-31     0.00\n",
       "2  1000_379     1000   2018-12-28   660.40\n",
       "3  1000_413     1000   2018-12-26   270.99\n",
       "4  1000_442     1000   2018-12-27   880.22\n",
       "5    1001_0     1001   2018-08-24   284.68\n",
       "6    1001_3     1001   2018-12-09   656.04\n",
       "7    1001_4     1001   2018-11-04    16.97\n",
       "8   1001_10     1001   2018-11-27   135.18\n",
       "9   1001_15     1001   2018-12-13   761.92"
      ]
     },
     "execution_count": 14,
     "metadata": {},
     "output_type": "execute_result"
    }
   ],
   "source": [
    "df_internet.head(10)"
   ]
  },
  {
   "cell_type": "markdown",
   "metadata": {},
   "source": [
    "### Data Plans"
   ]
  },
  {
   "cell_type": "markdown",
   "metadata": {},
   "source": [
    "#### Deskripsi Kolom Dataset Plans\n",
    "* `plan_name` — nama paket telepon\n",
    "* `usd_monthly_fee` — biaya bulanan dalam dolar AS\n",
    "* `minutes_included` — alokasi menit panggilan bulanan\n",
    "* `messages_included` — alokasi SMS bulanan\n",
    "* `mb_per_month_included` — alokasi volume data bulanan (dalam megabyte)\n",
    "* `usd_per_minute` — harga per menit jika sudah melebihi batas alokasi paket (misalnya, jika paket memiliki alokasi 100 menit                        maka * `penggunaan mulai dari menit ke-101 akan dikenakan biaya)\n",
    "* `usd_per_message` — harga per SMS jika sudah melebihi batas alokasi paket\n",
    "* `usd_per_gb` — harga per gigabyte tambahan data jika sudah melebihi batas alokasi paket (1 GB = 1024 megabyte)\n"
   ]
  },
  {
   "cell_type": "code",
   "execution_count": 15,
   "metadata": {},
   "outputs": [
    {
     "name": "stdout",
     "output_type": "stream",
     "text": [
      "<class 'pandas.core.frame.DataFrame'>\n",
      "RangeIndex: 2 entries, 0 to 1\n",
      "Data columns (total 8 columns):\n",
      " #   Column                 Non-Null Count  Dtype  \n",
      "---  ------                 --------------  -----  \n",
      " 0   messages_included      2 non-null      int64  \n",
      " 1   mb_per_month_included  2 non-null      int64  \n",
      " 2   minutes_included       2 non-null      int64  \n",
      " 3   usd_monthly_pay        2 non-null      int64  \n",
      " 4   usd_per_gb             2 non-null      int64  \n",
      " 5   usd_per_message        2 non-null      float64\n",
      " 6   usd_per_minute         2 non-null      float64\n",
      " 7   plan_name              2 non-null      object \n",
      "dtypes: float64(2), int64(5), object(1)\n",
      "memory usage: 256.0+ bytes\n"
     ]
    },
    {
     "data": {
      "text/plain": [
       "(2, 8)"
      ]
     },
     "execution_count": 15,
     "metadata": {},
     "output_type": "execute_result"
    }
   ],
   "source": [
    "# Tampilkan informasi/rangkuman umum tentang DataFrame paket-paket prabayar\n",
    "\n",
    "df_plans.info()\n",
    "df_plans.shape"
   ]
  },
  {
   "cell_type": "code",
   "execution_count": 16,
   "metadata": {},
   "outputs": [
    {
     "data": {
      "text/html": [
       "<div>\n",
       "<style scoped>\n",
       "    .dataframe tbody tr th:only-of-type {\n",
       "        vertical-align: middle;\n",
       "    }\n",
       "\n",
       "    .dataframe tbody tr th {\n",
       "        vertical-align: top;\n",
       "    }\n",
       "\n",
       "    .dataframe thead th {\n",
       "        text-align: right;\n",
       "    }\n",
       "</style>\n",
       "<table border=\"1\" class=\"dataframe\">\n",
       "  <thead>\n",
       "    <tr style=\"text-align: right;\">\n",
       "      <th></th>\n",
       "      <th>messages_included</th>\n",
       "      <th>mb_per_month_included</th>\n",
       "      <th>minutes_included</th>\n",
       "      <th>usd_monthly_pay</th>\n",
       "      <th>usd_per_gb</th>\n",
       "      <th>usd_per_message</th>\n",
       "      <th>usd_per_minute</th>\n",
       "    </tr>\n",
       "  </thead>\n",
       "  <tbody>\n",
       "    <tr>\n",
       "      <th>count</th>\n",
       "      <td>2.000000</td>\n",
       "      <td>2.000000</td>\n",
       "      <td>2.000000</td>\n",
       "      <td>2.000000</td>\n",
       "      <td>2.00000</td>\n",
       "      <td>2.000000</td>\n",
       "      <td>2.000000</td>\n",
       "    </tr>\n",
       "    <tr>\n",
       "      <th>mean</th>\n",
       "      <td>525.000000</td>\n",
       "      <td>23040.000000</td>\n",
       "      <td>1750.000000</td>\n",
       "      <td>45.000000</td>\n",
       "      <td>8.50000</td>\n",
       "      <td>0.020000</td>\n",
       "      <td>0.020000</td>\n",
       "    </tr>\n",
       "    <tr>\n",
       "      <th>std</th>\n",
       "      <td>671.751442</td>\n",
       "      <td>10861.160159</td>\n",
       "      <td>1767.766953</td>\n",
       "      <td>35.355339</td>\n",
       "      <td>2.12132</td>\n",
       "      <td>0.014142</td>\n",
       "      <td>0.014142</td>\n",
       "    </tr>\n",
       "    <tr>\n",
       "      <th>min</th>\n",
       "      <td>50.000000</td>\n",
       "      <td>15360.000000</td>\n",
       "      <td>500.000000</td>\n",
       "      <td>20.000000</td>\n",
       "      <td>7.00000</td>\n",
       "      <td>0.010000</td>\n",
       "      <td>0.010000</td>\n",
       "    </tr>\n",
       "    <tr>\n",
       "      <th>25%</th>\n",
       "      <td>287.500000</td>\n",
       "      <td>19200.000000</td>\n",
       "      <td>1125.000000</td>\n",
       "      <td>32.500000</td>\n",
       "      <td>7.75000</td>\n",
       "      <td>0.015000</td>\n",
       "      <td>0.015000</td>\n",
       "    </tr>\n",
       "    <tr>\n",
       "      <th>50%</th>\n",
       "      <td>525.000000</td>\n",
       "      <td>23040.000000</td>\n",
       "      <td>1750.000000</td>\n",
       "      <td>45.000000</td>\n",
       "      <td>8.50000</td>\n",
       "      <td>0.020000</td>\n",
       "      <td>0.020000</td>\n",
       "    </tr>\n",
       "    <tr>\n",
       "      <th>75%</th>\n",
       "      <td>762.500000</td>\n",
       "      <td>26880.000000</td>\n",
       "      <td>2375.000000</td>\n",
       "      <td>57.500000</td>\n",
       "      <td>9.25000</td>\n",
       "      <td>0.025000</td>\n",
       "      <td>0.025000</td>\n",
       "    </tr>\n",
       "    <tr>\n",
       "      <th>max</th>\n",
       "      <td>1000.000000</td>\n",
       "      <td>30720.000000</td>\n",
       "      <td>3000.000000</td>\n",
       "      <td>70.000000</td>\n",
       "      <td>10.00000</td>\n",
       "      <td>0.030000</td>\n",
       "      <td>0.030000</td>\n",
       "    </tr>\n",
       "  </tbody>\n",
       "</table>\n",
       "</div>"
      ],
      "text/plain": [
       "       messages_included  mb_per_month_included  minutes_included  \\\n",
       "count           2.000000               2.000000          2.000000   \n",
       "mean          525.000000           23040.000000       1750.000000   \n",
       "std           671.751442           10861.160159       1767.766953   \n",
       "min            50.000000           15360.000000        500.000000   \n",
       "25%           287.500000           19200.000000       1125.000000   \n",
       "50%           525.000000           23040.000000       1750.000000   \n",
       "75%           762.500000           26880.000000       2375.000000   \n",
       "max          1000.000000           30720.000000       3000.000000   \n",
       "\n",
       "       usd_monthly_pay  usd_per_gb  usd_per_message  usd_per_minute  \n",
       "count         2.000000     2.00000         2.000000        2.000000  \n",
       "mean         45.000000     8.50000         0.020000        0.020000  \n",
       "std          35.355339     2.12132         0.014142        0.014142  \n",
       "min          20.000000     7.00000         0.010000        0.010000  \n",
       "25%          32.500000     7.75000         0.015000        0.015000  \n",
       "50%          45.000000     8.50000         0.020000        0.020000  \n",
       "75%          57.500000     9.25000         0.025000        0.025000  \n",
       "max          70.000000    10.00000         0.030000        0.030000  "
      ]
     },
     "execution_count": 16,
     "metadata": {},
     "output_type": "execute_result"
    }
   ],
   "source": [
    "df_plans.describe()"
   ]
  },
  {
   "cell_type": "code",
   "execution_count": 17,
   "metadata": {},
   "outputs": [
    {
     "data": {
      "text/html": [
       "<div>\n",
       "<style scoped>\n",
       "    .dataframe tbody tr th:only-of-type {\n",
       "        vertical-align: middle;\n",
       "    }\n",
       "\n",
       "    .dataframe tbody tr th {\n",
       "        vertical-align: top;\n",
       "    }\n",
       "\n",
       "    .dataframe thead th {\n",
       "        text-align: right;\n",
       "    }\n",
       "</style>\n",
       "<table border=\"1\" class=\"dataframe\">\n",
       "  <thead>\n",
       "    <tr style=\"text-align: right;\">\n",
       "      <th></th>\n",
       "      <th>messages_included</th>\n",
       "      <th>mb_per_month_included</th>\n",
       "      <th>minutes_included</th>\n",
       "      <th>usd_monthly_pay</th>\n",
       "      <th>usd_per_gb</th>\n",
       "      <th>usd_per_message</th>\n",
       "      <th>usd_per_minute</th>\n",
       "      <th>plan_name</th>\n",
       "    </tr>\n",
       "  </thead>\n",
       "  <tbody>\n",
       "    <tr>\n",
       "      <th>0</th>\n",
       "      <td>50</td>\n",
       "      <td>15360</td>\n",
       "      <td>500</td>\n",
       "      <td>20</td>\n",
       "      <td>10</td>\n",
       "      <td>0.03</td>\n",
       "      <td>0.03</td>\n",
       "      <td>surf</td>\n",
       "    </tr>\n",
       "    <tr>\n",
       "      <th>1</th>\n",
       "      <td>1000</td>\n",
       "      <td>30720</td>\n",
       "      <td>3000</td>\n",
       "      <td>70</td>\n",
       "      <td>7</td>\n",
       "      <td>0.01</td>\n",
       "      <td>0.01</td>\n",
       "      <td>ultimate</td>\n",
       "    </tr>\n",
       "  </tbody>\n",
       "</table>\n",
       "</div>"
      ],
      "text/plain": [
       "   messages_included  mb_per_month_included  minutes_included  \\\n",
       "0                 50                  15360               500   \n",
       "1               1000                  30720              3000   \n",
       "\n",
       "   usd_monthly_pay  usd_per_gb  usd_per_message  usd_per_minute plan_name  \n",
       "0               20          10             0.03            0.03      surf  \n",
       "1               70           7             0.01            0.01  ultimate  "
      ]
     },
     "execution_count": 17,
     "metadata": {},
     "output_type": "execute_result"
    }
   ],
   "source": [
    "df_plans.head()"
   ]
  },
  {
   "cell_type": "markdown",
   "metadata": {},
   "source": [
    "### 1.3.2 Cek data duplikat <a id='data_duplicate'></a>"
   ]
  },
  {
   "cell_type": "code",
   "execution_count": 18,
   "metadata": {},
   "outputs": [],
   "source": [
    "def check_dup(df):\n",
    "    check_dup = df.isna().sum().to_frame()\n",
    "    check_dup = check_dup.rename(columns={0: 'missing_values'})\n",
    "    check_dup['% of total'] = (check_dup['missing_values'] / df.shape[0] * 100).round(2)\n",
    "    return check_dup.sort_values(by='missing_values', ascending=False)\n"
   ]
  },
  {
   "cell_type": "code",
   "execution_count": 19,
   "metadata": {},
   "outputs": [
    {
     "data": {
      "text/html": [
       "<div>\n",
       "<style scoped>\n",
       "    .dataframe tbody tr th:only-of-type {\n",
       "        vertical-align: middle;\n",
       "    }\n",
       "\n",
       "    .dataframe tbody tr th {\n",
       "        vertical-align: top;\n",
       "    }\n",
       "\n",
       "    .dataframe thead th {\n",
       "        text-align: right;\n",
       "    }\n",
       "</style>\n",
       "<table border=\"1\" class=\"dataframe\">\n",
       "  <thead>\n",
       "    <tr style=\"text-align: right;\">\n",
       "      <th></th>\n",
       "      <th>missing_values</th>\n",
       "      <th>% of total</th>\n",
       "    </tr>\n",
       "  </thead>\n",
       "  <tbody>\n",
       "    <tr>\n",
       "      <th>churn_date</th>\n",
       "      <td>466</td>\n",
       "      <td>93.2</td>\n",
       "    </tr>\n",
       "    <tr>\n",
       "      <th>user_id</th>\n",
       "      <td>0</td>\n",
       "      <td>0.0</td>\n",
       "    </tr>\n",
       "    <tr>\n",
       "      <th>first_name</th>\n",
       "      <td>0</td>\n",
       "      <td>0.0</td>\n",
       "    </tr>\n",
       "    <tr>\n",
       "      <th>last_name</th>\n",
       "      <td>0</td>\n",
       "      <td>0.0</td>\n",
       "    </tr>\n",
       "    <tr>\n",
       "      <th>age</th>\n",
       "      <td>0</td>\n",
       "      <td>0.0</td>\n",
       "    </tr>\n",
       "    <tr>\n",
       "      <th>city</th>\n",
       "      <td>0</td>\n",
       "      <td>0.0</td>\n",
       "    </tr>\n",
       "    <tr>\n",
       "      <th>reg_date</th>\n",
       "      <td>0</td>\n",
       "      <td>0.0</td>\n",
       "    </tr>\n",
       "    <tr>\n",
       "      <th>plan</th>\n",
       "      <td>0</td>\n",
       "      <td>0.0</td>\n",
       "    </tr>\n",
       "  </tbody>\n",
       "</table>\n",
       "</div>"
      ],
      "text/plain": [
       "            missing_values  % of total\n",
       "churn_date             466        93.2\n",
       "user_id                  0         0.0\n",
       "first_name               0         0.0\n",
       "last_name                0         0.0\n",
       "age                      0         0.0\n",
       "city                     0         0.0\n",
       "reg_date                 0         0.0\n",
       "plan                     0         0.0"
      ]
     },
     "execution_count": 19,
     "metadata": {},
     "output_type": "execute_result"
    }
   ],
   "source": [
    "users_dup = check_dup(df_users)\n",
    "users_dup"
   ]
  },
  {
   "cell_type": "code",
   "execution_count": 20,
   "metadata": {},
   "outputs": [
    {
     "data": {
      "text/html": [
       "<div>\n",
       "<style scoped>\n",
       "    .dataframe tbody tr th:only-of-type {\n",
       "        vertical-align: middle;\n",
       "    }\n",
       "\n",
       "    .dataframe tbody tr th {\n",
       "        vertical-align: top;\n",
       "    }\n",
       "\n",
       "    .dataframe thead th {\n",
       "        text-align: right;\n",
       "    }\n",
       "</style>\n",
       "<table border=\"1\" class=\"dataframe\">\n",
       "  <thead>\n",
       "    <tr style=\"text-align: right;\">\n",
       "      <th></th>\n",
       "      <th>missing_values</th>\n",
       "      <th>% of total</th>\n",
       "    </tr>\n",
       "  </thead>\n",
       "  <tbody>\n",
       "    <tr>\n",
       "      <th>id</th>\n",
       "      <td>0</td>\n",
       "      <td>0.0</td>\n",
       "    </tr>\n",
       "    <tr>\n",
       "      <th>user_id</th>\n",
       "      <td>0</td>\n",
       "      <td>0.0</td>\n",
       "    </tr>\n",
       "    <tr>\n",
       "      <th>call_date</th>\n",
       "      <td>0</td>\n",
       "      <td>0.0</td>\n",
       "    </tr>\n",
       "    <tr>\n",
       "      <th>duration</th>\n",
       "      <td>0</td>\n",
       "      <td>0.0</td>\n",
       "    </tr>\n",
       "  </tbody>\n",
       "</table>\n",
       "</div>"
      ],
      "text/plain": [
       "           missing_values  % of total\n",
       "id                      0         0.0\n",
       "user_id                 0         0.0\n",
       "call_date               0         0.0\n",
       "duration                0         0.0"
      ]
     },
     "execution_count": 20,
     "metadata": {},
     "output_type": "execute_result"
    }
   ],
   "source": [
    "calls_dup = check_dup(df_calls)\n",
    "calls_dup"
   ]
  },
  {
   "cell_type": "code",
   "execution_count": 21,
   "metadata": {},
   "outputs": [
    {
     "data": {
      "text/html": [
       "<div>\n",
       "<style scoped>\n",
       "    .dataframe tbody tr th:only-of-type {\n",
       "        vertical-align: middle;\n",
       "    }\n",
       "\n",
       "    .dataframe tbody tr th {\n",
       "        vertical-align: top;\n",
       "    }\n",
       "\n",
       "    .dataframe thead th {\n",
       "        text-align: right;\n",
       "    }\n",
       "</style>\n",
       "<table border=\"1\" class=\"dataframe\">\n",
       "  <thead>\n",
       "    <tr style=\"text-align: right;\">\n",
       "      <th></th>\n",
       "      <th>missing_values</th>\n",
       "      <th>% of total</th>\n",
       "    </tr>\n",
       "  </thead>\n",
       "  <tbody>\n",
       "    <tr>\n",
       "      <th>id</th>\n",
       "      <td>0</td>\n",
       "      <td>0.0</td>\n",
       "    </tr>\n",
       "    <tr>\n",
       "      <th>user_id</th>\n",
       "      <td>0</td>\n",
       "      <td>0.0</td>\n",
       "    </tr>\n",
       "    <tr>\n",
       "      <th>message_date</th>\n",
       "      <td>0</td>\n",
       "      <td>0.0</td>\n",
       "    </tr>\n",
       "  </tbody>\n",
       "</table>\n",
       "</div>"
      ],
      "text/plain": [
       "              missing_values  % of total\n",
       "id                         0         0.0\n",
       "user_id                    0         0.0\n",
       "message_date               0         0.0"
      ]
     },
     "execution_count": 21,
     "metadata": {},
     "output_type": "execute_result"
    }
   ],
   "source": [
    "msg_dup = check_dup(df_msg)\n",
    "msg_dup"
   ]
  },
  {
   "cell_type": "code",
   "execution_count": 22,
   "metadata": {},
   "outputs": [
    {
     "data": {
      "text/html": [
       "<div>\n",
       "<style scoped>\n",
       "    .dataframe tbody tr th:only-of-type {\n",
       "        vertical-align: middle;\n",
       "    }\n",
       "\n",
       "    .dataframe tbody tr th {\n",
       "        vertical-align: top;\n",
       "    }\n",
       "\n",
       "    .dataframe thead th {\n",
       "        text-align: right;\n",
       "    }\n",
       "</style>\n",
       "<table border=\"1\" class=\"dataframe\">\n",
       "  <thead>\n",
       "    <tr style=\"text-align: right;\">\n",
       "      <th></th>\n",
       "      <th>missing_values</th>\n",
       "      <th>% of total</th>\n",
       "    </tr>\n",
       "  </thead>\n",
       "  <tbody>\n",
       "    <tr>\n",
       "      <th>id</th>\n",
       "      <td>0</td>\n",
       "      <td>0.0</td>\n",
       "    </tr>\n",
       "    <tr>\n",
       "      <th>user_id</th>\n",
       "      <td>0</td>\n",
       "      <td>0.0</td>\n",
       "    </tr>\n",
       "    <tr>\n",
       "      <th>session_date</th>\n",
       "      <td>0</td>\n",
       "      <td>0.0</td>\n",
       "    </tr>\n",
       "    <tr>\n",
       "      <th>mb_used</th>\n",
       "      <td>0</td>\n",
       "      <td>0.0</td>\n",
       "    </tr>\n",
       "  </tbody>\n",
       "</table>\n",
       "</div>"
      ],
      "text/plain": [
       "              missing_values  % of total\n",
       "id                         0         0.0\n",
       "user_id                    0         0.0\n",
       "session_date               0         0.0\n",
       "mb_used                    0         0.0"
      ]
     },
     "execution_count": 22,
     "metadata": {},
     "output_type": "execute_result"
    }
   ],
   "source": [
    "internet_dup = check_dup(df_internet)\n",
    "internet_dup"
   ]
  },
  {
   "cell_type": "markdown",
   "metadata": {},
   "source": [
    "**DESCRIPTION**\n",
    "\n",
    "Berikut langkah langkah yang dilakukan pada pra pemrosesan data \n",
    "\n",
    "* Mengimpor berbagai library yang diperlukan untuk melakukan analisis data, seperti pandas, numpy, matplotlib, seaborn, dan scipy.stats.\n",
    "\n",
    "* Memuat data dari file CSV ke dalam DataFrame terpisah untuk setiap jenis data, yaitu data pengguna (`df_users`), panggilan (`df_calls`), pesan (`df_msg`), interne (`df_internet`), dan paket (`df_plans`).\n",
    "\n",
    "* Menampilkan informasi umum tentang setiap DataFrame.\n",
    "\n",
    "* Menampilkan statistik deskriptif untuk kolom-kolom numerik.\n",
    "\n",
    "* Mengecek duplikat data dan persentase nilai yang hilang untuk setiap kolom."
   ]
  },
  {
   "cell_type": "markdown",
   "metadata": {},
   "source": [
    "<div class=\"alert alert-success\">\n",
    "<b>Code Reviewers's comment v.1</b> <a class=\"tocSkip\"></a>\n",
    "\n",
    "Bagus, code yang dijalankan sudah sesuai dengan instruksi dari project.\n",
    "\n",
    "</div>"
   ]
  },
  {
   "cell_type": "markdown",
   "metadata": {},
   "source": [
    "# 2. Transformasi Data <a id='data_transform'></a>"
   ]
  },
  {
   "cell_type": "markdown",
   "metadata": {},
   "source": [
    "## Memeriksa sample dan Tipe tiap data <a id='sample_type'></a>\n",
    "<a id='data_quality'></a>\n"
   ]
  },
  {
   "cell_type": "markdown",
   "metadata": {},
   "source": [
    "### Data Users (Pengguna)"
   ]
  },
  {
   "cell_type": "code",
   "execution_count": 23,
   "metadata": {
    "scrolled": false
   },
   "outputs": [
    {
     "data": {
      "text/html": [
       "<div>\n",
       "<style scoped>\n",
       "    .dataframe tbody tr th:only-of-type {\n",
       "        vertical-align: middle;\n",
       "    }\n",
       "\n",
       "    .dataframe tbody tr th {\n",
       "        vertical-align: top;\n",
       "    }\n",
       "\n",
       "    .dataframe thead th {\n",
       "        text-align: right;\n",
       "    }\n",
       "</style>\n",
       "<table border=\"1\" class=\"dataframe\">\n",
       "  <thead>\n",
       "    <tr style=\"text-align: right;\">\n",
       "      <th></th>\n",
       "      <th>user_id</th>\n",
       "      <th>first_name</th>\n",
       "      <th>last_name</th>\n",
       "      <th>age</th>\n",
       "      <th>city</th>\n",
       "      <th>reg_date</th>\n",
       "      <th>plan</th>\n",
       "      <th>churn_date</th>\n",
       "    </tr>\n",
       "  </thead>\n",
       "  <tbody>\n",
       "    <tr>\n",
       "      <th>31</th>\n",
       "      <td>1031</td>\n",
       "      <td>Lane</td>\n",
       "      <td>Martin</td>\n",
       "      <td>52</td>\n",
       "      <td>New York-Newark-Jersey City, NY-NJ-PA MSA</td>\n",
       "      <td>2018-07-15</td>\n",
       "      <td>ultimate</td>\n",
       "      <td>NaN</td>\n",
       "    </tr>\n",
       "    <tr>\n",
       "      <th>198</th>\n",
       "      <td>1198</td>\n",
       "      <td>Russ</td>\n",
       "      <td>Horne</td>\n",
       "      <td>69</td>\n",
       "      <td>New York-Newark-Jersey City, NY-NJ-PA MSA</td>\n",
       "      <td>2018-05-01</td>\n",
       "      <td>surf</td>\n",
       "      <td>NaN</td>\n",
       "    </tr>\n",
       "    <tr>\n",
       "      <th>296</th>\n",
       "      <td>1296</td>\n",
       "      <td>Weston</td>\n",
       "      <td>Conley</td>\n",
       "      <td>36</td>\n",
       "      <td>Miami-Fort Lauderdale-West Palm Beach, FL MSA</td>\n",
       "      <td>2018-10-20</td>\n",
       "      <td>ultimate</td>\n",
       "      <td>2018-12-18</td>\n",
       "    </tr>\n",
       "    <tr>\n",
       "      <th>239</th>\n",
       "      <td>1239</td>\n",
       "      <td>Quentin</td>\n",
       "      <td>Hancock</td>\n",
       "      <td>24</td>\n",
       "      <td>Fresno, CA MSA</td>\n",
       "      <td>2018-08-11</td>\n",
       "      <td>surf</td>\n",
       "      <td>NaN</td>\n",
       "    </tr>\n",
       "    <tr>\n",
       "      <th>59</th>\n",
       "      <td>1059</td>\n",
       "      <td>Avril</td>\n",
       "      <td>Richardson</td>\n",
       "      <td>34</td>\n",
       "      <td>Chicago-Naperville-Elgin, IL-IN-WI MSA</td>\n",
       "      <td>2018-04-22</td>\n",
       "      <td>ultimate</td>\n",
       "      <td>NaN</td>\n",
       "    </tr>\n",
       "    <tr>\n",
       "      <th>495</th>\n",
       "      <td>1495</td>\n",
       "      <td>Fidel</td>\n",
       "      <td>Sharpe</td>\n",
       "      <td>67</td>\n",
       "      <td>New York-Newark-Jersey City, NY-NJ-PA MSA</td>\n",
       "      <td>2018-09-04</td>\n",
       "      <td>surf</td>\n",
       "      <td>NaN</td>\n",
       "    </tr>\n",
       "    <tr>\n",
       "      <th>428</th>\n",
       "      <td>1428</td>\n",
       "      <td>Asuncion</td>\n",
       "      <td>Conrad</td>\n",
       "      <td>66</td>\n",
       "      <td>Phoenix-Mesa-Chandler, AZ MSA</td>\n",
       "      <td>2018-10-23</td>\n",
       "      <td>surf</td>\n",
       "      <td>NaN</td>\n",
       "    </tr>\n",
       "    <tr>\n",
       "      <th>67</th>\n",
       "      <td>1067</td>\n",
       "      <td>Robt</td>\n",
       "      <td>Allen</td>\n",
       "      <td>37</td>\n",
       "      <td>Grand Rapids-Kentwood, MI MSA</td>\n",
       "      <td>2018-09-24</td>\n",
       "      <td>surf</td>\n",
       "      <td>2018-11-24</td>\n",
       "    </tr>\n",
       "    <tr>\n",
       "      <th>263</th>\n",
       "      <td>1263</td>\n",
       "      <td>Lucio</td>\n",
       "      <td>Duffy</td>\n",
       "      <td>39</td>\n",
       "      <td>Boston-Cambridge-Newton, MA-NH MSA</td>\n",
       "      <td>2018-03-06</td>\n",
       "      <td>surf</td>\n",
       "      <td>NaN</td>\n",
       "    </tr>\n",
       "    <tr>\n",
       "      <th>497</th>\n",
       "      <td>1497</td>\n",
       "      <td>Donte</td>\n",
       "      <td>Barrera</td>\n",
       "      <td>49</td>\n",
       "      <td>Los Angeles-Long Beach-Anaheim, CA MSA</td>\n",
       "      <td>2018-12-10</td>\n",
       "      <td>ultimate</td>\n",
       "      <td>NaN</td>\n",
       "    </tr>\n",
       "    <tr>\n",
       "      <th>63</th>\n",
       "      <td>1063</td>\n",
       "      <td>Larhonda</td>\n",
       "      <td>Hartman</td>\n",
       "      <td>60</td>\n",
       "      <td>New York-Newark-Jersey City, NY-NJ-PA MSA</td>\n",
       "      <td>2018-11-05</td>\n",
       "      <td>ultimate</td>\n",
       "      <td>NaN</td>\n",
       "    </tr>\n",
       "    <tr>\n",
       "      <th>417</th>\n",
       "      <td>1417</td>\n",
       "      <td>Jorge</td>\n",
       "      <td>Madden</td>\n",
       "      <td>51</td>\n",
       "      <td>Minneapolis-St. Paul-Bloomington, MN-WI MSA</td>\n",
       "      <td>2018-06-22</td>\n",
       "      <td>ultimate</td>\n",
       "      <td>NaN</td>\n",
       "    </tr>\n",
       "    <tr>\n",
       "      <th>285</th>\n",
       "      <td>1285</td>\n",
       "      <td>Joesph</td>\n",
       "      <td>Barry</td>\n",
       "      <td>28</td>\n",
       "      <td>Los Angeles-Long Beach-Anaheim, CA MSA</td>\n",
       "      <td>2018-08-03</td>\n",
       "      <td>surf</td>\n",
       "      <td>NaN</td>\n",
       "    </tr>\n",
       "    <tr>\n",
       "      <th>106</th>\n",
       "      <td>1106</td>\n",
       "      <td>Eddy</td>\n",
       "      <td>Garrison</td>\n",
       "      <td>47</td>\n",
       "      <td>New York-Newark-Jersey City, NY-NJ-PA MSA</td>\n",
       "      <td>2018-05-10</td>\n",
       "      <td>surf</td>\n",
       "      <td>2018-11-14</td>\n",
       "    </tr>\n",
       "    <tr>\n",
       "      <th>437</th>\n",
       "      <td>1437</td>\n",
       "      <td>Louis</td>\n",
       "      <td>Neal</td>\n",
       "      <td>42</td>\n",
       "      <td>Dallas-Fort Worth-Arlington, TX MSA</td>\n",
       "      <td>2018-11-12</td>\n",
       "      <td>surf</td>\n",
       "      <td>NaN</td>\n",
       "    </tr>\n",
       "  </tbody>\n",
       "</table>\n",
       "</div>"
      ],
      "text/plain": [
       "     user_id first_name   last_name  age  \\\n",
       "31      1031       Lane      Martin   52   \n",
       "198     1198       Russ       Horne   69   \n",
       "296     1296     Weston      Conley   36   \n",
       "239     1239    Quentin     Hancock   24   \n",
       "59      1059      Avril  Richardson   34   \n",
       "495     1495      Fidel      Sharpe   67   \n",
       "428     1428   Asuncion      Conrad   66   \n",
       "67      1067       Robt       Allen   37   \n",
       "263     1263      Lucio       Duffy   39   \n",
       "497     1497      Donte     Barrera   49   \n",
       "63      1063   Larhonda     Hartman   60   \n",
       "417     1417      Jorge      Madden   51   \n",
       "285     1285     Joesph       Barry   28   \n",
       "106     1106       Eddy    Garrison   47   \n",
       "437     1437      Louis        Neal   42   \n",
       "\n",
       "                                              city    reg_date      plan  \\\n",
       "31       New York-Newark-Jersey City, NY-NJ-PA MSA  2018-07-15  ultimate   \n",
       "198      New York-Newark-Jersey City, NY-NJ-PA MSA  2018-05-01      surf   \n",
       "296  Miami-Fort Lauderdale-West Palm Beach, FL MSA  2018-10-20  ultimate   \n",
       "239                                 Fresno, CA MSA  2018-08-11      surf   \n",
       "59          Chicago-Naperville-Elgin, IL-IN-WI MSA  2018-04-22  ultimate   \n",
       "495      New York-Newark-Jersey City, NY-NJ-PA MSA  2018-09-04      surf   \n",
       "428                  Phoenix-Mesa-Chandler, AZ MSA  2018-10-23      surf   \n",
       "67                   Grand Rapids-Kentwood, MI MSA  2018-09-24      surf   \n",
       "263             Boston-Cambridge-Newton, MA-NH MSA  2018-03-06      surf   \n",
       "497         Los Angeles-Long Beach-Anaheim, CA MSA  2018-12-10  ultimate   \n",
       "63       New York-Newark-Jersey City, NY-NJ-PA MSA  2018-11-05  ultimate   \n",
       "417    Minneapolis-St. Paul-Bloomington, MN-WI MSA  2018-06-22  ultimate   \n",
       "285         Los Angeles-Long Beach-Anaheim, CA MSA  2018-08-03      surf   \n",
       "106      New York-Newark-Jersey City, NY-NJ-PA MSA  2018-05-10      surf   \n",
       "437            Dallas-Fort Worth-Arlington, TX MSA  2018-11-12      surf   \n",
       "\n",
       "     churn_date  \n",
       "31          NaN  \n",
       "198         NaN  \n",
       "296  2018-12-18  \n",
       "239         NaN  \n",
       "59          NaN  \n",
       "495         NaN  \n",
       "428         NaN  \n",
       "67   2018-11-24  \n",
       "263         NaN  \n",
       "497         NaN  \n",
       "63          NaN  \n",
       "417         NaN  \n",
       "285         NaN  \n",
       "106  2018-11-14  \n",
       "437         NaN  "
      ]
     },
     "execution_count": 23,
     "metadata": {},
     "output_type": "execute_result"
    }
   ],
   "source": [
    "# Tampilkan sampel data pengguna\n",
    "df_users.sample(15)\n"
   ]
  },
  {
   "cell_type": "code",
   "execution_count": 24,
   "metadata": {
    "scrolled": true
   },
   "outputs": [
    {
     "data": {
      "text/plain": [
       "user_id        int64\n",
       "first_name    object\n",
       "last_name     object\n",
       "age            int64\n",
       "city          object\n",
       "reg_date      object\n",
       "plan          object\n",
       "churn_date    object\n",
       "dtype: object"
      ]
     },
     "execution_count": 24,
     "metadata": {},
     "output_type": "execute_result"
    }
   ],
   "source": [
    "df_users.dtypes"
   ]
  },
  {
   "cell_type": "markdown",
   "metadata": {},
   "source": [
    "[Deskripsikan apa yang Anda lihat dan perhatikan dalam informasi umum dan sampel data yang ditampilkan terkait harga. Apakah terdapat masalah (seperti: tipe data yang tidak sesuai, data yang hilang, dll.) yang mungkin memerlukan penyelidikan dan perubahan lebih lanjut? Bagaimana memperbaiki masalah tersebut?]"
   ]
  },
  {
   "cell_type": "markdown",
   "metadata": {},
   "source": [
    " \n",
    "#### Permasalahan \n",
    "* Data user sebagai data utama untuk penggabungan data nanti\n",
    "* Menghapus kolom yang tidak diperlukan\n",
    "* Memisahkan kode kota di kolom `city`\n"
   ]
  },
  {
   "cell_type": "markdown",
   "metadata": {},
   "source": [
    "###  Data Calls (Panggilan)"
   ]
  },
  {
   "cell_type": "code",
   "execution_count": 25,
   "metadata": {
    "scrolled": true
   },
   "outputs": [
    {
     "data": {
      "text/html": [
       "<div>\n",
       "<style scoped>\n",
       "    .dataframe tbody tr th:only-of-type {\n",
       "        vertical-align: middle;\n",
       "    }\n",
       "\n",
       "    .dataframe tbody tr th {\n",
       "        vertical-align: top;\n",
       "    }\n",
       "\n",
       "    .dataframe thead th {\n",
       "        text-align: right;\n",
       "    }\n",
       "</style>\n",
       "<table border=\"1\" class=\"dataframe\">\n",
       "  <thead>\n",
       "    <tr style=\"text-align: right;\">\n",
       "      <th></th>\n",
       "      <th>id</th>\n",
       "      <th>user_id</th>\n",
       "      <th>call_date</th>\n",
       "      <th>duration</th>\n",
       "    </tr>\n",
       "  </thead>\n",
       "  <tbody>\n",
       "    <tr>\n",
       "      <th>99769</th>\n",
       "      <td>1358_100</td>\n",
       "      <td>1358</td>\n",
       "      <td>2018-08-05</td>\n",
       "      <td>1.13</td>\n",
       "    </tr>\n",
       "    <tr>\n",
       "      <th>96832</th>\n",
       "      <td>1346_56</td>\n",
       "      <td>1346</td>\n",
       "      <td>2018-09-09</td>\n",
       "      <td>0.00</td>\n",
       "    </tr>\n",
       "    <tr>\n",
       "      <th>4356</th>\n",
       "      <td>1018_148</td>\n",
       "      <td>1018</td>\n",
       "      <td>2018-11-14</td>\n",
       "      <td>17.21</td>\n",
       "    </tr>\n",
       "    <tr>\n",
       "      <th>41933</th>\n",
       "      <td>1153_841</td>\n",
       "      <td>1153</td>\n",
       "      <td>2018-12-29</td>\n",
       "      <td>18.04</td>\n",
       "    </tr>\n",
       "    <tr>\n",
       "      <th>72978</th>\n",
       "      <td>1258_44</td>\n",
       "      <td>1258</td>\n",
       "      <td>2018-10-15</td>\n",
       "      <td>0.00</td>\n",
       "    </tr>\n",
       "    <tr>\n",
       "      <th>41509</th>\n",
       "      <td>1153_178</td>\n",
       "      <td>1153</td>\n",
       "      <td>2018-08-12</td>\n",
       "      <td>8.71</td>\n",
       "    </tr>\n",
       "    <tr>\n",
       "      <th>54231</th>\n",
       "      <td>1196_110</td>\n",
       "      <td>1196</td>\n",
       "      <td>2018-04-30</td>\n",
       "      <td>4.42</td>\n",
       "    </tr>\n",
       "    <tr>\n",
       "      <th>99555</th>\n",
       "      <td>1357_386</td>\n",
       "      <td>1357</td>\n",
       "      <td>2018-06-01</td>\n",
       "      <td>4.87</td>\n",
       "    </tr>\n",
       "    <tr>\n",
       "      <th>107040</th>\n",
       "      <td>1380_108</td>\n",
       "      <td>1380</td>\n",
       "      <td>2018-12-21</td>\n",
       "      <td>3.80</td>\n",
       "    </tr>\n",
       "    <tr>\n",
       "      <th>12998</th>\n",
       "      <td>1056_141</td>\n",
       "      <td>1056</td>\n",
       "      <td>2018-12-20</td>\n",
       "      <td>0.00</td>\n",
       "    </tr>\n",
       "  </tbody>\n",
       "</table>\n",
       "</div>"
      ],
      "text/plain": [
       "              id  user_id   call_date  duration\n",
       "99769   1358_100     1358  2018-08-05      1.13\n",
       "96832    1346_56     1346  2018-09-09      0.00\n",
       "4356    1018_148     1018  2018-11-14     17.21\n",
       "41933   1153_841     1153  2018-12-29     18.04\n",
       "72978    1258_44     1258  2018-10-15      0.00\n",
       "41509   1153_178     1153  2018-08-12      8.71\n",
       "54231   1196_110     1196  2018-04-30      4.42\n",
       "99555   1357_386     1357  2018-06-01      4.87\n",
       "107040  1380_108     1380  2018-12-21      3.80\n",
       "12998   1056_141     1056  2018-12-20      0.00"
      ]
     },
     "execution_count": 25,
     "metadata": {},
     "output_type": "execute_result"
    }
   ],
   "source": [
    "# Tampilkan sampel data berisi panggilan\n",
    "\n",
    "df_calls.sample(10)"
   ]
  },
  {
   "cell_type": "code",
   "execution_count": 26,
   "metadata": {},
   "outputs": [
    {
     "data": {
      "text/plain": [
       "id            object\n",
       "user_id        int64\n",
       "call_date     object\n",
       "duration     float64\n",
       "dtype: object"
      ]
     },
     "execution_count": 26,
     "metadata": {},
     "output_type": "execute_result"
    }
   ],
   "source": [
    "df_calls.dtypes"
   ]
  },
  {
   "cell_type": "markdown",
   "metadata": {},
   "source": [
    "[Deskripsikan apa yang Anda lihat dan perhatikan dalam informasi umum dan sampel data yang ditampilkan terkait harga. Apakah terdapat masalah (seperti: tipe data yang tidak sesuai, data yang hilang, dll.) yang mungkin memerlukan penyelidikan dan perubahan lebih lanjut? Bagaimana memperbaiki masalah tersebut?]"
   ]
  },
  {
   "cell_type": "markdown",
   "metadata": {},
   "source": [
    "#### Permasalahan \n",
    "* Data `call_date` perlu diubah menjadi date time\n",
    "* Durasi panggilan perlu dibulatkan detik ke menit\n",
    "* Aggregasi data calls dengan `user_id` dan `month` untuk mendapatkan data perbulannya\n"
   ]
  },
  {
   "cell_type": "markdown",
   "metadata": {},
   "source": [
    "### Data Messages (Pesan/SMS)"
   ]
  },
  {
   "cell_type": "code",
   "execution_count": 27,
   "metadata": {},
   "outputs": [
    {
     "data": {
      "text/html": [
       "<div>\n",
       "<style scoped>\n",
       "    .dataframe tbody tr th:only-of-type {\n",
       "        vertical-align: middle;\n",
       "    }\n",
       "\n",
       "    .dataframe tbody tr th {\n",
       "        vertical-align: top;\n",
       "    }\n",
       "\n",
       "    .dataframe thead th {\n",
       "        text-align: right;\n",
       "    }\n",
       "</style>\n",
       "<table border=\"1\" class=\"dataframe\">\n",
       "  <thead>\n",
       "    <tr style=\"text-align: right;\">\n",
       "      <th></th>\n",
       "      <th>id</th>\n",
       "      <th>user_id</th>\n",
       "      <th>message_date</th>\n",
       "    </tr>\n",
       "  </thead>\n",
       "  <tbody>\n",
       "    <tr>\n",
       "      <th>58377</th>\n",
       "      <td>1370_52</td>\n",
       "      <td>1370</td>\n",
       "      <td>2018-11-03</td>\n",
       "    </tr>\n",
       "    <tr>\n",
       "      <th>39250</th>\n",
       "      <td>1255_375</td>\n",
       "      <td>1255</td>\n",
       "      <td>2018-11-21</td>\n",
       "    </tr>\n",
       "    <tr>\n",
       "      <th>45332</th>\n",
       "      <td>1304_451</td>\n",
       "      <td>1304</td>\n",
       "      <td>2018-11-14</td>\n",
       "    </tr>\n",
       "    <tr>\n",
       "      <th>72382</th>\n",
       "      <td>1470_10</td>\n",
       "      <td>1470</td>\n",
       "      <td>2018-11-21</td>\n",
       "    </tr>\n",
       "    <tr>\n",
       "      <th>48616</th>\n",
       "      <td>1326_153</td>\n",
       "      <td>1326</td>\n",
       "      <td>2018-12-23</td>\n",
       "    </tr>\n",
       "    <tr>\n",
       "      <th>26893</th>\n",
       "      <td>1164_143</td>\n",
       "      <td>1164</td>\n",
       "      <td>2018-12-07</td>\n",
       "    </tr>\n",
       "    <tr>\n",
       "      <th>26302</th>\n",
       "      <td>1159_305</td>\n",
       "      <td>1159</td>\n",
       "      <td>2018-10-10</td>\n",
       "    </tr>\n",
       "    <tr>\n",
       "      <th>13641</th>\n",
       "      <td>1090_150</td>\n",
       "      <td>1090</td>\n",
       "      <td>2018-10-10</td>\n",
       "    </tr>\n",
       "    <tr>\n",
       "      <th>3812</th>\n",
       "      <td>1038_165</td>\n",
       "      <td>1038</td>\n",
       "      <td>2018-10-23</td>\n",
       "    </tr>\n",
       "    <tr>\n",
       "      <th>25492</th>\n",
       "      <td>1154_75</td>\n",
       "      <td>1154</td>\n",
       "      <td>2018-11-29</td>\n",
       "    </tr>\n",
       "  </tbody>\n",
       "</table>\n",
       "</div>"
      ],
      "text/plain": [
       "             id  user_id message_date\n",
       "58377   1370_52     1370   2018-11-03\n",
       "39250  1255_375     1255   2018-11-21\n",
       "45332  1304_451     1304   2018-11-14\n",
       "72382   1470_10     1470   2018-11-21\n",
       "48616  1326_153     1326   2018-12-23\n",
       "26893  1164_143     1164   2018-12-07\n",
       "26302  1159_305     1159   2018-10-10\n",
       "13641  1090_150     1090   2018-10-10\n",
       "3812   1038_165     1038   2018-10-23\n",
       "25492   1154_75     1154   2018-11-29"
      ]
     },
     "execution_count": 27,
     "metadata": {},
     "output_type": "execute_result"
    }
   ],
   "source": [
    "# Tampilkan sampel data untuk SMS\n",
    "\n",
    "df_msg.sample(10)"
   ]
  },
  {
   "cell_type": "code",
   "execution_count": 28,
   "metadata": {},
   "outputs": [
    {
     "data": {
      "text/plain": [
       "id              object\n",
       "user_id          int64\n",
       "message_date    object\n",
       "dtype: object"
      ]
     },
     "execution_count": 28,
     "metadata": {},
     "output_type": "execute_result"
    }
   ],
   "source": [
    "df_msg.dtypes"
   ]
  },
  {
   "cell_type": "markdown",
   "metadata": {},
   "source": [
    "[Deskripsikan apa yang Anda lihat dan perhatikan dalam informasi umum dan sampel data yang ditampilkan terkait harga. Apakah terdapat masalah (seperti: tipe data yang tidak sesuai, data yang hilang, dll.) yang mungkin memerlukan penyelidikan dan perubahan lebih lanjut? Bagaimana memperbaiki masalah tersebut?]"
   ]
  },
  {
   "cell_type": "markdown",
   "metadata": {},
   "source": [
    "#### Permasalahan \n",
    "* Data user sebagai data utama untuk penggabungan data nanti\n",
    "* Aggregasi data Messages dengan user_id dan month untuk mendapatkan data perbulannya"
   ]
  },
  {
   "cell_type": "markdown",
   "metadata": {},
   "source": [
    "### Data Internet"
   ]
  },
  {
   "cell_type": "code",
   "execution_count": 29,
   "metadata": {},
   "outputs": [
    {
     "data": {
      "text/html": [
       "<div>\n",
       "<style scoped>\n",
       "    .dataframe tbody tr th:only-of-type {\n",
       "        vertical-align: middle;\n",
       "    }\n",
       "\n",
       "    .dataframe tbody tr th {\n",
       "        vertical-align: top;\n",
       "    }\n",
       "\n",
       "    .dataframe thead th {\n",
       "        text-align: right;\n",
       "    }\n",
       "</style>\n",
       "<table border=\"1\" class=\"dataframe\">\n",
       "  <thead>\n",
       "    <tr style=\"text-align: right;\">\n",
       "      <th></th>\n",
       "      <th>id</th>\n",
       "      <th>user_id</th>\n",
       "      <th>session_date</th>\n",
       "      <th>mb_used</th>\n",
       "    </tr>\n",
       "  </thead>\n",
       "  <tbody>\n",
       "    <tr>\n",
       "      <th>11079</th>\n",
       "      <td>1055_84</td>\n",
       "      <td>1055</td>\n",
       "      <td>2018-12-23</td>\n",
       "      <td>932.09</td>\n",
       "    </tr>\n",
       "    <tr>\n",
       "      <th>15141</th>\n",
       "      <td>1068_257</td>\n",
       "      <td>1068</td>\n",
       "      <td>2018-07-24</td>\n",
       "      <td>578.77</td>\n",
       "    </tr>\n",
       "    <tr>\n",
       "      <th>8062</th>\n",
       "      <td>1043_137</td>\n",
       "      <td>1043</td>\n",
       "      <td>2018-07-04</td>\n",
       "      <td>863.23</td>\n",
       "    </tr>\n",
       "    <tr>\n",
       "      <th>36949</th>\n",
       "      <td>1166_115</td>\n",
       "      <td>1166</td>\n",
       "      <td>2018-09-27</td>\n",
       "      <td>521.94</td>\n",
       "    </tr>\n",
       "    <tr>\n",
       "      <th>39105</th>\n",
       "      <td>1175_287</td>\n",
       "      <td>1175</td>\n",
       "      <td>2018-12-14</td>\n",
       "      <td>0.00</td>\n",
       "    </tr>\n",
       "    <tr>\n",
       "      <th>95711</th>\n",
       "      <td>1446_236</td>\n",
       "      <td>1446</td>\n",
       "      <td>2018-09-19</td>\n",
       "      <td>661.13</td>\n",
       "    </tr>\n",
       "    <tr>\n",
       "      <th>100699</th>\n",
       "      <td>1477_14</td>\n",
       "      <td>1477</td>\n",
       "      <td>2018-12-10</td>\n",
       "      <td>456.12</td>\n",
       "    </tr>\n",
       "    <tr>\n",
       "      <th>27351</th>\n",
       "      <td>1126_507</td>\n",
       "      <td>1126</td>\n",
       "      <td>2018-09-10</td>\n",
       "      <td>462.84</td>\n",
       "    </tr>\n",
       "    <tr>\n",
       "      <th>38011</th>\n",
       "      <td>1171_382</td>\n",
       "      <td>1171</td>\n",
       "      <td>2018-08-29</td>\n",
       "      <td>446.11</td>\n",
       "    </tr>\n",
       "    <tr>\n",
       "      <th>80361</th>\n",
       "      <td>1374_437</td>\n",
       "      <td>1374</td>\n",
       "      <td>2018-07-29</td>\n",
       "      <td>803.72</td>\n",
       "    </tr>\n",
       "  </tbody>\n",
       "</table>\n",
       "</div>"
      ],
      "text/plain": [
       "              id  user_id session_date  mb_used\n",
       "11079    1055_84     1055   2018-12-23   932.09\n",
       "15141   1068_257     1068   2018-07-24   578.77\n",
       "8062    1043_137     1043   2018-07-04   863.23\n",
       "36949   1166_115     1166   2018-09-27   521.94\n",
       "39105   1175_287     1175   2018-12-14     0.00\n",
       "95711   1446_236     1446   2018-09-19   661.13\n",
       "100699   1477_14     1477   2018-12-10   456.12\n",
       "27351   1126_507     1126   2018-09-10   462.84\n",
       "38011   1171_382     1171   2018-08-29   446.11\n",
       "80361   1374_437     1374   2018-07-29   803.72"
      ]
     },
     "execution_count": 29,
     "metadata": {},
     "output_type": "execute_result"
    }
   ],
   "source": [
    "# Tampilkan sampel data untuk traffic internet\n",
    "df_internet.sample(10)"
   ]
  },
  {
   "cell_type": "code",
   "execution_count": 30,
   "metadata": {},
   "outputs": [
    {
     "data": {
      "text/plain": [
       "id               object\n",
       "user_id           int64\n",
       "session_date     object\n",
       "mb_used         float64\n",
       "dtype: object"
      ]
     },
     "execution_count": 30,
     "metadata": {},
     "output_type": "execute_result"
    }
   ],
   "source": [
    "df_internet.dtypes"
   ]
  },
  {
   "cell_type": "markdown",
   "metadata": {},
   "source": [
    "[Deskripsikan apa yang Anda lihat dan perhatikan dalam informasi umum dan sampel data yang ditampilkan terkait harga. Apakah terdapat masalah (seperti: tipe data yang tidak sesuai, data yang hilang, dll.) yang mungkin memerlukan penyelidikan dan perubahan lebih lanjut? Bagaimana memperbaiki masalah tersebut?]"
   ]
  },
  {
   "cell_type": "markdown",
   "metadata": {},
   "source": [
    "#### Permasalahan \n",
    "* Mengubah `session_date` menjadi datetime \n",
    "* Mengkonversi mb_used (megabyte) menjadi gb_used (gigabyte)\n",
    "* Aggregasi Data Internet dengan user_id dan month untuk mendapatkan data perbulannya"
   ]
  },
  {
   "cell_type": "markdown",
   "metadata": {},
   "source": [
    "### Data Plans (Paket Prabayar)"
   ]
  },
  {
   "cell_type": "code",
   "execution_count": 31,
   "metadata": {},
   "outputs": [
    {
     "data": {
      "text/html": [
       "<div>\n",
       "<style scoped>\n",
       "    .dataframe tbody tr th:only-of-type {\n",
       "        vertical-align: middle;\n",
       "    }\n",
       "\n",
       "    .dataframe tbody tr th {\n",
       "        vertical-align: top;\n",
       "    }\n",
       "\n",
       "    .dataframe thead th {\n",
       "        text-align: right;\n",
       "    }\n",
       "</style>\n",
       "<table border=\"1\" class=\"dataframe\">\n",
       "  <thead>\n",
       "    <tr style=\"text-align: right;\">\n",
       "      <th></th>\n",
       "      <th>messages_included</th>\n",
       "      <th>mb_per_month_included</th>\n",
       "      <th>minutes_included</th>\n",
       "      <th>usd_monthly_pay</th>\n",
       "      <th>usd_per_gb</th>\n",
       "      <th>usd_per_message</th>\n",
       "      <th>usd_per_minute</th>\n",
       "      <th>plan_name</th>\n",
       "    </tr>\n",
       "  </thead>\n",
       "  <tbody>\n",
       "    <tr>\n",
       "      <th>0</th>\n",
       "      <td>50</td>\n",
       "      <td>15360</td>\n",
       "      <td>500</td>\n",
       "      <td>20</td>\n",
       "      <td>10</td>\n",
       "      <td>0.03</td>\n",
       "      <td>0.03</td>\n",
       "      <td>surf</td>\n",
       "    </tr>\n",
       "    <tr>\n",
       "      <th>1</th>\n",
       "      <td>1000</td>\n",
       "      <td>30720</td>\n",
       "      <td>3000</td>\n",
       "      <td>70</td>\n",
       "      <td>7</td>\n",
       "      <td>0.01</td>\n",
       "      <td>0.01</td>\n",
       "      <td>ultimate</td>\n",
       "    </tr>\n",
       "  </tbody>\n",
       "</table>\n",
       "</div>"
      ],
      "text/plain": [
       "   messages_included  mb_per_month_included  minutes_included  \\\n",
       "0                 50                  15360               500   \n",
       "1               1000                  30720              3000   \n",
       "\n",
       "   usd_monthly_pay  usd_per_gb  usd_per_message  usd_per_minute plan_name  \n",
       "0               20          10             0.03            0.03      surf  \n",
       "1               70           7             0.01            0.01  ultimate  "
      ]
     },
     "execution_count": 31,
     "metadata": {},
     "output_type": "execute_result"
    }
   ],
   "source": [
    "# Tampilkan sampel data untuk paket-paket tersebut\n",
    "df_plans.head()"
   ]
  },
  {
   "cell_type": "code",
   "execution_count": 32,
   "metadata": {
    "scrolled": false
   },
   "outputs": [
    {
     "data": {
      "text/plain": [
       "messages_included          int64\n",
       "mb_per_month_included      int64\n",
       "minutes_included           int64\n",
       "usd_monthly_pay            int64\n",
       "usd_per_gb                 int64\n",
       "usd_per_message          float64\n",
       "usd_per_minute           float64\n",
       "plan_name                 object\n",
       "dtype: object"
      ]
     },
     "execution_count": 32,
     "metadata": {},
     "output_type": "execute_result"
    }
   ],
   "source": [
    "df_plans.dtypes"
   ]
  },
  {
   "cell_type": "markdown",
   "metadata": {},
   "source": [
    "#### Permasalahan \n",
    "* Data `plans` akan dijadikan sebagai referensi paket surf dan ultimate\n",
    "* Mengkonversi kolom mb_used (megabyte) menjadi gigabyte\n"
   ]
  },
  {
   "cell_type": "markdown",
   "metadata": {},
   "source": [
    "[Deskripsikan apa yang Anda lihat dan perhatikan dalam informasi umum dan sampel data yang ditampilkan terkait harga. Apakah terdapat masalah (seperti: tipe data yang tidak sesuai, data yang hilang, dll.) yang mungkin memerlukan penyelidikan dan perubahan lebih lanjut? Bagaimana memperbaiki masalah tersebut?]"
   ]
  },
  {
   "cell_type": "markdown",
   "metadata": {},
   "source": [
    "<div class=\"alert alert-success\">\n",
    "<b>Code Reviewers's comment v.1</b> <a class=\"tocSkip\"></a>\n",
    "\n",
    "Bagus, code yang dijalankan sudah sesuai dengan instruksi dari project.\n",
    "\n",
    "</div>"
   ]
  },
  {
   "cell_type": "markdown",
   "metadata": {},
   "source": [
    " "
   ]
  },
  {
   "cell_type": "markdown",
   "metadata": {},
   "source": [
    "## Memperbaiki Tipe Data <a id='data_type'></a>"
   ]
  },
  {
   "cell_type": "markdown",
   "metadata": {},
   "source": [
    "[Perbaiki masalah data yang eksplisit berdasarkan pengamatan awal.]"
   ]
  },
  {
   "cell_type": "code",
   "execution_count": 33,
   "metadata": {},
   "outputs": [],
   "source": [
    "# Fungsi untuk mengubah tipe data menjadi date untuk semua kolom\n",
    "def convert_to_datetime(dataframe, column_name):\n",
    "    dataframe[column_name] = pd.to_datetime(dataframe[column_name])"
   ]
  },
  {
   "cell_type": "code",
   "execution_count": 34,
   "metadata": {},
   "outputs": [
    {
     "data": {
      "text/plain": [
       "user_id                int64\n",
       "first_name            object\n",
       "last_name             object\n",
       "age                    int64\n",
       "city                  object\n",
       "reg_date      datetime64[ns]\n",
       "plan                  object\n",
       "churn_date            object\n",
       "dtype: object"
      ]
     },
     "execution_count": 34,
     "metadata": {},
     "output_type": "execute_result"
    }
   ],
   "source": [
    "#Mengubah tipe data reg_date pada data users\n",
    "\n",
    "convert_to_datetime(df_users, 'reg_date')\n",
    "df_users.dtypes"
   ]
  },
  {
   "cell_type": "code",
   "execution_count": 35,
   "metadata": {},
   "outputs": [
    {
     "data": {
      "text/plain": [
       "id                   object\n",
       "user_id               int64\n",
       "call_date    datetime64[ns]\n",
       "duration            float64\n",
       "dtype: object"
      ]
     },
     "execution_count": 35,
     "metadata": {},
     "output_type": "execute_result"
    }
   ],
   "source": [
    "#Mengubah tipe data call_date pada data calls\n",
    "convert_to_datetime(df_calls, 'call_date')\n",
    "df_calls.dtypes"
   ]
  },
  {
   "cell_type": "code",
   "execution_count": 36,
   "metadata": {},
   "outputs": [
    {
     "data": {
      "text/plain": [
       "id                      object\n",
       "user_id                  int64\n",
       "message_date    datetime64[ns]\n",
       "dtype: object"
      ]
     },
     "execution_count": 36,
     "metadata": {},
     "output_type": "execute_result"
    }
   ],
   "source": [
    "#Mengubah tipe data message_date pada data message\n",
    "convert_to_datetime(df_msg, 'message_date')\n",
    "df_msg.dtypes"
   ]
  },
  {
   "cell_type": "code",
   "execution_count": 37,
   "metadata": {
    "scrolled": true
   },
   "outputs": [
    {
     "data": {
      "text/plain": [
       "id                      object\n",
       "user_id                  int64\n",
       "session_date    datetime64[ns]\n",
       "mb_used                float64\n",
       "dtype: object"
      ]
     },
     "execution_count": 37,
     "metadata": {},
     "output_type": "execute_result"
    }
   ],
   "source": [
    "#Mengubah tipe data message_date pada data message\n",
    "convert_to_datetime(df_internet, 'session_date')\n",
    "df_internet.dtypes"
   ]
  },
  {
   "cell_type": "markdown",
   "metadata": {},
   "source": [
    "**DESCRIPTION** \n",
    "\n",
    "Pada bagian sample dan tipe tiap data terdapat permasalahan tipe data month yang harusnya datetime di setiap kolom users, calls, messages, dan internet. Kini data telah di konversi yang sebelumnya object menjadi datetime"
   ]
  },
  {
   "cell_type": "markdown",
   "metadata": {},
   "source": [
    "<div class=\"alert alert-success\">\n",
    "<b>Code Reviewers's comment v.1</b> <a class=\"tocSkip\"></a>\n",
    "\n",
    "Bagus, code yang dijalankan sudah sesuai dengan instruksi dari project.\n",
    "\n",
    "</div>"
   ]
  },
  {
   "cell_type": "markdown",
   "metadata": {},
   "source": [
    "## Memperkaya Kualitas Data <a id='data_quality'></a>\n"
   ]
  },
  {
   "cell_type": "markdown",
   "metadata": {},
   "source": [
    "[Tambahkan faktor pendukung pada data jika Anda yakin bahwa faktor tersebut memang berguna.]"
   ]
  },
  {
   "cell_type": "code",
   "execution_count": 38,
   "metadata": {},
   "outputs": [
    {
     "data": {
      "text/plain": [
       "(137735, 4)"
      ]
     },
     "execution_count": 38,
     "metadata": {},
     "output_type": "execute_result"
    }
   ],
   "source": [
    "df_calls.shape"
   ]
  },
  {
   "cell_type": "code",
   "execution_count": 39,
   "metadata": {},
   "outputs": [
    {
     "data": {
      "text/plain": [
       "19.482339274694162"
      ]
     },
     "execution_count": 39,
     "metadata": {},
     "output_type": "execute_result"
    }
   ],
   "source": [
    "df_calls[df_calls['duration']<=0].shape[0] / df_calls.shape[0] * 100"
   ]
  },
  {
   "cell_type": "code",
   "execution_count": 40,
   "metadata": {},
   "outputs": [
    {
     "data": {
      "text/html": [
       "<div>\n",
       "<style scoped>\n",
       "    .dataframe tbody tr th:only-of-type {\n",
       "        vertical-align: middle;\n",
       "    }\n",
       "\n",
       "    .dataframe tbody tr th {\n",
       "        vertical-align: top;\n",
       "    }\n",
       "\n",
       "    .dataframe thead th {\n",
       "        text-align: right;\n",
       "    }\n",
       "</style>\n",
       "<table border=\"1\" class=\"dataframe\">\n",
       "  <thead>\n",
       "    <tr style=\"text-align: right;\">\n",
       "      <th></th>\n",
       "      <th>id</th>\n",
       "      <th>user_id</th>\n",
       "      <th>call_date</th>\n",
       "      <th>duration</th>\n",
       "    </tr>\n",
       "  </thead>\n",
       "  <tbody>\n",
       "    <tr>\n",
       "      <th>19</th>\n",
       "      <td>1001_4</td>\n",
       "      <td>1001</td>\n",
       "      <td>2018-12-05</td>\n",
       "      <td>0.0</td>\n",
       "    </tr>\n",
       "    <tr>\n",
       "      <th>25</th>\n",
       "      <td>1001_13</td>\n",
       "      <td>1001</td>\n",
       "      <td>2018-12-24</td>\n",
       "      <td>0.0</td>\n",
       "    </tr>\n",
       "    <tr>\n",
       "      <th>31</th>\n",
       "      <td>1001_30</td>\n",
       "      <td>1001</td>\n",
       "      <td>2018-10-17</td>\n",
       "      <td>0.0</td>\n",
       "    </tr>\n",
       "    <tr>\n",
       "      <th>32</th>\n",
       "      <td>1001_31</td>\n",
       "      <td>1001</td>\n",
       "      <td>2018-11-03</td>\n",
       "      <td>0.0</td>\n",
       "    </tr>\n",
       "    <tr>\n",
       "      <th>34</th>\n",
       "      <td>1001_35</td>\n",
       "      <td>1001</td>\n",
       "      <td>2018-12-21</td>\n",
       "      <td>0.0</td>\n",
       "    </tr>\n",
       "    <tr>\n",
       "      <th>...</th>\n",
       "      <td>...</td>\n",
       "      <td>...</td>\n",
       "      <td>...</td>\n",
       "      <td>...</td>\n",
       "    </tr>\n",
       "    <tr>\n",
       "      <th>137714</th>\n",
       "      <td>1499_183</td>\n",
       "      <td>1499</td>\n",
       "      <td>2018-11-10</td>\n",
       "      <td>0.0</td>\n",
       "    </tr>\n",
       "    <tr>\n",
       "      <th>137715</th>\n",
       "      <td>1499_184</td>\n",
       "      <td>1499</td>\n",
       "      <td>2018-09-15</td>\n",
       "      <td>0.0</td>\n",
       "    </tr>\n",
       "    <tr>\n",
       "      <th>137720</th>\n",
       "      <td>1499_189</td>\n",
       "      <td>1499</td>\n",
       "      <td>2018-12-27</td>\n",
       "      <td>0.0</td>\n",
       "    </tr>\n",
       "    <tr>\n",
       "      <th>137722</th>\n",
       "      <td>1499_191</td>\n",
       "      <td>1499</td>\n",
       "      <td>2018-12-24</td>\n",
       "      <td>0.0</td>\n",
       "    </tr>\n",
       "    <tr>\n",
       "      <th>137725</th>\n",
       "      <td>1499_194</td>\n",
       "      <td>1499</td>\n",
       "      <td>2018-10-31</td>\n",
       "      <td>0.0</td>\n",
       "    </tr>\n",
       "  </tbody>\n",
       "</table>\n",
       "<p>26834 rows × 4 columns</p>\n",
       "</div>"
      ],
      "text/plain": [
       "              id  user_id  call_date  duration\n",
       "19        1001_4     1001 2018-12-05       0.0\n",
       "25       1001_13     1001 2018-12-24       0.0\n",
       "31       1001_30     1001 2018-10-17       0.0\n",
       "32       1001_31     1001 2018-11-03       0.0\n",
       "34       1001_35     1001 2018-12-21       0.0\n",
       "...          ...      ...        ...       ...\n",
       "137714  1499_183     1499 2018-11-10       0.0\n",
       "137715  1499_184     1499 2018-09-15       0.0\n",
       "137720  1499_189     1499 2018-12-27       0.0\n",
       "137722  1499_191     1499 2018-12-24       0.0\n",
       "137725  1499_194     1499 2018-10-31       0.0\n",
       "\n",
       "[26834 rows x 4 columns]"
      ]
     },
     "execution_count": 40,
     "metadata": {},
     "output_type": "execute_result"
    }
   ],
   "source": [
    "df_calls[df_calls['duration']<=0]"
   ]
  },
  {
   "cell_type": "code",
   "execution_count": 41,
   "metadata": {},
   "outputs": [
    {
     "data": {
      "text/html": [
       "<div>\n",
       "<style scoped>\n",
       "    .dataframe tbody tr th:only-of-type {\n",
       "        vertical-align: middle;\n",
       "    }\n",
       "\n",
       "    .dataframe tbody tr th {\n",
       "        vertical-align: top;\n",
       "    }\n",
       "\n",
       "    .dataframe thead th {\n",
       "        text-align: right;\n",
       "    }\n",
       "</style>\n",
       "<table border=\"1\" class=\"dataframe\">\n",
       "  <thead>\n",
       "    <tr style=\"text-align: right;\">\n",
       "      <th></th>\n",
       "      <th>id</th>\n",
       "      <th>user_id</th>\n",
       "      <th>session_date</th>\n",
       "      <th>mb_used</th>\n",
       "    </tr>\n",
       "  </thead>\n",
       "  <tbody>\n",
       "    <tr>\n",
       "      <th>1</th>\n",
       "      <td>1000_204</td>\n",
       "      <td>1000</td>\n",
       "      <td>2018-12-31</td>\n",
       "      <td>0.0</td>\n",
       "    </tr>\n",
       "    <tr>\n",
       "      <th>14</th>\n",
       "      <td>1001_26</td>\n",
       "      <td>1001</td>\n",
       "      <td>2018-09-17</td>\n",
       "      <td>0.0</td>\n",
       "    </tr>\n",
       "    <tr>\n",
       "      <th>16</th>\n",
       "      <td>1001_28</td>\n",
       "      <td>1001</td>\n",
       "      <td>2018-10-17</td>\n",
       "      <td>0.0</td>\n",
       "    </tr>\n",
       "    <tr>\n",
       "      <th>34</th>\n",
       "      <td>1001_54</td>\n",
       "      <td>1001</td>\n",
       "      <td>2018-09-02</td>\n",
       "      <td>0.0</td>\n",
       "    </tr>\n",
       "    <tr>\n",
       "      <th>43</th>\n",
       "      <td>1001_77</td>\n",
       "      <td>1001</td>\n",
       "      <td>2018-10-31</td>\n",
       "      <td>0.0</td>\n",
       "    </tr>\n",
       "    <tr>\n",
       "      <th>...</th>\n",
       "      <td>...</td>\n",
       "      <td>...</td>\n",
       "      <td>...</td>\n",
       "      <td>...</td>\n",
       "    </tr>\n",
       "    <tr>\n",
       "      <th>104797</th>\n",
       "      <td>1499_192</td>\n",
       "      <td>1499</td>\n",
       "      <td>2018-09-19</td>\n",
       "      <td>0.0</td>\n",
       "    </tr>\n",
       "    <tr>\n",
       "      <th>104804</th>\n",
       "      <td>1499_199</td>\n",
       "      <td>1499</td>\n",
       "      <td>2018-12-09</td>\n",
       "      <td>0.0</td>\n",
       "    </tr>\n",
       "    <tr>\n",
       "      <th>104816</th>\n",
       "      <td>1499_211</td>\n",
       "      <td>1499</td>\n",
       "      <td>2018-09-26</td>\n",
       "      <td>0.0</td>\n",
       "    </tr>\n",
       "    <tr>\n",
       "      <th>104817</th>\n",
       "      <td>1499_212</td>\n",
       "      <td>1499</td>\n",
       "      <td>2018-09-11</td>\n",
       "      <td>0.0</td>\n",
       "    </tr>\n",
       "    <tr>\n",
       "      <th>104823</th>\n",
       "      <td>1499_218</td>\n",
       "      <td>1499</td>\n",
       "      <td>2018-12-07</td>\n",
       "      <td>0.0</td>\n",
       "    </tr>\n",
       "  </tbody>\n",
       "</table>\n",
       "<p>13747 rows × 4 columns</p>\n",
       "</div>"
      ],
      "text/plain": [
       "              id  user_id session_date  mb_used\n",
       "1       1000_204     1000   2018-12-31      0.0\n",
       "14       1001_26     1001   2018-09-17      0.0\n",
       "16       1001_28     1001   2018-10-17      0.0\n",
       "34       1001_54     1001   2018-09-02      0.0\n",
       "43       1001_77     1001   2018-10-31      0.0\n",
       "...          ...      ...          ...      ...\n",
       "104797  1499_192     1499   2018-09-19      0.0\n",
       "104804  1499_199     1499   2018-12-09      0.0\n",
       "104816  1499_211     1499   2018-09-26      0.0\n",
       "104817  1499_212     1499   2018-09-11      0.0\n",
       "104823  1499_218     1499   2018-12-07      0.0\n",
       "\n",
       "[13747 rows x 4 columns]"
      ]
     },
     "execution_count": 41,
     "metadata": {},
     "output_type": "execute_result"
    }
   ],
   "source": [
    "df_internet[df_internet['mb_used']<=0]"
   ]
  },
  {
   "cell_type": "code",
   "execution_count": 42,
   "metadata": {
    "scrolled": false
   },
   "outputs": [
    {
     "data": {
      "text/html": [
       "<div>\n",
       "<style scoped>\n",
       "    .dataframe tbody tr th:only-of-type {\n",
       "        vertical-align: middle;\n",
       "    }\n",
       "\n",
       "    .dataframe tbody tr th {\n",
       "        vertical-align: top;\n",
       "    }\n",
       "\n",
       "    .dataframe thead th {\n",
       "        text-align: right;\n",
       "    }\n",
       "</style>\n",
       "<table border=\"1\" class=\"dataframe\">\n",
       "  <thead>\n",
       "    <tr style=\"text-align: right;\">\n",
       "      <th></th>\n",
       "      <th>id</th>\n",
       "      <th>user_id</th>\n",
       "      <th>call_date</th>\n",
       "      <th>duration</th>\n",
       "    </tr>\n",
       "  </thead>\n",
       "  <tbody>\n",
       "    <tr>\n",
       "      <th>128137</th>\n",
       "      <td>1460_166</td>\n",
       "      <td>1460</td>\n",
       "      <td>2018-07-27</td>\n",
       "      <td>7.84</td>\n",
       "    </tr>\n",
       "    <tr>\n",
       "      <th>41936</th>\n",
       "      <td>1153_846</td>\n",
       "      <td>1153</td>\n",
       "      <td>2018-07-05</td>\n",
       "      <td>6.33</td>\n",
       "    </tr>\n",
       "    <tr>\n",
       "      <th>117339</th>\n",
       "      <td>1410_305</td>\n",
       "      <td>1410</td>\n",
       "      <td>2018-11-16</td>\n",
       "      <td>0.00</td>\n",
       "    </tr>\n",
       "    <tr>\n",
       "      <th>17831</th>\n",
       "      <td>1068_157</td>\n",
       "      <td>1068</td>\n",
       "      <td>2018-10-12</td>\n",
       "      <td>0.00</td>\n",
       "    </tr>\n",
       "    <tr>\n",
       "      <th>107736</th>\n",
       "      <td>1382_521</td>\n",
       "      <td>1382</td>\n",
       "      <td>2018-07-18</td>\n",
       "      <td>5.56</td>\n",
       "    </tr>\n",
       "    <tr>\n",
       "      <th>42684</th>\n",
       "      <td>1156_289</td>\n",
       "      <td>1156</td>\n",
       "      <td>2018-08-06</td>\n",
       "      <td>16.94</td>\n",
       "    </tr>\n",
       "    <tr>\n",
       "      <th>71051</th>\n",
       "      <td>1252_522</td>\n",
       "      <td>1252</td>\n",
       "      <td>2018-10-31</td>\n",
       "      <td>9.27</td>\n",
       "    </tr>\n",
       "    <tr>\n",
       "      <th>41308</th>\n",
       "      <td>1152_260</td>\n",
       "      <td>1152</td>\n",
       "      <td>2018-11-10</td>\n",
       "      <td>13.54</td>\n",
       "    </tr>\n",
       "    <tr>\n",
       "      <th>50942</th>\n",
       "      <td>1184_70</td>\n",
       "      <td>1184</td>\n",
       "      <td>2018-12-19</td>\n",
       "      <td>7.85</td>\n",
       "    </tr>\n",
       "    <tr>\n",
       "      <th>43621</th>\n",
       "      <td>1159_217</td>\n",
       "      <td>1159</td>\n",
       "      <td>2018-12-13</td>\n",
       "      <td>15.16</td>\n",
       "    </tr>\n",
       "  </tbody>\n",
       "</table>\n",
       "</div>"
      ],
      "text/plain": [
       "              id  user_id  call_date  duration\n",
       "128137  1460_166     1460 2018-07-27      7.84\n",
       "41936   1153_846     1153 2018-07-05      6.33\n",
       "117339  1410_305     1410 2018-11-16      0.00\n",
       "17831   1068_157     1068 2018-10-12      0.00\n",
       "107736  1382_521     1382 2018-07-18      5.56\n",
       "42684   1156_289     1156 2018-08-06     16.94\n",
       "71051   1252_522     1252 2018-10-31      9.27\n",
       "41308   1152_260     1152 2018-11-10     13.54\n",
       "50942    1184_70     1184 2018-12-19      7.85\n",
       "43621   1159_217     1159 2018-12-13     15.16"
      ]
     },
     "execution_count": 42,
     "metadata": {},
     "output_type": "execute_result"
    }
   ],
   "source": [
    "# Tampilkan sampel data berisi panggilan\n",
    "\n",
    "df_calls.sample(10)"
   ]
  },
  {
   "cell_type": "code",
   "execution_count": 43,
   "metadata": {},
   "outputs": [],
   "source": [
    "# Bikin function untuk mendapatkan tahun-bulan dari tiap row\n",
    "def to_month(dataset, col_name):\n",
    "    temp = pd.to_datetime(dataset[col_name])\n",
    "    temp = temp.dt.to_period(\"M\")\n",
    "    return temp"
   ]
  },
  {
   "cell_type": "code",
   "execution_count": 44,
   "metadata": {
    "scrolled": true
   },
   "outputs": [
    {
     "data": {
      "text/html": [
       "<div>\n",
       "<style scoped>\n",
       "    .dataframe tbody tr th:only-of-type {\n",
       "        vertical-align: middle;\n",
       "    }\n",
       "\n",
       "    .dataframe tbody tr th {\n",
       "        vertical-align: top;\n",
       "    }\n",
       "\n",
       "    .dataframe thead th {\n",
       "        text-align: right;\n",
       "    }\n",
       "</style>\n",
       "<table border=\"1\" class=\"dataframe\">\n",
       "  <thead>\n",
       "    <tr style=\"text-align: right;\">\n",
       "      <th></th>\n",
       "      <th>id</th>\n",
       "      <th>user_id</th>\n",
       "      <th>call_date</th>\n",
       "      <th>duration</th>\n",
       "      <th>month</th>\n",
       "    </tr>\n",
       "  </thead>\n",
       "  <tbody>\n",
       "    <tr>\n",
       "      <th>0</th>\n",
       "      <td>1000_93</td>\n",
       "      <td>1000</td>\n",
       "      <td>2018-12-27</td>\n",
       "      <td>8.52</td>\n",
       "      <td>2018-12</td>\n",
       "    </tr>\n",
       "    <tr>\n",
       "      <th>1</th>\n",
       "      <td>1000_145</td>\n",
       "      <td>1000</td>\n",
       "      <td>2018-12-27</td>\n",
       "      <td>13.66</td>\n",
       "      <td>2018-12</td>\n",
       "    </tr>\n",
       "    <tr>\n",
       "      <th>2</th>\n",
       "      <td>1000_247</td>\n",
       "      <td>1000</td>\n",
       "      <td>2018-12-27</td>\n",
       "      <td>14.48</td>\n",
       "      <td>2018-12</td>\n",
       "    </tr>\n",
       "    <tr>\n",
       "      <th>3</th>\n",
       "      <td>1000_309</td>\n",
       "      <td>1000</td>\n",
       "      <td>2018-12-28</td>\n",
       "      <td>5.76</td>\n",
       "      <td>2018-12</td>\n",
       "    </tr>\n",
       "    <tr>\n",
       "      <th>4</th>\n",
       "      <td>1000_380</td>\n",
       "      <td>1000</td>\n",
       "      <td>2018-12-30</td>\n",
       "      <td>4.22</td>\n",
       "      <td>2018-12</td>\n",
       "    </tr>\n",
       "  </tbody>\n",
       "</table>\n",
       "</div>"
      ],
      "text/plain": [
       "         id  user_id  call_date  duration    month\n",
       "0   1000_93     1000 2018-12-27      8.52  2018-12\n",
       "1  1000_145     1000 2018-12-27     13.66  2018-12\n",
       "2  1000_247     1000 2018-12-27     14.48  2018-12\n",
       "3  1000_309     1000 2018-12-28      5.76  2018-12\n",
       "4  1000_380     1000 2018-12-30      4.22  2018-12"
      ]
     },
     "execution_count": 44,
     "metadata": {},
     "output_type": "execute_result"
    }
   ],
   "source": [
    "df_calls['month'] = to_month(df_calls, 'call_date')\n",
    "df_calls.head()"
   ]
  },
  {
   "cell_type": "code",
   "execution_count": 45,
   "metadata": {},
   "outputs": [
    {
     "data": {
      "text/html": [
       "<div>\n",
       "<style scoped>\n",
       "    .dataframe tbody tr th:only-of-type {\n",
       "        vertical-align: middle;\n",
       "    }\n",
       "\n",
       "    .dataframe tbody tr th {\n",
       "        vertical-align: top;\n",
       "    }\n",
       "\n",
       "    .dataframe thead th {\n",
       "        text-align: right;\n",
       "    }\n",
       "</style>\n",
       "<table border=\"1\" class=\"dataframe\">\n",
       "  <thead>\n",
       "    <tr style=\"text-align: right;\">\n",
       "      <th></th>\n",
       "      <th>id</th>\n",
       "      <th>user_id</th>\n",
       "      <th>call_date</th>\n",
       "      <th>duration</th>\n",
       "      <th>month</th>\n",
       "    </tr>\n",
       "  </thead>\n",
       "  <tbody>\n",
       "    <tr>\n",
       "      <th>0</th>\n",
       "      <td>1000_93</td>\n",
       "      <td>1000</td>\n",
       "      <td>2018-12-27</td>\n",
       "      <td>9</td>\n",
       "      <td>2018-12</td>\n",
       "    </tr>\n",
       "    <tr>\n",
       "      <th>1</th>\n",
       "      <td>1000_145</td>\n",
       "      <td>1000</td>\n",
       "      <td>2018-12-27</td>\n",
       "      <td>14</td>\n",
       "      <td>2018-12</td>\n",
       "    </tr>\n",
       "    <tr>\n",
       "      <th>2</th>\n",
       "      <td>1000_247</td>\n",
       "      <td>1000</td>\n",
       "      <td>2018-12-27</td>\n",
       "      <td>15</td>\n",
       "      <td>2018-12</td>\n",
       "    </tr>\n",
       "    <tr>\n",
       "      <th>3</th>\n",
       "      <td>1000_309</td>\n",
       "      <td>1000</td>\n",
       "      <td>2018-12-28</td>\n",
       "      <td>6</td>\n",
       "      <td>2018-12</td>\n",
       "    </tr>\n",
       "    <tr>\n",
       "      <th>4</th>\n",
       "      <td>1000_380</td>\n",
       "      <td>1000</td>\n",
       "      <td>2018-12-30</td>\n",
       "      <td>5</td>\n",
       "      <td>2018-12</td>\n",
       "    </tr>\n",
       "  </tbody>\n",
       "</table>\n",
       "</div>"
      ],
      "text/plain": [
       "         id  user_id  call_date  duration    month\n",
       "0   1000_93     1000 2018-12-27         9  2018-12\n",
       "1  1000_145     1000 2018-12-27        14  2018-12\n",
       "2  1000_247     1000 2018-12-27        15  2018-12\n",
       "3  1000_309     1000 2018-12-28         6  2018-12\n",
       "4  1000_380     1000 2018-12-30         5  2018-12"
      ]
     },
     "execution_count": 45,
     "metadata": {},
     "output_type": "execute_result"
    }
   ],
   "source": [
    "# Pembulatan ke atas untuk kolom duration call\n",
    "df_calls['duration'] = np.ceil(df_calls['duration']).astype('int16')\n",
    "df_calls.head()"
   ]
  },
  {
   "cell_type": "code",
   "execution_count": 46,
   "metadata": {},
   "outputs": [
    {
     "data": {
      "text/html": [
       "<div>\n",
       "<style scoped>\n",
       "    .dataframe tbody tr th:only-of-type {\n",
       "        vertical-align: middle;\n",
       "    }\n",
       "\n",
       "    .dataframe tbody tr th {\n",
       "        vertical-align: top;\n",
       "    }\n",
       "\n",
       "    .dataframe thead th {\n",
       "        text-align: right;\n",
       "    }\n",
       "</style>\n",
       "<table border=\"1\" class=\"dataframe\">\n",
       "  <thead>\n",
       "    <tr style=\"text-align: right;\">\n",
       "      <th></th>\n",
       "      <th>id</th>\n",
       "      <th>user_id</th>\n",
       "      <th>message_date</th>\n",
       "      <th>month</th>\n",
       "    </tr>\n",
       "  </thead>\n",
       "  <tbody>\n",
       "    <tr>\n",
       "      <th>0</th>\n",
       "      <td>1000_125</td>\n",
       "      <td>1000</td>\n",
       "      <td>2018-12-27</td>\n",
       "      <td>2018-12</td>\n",
       "    </tr>\n",
       "    <tr>\n",
       "      <th>1</th>\n",
       "      <td>1000_160</td>\n",
       "      <td>1000</td>\n",
       "      <td>2018-12-31</td>\n",
       "      <td>2018-12</td>\n",
       "    </tr>\n",
       "    <tr>\n",
       "      <th>2</th>\n",
       "      <td>1000_223</td>\n",
       "      <td>1000</td>\n",
       "      <td>2018-12-31</td>\n",
       "      <td>2018-12</td>\n",
       "    </tr>\n",
       "    <tr>\n",
       "      <th>3</th>\n",
       "      <td>1000_251</td>\n",
       "      <td>1000</td>\n",
       "      <td>2018-12-27</td>\n",
       "      <td>2018-12</td>\n",
       "    </tr>\n",
       "    <tr>\n",
       "      <th>4</th>\n",
       "      <td>1000_255</td>\n",
       "      <td>1000</td>\n",
       "      <td>2018-12-26</td>\n",
       "      <td>2018-12</td>\n",
       "    </tr>\n",
       "  </tbody>\n",
       "</table>\n",
       "</div>"
      ],
      "text/plain": [
       "         id  user_id message_date    month\n",
       "0  1000_125     1000   2018-12-27  2018-12\n",
       "1  1000_160     1000   2018-12-31  2018-12\n",
       "2  1000_223     1000   2018-12-31  2018-12\n",
       "3  1000_251     1000   2018-12-27  2018-12\n",
       "4  1000_255     1000   2018-12-26  2018-12"
      ]
     },
     "execution_count": 46,
     "metadata": {},
     "output_type": "execute_result"
    }
   ],
   "source": [
    "df_msg['month'] = to_month(df_msg, 'message_date')\n",
    "df_msg.head()"
   ]
  },
  {
   "cell_type": "code",
   "execution_count": 47,
   "metadata": {},
   "outputs": [
    {
     "data": {
      "text/html": [
       "<div>\n",
       "<style scoped>\n",
       "    .dataframe tbody tr th:only-of-type {\n",
       "        vertical-align: middle;\n",
       "    }\n",
       "\n",
       "    .dataframe tbody tr th {\n",
       "        vertical-align: top;\n",
       "    }\n",
       "\n",
       "    .dataframe thead th {\n",
       "        text-align: right;\n",
       "    }\n",
       "</style>\n",
       "<table border=\"1\" class=\"dataframe\">\n",
       "  <thead>\n",
       "    <tr style=\"text-align: right;\">\n",
       "      <th></th>\n",
       "      <th>id</th>\n",
       "      <th>user_id</th>\n",
       "      <th>session_date</th>\n",
       "      <th>mb_used</th>\n",
       "      <th>month</th>\n",
       "    </tr>\n",
       "  </thead>\n",
       "  <tbody>\n",
       "    <tr>\n",
       "      <th>0</th>\n",
       "      <td>1000_13</td>\n",
       "      <td>1000</td>\n",
       "      <td>2018-12-29</td>\n",
       "      <td>89.86</td>\n",
       "      <td>2018-12</td>\n",
       "    </tr>\n",
       "    <tr>\n",
       "      <th>1</th>\n",
       "      <td>1000_204</td>\n",
       "      <td>1000</td>\n",
       "      <td>2018-12-31</td>\n",
       "      <td>0.00</td>\n",
       "      <td>2018-12</td>\n",
       "    </tr>\n",
       "    <tr>\n",
       "      <th>2</th>\n",
       "      <td>1000_379</td>\n",
       "      <td>1000</td>\n",
       "      <td>2018-12-28</td>\n",
       "      <td>660.40</td>\n",
       "      <td>2018-12</td>\n",
       "    </tr>\n",
       "    <tr>\n",
       "      <th>3</th>\n",
       "      <td>1000_413</td>\n",
       "      <td>1000</td>\n",
       "      <td>2018-12-26</td>\n",
       "      <td>270.99</td>\n",
       "      <td>2018-12</td>\n",
       "    </tr>\n",
       "    <tr>\n",
       "      <th>4</th>\n",
       "      <td>1000_442</td>\n",
       "      <td>1000</td>\n",
       "      <td>2018-12-27</td>\n",
       "      <td>880.22</td>\n",
       "      <td>2018-12</td>\n",
       "    </tr>\n",
       "  </tbody>\n",
       "</table>\n",
       "</div>"
      ],
      "text/plain": [
       "         id  user_id session_date  mb_used    month\n",
       "0   1000_13     1000   2018-12-29    89.86  2018-12\n",
       "1  1000_204     1000   2018-12-31     0.00  2018-12\n",
       "2  1000_379     1000   2018-12-28   660.40  2018-12\n",
       "3  1000_413     1000   2018-12-26   270.99  2018-12\n",
       "4  1000_442     1000   2018-12-27   880.22  2018-12"
      ]
     },
     "execution_count": 47,
     "metadata": {},
     "output_type": "execute_result"
    }
   ],
   "source": [
    "# Bikin kolom year-month di table internet\n",
    "df_internet['month'] = to_month(df_internet, 'session_date')\n",
    "df_internet.head()"
   ]
  },
  {
   "cell_type": "code",
   "execution_count": 48,
   "metadata": {},
   "outputs": [
    {
     "data": {
      "text/plain": [
       "104825"
      ]
     },
     "execution_count": 48,
     "metadata": {},
     "output_type": "execute_result"
    }
   ],
   "source": [
    "df_internet['month'].value_counts().sum()"
   ]
  },
  {
   "cell_type": "code",
   "execution_count": 49,
   "metadata": {},
   "outputs": [
    {
     "data": {
      "text/plain": [
       "New York-Newark-Jersey City, NY-NJ-PA MSA          80\n",
       "Los Angeles-Long Beach-Anaheim, CA MSA             29\n",
       "Dallas-Fort Worth-Arlington, TX MSA                21\n",
       "Chicago-Naperville-Elgin, IL-IN-WI MSA             19\n",
       "Philadelphia-Camden-Wilmington, PA-NJ-DE-MD MSA    17\n",
       "                                                   ..\n",
       "El Paso, TX MSA                                     1\n",
       "Jacksonville, FL MSA                                1\n",
       "Greensboro-High Point, NC MSA                       1\n",
       "Stockton, CA MSA                                    1\n",
       "Albany-Schenectady-Troy, NY MSA                     1\n",
       "Name: city, Length: 73, dtype: int64"
      ]
     },
     "execution_count": 49,
     "metadata": {},
     "output_type": "execute_result"
    }
   ],
   "source": [
    "# Cek data city di table users\n",
    "df_users['city'].value_counts()"
   ]
  },
  {
   "cell_type": "code",
   "execution_count": 50,
   "metadata": {},
   "outputs": [
    {
     "data": {
      "text/html": [
       "<div>\n",
       "<style scoped>\n",
       "    .dataframe tbody tr th:only-of-type {\n",
       "        vertical-align: middle;\n",
       "    }\n",
       "\n",
       "    .dataframe tbody tr th {\n",
       "        vertical-align: top;\n",
       "    }\n",
       "\n",
       "    .dataframe thead th {\n",
       "        text-align: right;\n",
       "    }\n",
       "</style>\n",
       "<table border=\"1\" class=\"dataframe\">\n",
       "  <thead>\n",
       "    <tr style=\"text-align: right;\">\n",
       "      <th></th>\n",
       "      <th>user_id</th>\n",
       "      <th>first_name</th>\n",
       "      <th>last_name</th>\n",
       "      <th>age</th>\n",
       "      <th>city</th>\n",
       "      <th>reg_date</th>\n",
       "      <th>plan</th>\n",
       "      <th>churn_date</th>\n",
       "      <th>city_code</th>\n",
       "    </tr>\n",
       "  </thead>\n",
       "  <tbody>\n",
       "    <tr>\n",
       "      <th>0</th>\n",
       "      <td>1000</td>\n",
       "      <td>Anamaria</td>\n",
       "      <td>Bauer</td>\n",
       "      <td>45</td>\n",
       "      <td>Atlanta-Sandy Springs-Roswell, GA MSA</td>\n",
       "      <td>2018-12-24</td>\n",
       "      <td>ultimate</td>\n",
       "      <td>NaN</td>\n",
       "      <td>GA</td>\n",
       "    </tr>\n",
       "    <tr>\n",
       "      <th>1</th>\n",
       "      <td>1001</td>\n",
       "      <td>Mickey</td>\n",
       "      <td>Wilkerson</td>\n",
       "      <td>28</td>\n",
       "      <td>Seattle-Tacoma-Bellevue, WA MSA</td>\n",
       "      <td>2018-08-13</td>\n",
       "      <td>surf</td>\n",
       "      <td>NaN</td>\n",
       "      <td>WA</td>\n",
       "    </tr>\n",
       "    <tr>\n",
       "      <th>2</th>\n",
       "      <td>1002</td>\n",
       "      <td>Carlee</td>\n",
       "      <td>Hoffman</td>\n",
       "      <td>36</td>\n",
       "      <td>Las Vegas-Henderson-Paradise, NV MSA</td>\n",
       "      <td>2018-10-21</td>\n",
       "      <td>surf</td>\n",
       "      <td>NaN</td>\n",
       "      <td>NV</td>\n",
       "    </tr>\n",
       "    <tr>\n",
       "      <th>3</th>\n",
       "      <td>1003</td>\n",
       "      <td>Reynaldo</td>\n",
       "      <td>Jenkins</td>\n",
       "      <td>52</td>\n",
       "      <td>Tulsa, OK MSA</td>\n",
       "      <td>2018-01-28</td>\n",
       "      <td>surf</td>\n",
       "      <td>NaN</td>\n",
       "      <td>OK</td>\n",
       "    </tr>\n",
       "    <tr>\n",
       "      <th>4</th>\n",
       "      <td>1004</td>\n",
       "      <td>Leonila</td>\n",
       "      <td>Thompson</td>\n",
       "      <td>40</td>\n",
       "      <td>Seattle-Tacoma-Bellevue, WA MSA</td>\n",
       "      <td>2018-05-23</td>\n",
       "      <td>surf</td>\n",
       "      <td>NaN</td>\n",
       "      <td>WA</td>\n",
       "    </tr>\n",
       "  </tbody>\n",
       "</table>\n",
       "</div>"
      ],
      "text/plain": [
       "   user_id first_name  last_name  age                                   city  \\\n",
       "0     1000   Anamaria      Bauer   45  Atlanta-Sandy Springs-Roswell, GA MSA   \n",
       "1     1001     Mickey  Wilkerson   28        Seattle-Tacoma-Bellevue, WA MSA   \n",
       "2     1002     Carlee    Hoffman   36   Las Vegas-Henderson-Paradise, NV MSA   \n",
       "3     1003   Reynaldo    Jenkins   52                          Tulsa, OK MSA   \n",
       "4     1004    Leonila   Thompson   40        Seattle-Tacoma-Bellevue, WA MSA   \n",
       "\n",
       "    reg_date      plan churn_date city_code  \n",
       "0 2018-12-24  ultimate        NaN        GA  \n",
       "1 2018-08-13      surf        NaN        WA  \n",
       "2 2018-10-21      surf        NaN        NV  \n",
       "3 2018-01-28      surf        NaN        OK  \n",
       "4 2018-05-23      surf        NaN        WA  "
      ]
     },
     "execution_count": 50,
     "metadata": {},
     "output_type": "execute_result"
    }
   ],
   "source": [
    "# Bersihkan data city di table users\n",
    "df_users['city_code'] = df_users['city'].str.split(', ').str[1]\n",
    "df_users['city_code'] = df_users['city_code'].str.replace(' MSA', '')\n",
    "df_users.head()"
   ]
  },
  {
   "cell_type": "code",
   "execution_count": 51,
   "metadata": {},
   "outputs": [
    {
     "data": {
      "text/plain": [
       "array(['GA', 'WA', 'NV', 'OK', 'TX', 'CA', 'MI', 'FL', 'OH', 'IL-IN-WI',\n",
       "       'TN', 'NY-NJ-PA', 'PA', 'DC-VA-MD-WV', 'IN', 'NE-IA',\n",
       "       'PA-NJ-DE-MD', 'AL', 'NC-SC', 'CO', 'NM', 'MA-NH', 'AZ', 'OR-WA',\n",
       "       'OH-KY-IN', 'SC', 'NY', 'TN-MS-AR', 'KY-IN', 'RI-MA', 'UT', 'HI',\n",
       "       'CT', 'LA', 'VA-NC', 'MD', 'WI', 'VA', 'MO-IL', 'MN-WI', 'MO-KS',\n",
       "       'NC'], dtype=object)"
      ]
     },
     "execution_count": 51,
     "metadata": {},
     "output_type": "execute_result"
    }
   ],
   "source": [
    "df_users['city_code'].unique()"
   ]
  },
  {
   "cell_type": "code",
   "execution_count": 52,
   "metadata": {},
   "outputs": [
    {
     "data": {
      "text/html": [
       "<div>\n",
       "<style scoped>\n",
       "    .dataframe tbody tr th:only-of-type {\n",
       "        vertical-align: middle;\n",
       "    }\n",
       "\n",
       "    .dataframe tbody tr th {\n",
       "        vertical-align: top;\n",
       "    }\n",
       "\n",
       "    .dataframe thead th {\n",
       "        text-align: right;\n",
       "    }\n",
       "</style>\n",
       "<table border=\"1\" class=\"dataframe\">\n",
       "  <thead>\n",
       "    <tr style=\"text-align: right;\">\n",
       "      <th></th>\n",
       "      <th>user_id</th>\n",
       "      <th>first_name</th>\n",
       "      <th>last_name</th>\n",
       "      <th>age</th>\n",
       "      <th>city</th>\n",
       "      <th>reg_date</th>\n",
       "      <th>plan</th>\n",
       "      <th>churn_date</th>\n",
       "      <th>city_code</th>\n",
       "      <th>is_nynj</th>\n",
       "    </tr>\n",
       "  </thead>\n",
       "  <tbody>\n",
       "    <tr>\n",
       "      <th>111</th>\n",
       "      <td>1111</td>\n",
       "      <td>Booker</td>\n",
       "      <td>Hahn</td>\n",
       "      <td>75</td>\n",
       "      <td>Urban Honolulu, HI MSA</td>\n",
       "      <td>2018-09-17</td>\n",
       "      <td>surf</td>\n",
       "      <td>NaN</td>\n",
       "      <td>HI</td>\n",
       "      <td>0</td>\n",
       "    </tr>\n",
       "    <tr>\n",
       "      <th>121</th>\n",
       "      <td>1121</td>\n",
       "      <td>Kathaleen</td>\n",
       "      <td>Albert</td>\n",
       "      <td>34</td>\n",
       "      <td>Miami-Fort Lauderdale-West Palm Beach, FL MSA</td>\n",
       "      <td>2018-03-13</td>\n",
       "      <td>surf</td>\n",
       "      <td>NaN</td>\n",
       "      <td>FL</td>\n",
       "      <td>0</td>\n",
       "    </tr>\n",
       "    <tr>\n",
       "      <th>421</th>\n",
       "      <td>1421</td>\n",
       "      <td>Zane</td>\n",
       "      <td>Hobbs</td>\n",
       "      <td>26</td>\n",
       "      <td>Phoenix-Mesa-Chandler, AZ MSA</td>\n",
       "      <td>2018-05-18</td>\n",
       "      <td>surf</td>\n",
       "      <td>NaN</td>\n",
       "      <td>AZ</td>\n",
       "      <td>0</td>\n",
       "    </tr>\n",
       "    <tr>\n",
       "      <th>66</th>\n",
       "      <td>1066</td>\n",
       "      <td>Ariel</td>\n",
       "      <td>Woods</td>\n",
       "      <td>61</td>\n",
       "      <td>Boston-Cambridge-Newton, MA-NH MSA</td>\n",
       "      <td>2018-03-08</td>\n",
       "      <td>surf</td>\n",
       "      <td>NaN</td>\n",
       "      <td>MA-NH</td>\n",
       "      <td>0</td>\n",
       "    </tr>\n",
       "    <tr>\n",
       "      <th>113</th>\n",
       "      <td>1113</td>\n",
       "      <td>Spencer</td>\n",
       "      <td>Powers</td>\n",
       "      <td>27</td>\n",
       "      <td>New York-Newark-Jersey City, NY-NJ-PA MSA</td>\n",
       "      <td>2018-06-04</td>\n",
       "      <td>ultimate</td>\n",
       "      <td>NaN</td>\n",
       "      <td>NY-NJ-PA</td>\n",
       "      <td>1</td>\n",
       "    </tr>\n",
       "    <tr>\n",
       "      <th>461</th>\n",
       "      <td>1461</td>\n",
       "      <td>Rupert</td>\n",
       "      <td>Santana</td>\n",
       "      <td>54</td>\n",
       "      <td>Pittsburgh, PA MSA</td>\n",
       "      <td>2018-09-14</td>\n",
       "      <td>surf</td>\n",
       "      <td>NaN</td>\n",
       "      <td>PA</td>\n",
       "      <td>0</td>\n",
       "    </tr>\n",
       "    <tr>\n",
       "      <th>154</th>\n",
       "      <td>1154</td>\n",
       "      <td>Humberto</td>\n",
       "      <td>Pruitt</td>\n",
       "      <td>53</td>\n",
       "      <td>Nashville-Davidson–Murfreesboro–Franklin, TN MSA</td>\n",
       "      <td>2018-07-18</td>\n",
       "      <td>ultimate</td>\n",
       "      <td>NaN</td>\n",
       "      <td>TN</td>\n",
       "      <td>0</td>\n",
       "    </tr>\n",
       "    <tr>\n",
       "      <th>214</th>\n",
       "      <td>1214</td>\n",
       "      <td>Emil</td>\n",
       "      <td>Robles</td>\n",
       "      <td>34</td>\n",
       "      <td>San Francisco-Oakland-Berkeley, CA MSA</td>\n",
       "      <td>2018-01-01</td>\n",
       "      <td>ultimate</td>\n",
       "      <td>NaN</td>\n",
       "      <td>CA</td>\n",
       "      <td>0</td>\n",
       "    </tr>\n",
       "    <tr>\n",
       "      <th>418</th>\n",
       "      <td>1418</td>\n",
       "      <td>Hal</td>\n",
       "      <td>Barnes</td>\n",
       "      <td>40</td>\n",
       "      <td>New York-Newark-Jersey City, NY-NJ-PA MSA</td>\n",
       "      <td>2018-01-19</td>\n",
       "      <td>surf</td>\n",
       "      <td>NaN</td>\n",
       "      <td>NY-NJ-PA</td>\n",
       "      <td>1</td>\n",
       "    </tr>\n",
       "    <tr>\n",
       "      <th>313</th>\n",
       "      <td>1313</td>\n",
       "      <td>Antoine</td>\n",
       "      <td>Baker</td>\n",
       "      <td>49</td>\n",
       "      <td>San Francisco-Oakland-Berkeley, CA MSA</td>\n",
       "      <td>2018-05-24</td>\n",
       "      <td>surf</td>\n",
       "      <td>NaN</td>\n",
       "      <td>CA</td>\n",
       "      <td>0</td>\n",
       "    </tr>\n",
       "  </tbody>\n",
       "</table>\n",
       "</div>"
      ],
      "text/plain": [
       "     user_id first_name last_name  age  \\\n",
       "111     1111     Booker      Hahn   75   \n",
       "121     1121  Kathaleen    Albert   34   \n",
       "421     1421       Zane     Hobbs   26   \n",
       "66      1066      Ariel     Woods   61   \n",
       "113     1113    Spencer    Powers   27   \n",
       "461     1461     Rupert   Santana   54   \n",
       "154     1154   Humberto    Pruitt   53   \n",
       "214     1214       Emil    Robles   34   \n",
       "418     1418        Hal    Barnes   40   \n",
       "313     1313    Antoine     Baker   49   \n",
       "\n",
       "                                                 city   reg_date      plan  \\\n",
       "111                            Urban Honolulu, HI MSA 2018-09-17      surf   \n",
       "121     Miami-Fort Lauderdale-West Palm Beach, FL MSA 2018-03-13      surf   \n",
       "421                     Phoenix-Mesa-Chandler, AZ MSA 2018-05-18      surf   \n",
       "66                 Boston-Cambridge-Newton, MA-NH MSA 2018-03-08      surf   \n",
       "113         New York-Newark-Jersey City, NY-NJ-PA MSA 2018-06-04  ultimate   \n",
       "461                                Pittsburgh, PA MSA 2018-09-14      surf   \n",
       "154  Nashville-Davidson–Murfreesboro–Franklin, TN MSA 2018-07-18  ultimate   \n",
       "214            San Francisco-Oakland-Berkeley, CA MSA 2018-01-01  ultimate   \n",
       "418         New York-Newark-Jersey City, NY-NJ-PA MSA 2018-01-19      surf   \n",
       "313            San Francisco-Oakland-Berkeley, CA MSA 2018-05-24      surf   \n",
       "\n",
       "    churn_date city_code  is_nynj  \n",
       "111        NaN        HI        0  \n",
       "121        NaN        FL        0  \n",
       "421        NaN        AZ        0  \n",
       "66         NaN     MA-NH        0  \n",
       "113        NaN  NY-NJ-PA        1  \n",
       "461        NaN        PA        0  \n",
       "154        NaN        TN        0  \n",
       "214        NaN        CA        0  \n",
       "418        NaN  NY-NJ-PA        1  \n",
       "313        NaN        CA        0  "
      ]
     },
     "execution_count": 52,
     "metadata": {},
     "output_type": "execute_result"
    }
   ],
   "source": [
    "df_users['is_nynj'] = df_users['city_code'].str.contains('NY-NJ',regex= True) \n",
    "df_users['is_nynj'] = df_users['is_nynj'].replace(True, 1).replace(False, 0)\n",
    "df_users.sample(10)"
   ]
  },
  {
   "cell_type": "code",
   "execution_count": 53,
   "metadata": {},
   "outputs": [
    {
     "name": "stdout",
     "output_type": "stream",
     "text": [
      "<class 'pandas.core.frame.DataFrame'>\n",
      "RangeIndex: 500 entries, 0 to 499\n",
      "Data columns (total 10 columns):\n",
      " #   Column      Non-Null Count  Dtype         \n",
      "---  ------      --------------  -----         \n",
      " 0   user_id     500 non-null    int64         \n",
      " 1   first_name  500 non-null    object        \n",
      " 2   last_name   500 non-null    object        \n",
      " 3   age         500 non-null    int64         \n",
      " 4   city        500 non-null    object        \n",
      " 5   reg_date    500 non-null    datetime64[ns]\n",
      " 6   plan        500 non-null    object        \n",
      " 7   churn_date  34 non-null     object        \n",
      " 8   city_code   500 non-null    object        \n",
      " 9   is_nynj     500 non-null    int64         \n",
      "dtypes: datetime64[ns](1), int64(3), object(6)\n",
      "memory usage: 39.2+ KB\n"
     ]
    }
   ],
   "source": [
    "df_users.info()"
   ]
  },
  {
   "cell_type": "code",
   "execution_count": 54,
   "metadata": {
    "scrolled": true
   },
   "outputs": [
    {
     "data": {
      "text/html": [
       "<div>\n",
       "<style scoped>\n",
       "    .dataframe tbody tr th:only-of-type {\n",
       "        vertical-align: middle;\n",
       "    }\n",
       "\n",
       "    .dataframe tbody tr th {\n",
       "        vertical-align: top;\n",
       "    }\n",
       "\n",
       "    .dataframe thead th {\n",
       "        text-align: right;\n",
       "    }\n",
       "</style>\n",
       "<table border=\"1\" class=\"dataframe\">\n",
       "  <thead>\n",
       "    <tr style=\"text-align: right;\">\n",
       "      <th></th>\n",
       "      <th>messages_included</th>\n",
       "      <th>minutes_included</th>\n",
       "      <th>usd_monthly_pay</th>\n",
       "      <th>usd_per_gb</th>\n",
       "      <th>usd_per_message</th>\n",
       "      <th>usd_per_minute</th>\n",
       "      <th>plan_name</th>\n",
       "      <th>gb_per_month_included</th>\n",
       "    </tr>\n",
       "  </thead>\n",
       "  <tbody>\n",
       "    <tr>\n",
       "      <th>0</th>\n",
       "      <td>50</td>\n",
       "      <td>500</td>\n",
       "      <td>20</td>\n",
       "      <td>10</td>\n",
       "      <td>0.03</td>\n",
       "      <td>0.03</td>\n",
       "      <td>surf</td>\n",
       "      <td>15.0</td>\n",
       "    </tr>\n",
       "    <tr>\n",
       "      <th>1</th>\n",
       "      <td>1000</td>\n",
       "      <td>3000</td>\n",
       "      <td>70</td>\n",
       "      <td>7</td>\n",
       "      <td>0.01</td>\n",
       "      <td>0.01</td>\n",
       "      <td>ultimate</td>\n",
       "      <td>30.0</td>\n",
       "    </tr>\n",
       "  </tbody>\n",
       "</table>\n",
       "</div>"
      ],
      "text/plain": [
       "   messages_included  minutes_included  usd_monthly_pay  usd_per_gb  \\\n",
       "0                 50               500               20          10   \n",
       "1               1000              3000               70           7   \n",
       "\n",
       "   usd_per_message  usd_per_minute plan_name  gb_per_month_included  \n",
       "0             0.03            0.03      surf                   15.0  \n",
       "1             0.01            0.01  ultimate                   30.0  "
      ]
     },
     "execution_count": 54,
     "metadata": {},
     "output_type": "execute_result"
    }
   ],
   "source": [
    "# Ubah mb per bulan menjadi gb per bulan\n",
    "df_plans['gb_per_month_included'] = np.ceil (df_plans['mb_per_month_included'] /1025)\n",
    "# Hapus kolom yang tidak dibutuhkan\n",
    "df_plans.drop('mb_per_month_included', axis=1, inplace=True)\n",
    "df_plans.head()"
   ]
  },
  {
   "cell_type": "markdown",
   "metadata": {},
   "source": [
    "**DESCRIPTION**\n",
    "\n",
    "Berikut tahapan pada memperkaya kualitas data \n",
    "\n",
    "* Penanganan data Panggilan dan Penggunaan Internet dengan mengidentifikasi dan menyajikan persentase panggilan dan penggunaan internet dengan durasi 0\n",
    "\n",
    "* Pengelompokkan Data Berdasarkan Bulan dengan menambahkan kolom 'month' dengan tahun-bulan dari tiap data panggilan, pesan, dan penggunaan internet. \n",
    "\n",
    "* Pembulatan Durasi Panggilan ke atas untukmemperbaiki representasi data yang lebih baik.\n",
    "\n",
    "* Menambahkan kolom 'month' untuk pesan, sehingga dapat dihitung dan dianalisis secara bulanan.\n",
    "\n",
    "* Pembersihan Data Kota Pengguna dengan mengambil informasi kode kota dari data city dan menambahkan kolom baru 'is_nynj' yang mengidentifikasi apakah pengguna berasal dari area NY-NJ.\n",
    "\n",
    "* Mengubah satuan pengukuran dari MB menjadi GB untuk data plans, dan membersihkan kolom yang tidak diperlukan."
   ]
  },
  {
   "cell_type": "markdown",
   "metadata": {},
   "source": [
    "<div class=\"alert alert-success\">\n",
    "<b>Code Reviewers's comment v.1</b> <a class=\"tocSkip\"></a>\n",
    "\n",
    "Bagus, code yang dijalankan sudah sesuai dengan instruksi dari project.\n",
    "\n",
    "</div>"
   ]
  },
  {
   "cell_type": "markdown",
   "metadata": {},
   "source": [
    "# 3. Mempelajari Syarat dan Kondisi Terkait Paket Prabayar <a id='terms_condition'></a>"
   ]
  },
  {
   "cell_type": "markdown",
   "metadata": {},
   "source": [
    "[Sangat penting untuk memahami cara kerja paket, bagaimana pengguna dikenakan biaya berdasarkan paket prabayar yang mereka pilih. Oleh karena itu, kami sarankan Anda menampilkan informasi paket guna memeriksa persyaratannya sekali lagi.]"
   ]
  },
  {
   "cell_type": "markdown",
   "metadata": {},
   "source": [
    "## Tampilkan persyaratan paket prabayar dan pastikan Anda memahaminya <a id='learn_terms'></a>\n",
    "\n",
    "Deskripsi paket prabayar\n",
    "Catatan: Megaline membulatkan detik ke menit dan megabyte ke gigabyte. Untuk panggilan, setiap panggilan individual dibulatkan ke atas: bahkan jika suatu panggilan berlangsung hanya satu detik, panggilan tersebut akan dihitung sebagai satu menit. Untuk traffic web, setiap sesi web individual tidak dibulatkan ke atas. Akan tetapi, total untuk sebulan dibulatkan ke atas. Jika seorang pengguna menghabiskan 1025 megabyte bulan ini, dia pun akan dikenai biaya untuk 2 gigabyte.\n",
    "\n",
    "**Surf**\n",
    " 1.  Biaya bulanan : 20 dollar\n",
    " 2.  500 menit durasi panggilan per bulan, 50 SMS, dan 15 GB data\n",
    " 3.  Setelah melebihi batas paket, akan dikenakan: \n",
    "    - 1 menit: 3 sen\n",
    "    - 1 SMS: 3 sen\n",
    "    - 1 GB data: 10 dollar\n",
    "    \n",
    "**Ultimate**\n",
    "\n",
    " 1. Biaya bulanan: 70 dollar\n",
    " 2. 3000 menit durasi panggilan per bulan, 1000 SMS, dan 30 GB data\n",
    " 3. Setelah melebihi batas paket, akan dikenakan:\n",
    "     - 1 menit: 1 sen\n",
    "     - 1 SMS: 1 sen\n",
    "     - 1 GB data: 7 dollar"
   ]
  },
  {
   "cell_type": "markdown",
   "metadata": {},
   "source": [
    "## Mengagregasi Data per Pengguna <a id='data_aggregate'></a>\n",
    "\n",
    "[Sekarang, karena data yang kita miliki telah bersih, agregasikan data setiap pengguna per periode agar kita hanya memiliki satu catatan per pengguna per periode. Hal ini akan memudahkan analisis lebih lanjut.]"
   ]
  },
  {
   "cell_type": "code",
   "execution_count": 55,
   "metadata": {},
   "outputs": [
    {
     "data": {
      "text/html": [
       "<div>\n",
       "<style scoped>\n",
       "    .dataframe tbody tr th:only-of-type {\n",
       "        vertical-align: middle;\n",
       "    }\n",
       "\n",
       "    .dataframe tbody tr th {\n",
       "        vertical-align: top;\n",
       "    }\n",
       "\n",
       "    .dataframe thead th {\n",
       "        text-align: right;\n",
       "    }\n",
       "</style>\n",
       "<table border=\"1\" class=\"dataframe\">\n",
       "  <thead>\n",
       "    <tr style=\"text-align: right;\">\n",
       "      <th></th>\n",
       "      <th>user_id</th>\n",
       "      <th>month</th>\n",
       "      <th>call_count</th>\n",
       "    </tr>\n",
       "  </thead>\n",
       "  <tbody>\n",
       "    <tr>\n",
       "      <th>0</th>\n",
       "      <td>1000</td>\n",
       "      <td>2018-12</td>\n",
       "      <td>16</td>\n",
       "    </tr>\n",
       "    <tr>\n",
       "      <th>1</th>\n",
       "      <td>1001</td>\n",
       "      <td>2018-08</td>\n",
       "      <td>27</td>\n",
       "    </tr>\n",
       "    <tr>\n",
       "      <th>2</th>\n",
       "      <td>1001</td>\n",
       "      <td>2018-09</td>\n",
       "      <td>49</td>\n",
       "    </tr>\n",
       "    <tr>\n",
       "      <th>3</th>\n",
       "      <td>1001</td>\n",
       "      <td>2018-10</td>\n",
       "      <td>65</td>\n",
       "    </tr>\n",
       "    <tr>\n",
       "      <th>4</th>\n",
       "      <td>1001</td>\n",
       "      <td>2018-11</td>\n",
       "      <td>64</td>\n",
       "    </tr>\n",
       "  </tbody>\n",
       "</table>\n",
       "</div>"
      ],
      "text/plain": [
       "   user_id    month  call_count\n",
       "0     1000  2018-12          16\n",
       "1     1001  2018-08          27\n",
       "2     1001  2018-09          49\n",
       "3     1001  2018-10          65\n",
       "4     1001  2018-11          64"
      ]
     },
     "execution_count": 55,
     "metadata": {},
     "output_type": "execute_result"
    }
   ],
   "source": [
    "# Hitung jumlah panggilan yang dilakukan oleh setiap pengguna per bulan. Simpan hasilnya.\n",
    "call_count_agg = pd.pivot_table(df_calls, index=['user_id', 'month'], values='id', aggfunc='count').reset_index()\n",
    "call_count_agg.rename(columns={'id': 'call_count'}, inplace=True)\n",
    "call_count_agg.head()\n"
   ]
  },
  {
   "cell_type": "code",
   "execution_count": 56,
   "metadata": {},
   "outputs": [
    {
     "data": {
      "text/html": [
       "<div>\n",
       "<style scoped>\n",
       "    .dataframe tbody tr th:only-of-type {\n",
       "        vertical-align: middle;\n",
       "    }\n",
       "\n",
       "    .dataframe tbody tr th {\n",
       "        vertical-align: top;\n",
       "    }\n",
       "\n",
       "    .dataframe thead th {\n",
       "        text-align: right;\n",
       "    }\n",
       "</style>\n",
       "<table border=\"1\" class=\"dataframe\">\n",
       "  <thead>\n",
       "    <tr style=\"text-align: right;\">\n",
       "      <th></th>\n",
       "      <th>user_id</th>\n",
       "      <th>month</th>\n",
       "      <th>duration</th>\n",
       "    </tr>\n",
       "  </thead>\n",
       "  <tbody>\n",
       "    <tr>\n",
       "      <th>0</th>\n",
       "      <td>1000</td>\n",
       "      <td>2018-12</td>\n",
       "      <td>124</td>\n",
       "    </tr>\n",
       "    <tr>\n",
       "      <th>1</th>\n",
       "      <td>1001</td>\n",
       "      <td>2018-08</td>\n",
       "      <td>182</td>\n",
       "    </tr>\n",
       "    <tr>\n",
       "      <th>2</th>\n",
       "      <td>1001</td>\n",
       "      <td>2018-09</td>\n",
       "      <td>315</td>\n",
       "    </tr>\n",
       "    <tr>\n",
       "      <th>3</th>\n",
       "      <td>1001</td>\n",
       "      <td>2018-10</td>\n",
       "      <td>393</td>\n",
       "    </tr>\n",
       "    <tr>\n",
       "      <th>4</th>\n",
       "      <td>1001</td>\n",
       "      <td>2018-11</td>\n",
       "      <td>426</td>\n",
       "    </tr>\n",
       "  </tbody>\n",
       "</table>\n",
       "</div>"
      ],
      "text/plain": [
       "   user_id    month  duration\n",
       "0     1000  2018-12       124\n",
       "1     1001  2018-08       182\n",
       "2     1001  2018-09       315\n",
       "3     1001  2018-10       393\n",
       "4     1001  2018-11       426"
      ]
     },
     "execution_count": 56,
     "metadata": {},
     "output_type": "execute_result"
    }
   ],
   "source": [
    "# Hitung jumlah menit yang dihabiskan oleh setiap pengguna untuk melakukan panggilan per bulan. Simpan hasilnya.\n",
    "call_agg = pd.pivot_table(df_calls, index=['user_id', 'month'], values='duration', aggfunc='sum').reset_index()\n",
    "call_agg.head()"
   ]
  },
  {
   "cell_type": "code",
   "execution_count": 57,
   "metadata": {},
   "outputs": [
    {
     "data": {
      "text/html": [
       "<div>\n",
       "<style scoped>\n",
       "    .dataframe tbody tr th:only-of-type {\n",
       "        vertical-align: middle;\n",
       "    }\n",
       "\n",
       "    .dataframe tbody tr th {\n",
       "        vertical-align: top;\n",
       "    }\n",
       "\n",
       "    .dataframe thead th {\n",
       "        text-align: right;\n",
       "    }\n",
       "</style>\n",
       "<table border=\"1\" class=\"dataframe\">\n",
       "  <thead>\n",
       "    <tr style=\"text-align: right;\">\n",
       "      <th></th>\n",
       "      <th>user_id</th>\n",
       "      <th>month</th>\n",
       "      <th>msg_count</th>\n",
       "    </tr>\n",
       "  </thead>\n",
       "  <tbody>\n",
       "    <tr>\n",
       "      <th>0</th>\n",
       "      <td>1000</td>\n",
       "      <td>2018-12</td>\n",
       "      <td>11</td>\n",
       "    </tr>\n",
       "    <tr>\n",
       "      <th>1</th>\n",
       "      <td>1001</td>\n",
       "      <td>2018-08</td>\n",
       "      <td>30</td>\n",
       "    </tr>\n",
       "    <tr>\n",
       "      <th>2</th>\n",
       "      <td>1001</td>\n",
       "      <td>2018-09</td>\n",
       "      <td>44</td>\n",
       "    </tr>\n",
       "    <tr>\n",
       "      <th>3</th>\n",
       "      <td>1001</td>\n",
       "      <td>2018-10</td>\n",
       "      <td>53</td>\n",
       "    </tr>\n",
       "    <tr>\n",
       "      <th>4</th>\n",
       "      <td>1001</td>\n",
       "      <td>2018-11</td>\n",
       "      <td>36</td>\n",
       "    </tr>\n",
       "  </tbody>\n",
       "</table>\n",
       "</div>"
      ],
      "text/plain": [
       "   user_id    month  msg_count\n",
       "0     1000  2018-12         11\n",
       "1     1001  2018-08         30\n",
       "2     1001  2018-09         44\n",
       "3     1001  2018-10         53\n",
       "4     1001  2018-11         36"
      ]
     },
     "execution_count": 57,
     "metadata": {},
     "output_type": "execute_result"
    }
   ],
   "source": [
    "# Hitung jumlah SMS yang dikirim oleh setiap pengguna per bulan. Simpan hasilnya.\n",
    "msg_agg = pd.pivot_table(df_msg, index=['user_id', 'month'], values='id', aggfunc='count').reset_index()\n",
    "msg_agg.columns = ['user_id', 'month', 'msg_count']\n",
    "msg_agg.head()"
   ]
  },
  {
   "cell_type": "code",
   "execution_count": 58,
   "metadata": {},
   "outputs": [
    {
     "data": {
      "text/html": [
       "<div>\n",
       "<style scoped>\n",
       "    .dataframe tbody tr th:only-of-type {\n",
       "        vertical-align: middle;\n",
       "    }\n",
       "\n",
       "    .dataframe tbody tr th {\n",
       "        vertical-align: top;\n",
       "    }\n",
       "\n",
       "    .dataframe thead th {\n",
       "        text-align: right;\n",
       "    }\n",
       "</style>\n",
       "<table border=\"1\" class=\"dataframe\">\n",
       "  <thead>\n",
       "    <tr style=\"text-align: right;\">\n",
       "      <th></th>\n",
       "      <th>user_id</th>\n",
       "      <th>month</th>\n",
       "      <th>mb_used</th>\n",
       "    </tr>\n",
       "  </thead>\n",
       "  <tbody>\n",
       "    <tr>\n",
       "      <th>0</th>\n",
       "      <td>1000</td>\n",
       "      <td>2018-12</td>\n",
       "      <td>1901.47</td>\n",
       "    </tr>\n",
       "    <tr>\n",
       "      <th>1</th>\n",
       "      <td>1001</td>\n",
       "      <td>2018-08</td>\n",
       "      <td>6919.15</td>\n",
       "    </tr>\n",
       "    <tr>\n",
       "      <th>2</th>\n",
       "      <td>1001</td>\n",
       "      <td>2018-09</td>\n",
       "      <td>13314.82</td>\n",
       "    </tr>\n",
       "    <tr>\n",
       "      <th>3</th>\n",
       "      <td>1001</td>\n",
       "      <td>2018-10</td>\n",
       "      <td>22330.49</td>\n",
       "    </tr>\n",
       "    <tr>\n",
       "      <th>4</th>\n",
       "      <td>1001</td>\n",
       "      <td>2018-11</td>\n",
       "      <td>18504.30</td>\n",
       "    </tr>\n",
       "  </tbody>\n",
       "</table>\n",
       "</div>"
      ],
      "text/plain": [
       "   user_id    month   mb_used\n",
       "0     1000  2018-12   1901.47\n",
       "1     1001  2018-08   6919.15\n",
       "2     1001  2018-09  13314.82\n",
       "3     1001  2018-10  22330.49\n",
       "4     1001  2018-11  18504.30"
      ]
     },
     "execution_count": 58,
     "metadata": {},
     "output_type": "execute_result"
    }
   ],
   "source": [
    "# Hitung volume traffic internet yang digunakan oleh setiap pengguna per bulan. Simpan hasilnya.\n",
    "\n",
    "internet_agg = pd.pivot_table(df_internet, index=['user_id', 'month'], values='mb_used', aggfunc='sum').reset_index()\n",
    "internet_agg.head()"
   ]
  },
  {
   "cell_type": "code",
   "execution_count": 59,
   "metadata": {},
   "outputs": [
    {
     "data": {
      "text/html": [
       "<div>\n",
       "<style scoped>\n",
       "    .dataframe tbody tr th:only-of-type {\n",
       "        vertical-align: middle;\n",
       "    }\n",
       "\n",
       "    .dataframe tbody tr th {\n",
       "        vertical-align: top;\n",
       "    }\n",
       "\n",
       "    .dataframe thead th {\n",
       "        text-align: right;\n",
       "    }\n",
       "</style>\n",
       "<table border=\"1\" class=\"dataframe\">\n",
       "  <thead>\n",
       "    <tr style=\"text-align: right;\">\n",
       "      <th></th>\n",
       "      <th>user_id</th>\n",
       "      <th>month</th>\n",
       "      <th>mb_used</th>\n",
       "      <th>gb_used</th>\n",
       "    </tr>\n",
       "  </thead>\n",
       "  <tbody>\n",
       "    <tr>\n",
       "      <th>0</th>\n",
       "      <td>1000</td>\n",
       "      <td>2018-12</td>\n",
       "      <td>1901.47</td>\n",
       "      <td>2.0</td>\n",
       "    </tr>\n",
       "    <tr>\n",
       "      <th>1</th>\n",
       "      <td>1001</td>\n",
       "      <td>2018-08</td>\n",
       "      <td>6919.15</td>\n",
       "      <td>7.0</td>\n",
       "    </tr>\n",
       "    <tr>\n",
       "      <th>2</th>\n",
       "      <td>1001</td>\n",
       "      <td>2018-09</td>\n",
       "      <td>13314.82</td>\n",
       "      <td>13.0</td>\n",
       "    </tr>\n",
       "    <tr>\n",
       "      <th>3</th>\n",
       "      <td>1001</td>\n",
       "      <td>2018-10</td>\n",
       "      <td>22330.49</td>\n",
       "      <td>22.0</td>\n",
       "    </tr>\n",
       "    <tr>\n",
       "      <th>4</th>\n",
       "      <td>1001</td>\n",
       "      <td>2018-11</td>\n",
       "      <td>18504.30</td>\n",
       "      <td>19.0</td>\n",
       "    </tr>\n",
       "  </tbody>\n",
       "</table>\n",
       "</div>"
      ],
      "text/plain": [
       "   user_id    month   mb_used  gb_used\n",
       "0     1000  2018-12   1901.47      2.0\n",
       "1     1001  2018-08   6919.15      7.0\n",
       "2     1001  2018-09  13314.82     13.0\n",
       "3     1001  2018-10  22330.49     22.0\n",
       "4     1001  2018-11  18504.30     19.0"
      ]
     },
     "execution_count": 59,
     "metadata": {},
     "output_type": "execute_result"
    }
   ],
   "source": [
    "internet_agg['gb_used'] = np.ceil (internet_agg['mb_used'] /1025)\n",
    "internet_agg.head()"
   ]
  },
  {
   "cell_type": "markdown",
   "metadata": {},
   "source": [
    "**DESCRIPTION** \n",
    "\n",
    "Semua data yang telah di Transformasi akan di aggregasi. Pada data calls kita akan menghitung jumlah panggilan dan jumlah menit. Untuk data messages dan internet kita menjumlah pesan yang terkirim serta jumlah traffic internet. Terakhir kita tidak lupa untuk membulatkan data internet menjadi gb. Selanjutnya semua data aggregasi akan digabung menjadi satu data frame"
   ]
  },
  {
   "cell_type": "markdown",
   "metadata": {},
   "source": [
    "<div class=\"alert alert-success\">\n",
    "<b>Code Reviewers's comment v.1</b> <a class=\"tocSkip\"></a>\n",
    "\n",
    "Bagus, code yang dijalankan sudah sesuai dengan instruksi dari project.\n",
    "\n",
    "</div>"
   ]
  },
  {
   "cell_type": "markdown",
   "metadata": {},
   "source": [
    "## Penggabungan Data <a id='data_merge'></a>\n"
   ]
  },
  {
   "cell_type": "markdown",
   "metadata": {},
   "source": [
    "[Satukan data agregat tersebut ke dalam satu DataFrame sehingga satu catatan di dalamnya akan menunjukkan tingkat konsumsi seorang pengguna unik dalam satu bulan tertentu]."
   ]
  },
  {
   "cell_type": "code",
   "execution_count": 60,
   "metadata": {
    "scrolled": true
   },
   "outputs": [
    {
     "data": {
      "text/html": [
       "<div>\n",
       "<style scoped>\n",
       "    .dataframe tbody tr th:only-of-type {\n",
       "        vertical-align: middle;\n",
       "    }\n",
       "\n",
       "    .dataframe tbody tr th {\n",
       "        vertical-align: top;\n",
       "    }\n",
       "\n",
       "    .dataframe thead th {\n",
       "        text-align: right;\n",
       "    }\n",
       "</style>\n",
       "<table border=\"1\" class=\"dataframe\">\n",
       "  <thead>\n",
       "    <tr style=\"text-align: right;\">\n",
       "      <th></th>\n",
       "      <th>user_id</th>\n",
       "      <th>first_name</th>\n",
       "      <th>last_name</th>\n",
       "      <th>age</th>\n",
       "      <th>city</th>\n",
       "      <th>reg_date</th>\n",
       "      <th>plan</th>\n",
       "      <th>churn_date</th>\n",
       "      <th>city_code</th>\n",
       "      <th>is_nynj</th>\n",
       "      <th>messages_included</th>\n",
       "      <th>minutes_included</th>\n",
       "      <th>usd_monthly_pay</th>\n",
       "      <th>usd_per_gb</th>\n",
       "      <th>usd_per_message</th>\n",
       "      <th>usd_per_minute</th>\n",
       "      <th>gb_per_month_included</th>\n",
       "    </tr>\n",
       "  </thead>\n",
       "  <tbody>\n",
       "    <tr>\n",
       "      <th>495</th>\n",
       "      <td>1495</td>\n",
       "      <td>Fidel</td>\n",
       "      <td>Sharpe</td>\n",
       "      <td>67</td>\n",
       "      <td>New York-Newark-Jersey City, NY-NJ-PA MSA</td>\n",
       "      <td>2018-09-04</td>\n",
       "      <td>surf</td>\n",
       "      <td>NaN</td>\n",
       "      <td>NY-NJ-PA</td>\n",
       "      <td>1</td>\n",
       "      <td>50</td>\n",
       "      <td>500</td>\n",
       "      <td>20</td>\n",
       "      <td>10</td>\n",
       "      <td>0.03</td>\n",
       "      <td>0.03</td>\n",
       "      <td>15.0</td>\n",
       "    </tr>\n",
       "    <tr>\n",
       "      <th>496</th>\n",
       "      <td>1496</td>\n",
       "      <td>Ariel</td>\n",
       "      <td>Shepherd</td>\n",
       "      <td>49</td>\n",
       "      <td>New Orleans-Metairie, LA MSA</td>\n",
       "      <td>2018-02-20</td>\n",
       "      <td>surf</td>\n",
       "      <td>NaN</td>\n",
       "      <td>LA</td>\n",
       "      <td>0</td>\n",
       "      <td>50</td>\n",
       "      <td>500</td>\n",
       "      <td>20</td>\n",
       "      <td>10</td>\n",
       "      <td>0.03</td>\n",
       "      <td>0.03</td>\n",
       "      <td>15.0</td>\n",
       "    </tr>\n",
       "    <tr>\n",
       "      <th>497</th>\n",
       "      <td>1497</td>\n",
       "      <td>Donte</td>\n",
       "      <td>Barrera</td>\n",
       "      <td>49</td>\n",
       "      <td>Los Angeles-Long Beach-Anaheim, CA MSA</td>\n",
       "      <td>2018-12-10</td>\n",
       "      <td>ultimate</td>\n",
       "      <td>NaN</td>\n",
       "      <td>CA</td>\n",
       "      <td>0</td>\n",
       "      <td>1000</td>\n",
       "      <td>3000</td>\n",
       "      <td>70</td>\n",
       "      <td>7</td>\n",
       "      <td>0.01</td>\n",
       "      <td>0.01</td>\n",
       "      <td>30.0</td>\n",
       "    </tr>\n",
       "    <tr>\n",
       "      <th>498</th>\n",
       "      <td>1498</td>\n",
       "      <td>Scot</td>\n",
       "      <td>Williamson</td>\n",
       "      <td>51</td>\n",
       "      <td>New York-Newark-Jersey City, NY-NJ-PA MSA</td>\n",
       "      <td>2018-02-04</td>\n",
       "      <td>surf</td>\n",
       "      <td>NaN</td>\n",
       "      <td>NY-NJ-PA</td>\n",
       "      <td>1</td>\n",
       "      <td>50</td>\n",
       "      <td>500</td>\n",
       "      <td>20</td>\n",
       "      <td>10</td>\n",
       "      <td>0.03</td>\n",
       "      <td>0.03</td>\n",
       "      <td>15.0</td>\n",
       "    </tr>\n",
       "    <tr>\n",
       "      <th>499</th>\n",
       "      <td>1499</td>\n",
       "      <td>Shena</td>\n",
       "      <td>Dickson</td>\n",
       "      <td>37</td>\n",
       "      <td>Orlando-Kissimmee-Sanford, FL MSA</td>\n",
       "      <td>2018-05-06</td>\n",
       "      <td>surf</td>\n",
       "      <td>NaN</td>\n",
       "      <td>FL</td>\n",
       "      <td>0</td>\n",
       "      <td>50</td>\n",
       "      <td>500</td>\n",
       "      <td>20</td>\n",
       "      <td>10</td>\n",
       "      <td>0.03</td>\n",
       "      <td>0.03</td>\n",
       "      <td>15.0</td>\n",
       "    </tr>\n",
       "  </tbody>\n",
       "</table>\n",
       "</div>"
      ],
      "text/plain": [
       "     user_id first_name   last_name  age  \\\n",
       "495     1495      Fidel      Sharpe   67   \n",
       "496     1496      Ariel    Shepherd   49   \n",
       "497     1497      Donte     Barrera   49   \n",
       "498     1498       Scot  Williamson   51   \n",
       "499     1499      Shena     Dickson   37   \n",
       "\n",
       "                                          city   reg_date      plan  \\\n",
       "495  New York-Newark-Jersey City, NY-NJ-PA MSA 2018-09-04      surf   \n",
       "496               New Orleans-Metairie, LA MSA 2018-02-20      surf   \n",
       "497     Los Angeles-Long Beach-Anaheim, CA MSA 2018-12-10  ultimate   \n",
       "498  New York-Newark-Jersey City, NY-NJ-PA MSA 2018-02-04      surf   \n",
       "499          Orlando-Kissimmee-Sanford, FL MSA 2018-05-06      surf   \n",
       "\n",
       "    churn_date city_code  is_nynj  messages_included  minutes_included  \\\n",
       "495        NaN  NY-NJ-PA        1                 50               500   \n",
       "496        NaN        LA        0                 50               500   \n",
       "497        NaN        CA        0               1000              3000   \n",
       "498        NaN  NY-NJ-PA        1                 50               500   \n",
       "499        NaN        FL        0                 50               500   \n",
       "\n",
       "     usd_monthly_pay  usd_per_gb  usd_per_message  usd_per_minute  \\\n",
       "495               20          10             0.03            0.03   \n",
       "496               20          10             0.03            0.03   \n",
       "497               70           7             0.01            0.01   \n",
       "498               20          10             0.03            0.03   \n",
       "499               20          10             0.03            0.03   \n",
       "\n",
       "     gb_per_month_included  \n",
       "495                   15.0  \n",
       "496                   15.0  \n",
       "497                   30.0  \n",
       "498                   15.0  \n",
       "499                   15.0  "
      ]
     },
     "execution_count": 60,
     "metadata": {},
     "output_type": "execute_result"
    }
   ],
   "source": [
    "# Tambahkan informasi paket prabayarnya\n",
    "users_plans = df_users.merge(df_plans, how='left', left_on='plan', right_on='plan_name').drop('plan_name', axis=1)\n",
    "users_plans.tail()"
   ]
  },
  {
   "cell_type": "code",
   "execution_count": 61,
   "metadata": {
    "scrolled": false
   },
   "outputs": [
    {
     "data": {
      "text/html": [
       "<div>\n",
       "<style scoped>\n",
       "    .dataframe tbody tr th:only-of-type {\n",
       "        vertical-align: middle;\n",
       "    }\n",
       "\n",
       "    .dataframe tbody tr th {\n",
       "        vertical-align: top;\n",
       "    }\n",
       "\n",
       "    .dataframe thead th {\n",
       "        text-align: right;\n",
       "    }\n",
       "</style>\n",
       "<table border=\"1\" class=\"dataframe\">\n",
       "  <thead>\n",
       "    <tr style=\"text-align: right;\">\n",
       "      <th></th>\n",
       "      <th>user_id</th>\n",
       "      <th>month</th>\n",
       "      <th>duration</th>\n",
       "      <th>mb_used</th>\n",
       "      <th>gb_used</th>\n",
       "      <th>call_count</th>\n",
       "      <th>msg_count</th>\n",
       "      <th>first_name</th>\n",
       "      <th>last_name</th>\n",
       "      <th>age</th>\n",
       "      <th>...</th>\n",
       "      <th>churn_date</th>\n",
       "      <th>city_code</th>\n",
       "      <th>is_nynj</th>\n",
       "      <th>messages_included</th>\n",
       "      <th>minutes_included</th>\n",
       "      <th>usd_monthly_pay</th>\n",
       "      <th>usd_per_gb</th>\n",
       "      <th>usd_per_message</th>\n",
       "      <th>usd_per_minute</th>\n",
       "      <th>gb_per_month_included</th>\n",
       "    </tr>\n",
       "  </thead>\n",
       "  <tbody>\n",
       "    <tr>\n",
       "      <th>2288</th>\n",
       "      <td>1349</td>\n",
       "      <td>2018-10</td>\n",
       "      <td>NaN</td>\n",
       "      <td>13093.55</td>\n",
       "      <td>13.0</td>\n",
       "      <td>NaN</td>\n",
       "      <td>76.0</td>\n",
       "      <td>Florentina</td>\n",
       "      <td>Diaz</td>\n",
       "      <td>69</td>\n",
       "      <td>...</td>\n",
       "      <td>NaN</td>\n",
       "      <td>MA-NH</td>\n",
       "      <td>0</td>\n",
       "      <td>50</td>\n",
       "      <td>500</td>\n",
       "      <td>20</td>\n",
       "      <td>10</td>\n",
       "      <td>0.03</td>\n",
       "      <td>0.03</td>\n",
       "      <td>15.0</td>\n",
       "    </tr>\n",
       "    <tr>\n",
       "      <th>2289</th>\n",
       "      <td>1349</td>\n",
       "      <td>2018-11</td>\n",
       "      <td>NaN</td>\n",
       "      <td>17128.26</td>\n",
       "      <td>17.0</td>\n",
       "      <td>NaN</td>\n",
       "      <td>72.0</td>\n",
       "      <td>Florentina</td>\n",
       "      <td>Diaz</td>\n",
       "      <td>69</td>\n",
       "      <td>...</td>\n",
       "      <td>NaN</td>\n",
       "      <td>MA-NH</td>\n",
       "      <td>0</td>\n",
       "      <td>50</td>\n",
       "      <td>500</td>\n",
       "      <td>20</td>\n",
       "      <td>10</td>\n",
       "      <td>0.03</td>\n",
       "      <td>0.03</td>\n",
       "      <td>15.0</td>\n",
       "    </tr>\n",
       "    <tr>\n",
       "      <th>2290</th>\n",
       "      <td>1349</td>\n",
       "      <td>2018-12</td>\n",
       "      <td>NaN</td>\n",
       "      <td>13039.91</td>\n",
       "      <td>13.0</td>\n",
       "      <td>NaN</td>\n",
       "      <td>61.0</td>\n",
       "      <td>Florentina</td>\n",
       "      <td>Diaz</td>\n",
       "      <td>69</td>\n",
       "      <td>...</td>\n",
       "      <td>NaN</td>\n",
       "      <td>MA-NH</td>\n",
       "      <td>0</td>\n",
       "      <td>50</td>\n",
       "      <td>500</td>\n",
       "      <td>20</td>\n",
       "      <td>10</td>\n",
       "      <td>0.03</td>\n",
       "      <td>0.03</td>\n",
       "      <td>15.0</td>\n",
       "    </tr>\n",
       "    <tr>\n",
       "      <th>2291</th>\n",
       "      <td>1361</td>\n",
       "      <td>2018-05</td>\n",
       "      <td>NaN</td>\n",
       "      <td>1519.69</td>\n",
       "      <td>2.0</td>\n",
       "      <td>NaN</td>\n",
       "      <td>2.0</td>\n",
       "      <td>Jacelyn</td>\n",
       "      <td>Hoffman</td>\n",
       "      <td>45</td>\n",
       "      <td>...</td>\n",
       "      <td>NaN</td>\n",
       "      <td>AL</td>\n",
       "      <td>0</td>\n",
       "      <td>50</td>\n",
       "      <td>500</td>\n",
       "      <td>20</td>\n",
       "      <td>10</td>\n",
       "      <td>0.03</td>\n",
       "      <td>0.03</td>\n",
       "      <td>15.0</td>\n",
       "    </tr>\n",
       "    <tr>\n",
       "      <th>2292</th>\n",
       "      <td>1482</td>\n",
       "      <td>2018-10</td>\n",
       "      <td>NaN</td>\n",
       "      <td>NaN</td>\n",
       "      <td>NaN</td>\n",
       "      <td>NaN</td>\n",
       "      <td>2.0</td>\n",
       "      <td>Armand</td>\n",
       "      <td>Glenn</td>\n",
       "      <td>70</td>\n",
       "      <td>...</td>\n",
       "      <td>NaN</td>\n",
       "      <td>NY-NJ-PA</td>\n",
       "      <td>1</td>\n",
       "      <td>1000</td>\n",
       "      <td>3000</td>\n",
       "      <td>70</td>\n",
       "      <td>7</td>\n",
       "      <td>0.01</td>\n",
       "      <td>0.01</td>\n",
       "      <td>30.0</td>\n",
       "    </tr>\n",
       "  </tbody>\n",
       "</table>\n",
       "<p>5 rows × 23 columns</p>\n",
       "</div>"
      ],
      "text/plain": [
       "      user_id    month  duration   mb_used  gb_used  call_count  msg_count  \\\n",
       "2288     1349  2018-10       NaN  13093.55     13.0         NaN       76.0   \n",
       "2289     1349  2018-11       NaN  17128.26     17.0         NaN       72.0   \n",
       "2290     1349  2018-12       NaN  13039.91     13.0         NaN       61.0   \n",
       "2291     1361  2018-05       NaN   1519.69      2.0         NaN        2.0   \n",
       "2292     1482  2018-10       NaN       NaN      NaN         NaN        2.0   \n",
       "\n",
       "      first_name last_name  age  ... churn_date city_code is_nynj  \\\n",
       "2288  Florentina      Diaz   69  ...        NaN     MA-NH       0   \n",
       "2289  Florentina      Diaz   69  ...        NaN     MA-NH       0   \n",
       "2290  Florentina      Diaz   69  ...        NaN     MA-NH       0   \n",
       "2291     Jacelyn   Hoffman   45  ...        NaN        AL       0   \n",
       "2292      Armand     Glenn   70  ...        NaN  NY-NJ-PA       1   \n",
       "\n",
       "     messages_included minutes_included  usd_monthly_pay  usd_per_gb  \\\n",
       "2288                50              500               20          10   \n",
       "2289                50              500               20          10   \n",
       "2290                50              500               20          10   \n",
       "2291                50              500               20          10   \n",
       "2292              1000             3000               70           7   \n",
       "\n",
       "      usd_per_message  usd_per_minute  gb_per_month_included  \n",
       "2288             0.03            0.03                   15.0  \n",
       "2289             0.03            0.03                   15.0  \n",
       "2290             0.03            0.03                   15.0  \n",
       "2291             0.03            0.03                   15.0  \n",
       "2292             0.01            0.01                   30.0  \n",
       "\n",
       "[5 rows x 23 columns]"
      ]
     },
     "execution_count": 61,
     "metadata": {},
     "output_type": "execute_result"
    }
   ],
   "source": [
    "# Gabungkan data panggilan, menit, SMS, dan internet berdasarkan user_id dan month (bulan)\n",
    "main = call_agg.merge(internet_agg, how='outer', on=['user_id', 'month'])\n",
    "main = main.merge(call_count_agg, how='outer', on=['user_id', 'month'])\n",
    "main = main.merge(msg_agg, how='outer', on=['user_id', 'month'])\n",
    "df = main.merge(users_plans, how='left', on='user_id')\n",
    "df.tail()"
   ]
  },
  {
   "cell_type": "markdown",
   "metadata": {},
   "source": [
    "<div class=\"alert alert-danger\">\n",
    "<b>Code Reviewers's comment v.1</b> <a class=\"tocSkip\"></a>\n",
    "\n",
    "- seharusnya proses merge menggunakan outer join yang bagian disini ya\n",
    "    - saya sarankan menggunakan `pd.merge` dan melakukan join satu per satu jangan langsung seperti itu\n",
    "    - kalau hasil join benar jumlah datanya akan 2293 bukan 1759 ya\n",
    "\n",
    "</div>"
   ]
  },
  {
   "cell_type": "markdown",
   "metadata": {},
   "source": [
    "<div class=\"alert alert-block alert-info\">\n",
    "<b>Student answer.</b> <a class=\"tocSkip\"></a>\n",
    "    \n",
    "Proses merge telah dilakukan dengan menggunakan outer join, menggunakan `pd.merge` dan hasil join telah tertera dibawah sesuai perintah\n",
    "</div>"
   ]
  },
  {
   "cell_type": "markdown",
   "metadata": {},
   "source": [
    "<div class=\"alert alert-success\">\n",
    "<b>Code Reviewers's comment v.1</b> <a class=\"tocSkip\"></a>\n",
    "\n",
    "Bagus, code yang dijalankan sudah sesuai dengan instruksi dari project.\n",
    "\n",
    "</div>"
   ]
  },
  {
   "cell_type": "code",
   "execution_count": 62,
   "metadata": {
    "scrolled": true
   },
   "outputs": [
    {
     "data": {
      "text/html": [
       "<div>\n",
       "<style scoped>\n",
       "    .dataframe tbody tr th:only-of-type {\n",
       "        vertical-align: middle;\n",
       "    }\n",
       "\n",
       "    .dataframe tbody tr th {\n",
       "        vertical-align: top;\n",
       "    }\n",
       "\n",
       "    .dataframe thead th {\n",
       "        text-align: right;\n",
       "    }\n",
       "</style>\n",
       "<table border=\"1\" class=\"dataframe\">\n",
       "  <thead>\n",
       "    <tr style=\"text-align: right;\">\n",
       "      <th></th>\n",
       "      <th>user_id</th>\n",
       "      <th>month</th>\n",
       "      <th>duration</th>\n",
       "      <th>gb_used</th>\n",
       "      <th>call_count</th>\n",
       "      <th>msg_count</th>\n",
       "      <th>age</th>\n",
       "      <th>plan</th>\n",
       "      <th>city_code</th>\n",
       "      <th>is_nynj</th>\n",
       "      <th>messages_included</th>\n",
       "      <th>minutes_included</th>\n",
       "      <th>usd_monthly_pay</th>\n",
       "      <th>usd_per_gb</th>\n",
       "      <th>usd_per_message</th>\n",
       "      <th>usd_per_minute</th>\n",
       "      <th>gb_per_month_included</th>\n",
       "    </tr>\n",
       "  </thead>\n",
       "  <tbody>\n",
       "    <tr>\n",
       "      <th>2288</th>\n",
       "      <td>1349</td>\n",
       "      <td>2018-10</td>\n",
       "      <td>NaN</td>\n",
       "      <td>13.0</td>\n",
       "      <td>NaN</td>\n",
       "      <td>76.0</td>\n",
       "      <td>69</td>\n",
       "      <td>surf</td>\n",
       "      <td>MA-NH</td>\n",
       "      <td>0</td>\n",
       "      <td>50</td>\n",
       "      <td>500</td>\n",
       "      <td>20</td>\n",
       "      <td>10</td>\n",
       "      <td>0.03</td>\n",
       "      <td>0.03</td>\n",
       "      <td>15.0</td>\n",
       "    </tr>\n",
       "    <tr>\n",
       "      <th>2289</th>\n",
       "      <td>1349</td>\n",
       "      <td>2018-11</td>\n",
       "      <td>NaN</td>\n",
       "      <td>17.0</td>\n",
       "      <td>NaN</td>\n",
       "      <td>72.0</td>\n",
       "      <td>69</td>\n",
       "      <td>surf</td>\n",
       "      <td>MA-NH</td>\n",
       "      <td>0</td>\n",
       "      <td>50</td>\n",
       "      <td>500</td>\n",
       "      <td>20</td>\n",
       "      <td>10</td>\n",
       "      <td>0.03</td>\n",
       "      <td>0.03</td>\n",
       "      <td>15.0</td>\n",
       "    </tr>\n",
       "    <tr>\n",
       "      <th>2290</th>\n",
       "      <td>1349</td>\n",
       "      <td>2018-12</td>\n",
       "      <td>NaN</td>\n",
       "      <td>13.0</td>\n",
       "      <td>NaN</td>\n",
       "      <td>61.0</td>\n",
       "      <td>69</td>\n",
       "      <td>surf</td>\n",
       "      <td>MA-NH</td>\n",
       "      <td>0</td>\n",
       "      <td>50</td>\n",
       "      <td>500</td>\n",
       "      <td>20</td>\n",
       "      <td>10</td>\n",
       "      <td>0.03</td>\n",
       "      <td>0.03</td>\n",
       "      <td>15.0</td>\n",
       "    </tr>\n",
       "    <tr>\n",
       "      <th>2291</th>\n",
       "      <td>1361</td>\n",
       "      <td>2018-05</td>\n",
       "      <td>NaN</td>\n",
       "      <td>2.0</td>\n",
       "      <td>NaN</td>\n",
       "      <td>2.0</td>\n",
       "      <td>45</td>\n",
       "      <td>surf</td>\n",
       "      <td>AL</td>\n",
       "      <td>0</td>\n",
       "      <td>50</td>\n",
       "      <td>500</td>\n",
       "      <td>20</td>\n",
       "      <td>10</td>\n",
       "      <td>0.03</td>\n",
       "      <td>0.03</td>\n",
       "      <td>15.0</td>\n",
       "    </tr>\n",
       "    <tr>\n",
       "      <th>2292</th>\n",
       "      <td>1482</td>\n",
       "      <td>2018-10</td>\n",
       "      <td>NaN</td>\n",
       "      <td>NaN</td>\n",
       "      <td>NaN</td>\n",
       "      <td>2.0</td>\n",
       "      <td>70</td>\n",
       "      <td>ultimate</td>\n",
       "      <td>NY-NJ-PA</td>\n",
       "      <td>1</td>\n",
       "      <td>1000</td>\n",
       "      <td>3000</td>\n",
       "      <td>70</td>\n",
       "      <td>7</td>\n",
       "      <td>0.01</td>\n",
       "      <td>0.01</td>\n",
       "      <td>30.0</td>\n",
       "    </tr>\n",
       "  </tbody>\n",
       "</table>\n",
       "</div>"
      ],
      "text/plain": [
       "      user_id    month  duration  gb_used  call_count  msg_count  age  \\\n",
       "2288     1349  2018-10       NaN     13.0         NaN       76.0   69   \n",
       "2289     1349  2018-11       NaN     17.0         NaN       72.0   69   \n",
       "2290     1349  2018-12       NaN     13.0         NaN       61.0   69   \n",
       "2291     1361  2018-05       NaN      2.0         NaN        2.0   45   \n",
       "2292     1482  2018-10       NaN      NaN         NaN        2.0   70   \n",
       "\n",
       "          plan city_code  is_nynj  messages_included  minutes_included  \\\n",
       "2288      surf     MA-NH        0                 50               500   \n",
       "2289      surf     MA-NH        0                 50               500   \n",
       "2290      surf     MA-NH        0                 50               500   \n",
       "2291      surf        AL        0                 50               500   \n",
       "2292  ultimate  NY-NJ-PA        1               1000              3000   \n",
       "\n",
       "      usd_monthly_pay  usd_per_gb  usd_per_message  usd_per_minute  \\\n",
       "2288               20          10             0.03            0.03   \n",
       "2289               20          10             0.03            0.03   \n",
       "2290               20          10             0.03            0.03   \n",
       "2291               20          10             0.03            0.03   \n",
       "2292               70           7             0.01            0.01   \n",
       "\n",
       "      gb_per_month_included  \n",
       "2288                   15.0  \n",
       "2289                   15.0  \n",
       "2290                   15.0  \n",
       "2291                   15.0  \n",
       "2292                   30.0  "
      ]
     },
     "execution_count": 62,
     "metadata": {},
     "output_type": "execute_result"
    }
   ],
   "source": [
    "# Drop Kolom yang tidak dibutuhkan\n",
    "df.drop(['city', 'first_name', 'last_name', 'mb_used', 'reg_date', 'churn_date'], axis=1, inplace=True)\n",
    "df.tail()"
   ]
  },
  {
   "cell_type": "code",
   "execution_count": 63,
   "metadata": {},
   "outputs": [],
   "source": [
    "# Isi missing value di kolom numerikal dengan 0\n",
    "df[['duration', 'gb_used', 'msg_count']] = df[['duration', 'gb_used', 'msg_count']].fillna(0)"
   ]
  },
  {
   "cell_type": "code",
   "execution_count": 64,
   "metadata": {},
   "outputs": [
    {
     "data": {
      "text/plain": [
       "(2293, 17)"
      ]
     },
     "execution_count": 64,
     "metadata": {},
     "output_type": "execute_result"
    }
   ],
   "source": [
    "df.shape"
   ]
  },
  {
   "cell_type": "markdown",
   "metadata": {},
   "source": [
    "Menggabung semua data aggregate dengan data user dan plans (users_plans) menjadi dataframe lengkap(df). Lalu menghapus beberapa kolom yang tidak digunakan seperti city, first_name,last_name, mb_used, reg_date, dan churn_date. Selanjutnya mengisi nilai yang hilang pada kolom `duration`, `gb_used`, dan `msg_count` dengan nilai 0."
   ]
  },
  {
   "cell_type": "code",
   "execution_count": 65,
   "metadata": {},
   "outputs": [],
   "source": [
    "# Bikin kolom menghitung biaya ekstra di telepon\n",
    "df['extra_calls'] = (df['duration'] - df['minutes_included']) * df['usd_per_minute']\n",
    "\n",
    "# Harga minus artinya adalah tidak berlebihan dan harus diganti 0\n",
    "df.loc[df['extra_calls'] < 0, 'extra_calls'] = 0"
   ]
  },
  {
   "cell_type": "code",
   "execution_count": 66,
   "metadata": {},
   "outputs": [],
   "source": [
    "# Bikin kolom menghitung biaya ekstra di internet\n",
    "df['extra_internet'] = (df['gb_used'] - df['gb_per_month_included']) * df['usd_per_gb']\n",
    "\n",
    "# Harga minus artinya adalah tidak berlebihan dan harus diganti 0\n",
    "df.loc[df['extra_internet'] < 0, 'extra_internet'] = 0"
   ]
  },
  {
   "cell_type": "code",
   "execution_count": 67,
   "metadata": {},
   "outputs": [],
   "source": [
    "# Bikin kolom menghitung biaya ekstra di message\n",
    "df['extra_msg'] = (df['msg_count'] - df['messages_included']) * df['usd_per_message']\n",
    "\n",
    "# Harga minus artinya adalah tidak berlebihan dan harus diganti 0\n",
    "df.loc[df['extra_msg'] < 0, 'extra_msg'] = 0"
   ]
  },
  {
   "cell_type": "markdown",
   "metadata": {},
   "source": [
    "Setelah itu menghitung biaya ekstra untuk panggilan, internet, dan pesan yang melebihi batas paket, dan kemudian menggantikan harga minus yang artinya tidak berlebihan lalu diganti dengan 0."
   ]
  },
  {
   "cell_type": "markdown",
   "metadata": {},
   "source": [
    "[Hitung pendapatan bulanan dari setiap pengguna (caranya, kurangi batas paket gratis dari jumlah total panggilan, pesan teks, dan data; kalikan hasilnya dengan nilai paket panggilan; tambahkan biaya bulanan berdasarkan pada jenis paket panggilan). N.B. Kode untuk bagian ini mungkin tidak sesederhana yang kita kira, mengingat persyaratan paketnya cukup rumit! Karena itu, tidak masalah jika Anda membutuhkan lebih banyak waktu untuk mengerjakannya.]"
   ]
  },
  {
   "cell_type": "code",
   "execution_count": 68,
   "metadata": {},
   "outputs": [
    {
     "data": {
      "text/html": [
       "<div>\n",
       "<style scoped>\n",
       "    .dataframe tbody tr th:only-of-type {\n",
       "        vertical-align: middle;\n",
       "    }\n",
       "\n",
       "    .dataframe tbody tr th {\n",
       "        vertical-align: top;\n",
       "    }\n",
       "\n",
       "    .dataframe thead th {\n",
       "        text-align: right;\n",
       "    }\n",
       "</style>\n",
       "<table border=\"1\" class=\"dataframe\">\n",
       "  <thead>\n",
       "    <tr style=\"text-align: right;\">\n",
       "      <th></th>\n",
       "      <th>user_id</th>\n",
       "      <th>month</th>\n",
       "      <th>duration</th>\n",
       "      <th>gb_used</th>\n",
       "      <th>call_count</th>\n",
       "      <th>msg_count</th>\n",
       "      <th>age</th>\n",
       "      <th>plan</th>\n",
       "      <th>city_code</th>\n",
       "      <th>is_nynj</th>\n",
       "      <th>...</th>\n",
       "      <th>minutes_included</th>\n",
       "      <th>usd_monthly_pay</th>\n",
       "      <th>usd_per_gb</th>\n",
       "      <th>usd_per_message</th>\n",
       "      <th>usd_per_minute</th>\n",
       "      <th>gb_per_month_included</th>\n",
       "      <th>extra_calls</th>\n",
       "      <th>extra_internet</th>\n",
       "      <th>extra_msg</th>\n",
       "      <th>total_income</th>\n",
       "    </tr>\n",
       "  </thead>\n",
       "  <tbody>\n",
       "    <tr>\n",
       "      <th>0</th>\n",
       "      <td>1000</td>\n",
       "      <td>2018-12</td>\n",
       "      <td>124.0</td>\n",
       "      <td>2.0</td>\n",
       "      <td>16.0</td>\n",
       "      <td>11.0</td>\n",
       "      <td>45</td>\n",
       "      <td>ultimate</td>\n",
       "      <td>GA</td>\n",
       "      <td>0</td>\n",
       "      <td>...</td>\n",
       "      <td>3000</td>\n",
       "      <td>70</td>\n",
       "      <td>7</td>\n",
       "      <td>0.01</td>\n",
       "      <td>0.01</td>\n",
       "      <td>30.0</td>\n",
       "      <td>0.0</td>\n",
       "      <td>0.0</td>\n",
       "      <td>0.00</td>\n",
       "      <td>70.00</td>\n",
       "    </tr>\n",
       "    <tr>\n",
       "      <th>1</th>\n",
       "      <td>1001</td>\n",
       "      <td>2018-08</td>\n",
       "      <td>182.0</td>\n",
       "      <td>7.0</td>\n",
       "      <td>27.0</td>\n",
       "      <td>30.0</td>\n",
       "      <td>28</td>\n",
       "      <td>surf</td>\n",
       "      <td>WA</td>\n",
       "      <td>0</td>\n",
       "      <td>...</td>\n",
       "      <td>500</td>\n",
       "      <td>20</td>\n",
       "      <td>10</td>\n",
       "      <td>0.03</td>\n",
       "      <td>0.03</td>\n",
       "      <td>15.0</td>\n",
       "      <td>0.0</td>\n",
       "      <td>0.0</td>\n",
       "      <td>0.00</td>\n",
       "      <td>20.00</td>\n",
       "    </tr>\n",
       "    <tr>\n",
       "      <th>2</th>\n",
       "      <td>1001</td>\n",
       "      <td>2018-09</td>\n",
       "      <td>315.0</td>\n",
       "      <td>13.0</td>\n",
       "      <td>49.0</td>\n",
       "      <td>44.0</td>\n",
       "      <td>28</td>\n",
       "      <td>surf</td>\n",
       "      <td>WA</td>\n",
       "      <td>0</td>\n",
       "      <td>...</td>\n",
       "      <td>500</td>\n",
       "      <td>20</td>\n",
       "      <td>10</td>\n",
       "      <td>0.03</td>\n",
       "      <td>0.03</td>\n",
       "      <td>15.0</td>\n",
       "      <td>0.0</td>\n",
       "      <td>0.0</td>\n",
       "      <td>0.00</td>\n",
       "      <td>20.00</td>\n",
       "    </tr>\n",
       "    <tr>\n",
       "      <th>3</th>\n",
       "      <td>1001</td>\n",
       "      <td>2018-10</td>\n",
       "      <td>393.0</td>\n",
       "      <td>22.0</td>\n",
       "      <td>65.0</td>\n",
       "      <td>53.0</td>\n",
       "      <td>28</td>\n",
       "      <td>surf</td>\n",
       "      <td>WA</td>\n",
       "      <td>0</td>\n",
       "      <td>...</td>\n",
       "      <td>500</td>\n",
       "      <td>20</td>\n",
       "      <td>10</td>\n",
       "      <td>0.03</td>\n",
       "      <td>0.03</td>\n",
       "      <td>15.0</td>\n",
       "      <td>0.0</td>\n",
       "      <td>70.0</td>\n",
       "      <td>0.09</td>\n",
       "      <td>90.09</td>\n",
       "    </tr>\n",
       "    <tr>\n",
       "      <th>4</th>\n",
       "      <td>1001</td>\n",
       "      <td>2018-11</td>\n",
       "      <td>426.0</td>\n",
       "      <td>19.0</td>\n",
       "      <td>64.0</td>\n",
       "      <td>36.0</td>\n",
       "      <td>28</td>\n",
       "      <td>surf</td>\n",
       "      <td>WA</td>\n",
       "      <td>0</td>\n",
       "      <td>...</td>\n",
       "      <td>500</td>\n",
       "      <td>20</td>\n",
       "      <td>10</td>\n",
       "      <td>0.03</td>\n",
       "      <td>0.03</td>\n",
       "      <td>15.0</td>\n",
       "      <td>0.0</td>\n",
       "      <td>40.0</td>\n",
       "      <td>0.00</td>\n",
       "      <td>60.00</td>\n",
       "    </tr>\n",
       "  </tbody>\n",
       "</table>\n",
       "<p>5 rows × 21 columns</p>\n",
       "</div>"
      ],
      "text/plain": [
       "   user_id    month  duration  gb_used  call_count  msg_count  age      plan  \\\n",
       "0     1000  2018-12     124.0      2.0        16.0       11.0   45  ultimate   \n",
       "1     1001  2018-08     182.0      7.0        27.0       30.0   28      surf   \n",
       "2     1001  2018-09     315.0     13.0        49.0       44.0   28      surf   \n",
       "3     1001  2018-10     393.0     22.0        65.0       53.0   28      surf   \n",
       "4     1001  2018-11     426.0     19.0        64.0       36.0   28      surf   \n",
       "\n",
       "  city_code  is_nynj  ...  minutes_included  usd_monthly_pay  usd_per_gb  \\\n",
       "0        GA        0  ...              3000               70           7   \n",
       "1        WA        0  ...               500               20          10   \n",
       "2        WA        0  ...               500               20          10   \n",
       "3        WA        0  ...               500               20          10   \n",
       "4        WA        0  ...               500               20          10   \n",
       "\n",
       "   usd_per_message  usd_per_minute  gb_per_month_included  extra_calls  \\\n",
       "0             0.01            0.01                   30.0          0.0   \n",
       "1             0.03            0.03                   15.0          0.0   \n",
       "2             0.03            0.03                   15.0          0.0   \n",
       "3             0.03            0.03                   15.0          0.0   \n",
       "4             0.03            0.03                   15.0          0.0   \n",
       "\n",
       "   extra_internet  extra_msg  total_income  \n",
       "0             0.0       0.00         70.00  \n",
       "1             0.0       0.00         20.00  \n",
       "2             0.0       0.00         20.00  \n",
       "3            70.0       0.09         90.09  \n",
       "4            40.0       0.00         60.00  \n",
       "\n",
       "[5 rows x 21 columns]"
      ]
     },
     "execution_count": 68,
     "metadata": {},
     "output_type": "execute_result"
    }
   ],
   "source": [
    "# Hitung pendapatan bulanan untuk setiap pengguna\n",
    "df['total_income'] = df['usd_monthly_pay'] + df['extra_calls'] + df['extra_internet'] + df['extra_msg']\n",
    "df.head() "
   ]
  },
  {
   "cell_type": "markdown",
   "metadata": {},
   "source": [
    "Menghitung biaya pendapatan bulan setiap pengguna dengan menambahakan biaya bulanan dengan semua biaya tambahan yang telah dihitung sebelumnya"
   ]
  },
  {
   "cell_type": "markdown",
   "metadata": {},
   "source": [
    "**DESCRIPTION**\n",
    "\n",
    "Berikut tahapan pada penggabungan data \n",
    "\n",
    "* Menggabungkan data aggregasi panggilan, durasi panggilan, pesan, dan penggunaan internet untuk masing-masing pengguna setiap bulan.\n",
    "\n",
    "* Menghapus kolom yang tidak relevan dari data users.\n",
    "\n",
    "* Menggabungkan data users dengan data plans untuk mendapatkan informasi lebih lengkap.\n",
    "\n",
    "* Menggabungkan data agregat dengan data pengguna dan paket, dan menghapus kolom tidak diperlukan.\n",
    "\n",
    "* Mengisi nilai yang hilang dengan 0 pada kolom numerikal.\n",
    "\n",
    "* Menghitung dan membuat kolom biaya tambahan untuk panggilan, internet, dan pesan, lalu menggantikan nilai negatif dengan 0. \n",
    "\n",
    "* Menghitung dan membuat kolom pendapatan bulanan dengan menggabungkan biaya bulanan dengan biaya tambahan."
   ]
  },
  {
   "cell_type": "markdown",
   "metadata": {},
   "source": [
    "<div class=\"alert alert-success\">\n",
    "<b>Code Reviewers's comment v.1</b> <a class=\"tocSkip\"></a>\n",
    "\n",
    "Bagus, code yang dijalankan sudah sesuai dengan instruksi dari project.\n",
    "\n",
    "</div>"
   ]
  },
  {
   "cell_type": "markdown",
   "metadata": {},
   "source": [
    "# 4. Exploratory Data Analysis <a id='EDA'></a>\n"
   ]
  },
  {
   "cell_type": "markdown",
   "metadata": {},
   "source": [
    "[Hitung beberapa perhitungan statistika deskriptif yang berguna untuk data yang telah diagregasi dan digabungkan. Hal ini biasanya mampu mengungkapkan gambaran keseluruhan yang ditangkap oleh data tersebut. Buatlah beberapa grafik yang berguna untuk membantu pemahaman Anda. Mengingat bahwa tugas utamanya adalah membandingkan paket-paket prabayar dan memutuskan paket prabayar manakah yang lebih menguntungkan, maka perhitungan statistika dan grafik harus dilakukan berdasarkan tiap paket.]\n",
    "\n",
    "[Tersedia petunjuk yang relevan pada bagian komentar terkait Panggilan. Akan tetapi, komentar serupa tidak tersedia untuk SMS dan Internet. Namun demikian, jangan khawatir, prinsip dasar statistik untuk SMS dan Internet sama saja dengan Panggilan.]"
   ]
  },
  {
   "cell_type": "markdown",
   "metadata": {},
   "source": [
    "## Data Calls (Panggilan) <a id='calls_eda'></a>\n"
   ]
  },
  {
   "cell_type": "markdown",
   "metadata": {},
   "source": [
    "### Rata - rata durasi panggilan per bulan"
   ]
  },
  {
   "cell_type": "markdown",
   "metadata": {},
   "source": [
    "Findings:\n",
    "Deskripsikan perilaku konsumen. \n",
    "Temukan menit, pesan, dan volume penggunaan data seluler yang dibutuhkan pengguna setiap paket per bulan. \n",
    "Hitung rata-rata, varians, dan standar deviasinya.\n",
    " Buat histogram. Deskripsikan distribusinya.\n",
    "\n"
   ]
  },
  {
   "cell_type": "code",
   "execution_count": 69,
   "metadata": {
    "scrolled": true
   },
   "outputs": [
    {
     "data": {
      "text/html": [
       "<div>\n",
       "<style scoped>\n",
       "    .dataframe tbody tr th:only-of-type {\n",
       "        vertical-align: middle;\n",
       "    }\n",
       "\n",
       "    .dataframe tbody tr th {\n",
       "        vertical-align: top;\n",
       "    }\n",
       "\n",
       "    .dataframe thead th {\n",
       "        text-align: right;\n",
       "    }\n",
       "</style>\n",
       "<table border=\"1\" class=\"dataframe\">\n",
       "  <thead>\n",
       "    <tr style=\"text-align: right;\">\n",
       "      <th>plan</th>\n",
       "      <th>month</th>\n",
       "      <th>surf</th>\n",
       "      <th>ultimate</th>\n",
       "    </tr>\n",
       "  </thead>\n",
       "  <tbody>\n",
       "    <tr>\n",
       "      <th>0</th>\n",
       "      <td>2018-01</td>\n",
       "      <td>203.000000</td>\n",
       "      <td>193.500000</td>\n",
       "    </tr>\n",
       "    <tr>\n",
       "      <th>1</th>\n",
       "      <td>2018-02</td>\n",
       "      <td>297.000000</td>\n",
       "      <td>403.142857</td>\n",
       "    </tr>\n",
       "    <tr>\n",
       "      <th>2</th>\n",
       "      <td>2018-03</td>\n",
       "      <td>330.000000</td>\n",
       "      <td>304.250000</td>\n",
       "    </tr>\n",
       "    <tr>\n",
       "      <th>3</th>\n",
       "      <td>2018-04</td>\n",
       "      <td>351.540000</td>\n",
       "      <td>336.857143</td>\n",
       "    </tr>\n",
       "    <tr>\n",
       "      <th>4</th>\n",
       "      <td>2018-05</td>\n",
       "      <td>399.584416</td>\n",
       "      <td>406.241379</td>\n",
       "    </tr>\n",
       "    <tr>\n",
       "      <th>5</th>\n",
       "      <td>2018-06</td>\n",
       "      <td>431.298969</td>\n",
       "      <td>370.957447</td>\n",
       "    </tr>\n",
       "    <tr>\n",
       "      <th>6</th>\n",
       "      <td>2018-07</td>\n",
       "      <td>449.983471</td>\n",
       "      <td>427.067797</td>\n",
       "    </tr>\n",
       "    <tr>\n",
       "      <th>7</th>\n",
       "      <td>2018-08</td>\n",
       "      <td>410.111111</td>\n",
       "      <td>421.436620</td>\n",
       "    </tr>\n",
       "    <tr>\n",
       "      <th>8</th>\n",
       "      <td>2018-09</td>\n",
       "      <td>414.226804</td>\n",
       "      <td>437.511628</td>\n",
       "    </tr>\n",
       "    <tr>\n",
       "      <th>9</th>\n",
       "      <td>2018-10</td>\n",
       "      <td>429.729958</td>\n",
       "      <td>450.735849</td>\n",
       "    </tr>\n",
       "    <tr>\n",
       "      <th>10</th>\n",
       "      <td>2018-11</td>\n",
       "      <td>423.325088</td>\n",
       "      <td>445.196850</td>\n",
       "    </tr>\n",
       "    <tr>\n",
       "      <th>11</th>\n",
       "      <td>2018-12</td>\n",
       "      <td>473.836478</td>\n",
       "      <td>459.099338</td>\n",
       "    </tr>\n",
       "  </tbody>\n",
       "</table>\n",
       "</div>"
      ],
      "text/plain": [
       "plan    month        surf    ultimate\n",
       "0     2018-01  203.000000  193.500000\n",
       "1     2018-02  297.000000  403.142857\n",
       "2     2018-03  330.000000  304.250000\n",
       "3     2018-04  351.540000  336.857143\n",
       "4     2018-05  399.584416  406.241379\n",
       "5     2018-06  431.298969  370.957447\n",
       "6     2018-07  449.983471  427.067797\n",
       "7     2018-08  410.111111  421.436620\n",
       "8     2018-09  414.226804  437.511628\n",
       "9     2018-10  429.729958  450.735849\n",
       "10    2018-11  423.325088  445.196850\n",
       "11    2018-12  473.836478  459.099338"
      ]
     },
     "execution_count": 69,
     "metadata": {},
     "output_type": "execute_result"
    }
   ],
   "source": [
    "# Rata-rata durasi panggilan setiap paket per bulannya. \n",
    "avg_duration = pd.pivot_table(df, index='month', columns='plan', values='duration', aggfunc='mean').reset_index()\n",
    "avg_duration['month'] = avg_duration['month'].astype(str)\n",
    "avg_duration"
   ]
  },
  {
   "cell_type": "code",
   "execution_count": 70,
   "metadata": {},
   "outputs": [
    {
     "data": {
      "image/png": "[encoded data removed]",
      "text/plain": [
       "<Figure size 864x432 with 1 Axes>"
      ]
     },
     "metadata": {
      "needs_background": "light"
     },
     "output_type": "display_data"
    }
   ],
   "source": [
    "# Diagram Batang dari Rata-rata durasi panggilan setiap paket per bulannya\n",
    "\n",
    "avg_duration.plot(x='month', y=['surf', 'ultimate'], kind='bar', figsize=(12, 6))\n",
    "plt.xlabel('Bulan')\n",
    "plt.ylabel('Durasi Rata-Rata Panggilan')\n",
    "plt.title('Durasi Rata-Rata Panggilan pada Paket Surf dan Ultimate per bulannya')\n",
    "plt.legend(title='Paket', title_fontsize='12', labels=['Surf', 'Ultimate'], fontsize='10')\n",
    "plt.tight_layout()\n",
    "\n",
    "# Tampilkan diagram\n",
    "plt.show() "
   ]
  },
  {
   "cell_type": "markdown",
   "metadata": {},
   "source": [
    "### Total durasi panggilan per bulan"
   ]
  },
  {
   "cell_type": "code",
   "execution_count": 71,
   "metadata": {
    "scrolled": true
   },
   "outputs": [
    {
     "data": {
      "text/html": [
       "<div>\n",
       "<style scoped>\n",
       "    .dataframe tbody tr th:only-of-type {\n",
       "        vertical-align: middle;\n",
       "    }\n",
       "\n",
       "    .dataframe tbody tr th {\n",
       "        vertical-align: top;\n",
       "    }\n",
       "\n",
       "    .dataframe thead th {\n",
       "        text-align: right;\n",
       "    }\n",
       "</style>\n",
       "<table border=\"1\" class=\"dataframe\">\n",
       "  <thead>\n",
       "    <tr style=\"text-align: right;\">\n",
       "      <th>plan</th>\n",
       "      <th>month</th>\n",
       "      <th>surf</th>\n",
       "      <th>ultimate</th>\n",
       "    </tr>\n",
       "  </thead>\n",
       "  <tbody>\n",
       "    <tr>\n",
       "      <th>0</th>\n",
       "      <td>2018-01</td>\n",
       "      <td>406.0</td>\n",
       "      <td>774.0</td>\n",
       "    </tr>\n",
       "    <tr>\n",
       "      <th>1</th>\n",
       "      <td>2018-02</td>\n",
       "      <td>2673.0</td>\n",
       "      <td>2822.0</td>\n",
       "    </tr>\n",
       "    <tr>\n",
       "      <th>2</th>\n",
       "      <td>2018-03</td>\n",
       "      <td>7590.0</td>\n",
       "      <td>3651.0</td>\n",
       "    </tr>\n",
       "    <tr>\n",
       "      <th>3</th>\n",
       "      <td>2018-04</td>\n",
       "      <td>17577.0</td>\n",
       "      <td>7074.0</td>\n",
       "    </tr>\n",
       "    <tr>\n",
       "      <th>4</th>\n",
       "      <td>2018-05</td>\n",
       "      <td>30768.0</td>\n",
       "      <td>11781.0</td>\n",
       "    </tr>\n",
       "    <tr>\n",
       "      <th>5</th>\n",
       "      <td>2018-06</td>\n",
       "      <td>41836.0</td>\n",
       "      <td>17435.0</td>\n",
       "    </tr>\n",
       "    <tr>\n",
       "      <th>6</th>\n",
       "      <td>2018-07</td>\n",
       "      <td>54448.0</td>\n",
       "      <td>25197.0</td>\n",
       "    </tr>\n",
       "    <tr>\n",
       "      <th>7</th>\n",
       "      <td>2018-08</td>\n",
       "      <td>66438.0</td>\n",
       "      <td>29922.0</td>\n",
       "    </tr>\n",
       "    <tr>\n",
       "      <th>8</th>\n",
       "      <td>2018-09</td>\n",
       "      <td>80360.0</td>\n",
       "      <td>37626.0</td>\n",
       "    </tr>\n",
       "    <tr>\n",
       "      <th>9</th>\n",
       "      <td>2018-10</td>\n",
       "      <td>101846.0</td>\n",
       "      <td>47778.0</td>\n",
       "    </tr>\n",
       "    <tr>\n",
       "      <th>10</th>\n",
       "      <td>2018-11</td>\n",
       "      <td>119801.0</td>\n",
       "      <td>56540.0</td>\n",
       "    </tr>\n",
       "    <tr>\n",
       "      <th>11</th>\n",
       "      <td>2018-12</td>\n",
       "      <td>150680.0</td>\n",
       "      <td>69324.0</td>\n",
       "    </tr>\n",
       "  </tbody>\n",
       "</table>\n",
       "</div>"
      ],
      "text/plain": [
       "plan    month      surf  ultimate\n",
       "0     2018-01     406.0     774.0\n",
       "1     2018-02    2673.0    2822.0\n",
       "2     2018-03    7590.0    3651.0\n",
       "3     2018-04   17577.0    7074.0\n",
       "4     2018-05   30768.0   11781.0\n",
       "5     2018-06   41836.0   17435.0\n",
       "6     2018-07   54448.0   25197.0\n",
       "7     2018-08   66438.0   29922.0\n",
       "8     2018-09   80360.0   37626.0\n",
       "9     2018-10  101846.0   47778.0\n",
       "10    2018-11  119801.0   56540.0\n",
       "11    2018-12  150680.0   69324.0"
      ]
     },
     "execution_count": 71,
     "metadata": {},
     "output_type": "execute_result"
    }
   ],
   "source": [
    "# Total durasi panggilan yang digunakan per bulan pada setiap paketnya\n",
    "\n",
    "total_duration = pd.pivot_table(df, index='month', columns='plan', values='duration', aggfunc='sum').reset_index()\n",
    "total_duration['month'] = total_duration['month'].astype(str)\n",
    "total_duration"
   ]
  },
  {
   "cell_type": "code",
   "execution_count": 72,
   "metadata": {},
   "outputs": [
    {
     "data": {
      "image/png": "[encoded data removed]",
      "text/plain": [
       "<Figure size 864x360 with 1 Axes>"
      ]
     },
     "metadata": {
      "needs_background": "light"
     },
     "output_type": "display_data"
    }
   ],
   "source": [
    "# Lineplot total durasi panggilan berdasarkan paket surf dan ultimate per bulannya\n",
    "\n",
    "plt.figure(figsize=(12, 5))\n",
    "sns.lineplot(data=total_duration, x=\"month\", y=\"surf\", color='#f0c75e', label='Surf')\n",
    "sns.lineplot(data=total_duration, x=\"month\", y=\"ultimate\", color='#77ab59', label='Ultimate')\n",
    "plt.legend()\n",
    "plt.xlabel('Bulan')\n",
    "plt.ylabel('Durasi Panggilan')\n",
    "plt.title('Total durasi panggilan berdsarkan paket surf dan Ultimate per bulan')\n",
    "plt.xticks(rotation=45)\n",
    "plt.show()"
   ]
  },
  {
   "cell_type": "code",
   "execution_count": 73,
   "metadata": {
    "scrolled": false
   },
   "outputs": [
    {
     "data": {
      "text/plain": [
       "<AxesSubplot:title={'center':'Distribusi Rata-Rata Durasi Panggilan di Setiap Paket'}, xlabel='Total Durasi (Menit)', ylabel='Frekuensi'>"
      ]
     },
     "execution_count": 73,
     "metadata": {},
     "output_type": "execute_result"
    },
    {
     "data": {
      "image/png": "[encoded data removed]",
      "text/plain": [
       "<Figure size 864x360 with 1 Axes>"
      ]
     },
     "metadata": {
      "needs_background": "light"
     },
     "output_type": "display_data"
    }
   ],
   "source": [
    "# Distirbusi Rata-Rata Durasi Panggilan di Setiap Paket Berdasarkan Dataframe\n",
    "plt.figure(figsize=(12, 5))\n",
    "\n",
    "plt.xlabel('Total Durasi (Menit)')\n",
    "plt.ylabel('Frekuensi')\n",
    "plt.title('Distribusi Rata-Rata Durasi Panggilan di Setiap Paket')\n",
    "sns.histplot(data=df, x=\"duration\", hue=\"plan\")"
   ]
  },
  {
   "cell_type": "markdown",
   "metadata": {},
   "source": [
    "[Hitung rata-rata dan variabel durasi panggilan untuk mempertimbangkan apakah pengguna pada paket yang berbeda memiliki perilaku penggunaan panggilan yang berbeda pula.]"
   ]
  },
  {
   "cell_type": "markdown",
   "metadata": {},
   "source": [
    "### Rata - rata durasi panggilan berdasarkan bulan dan paket"
   ]
  },
  {
   "cell_type": "code",
   "execution_count": 74,
   "metadata": {},
   "outputs": [],
   "source": [
    "# Hitung rata-rata durasi panggilan berdasarkan bulan dan paket\n",
    "avg_monthly_duration = pd.pivot_table(df, index='user_id', columns='plan', values='duration', aggfunc='mean').reset_index()"
   ]
  },
  {
   "cell_type": "code",
   "execution_count": 75,
   "metadata": {},
   "outputs": [
    {
     "data": {
      "text/html": [
       "<div>\n",
       "<style scoped>\n",
       "    .dataframe tbody tr th:only-of-type {\n",
       "        vertical-align: middle;\n",
       "    }\n",
       "\n",
       "    .dataframe tbody tr th {\n",
       "        vertical-align: top;\n",
       "    }\n",
       "\n",
       "    .dataframe thead th {\n",
       "        text-align: right;\n",
       "    }\n",
       "</style>\n",
       "<table border=\"1\" class=\"dataframe\">\n",
       "  <thead>\n",
       "    <tr style=\"text-align: right;\">\n",
       "      <th>plan</th>\n",
       "      <th>user_id</th>\n",
       "      <th>surf</th>\n",
       "    </tr>\n",
       "  </thead>\n",
       "  <tbody>\n",
       "    <tr>\n",
       "      <th>1</th>\n",
       "      <td>1001</td>\n",
       "      <td>345.60</td>\n",
       "    </tr>\n",
       "    <tr>\n",
       "      <th>2</th>\n",
       "      <td>1002</td>\n",
       "      <td>276.33</td>\n",
       "    </tr>\n",
       "    <tr>\n",
       "      <th>3</th>\n",
       "      <td>1003</td>\n",
       "      <td>1104.00</td>\n",
       "    </tr>\n",
       "    <tr>\n",
       "      <th>4</th>\n",
       "      <td>1004</td>\n",
       "      <td>346.50</td>\n",
       "    </tr>\n",
       "    <tr>\n",
       "      <th>5</th>\n",
       "      <td>1005</td>\n",
       "      <td>496.00</td>\n",
       "    </tr>\n",
       "    <tr>\n",
       "      <th>...</th>\n",
       "      <td>...</td>\n",
       "      <td>...</td>\n",
       "    </tr>\n",
       "    <tr>\n",
       "      <th>484</th>\n",
       "      <td>1494</td>\n",
       "      <td>473.50</td>\n",
       "    </tr>\n",
       "    <tr>\n",
       "      <th>485</th>\n",
       "      <td>1495</td>\n",
       "      <td>441.25</td>\n",
       "    </tr>\n",
       "    <tr>\n",
       "      <th>486</th>\n",
       "      <td>1496</td>\n",
       "      <td>291.00</td>\n",
       "    </tr>\n",
       "    <tr>\n",
       "      <th>488</th>\n",
       "      <td>1498</td>\n",
       "      <td>291.91</td>\n",
       "    </tr>\n",
       "    <tr>\n",
       "      <th>489</th>\n",
       "      <td>1499</td>\n",
       "      <td>383.75</td>\n",
       "    </tr>\n",
       "  </tbody>\n",
       "</table>\n",
       "<p>333 rows × 2 columns</p>\n",
       "</div>"
      ],
      "text/plain": [
       "plan  user_id     surf\n",
       "1        1001   345.60\n",
       "2        1002   276.33\n",
       "3        1003  1104.00\n",
       "4        1004   346.50\n",
       "5        1005   496.00\n",
       "..        ...      ...\n",
       "484      1494   473.50\n",
       "485      1495   441.25\n",
       "486      1496   291.00\n",
       "488      1498   291.91\n",
       "489      1499   383.75\n",
       "\n",
       "[333 rows x 2 columns]"
      ]
     },
     "execution_count": 75,
     "metadata": {},
     "output_type": "execute_result"
    }
   ],
   "source": [
    "# Rata-rata durasi panggilan paket surf perbulan\n",
    "avg_surf_duration = avg_monthly_duration .loc[:, ['user_id', 'surf']].dropna().round(2)\n",
    "avg_surf_duration"
   ]
  },
  {
   "cell_type": "code",
   "execution_count": 76,
   "metadata": {},
   "outputs": [
    {
     "data": {
      "text/html": [
       "<div>\n",
       "<style scoped>\n",
       "    .dataframe tbody tr th:only-of-type {\n",
       "        vertical-align: middle;\n",
       "    }\n",
       "\n",
       "    .dataframe tbody tr th {\n",
       "        vertical-align: top;\n",
       "    }\n",
       "\n",
       "    .dataframe thead th {\n",
       "        text-align: right;\n",
       "    }\n",
       "</style>\n",
       "<table border=\"1\" class=\"dataframe\">\n",
       "  <thead>\n",
       "    <tr style=\"text-align: right;\">\n",
       "      <th>plan</th>\n",
       "      <th>user_id</th>\n",
       "      <th>ultimate</th>\n",
       "    </tr>\n",
       "  </thead>\n",
       "  <tbody>\n",
       "    <tr>\n",
       "      <th>0</th>\n",
       "      <td>1000</td>\n",
       "      <td>124.00</td>\n",
       "    </tr>\n",
       "    <tr>\n",
       "      <th>6</th>\n",
       "      <td>1006</td>\n",
       "      <td>34.50</td>\n",
       "    </tr>\n",
       "    <tr>\n",
       "      <th>8</th>\n",
       "      <td>1008</td>\n",
       "      <td>518.67</td>\n",
       "    </tr>\n",
       "    <tr>\n",
       "      <th>11</th>\n",
       "      <td>1011</td>\n",
       "      <td>415.29</td>\n",
       "    </tr>\n",
       "    <tr>\n",
       "      <th>13</th>\n",
       "      <td>1013</td>\n",
       "      <td>219.00</td>\n",
       "    </tr>\n",
       "    <tr>\n",
       "      <th>...</th>\n",
       "      <td>...</td>\n",
       "      <td>...</td>\n",
       "    </tr>\n",
       "    <tr>\n",
       "      <th>472</th>\n",
       "      <td>1482</td>\n",
       "      <td>280.33</td>\n",
       "    </tr>\n",
       "    <tr>\n",
       "      <th>477</th>\n",
       "      <td>1487</td>\n",
       "      <td>416.00</td>\n",
       "    </tr>\n",
       "    <tr>\n",
       "      <th>480</th>\n",
       "      <td>1490</td>\n",
       "      <td>373.00</td>\n",
       "    </tr>\n",
       "    <tr>\n",
       "      <th>483</th>\n",
       "      <td>1493</td>\n",
       "      <td>465.00</td>\n",
       "    </tr>\n",
       "    <tr>\n",
       "      <th>487</th>\n",
       "      <td>1497</td>\n",
       "      <td>300.00</td>\n",
       "    </tr>\n",
       "  </tbody>\n",
       "</table>\n",
       "<p>157 rows × 2 columns</p>\n",
       "</div>"
      ],
      "text/plain": [
       "plan  user_id  ultimate\n",
       "0        1000    124.00\n",
       "6        1006     34.50\n",
       "8        1008    518.67\n",
       "11       1011    415.29\n",
       "13       1013    219.00\n",
       "..        ...       ...\n",
       "472      1482    280.33\n",
       "477      1487    416.00\n",
       "480      1490    373.00\n",
       "483      1493    465.00\n",
       "487      1497    300.00\n",
       "\n",
       "[157 rows x 2 columns]"
      ]
     },
     "execution_count": 76,
     "metadata": {},
     "output_type": "execute_result"
    }
   ],
   "source": [
    "# Rata-rata durasi panggilan paket ultimate perbulan\n",
    "avg_ult_duration = avg_monthly_duration .loc[:, ['user_id', 'ultimate']].dropna().round(2)\n",
    "avg_ult_duration"
   ]
  },
  {
   "cell_type": "code",
   "execution_count": 77,
   "metadata": {
    "scrolled": true
   },
   "outputs": [
    {
     "data": {
      "image/png": "[encoded data removed]",
      "text/plain": [
       "<Figure size 1080x360 with 2 Axes>"
      ]
     },
     "metadata": {
      "needs_background": "light"
     },
     "output_type": "display_data"
    }
   ],
   "source": [
    "# Histogram perbandingan rata rata durasi panggilan pada paket surf dan ultimate\n",
    "plt.figure(figsize=(15, 5))\n",
    "plt.subplot(1, 2, 1)\n",
    "plt.title('Surf')\n",
    "sns.histplot(avg_surf_duration['surf'])\n",
    "\n",
    "plt.subplot(1, 2, 2)\n",
    "plt.title('Ultimate')\n",
    "sns.histplot(avg_ult_duration['ultimate'])\n",
    "plt.show()"
   ]
  },
  {
   "cell_type": "code",
   "execution_count": 78,
   "metadata": {},
   "outputs": [
    {
     "name": "stdout",
     "output_type": "stream",
     "text": [
      "Surf:\n",
      "Standar Deviasinya 199.4\n",
      "Varians nya 39748.0\n",
      "\n",
      "Ultimate:\n",
      "Standar Deviasinya 200.4\n",
      "Varians nya 40143.0\n"
     ]
    }
   ],
   "source": [
    "# Varians dan Standar deviasi dari rata rata durasi panggilan paket surf dan utimate\n",
    "# Surf\n",
    "surf_std = round(avg_surf_duration['surf'].std(), 1)\n",
    "surf_var = round(avg_surf_duration['surf'].var(), 1)\n",
    "print('Surf:')\n",
    "print(f'Standar Deviasinya {surf_std}')\n",
    "print(f'Varians nya {surf_var}')\n",
    "print()\n",
    "ulti_std = round(avg_ult_duration['ultimate'].std(), 1)\n",
    "ulti_var = round(avg_ult_duration['ultimate'].var(), 1)\n",
    "# ultimate\n",
    "print('Ultimate:')\n",
    "print(f'Standar Deviasinya {ulti_std}')\n",
    "print(f'Varians nya {ulti_var}')"
   ]
  },
  {
   "cell_type": "markdown",
   "metadata": {},
   "source": [
    "[Rumuskan kesimpulan tentang perilaku pengguna dalam melakukan panggilan. Apakah perilaku mereka berbeda antara setiap paketnya?]"
   ]
  },
  {
   "cell_type": "markdown",
   "metadata": {},
   "source": [
    "**DESCRIPTION**\n",
    "\n",
    "Perilaku Pengguna dalam Panggilan pada setiap paketnya dapat disimpulkan sebagai berikut\n",
    "\n",
    "* Paket Surf:\n",
    "\n",
    "1. Rata-rata durasi panggilan per bulan berkisar antara 100 hingga 500 menit.\n",
    "\n",
    "2. Standar deviasi (sekitar 199.4) dan Varians (sekitar 39748.0 yang relatif tinggi menunjukkan tingginya variasi dalam durasi panggilan di antara pengguna paket Surf.\n",
    "\n",
    "3.  Pengguna pada paket \"Surf\" cenderung memiliki durasi panggilan yang lebih bervariasi dibandingkan dengan pengguna pada paket \"Ultimate\".\n",
    "\n",
    "* Paket Ultimate:\n",
    "\n",
    "1. Rata-rata durasi panggilan per bulan berkisar antara 100 hingga 700 menit.\n",
    "\n",
    "2. Standar deviasi (sekitar 200.4) dan  Varians (sekitar 40143.0) yang cukup tinggi menunjukkan tingginya variasi yang signifikan dalam durasi panggilan di antara pengguna paket Ultimate.\n",
    "\n",
    "3. Pengguna pada paket \"Ultimate\" memiliki standar deviasi yang sedikit lebih tinggi daripada pengguna pada paket \"Surf\", menunjukkan keragaman yang lebih besar dalam durasi panggilan.\n",
    "\n",
    "Kesimpulan:\n",
    "\n",
    "\n",
    "* Perilaku pengguna dalam melakukan panggilan pada kedua paket, Surf dan Ultimate, menunjukkan variasi yang signifikan dalam durasi panggilan per bulan. \n",
    "\n",
    "* Meskipun rata-rata durasi panggilan pada paket Ultimate cenderung lebih tinggi dibandingkan dengan paket Surf, namun keduanya memiliki variasi yang besar dalam penggunaan durasi panggilan. \n",
    "\n",
    "* Paket \"Ultimate\" cenderung memiliki rata-rata durasi panggilan yang lebih tinggi, namun dengan variasi yang juga lebih tinggi dibandingkan dengan paket \"Surf\"\n",
    "\n",
    "* Sementara itu, pengguna paket \"Surf\" memiliki rata-rata durasi panggilan yang lebih rendah, tetapi dengan variasi yang lebih rendah juga."
   ]
  },
  {
   "cell_type": "markdown",
   "metadata": {},
   "source": [
    "<div class=\"alert alert-success\">\n",
    "<b>Code Reviewers's comment v.1</b> <a class=\"tocSkip\"></a>\n",
    "\n",
    "Bagus, code yang dijalankan sudah sesuai dengan instruksi dari project.\n",
    "\n",
    "</div>"
   ]
  },
  {
   "cell_type": "markdown",
   "metadata": {},
   "source": [
    " "
   ]
  },
  {
   "cell_type": "markdown",
   "metadata": {},
   "source": [
    "## Data Messages (Pesan/SMS) <a id='msg_eda'></a>"
   ]
  },
  {
   "cell_type": "markdown",
   "metadata": {},
   "source": [
    "### Rata - rata SMS yang terkirim per bulan"
   ]
  },
  {
   "cell_type": "code",
   "execution_count": 79,
   "metadata": {},
   "outputs": [
    {
     "data": {
      "text/html": [
       "<div>\n",
       "<style scoped>\n",
       "    .dataframe tbody tr th:only-of-type {\n",
       "        vertical-align: middle;\n",
       "    }\n",
       "\n",
       "    .dataframe tbody tr th {\n",
       "        vertical-align: top;\n",
       "    }\n",
       "\n",
       "    .dataframe thead th {\n",
       "        text-align: right;\n",
       "    }\n",
       "</style>\n",
       "<table border=\"1\" class=\"dataframe\">\n",
       "  <thead>\n",
       "    <tr style=\"text-align: right;\">\n",
       "      <th>plan</th>\n",
       "      <th>month</th>\n",
       "      <th>surf</th>\n",
       "      <th>ultimate</th>\n",
       "    </tr>\n",
       "  </thead>\n",
       "  <tbody>\n",
       "    <tr>\n",
       "      <th>0</th>\n",
       "      <td>2018-01</td>\n",
       "      <td>10.500000</td>\n",
       "      <td>15.500000</td>\n",
       "    </tr>\n",
       "    <tr>\n",
       "      <th>1</th>\n",
       "      <td>2018-02</td>\n",
       "      <td>12.000000</td>\n",
       "      <td>21.571429</td>\n",
       "    </tr>\n",
       "    <tr>\n",
       "      <th>2</th>\n",
       "      <td>2018-03</td>\n",
       "      <td>15.260870</td>\n",
       "      <td>20.250000</td>\n",
       "    </tr>\n",
       "    <tr>\n",
       "      <th>3</th>\n",
       "      <td>2018-04</td>\n",
       "      <td>17.400000</td>\n",
       "      <td>22.047619</td>\n",
       "    </tr>\n",
       "    <tr>\n",
       "      <th>4</th>\n",
       "      <td>2018-05</td>\n",
       "      <td>24.012987</td>\n",
       "      <td>32.103448</td>\n",
       "    </tr>\n",
       "    <tr>\n",
       "      <th>5</th>\n",
       "      <td>2018-06</td>\n",
       "      <td>25.298969</td>\n",
       "      <td>29.340426</td>\n",
       "    </tr>\n",
       "    <tr>\n",
       "      <th>6</th>\n",
       "      <td>2018-07</td>\n",
       "      <td>27.033058</td>\n",
       "      <td>32.830508</td>\n",
       "    </tr>\n",
       "    <tr>\n",
       "      <th>7</th>\n",
       "      <td>2018-08</td>\n",
       "      <td>28.777778</td>\n",
       "      <td>38.478873</td>\n",
       "    </tr>\n",
       "    <tr>\n",
       "      <th>8</th>\n",
       "      <td>2018-09</td>\n",
       "      <td>30.762887</td>\n",
       "      <td>37.895349</td>\n",
       "    </tr>\n",
       "    <tr>\n",
       "      <th>9</th>\n",
       "      <td>2018-10</td>\n",
       "      <td>33.839662</td>\n",
       "      <td>39.443396</td>\n",
       "    </tr>\n",
       "    <tr>\n",
       "      <th>10</th>\n",
       "      <td>2018-11</td>\n",
       "      <td>32.385159</td>\n",
       "      <td>38.606299</td>\n",
       "    </tr>\n",
       "    <tr>\n",
       "      <th>11</th>\n",
       "      <td>2018-12</td>\n",
       "      <td>38.600629</td>\n",
       "      <td>45.006623</td>\n",
       "    </tr>\n",
       "  </tbody>\n",
       "</table>\n",
       "</div>"
      ],
      "text/plain": [
       "plan    month       surf   ultimate\n",
       "0     2018-01  10.500000  15.500000\n",
       "1     2018-02  12.000000  21.571429\n",
       "2     2018-03  15.260870  20.250000\n",
       "3     2018-04  17.400000  22.047619\n",
       "4     2018-05  24.012987  32.103448\n",
       "5     2018-06  25.298969  29.340426\n",
       "6     2018-07  27.033058  32.830508\n",
       "7     2018-08  28.777778  38.478873\n",
       "8     2018-09  30.762887  37.895349\n",
       "9     2018-10  33.839662  39.443396\n",
       "10    2018-11  32.385159  38.606299\n",
       "11    2018-12  38.600629  45.006623"
      ]
     },
     "execution_count": 79,
     "metadata": {},
     "output_type": "execute_result"
    }
   ],
   "source": [
    "# Rata-rata SMS (pesan teks) yang dikirim setiap paket per bulannya\n",
    "avg_sms = pd.pivot_table(df, index='month', columns='plan', values='msg_count', aggfunc='mean').reset_index()\n",
    "avg_sms['month'] = avg_duration['month'].astype(str)\n",
    "avg_sms"
   ]
  },
  {
   "cell_type": "code",
   "execution_count": 80,
   "metadata": {},
   "outputs": [
    {
     "data": {
      "image/png": "[encoded data removed]",
      "text/plain": [
       "<Figure size 864x432 with 1 Axes>"
      ]
     },
     "metadata": {
      "needs_background": "light"
     },
     "output_type": "display_data"
    }
   ],
   "source": [
    "# Diagram Batang dari Rata-rata SMS terkirim setiap paket per bulannya\n",
    "\n",
    "avg_sms.plot(x='month', y=['surf', 'ultimate'], kind='bar', figsize=(12, 6))\n",
    "plt.xlabel('Bulan')\n",
    "plt.ylabel('SMS terkirim')\n",
    "plt.title(' Rata-rata SMS terkirim pada Paket Surf dan Ultimate per Bulan')  \n",
    "plt.legend(title='Paket', title_fontsize='12', labels=['Surf', 'Ultimate'], fontsize='10')\n",
    "plt.tight_layout()\n",
    "plt.show() "
   ]
  },
  {
   "cell_type": "markdown",
   "metadata": {},
   "source": [
    "### Total SMS yang terkirim per bulan"
   ]
  },
  {
   "cell_type": "code",
   "execution_count": 81,
   "metadata": {},
   "outputs": [
    {
     "data": {
      "text/html": [
       "<div>\n",
       "<style scoped>\n",
       "    .dataframe tbody tr th:only-of-type {\n",
       "        vertical-align: middle;\n",
       "    }\n",
       "\n",
       "    .dataframe tbody tr th {\n",
       "        vertical-align: top;\n",
       "    }\n",
       "\n",
       "    .dataframe thead th {\n",
       "        text-align: right;\n",
       "    }\n",
       "</style>\n",
       "<table border=\"1\" class=\"dataframe\">\n",
       "  <thead>\n",
       "    <tr style=\"text-align: right;\">\n",
       "      <th>plan</th>\n",
       "      <th>month</th>\n",
       "      <th>surf</th>\n",
       "      <th>ultimate</th>\n",
       "    </tr>\n",
       "  </thead>\n",
       "  <tbody>\n",
       "    <tr>\n",
       "      <th>0</th>\n",
       "      <td>2018-01</td>\n",
       "      <td>21.0</td>\n",
       "      <td>62.0</td>\n",
       "    </tr>\n",
       "    <tr>\n",
       "      <th>1</th>\n",
       "      <td>2018-02</td>\n",
       "      <td>108.0</td>\n",
       "      <td>151.0</td>\n",
       "    </tr>\n",
       "    <tr>\n",
       "      <th>2</th>\n",
       "      <td>2018-03</td>\n",
       "      <td>351.0</td>\n",
       "      <td>243.0</td>\n",
       "    </tr>\n",
       "    <tr>\n",
       "      <th>3</th>\n",
       "      <td>2018-04</td>\n",
       "      <td>870.0</td>\n",
       "      <td>463.0</td>\n",
       "    </tr>\n",
       "    <tr>\n",
       "      <th>4</th>\n",
       "      <td>2018-05</td>\n",
       "      <td>1849.0</td>\n",
       "      <td>931.0</td>\n",
       "    </tr>\n",
       "    <tr>\n",
       "      <th>5</th>\n",
       "      <td>2018-06</td>\n",
       "      <td>2454.0</td>\n",
       "      <td>1379.0</td>\n",
       "    </tr>\n",
       "    <tr>\n",
       "      <th>6</th>\n",
       "      <td>2018-07</td>\n",
       "      <td>3271.0</td>\n",
       "      <td>1937.0</td>\n",
       "    </tr>\n",
       "    <tr>\n",
       "      <th>7</th>\n",
       "      <td>2018-08</td>\n",
       "      <td>4662.0</td>\n",
       "      <td>2732.0</td>\n",
       "    </tr>\n",
       "    <tr>\n",
       "      <th>8</th>\n",
       "      <td>2018-09</td>\n",
       "      <td>5968.0</td>\n",
       "      <td>3259.0</td>\n",
       "    </tr>\n",
       "    <tr>\n",
       "      <th>9</th>\n",
       "      <td>2018-10</td>\n",
       "      <td>8020.0</td>\n",
       "      <td>4181.0</td>\n",
       "    </tr>\n",
       "    <tr>\n",
       "      <th>10</th>\n",
       "      <td>2018-11</td>\n",
       "      <td>9165.0</td>\n",
       "      <td>4903.0</td>\n",
       "    </tr>\n",
       "    <tr>\n",
       "      <th>11</th>\n",
       "      <td>2018-12</td>\n",
       "      <td>12275.0</td>\n",
       "      <td>6796.0</td>\n",
       "    </tr>\n",
       "  </tbody>\n",
       "</table>\n",
       "</div>"
      ],
      "text/plain": [
       "plan    month     surf  ultimate\n",
       "0     2018-01     21.0      62.0\n",
       "1     2018-02    108.0     151.0\n",
       "2     2018-03    351.0     243.0\n",
       "3     2018-04    870.0     463.0\n",
       "4     2018-05   1849.0     931.0\n",
       "5     2018-06   2454.0    1379.0\n",
       "6     2018-07   3271.0    1937.0\n",
       "7     2018-08   4662.0    2732.0\n",
       "8     2018-09   5968.0    3259.0\n",
       "9     2018-10   8020.0    4181.0\n",
       "10    2018-11   9165.0    4903.0\n",
       "11    2018-12  12275.0    6796.0"
      ]
     },
     "execution_count": 81,
     "metadata": {},
     "output_type": "execute_result"
    }
   ],
   "source": [
    "# Total SMS yang dikirim per bulan pada setiap paketnya\n",
    "total_sms = pd.pivot_table(df, index='month', columns='plan', values='msg_count', aggfunc='sum').reset_index()\n",
    "total_sms['month'] = avg_duration['month'].astype(str)\n",
    "total_sms"
   ]
  },
  {
   "cell_type": "code",
   "execution_count": 82,
   "metadata": {},
   "outputs": [
    {
     "data": {
      "image/png": "[encoded data removed]",
      "text/plain": [
       "<Figure size 864x360 with 1 Axes>"
      ]
     },
     "metadata": {
      "needs_background": "light"
     },
     "output_type": "display_data"
    }
   ],
   "source": [
    "# Lineplot total sms terkirim berdasarkan paket surf dan ultimate per bulannya\n",
    "plt.figure(figsize=(12, 5))\n",
    "sns.lineplot(data=total_sms, x=\"month\", y=\"surf\", color= '#f0c75e', label='Surf')\n",
    "sns.lineplot(data=total_sms, x=\"month\", y=\"ultimate\", color='#77ab59', label='Ultimate')\n",
    "plt.legend()\n",
    "plt.title('Total SMS terkirim dari Paket Surf dan Ultimate per Bulan')\n",
    "plt.xlabel('Bulan')\n",
    "plt.ylabel('sms terkirim')\n",
    "plt.xticks(rotation=45)\n",
    "plt.show()"
   ]
  },
  {
   "cell_type": "markdown",
   "metadata": {},
   "source": [
    "### Rata - rata SMS yang terkirim berdasarkan bulan dan paket"
   ]
  },
  {
   "cell_type": "code",
   "execution_count": 83,
   "metadata": {},
   "outputs": [
    {
     "data": {
      "text/plain": [
       "<AxesSubplot:title={'center':'Distribusi Rata-Rata SMS terkirim di Setiap Paket'}, xlabel='Total SMS terkirim', ylabel='Frekuensi'>"
      ]
     },
     "execution_count": 83,
     "metadata": {},
     "output_type": "execute_result"
    },
    {
     "data": {
      "image/png": "[encoded data removed]",
      "text/plain": [
       "<Figure size 864x360 with 1 Axes>"
      ]
     },
     "metadata": {
      "needs_background": "light"
     },
     "output_type": "display_data"
    }
   ],
   "source": [
    "# Distirbusi Rata-Rata SMS terkirim di Setiap Paket berdasarkan dataframe\n",
    "plt.figure(figsize=(12, 5))\n",
    "plt.xlabel('Total SMS terkirim')\n",
    "plt.ylabel('Frekuensi')\n",
    "plt.title('Distribusi Rata-Rata SMS terkirim di Setiap Paket')\n",
    "sns.histplot(data=df, x=\"msg_count\", hue=\"plan\")"
   ]
  },
  {
   "cell_type": "code",
   "execution_count": 84,
   "metadata": {},
   "outputs": [],
   "source": [
    "# Hitung rata-rata SMS terkirim berdasarkan bulan dan paket\n",
    "avg_monthly_messages = pd.pivot_table(df, index='user_id', columns='plan', values='msg_count', aggfunc='mean').reset_index()"
   ]
  },
  {
   "cell_type": "code",
   "execution_count": 85,
   "metadata": {
    "scrolled": true
   },
   "outputs": [
    {
     "data": {
      "text/html": [
       "<div>\n",
       "<style scoped>\n",
       "    .dataframe tbody tr th:only-of-type {\n",
       "        vertical-align: middle;\n",
       "    }\n",
       "\n",
       "    .dataframe tbody tr th {\n",
       "        vertical-align: top;\n",
       "    }\n",
       "\n",
       "    .dataframe thead th {\n",
       "        text-align: right;\n",
       "    }\n",
       "</style>\n",
       "<table border=\"1\" class=\"dataframe\">\n",
       "  <thead>\n",
       "    <tr style=\"text-align: right;\">\n",
       "      <th>plan</th>\n",
       "      <th>user_id</th>\n",
       "      <th>surf</th>\n",
       "    </tr>\n",
       "  </thead>\n",
       "  <tbody>\n",
       "    <tr>\n",
       "      <th>1</th>\n",
       "      <td>1001</td>\n",
       "      <td>41.40</td>\n",
       "    </tr>\n",
       "    <tr>\n",
       "      <th>2</th>\n",
       "      <td>1002</td>\n",
       "      <td>29.33</td>\n",
       "    </tr>\n",
       "    <tr>\n",
       "      <th>3</th>\n",
       "      <td>1003</td>\n",
       "      <td>50.00</td>\n",
       "    </tr>\n",
       "    <tr>\n",
       "      <th>4</th>\n",
       "      <td>1004</td>\n",
       "      <td>22.12</td>\n",
       "    </tr>\n",
       "    <tr>\n",
       "      <th>5</th>\n",
       "      <td>1005</td>\n",
       "      <td>11.00</td>\n",
       "    </tr>\n",
       "    <tr>\n",
       "      <th>...</th>\n",
       "      <td>...</td>\n",
       "      <td>...</td>\n",
       "    </tr>\n",
       "    <tr>\n",
       "      <th>484</th>\n",
       "      <td>1494</td>\n",
       "      <td>29.00</td>\n",
       "    </tr>\n",
       "    <tr>\n",
       "      <th>485</th>\n",
       "      <td>1495</td>\n",
       "      <td>0.00</td>\n",
       "    </tr>\n",
       "    <tr>\n",
       "      <th>486</th>\n",
       "      <td>1496</td>\n",
       "      <td>13.00</td>\n",
       "    </tr>\n",
       "    <tr>\n",
       "      <th>488</th>\n",
       "      <td>1498</td>\n",
       "      <td>0.00</td>\n",
       "    </tr>\n",
       "    <tr>\n",
       "      <th>489</th>\n",
       "      <td>1499</td>\n",
       "      <td>0.00</td>\n",
       "    </tr>\n",
       "  </tbody>\n",
       "</table>\n",
       "<p>333 rows × 2 columns</p>\n",
       "</div>"
      ],
      "text/plain": [
       "plan  user_id   surf\n",
       "1        1001  41.40\n",
       "2        1002  29.33\n",
       "3        1003  50.00\n",
       "4        1004  22.12\n",
       "5        1005  11.00\n",
       "..        ...    ...\n",
       "484      1494  29.00\n",
       "485      1495   0.00\n",
       "486      1496  13.00\n",
       "488      1498   0.00\n",
       "489      1499   0.00\n",
       "\n",
       "[333 rows x 2 columns]"
      ]
     },
     "execution_count": 85,
     "metadata": {},
     "output_type": "execute_result"
    }
   ],
   "source": [
    "# Rata-rata SMS terkirim pada paket surf perbulan\n",
    "avg_surf_messages = avg_monthly_messages .loc[:, ['user_id', 'surf']].dropna().round(2)\n",
    "avg_surf_messages\n"
   ]
  },
  {
   "cell_type": "code",
   "execution_count": 86,
   "metadata": {},
   "outputs": [
    {
     "data": {
      "text/html": [
       "<div>\n",
       "<style scoped>\n",
       "    .dataframe tbody tr th:only-of-type {\n",
       "        vertical-align: middle;\n",
       "    }\n",
       "\n",
       "    .dataframe tbody tr th {\n",
       "        vertical-align: top;\n",
       "    }\n",
       "\n",
       "    .dataframe thead th {\n",
       "        text-align: right;\n",
       "    }\n",
       "</style>\n",
       "<table border=\"1\" class=\"dataframe\">\n",
       "  <thead>\n",
       "    <tr style=\"text-align: right;\">\n",
       "      <th>plan</th>\n",
       "      <th>user_id</th>\n",
       "      <th>ultimate</th>\n",
       "    </tr>\n",
       "  </thead>\n",
       "  <tbody>\n",
       "    <tr>\n",
       "      <th>0</th>\n",
       "      <td>1000</td>\n",
       "      <td>11.00</td>\n",
       "    </tr>\n",
       "    <tr>\n",
       "      <th>6</th>\n",
       "      <td>1006</td>\n",
       "      <td>77.00</td>\n",
       "    </tr>\n",
       "    <tr>\n",
       "      <th>8</th>\n",
       "      <td>1008</td>\n",
       "      <td>28.00</td>\n",
       "    </tr>\n",
       "    <tr>\n",
       "      <th>11</th>\n",
       "      <td>1011</td>\n",
       "      <td>53.00</td>\n",
       "    </tr>\n",
       "    <tr>\n",
       "      <th>13</th>\n",
       "      <td>1013</td>\n",
       "      <td>16.00</td>\n",
       "    </tr>\n",
       "    <tr>\n",
       "      <th>...</th>\n",
       "      <td>...</td>\n",
       "      <td>...</td>\n",
       "    </tr>\n",
       "    <tr>\n",
       "      <th>472</th>\n",
       "      <td>1482</td>\n",
       "      <td>31.33</td>\n",
       "    </tr>\n",
       "    <tr>\n",
       "      <th>477</th>\n",
       "      <td>1487</td>\n",
       "      <td>66.00</td>\n",
       "    </tr>\n",
       "    <tr>\n",
       "      <th>480</th>\n",
       "      <td>1490</td>\n",
       "      <td>0.00</td>\n",
       "    </tr>\n",
       "    <tr>\n",
       "      <th>483</th>\n",
       "      <td>1493</td>\n",
       "      <td>0.00</td>\n",
       "    </tr>\n",
       "    <tr>\n",
       "      <th>487</th>\n",
       "      <td>1497</td>\n",
       "      <td>50.00</td>\n",
       "    </tr>\n",
       "  </tbody>\n",
       "</table>\n",
       "<p>157 rows × 2 columns</p>\n",
       "</div>"
      ],
      "text/plain": [
       "plan  user_id  ultimate\n",
       "0        1000     11.00\n",
       "6        1006     77.00\n",
       "8        1008     28.00\n",
       "11       1011     53.00\n",
       "13       1013     16.00\n",
       "..        ...       ...\n",
       "472      1482     31.33\n",
       "477      1487     66.00\n",
       "480      1490      0.00\n",
       "483      1493      0.00\n",
       "487      1497     50.00\n",
       "\n",
       "[157 rows x 2 columns]"
      ]
     },
     "execution_count": 86,
     "metadata": {},
     "output_type": "execute_result"
    }
   ],
   "source": [
    "# Rata-rata SMS terkirim pada paket ultimate perbulan\n",
    "avg_ult_messages = avg_monthly_messages.loc[:, ['user_id', 'ultimate']].dropna().round(2)\n",
    "avg_ult_messages"
   ]
  },
  {
   "cell_type": "code",
   "execution_count": 87,
   "metadata": {},
   "outputs": [
    {
     "data": {
      "image/png": "[encoded data removed]",
      "text/plain": [
       "<Figure size 1080x360 with 2 Axes>"
      ]
     },
     "metadata": {
      "needs_background": "light"
     },
     "output_type": "display_data"
    }
   ],
   "source": [
    "# Histogram perbandingan rata rata SMS terkirim pada paket surf dan ultimate\n",
    "plt.figure(figsize=(15, 5))\n",
    "plt.subplot(1, 2, 1)\n",
    "plt.title('Surf')\n",
    "sns.histplot(avg_surf_messages['surf'])\n",
    "\n",
    "plt.subplot(1, 2, 2)\n",
    "plt.title('Ultimate')\n",
    "sns.histplot(avg_ult_messages['ultimate'])\n",
    "plt.show()"
   ]
  },
  {
   "cell_type": "code",
   "execution_count": 88,
   "metadata": {},
   "outputs": [
    {
     "name": "stdout",
     "output_type": "stream",
     "text": [
      "Surf:\n",
      "Standar Deviasinya 31.0\n",
      "Varians nya 962.1\n",
      "\n",
      "Ultimate:\n",
      "Standar Deviasinya 32.9\n",
      "Varians nya 1084.2\n"
     ]
    }
   ],
   "source": [
    "# Varians dan Standar deviasi dari rata rata SMS terkirim dari paket surf dan utimate\n",
    "# Surf\n",
    "surf_std = round(avg_surf_messages['surf'].std(), 1)\n",
    "surf_var = round(avg_surf_messages['surf'].var(), 1)\n",
    "print('Surf:')\n",
    "print(f'Standar Deviasinya {surf_std}')\n",
    "print(f'Varians nya {surf_var}')\n",
    "print()\n",
    "ulti_std = round(avg_ult_messages['ultimate'].std(), 1)\n",
    "ulti_var = round(avg_ult_messages['ultimate'].var(), 1)\n",
    "# ultimate\n",
    "print('Ultimate:')\n",
    "print(f'Standar Deviasinya {ulti_std}')\n",
    "print(f'Varians nya {ulti_var}')\n"
   ]
  },
  {
   "cell_type": "markdown",
   "metadata": {},
   "source": [
    "[Rumuskan kesimpulan tentang perilaku pengguna terkait pengiriman pesan. Apakah perilaku mereka berbeda antara setiap paketnya?]"
   ]
  },
  {
   "cell_type": "markdown",
   "metadata": {},
   "source": [
    "**DESCRIPTION**\n",
    "\n",
    "Perilaku Pengguna dalam data SMS pada setiap paketnya dapat disimpulkan sebagai berikut\n",
    "\n",
    "* Paket Surf:\n",
    "\n",
    "1. Rata-rata SMS berkisar antara 10 hingga 40 an SMS per bulan.\n",
    "2. Pengguna pada paket \"Surf\" memiliki rata-rata SMS yang lebih rendah dibandingkan dengan pengguna paket \"Ultimate\".\n",
    "\n",
    "* Paket Ultimate:\n",
    "\n",
    "1. Rata-rata SMS berkisar antara 20 hingga 50 SMS per bulan.\n",
    "2. Pengguna pada paket \"Ultimate\" memiliki rata-rata SMS yang lebih tinggi dibandingkan dengan pengguna paket \"Surf\".\n",
    "\n",
    "* Pengguna pada paket \"Surf\" memiliki variabilitas yang lebih tinggi dalam jumlah SMS yang mereka kirim, ditunjukkan oleh standar deviasi yang lebih tinggi (31.0) dibandingkan dengan pengguna pada paket \"Ultimate\" (29,6).\n",
    "\n",
    "* Meskipun varians dan rata- rata pengguna paket \"Ultimate\" lebih tinggi, standar deviasi yang rendah menunjukkan bahwa pengguna pada paket ini memiliki tingkat variabilitas yang lebih rendah dalam pengiriman SMS.\n",
    "\n",
    "* Perilaku pengguna dalam pengiriman pesan (SMS) berbeda antara setiap paket. Pengguna pada paket \"Ultimate\" cenderung mengirim lebih banyak SMS secara rata-rata per bulan dibandingkan dengan pengguna paket \"Surf\". Selain itu, pengguna pada paket \"Ultimate\" juga memiliki variasi yang lebih rendah dalam pengiriman SMS mereka."
   ]
  },
  {
   "cell_type": "markdown",
   "metadata": {},
   "source": [
    "<div class=\"alert alert-success\">\n",
    "<b>Code Reviewers's comment v.1</b> <a class=\"tocSkip\"></a>\n",
    "\n",
    "Bagus, code yang dijalankan sudah sesuai dengan instruksi dari project.\n",
    "\n",
    "</div>"
   ]
  },
  {
   "cell_type": "markdown",
   "metadata": {},
   "source": [
    "## Data Internet <a id='internet_eda'></a>"
   ]
  },
  {
   "cell_type": "markdown",
   "metadata": {},
   "source": [
    "### Rata - rata pemakaian internet per bulan"
   ]
  },
  {
   "cell_type": "code",
   "execution_count": 89,
   "metadata": {},
   "outputs": [
    {
     "data": {
      "text/html": [
       "<div>\n",
       "<style scoped>\n",
       "    .dataframe tbody tr th:only-of-type {\n",
       "        vertical-align: middle;\n",
       "    }\n",
       "\n",
       "    .dataframe tbody tr th {\n",
       "        vertical-align: top;\n",
       "    }\n",
       "\n",
       "    .dataframe thead th {\n",
       "        text-align: right;\n",
       "    }\n",
       "</style>\n",
       "<table border=\"1\" class=\"dataframe\">\n",
       "  <thead>\n",
       "    <tr style=\"text-align: right;\">\n",
       "      <th>plan</th>\n",
       "      <th>month</th>\n",
       "      <th>surf</th>\n",
       "      <th>ultimate</th>\n",
       "    </tr>\n",
       "  </thead>\n",
       "  <tbody>\n",
       "    <tr>\n",
       "      <th>0</th>\n",
       "      <td>2018-01</td>\n",
       "      <td>5.00</td>\n",
       "      <td>7.25</td>\n",
       "    </tr>\n",
       "    <tr>\n",
       "      <th>1</th>\n",
       "      <td>2018-02</td>\n",
       "      <td>12.22</td>\n",
       "      <td>17.29</td>\n",
       "    </tr>\n",
       "    <tr>\n",
       "      <th>2</th>\n",
       "      <td>2018-03</td>\n",
       "      <td>13.57</td>\n",
       "      <td>18.42</td>\n",
       "    </tr>\n",
       "    <tr>\n",
       "      <th>3</th>\n",
       "      <td>2018-04</td>\n",
       "      <td>12.22</td>\n",
       "      <td>16.29</td>\n",
       "    </tr>\n",
       "    <tr>\n",
       "      <th>4</th>\n",
       "      <td>2018-05</td>\n",
       "      <td>14.10</td>\n",
       "      <td>16.86</td>\n",
       "    </tr>\n",
       "    <tr>\n",
       "      <th>5</th>\n",
       "      <td>2018-06</td>\n",
       "      <td>15.48</td>\n",
       "      <td>15.40</td>\n",
       "    </tr>\n",
       "    <tr>\n",
       "      <th>6</th>\n",
       "      <td>2018-07</td>\n",
       "      <td>16.86</td>\n",
       "      <td>16.47</td>\n",
       "    </tr>\n",
       "    <tr>\n",
       "      <th>7</th>\n",
       "      <td>2018-08</td>\n",
       "      <td>16.87</td>\n",
       "      <td>17.82</td>\n",
       "    </tr>\n",
       "    <tr>\n",
       "      <th>8</th>\n",
       "      <td>2018-09</td>\n",
       "      <td>16.66</td>\n",
       "      <td>16.98</td>\n",
       "    </tr>\n",
       "    <tr>\n",
       "      <th>9</th>\n",
       "      <td>2018-10</td>\n",
       "      <td>17.38</td>\n",
       "      <td>17.71</td>\n",
       "    </tr>\n",
       "    <tr>\n",
       "      <th>10</th>\n",
       "      <td>2018-11</td>\n",
       "      <td>16.42</td>\n",
       "      <td>17.11</td>\n",
       "    </tr>\n",
       "    <tr>\n",
       "      <th>11</th>\n",
       "      <td>2018-12</td>\n",
       "      <td>18.21</td>\n",
       "      <td>18.38</td>\n",
       "    </tr>\n",
       "  </tbody>\n",
       "</table>\n",
       "</div>"
      ],
      "text/plain": [
       "plan    month   surf  ultimate\n",
       "0     2018-01   5.00      7.25\n",
       "1     2018-02  12.22     17.29\n",
       "2     2018-03  13.57     18.42\n",
       "3     2018-04  12.22     16.29\n",
       "4     2018-05  14.10     16.86\n",
       "5     2018-06  15.48     15.40\n",
       "6     2018-07  16.86     16.47\n",
       "7     2018-08  16.87     17.82\n",
       "8     2018-09  16.66     16.98\n",
       "9     2018-10  17.38     17.71\n",
       "10    2018-11  16.42     17.11\n",
       "11    2018-12  18.21     18.38"
      ]
     },
     "execution_count": 89,
     "metadata": {},
     "output_type": "execute_result"
    }
   ],
   "source": [
    "# Rata-rata pemakaian internet yang dihabiskan setiap paket per bulannya\n",
    "avg_internet = pd.pivot_table(df, index='month', columns='plan', values='gb_used', aggfunc='mean').reset_index()\n",
    "avg_internet['month'] = avg_duration['month'].astype(str)\n",
    "avg_internet.round(2)"
   ]
  },
  {
   "cell_type": "code",
   "execution_count": 90,
   "metadata": {},
   "outputs": [
    {
     "data": {
      "image/png": "[encoded data removed]",
      "text/plain": [
       "<Figure size 864x432 with 1 Axes>"
      ]
     },
     "metadata": {
      "needs_background": "light"
     },
     "output_type": "display_data"
    }
   ],
   "source": [
    "# Diagram Batang dari Rata-rata pemakaian Internet setiap paket per bulannya\n",
    "\n",
    "avg_internet.plot(x='month', y=['surf', 'ultimate'], kind='bar', figsize=(12, 6))\n",
    "plt.xlabel('Bulan')\n",
    "plt.ylabel('Pemakaian Internet per GB')\n",
    "plt.title('Rata-rata pemakaian Internet pada Paket Surf dan Ultimate per Bulan')\n",
    "plt.legend(title='Paket', title_fontsize='12', labels=['Surf', 'Ultimate'], fontsize='10')\n",
    "plt.tight_layout()\n",
    "\n",
    "# Tampilkan diagram\n",
    "plt.show() "
   ]
  },
  {
   "cell_type": "markdown",
   "metadata": {},
   "source": [
    "### Total pemakaian internet per bulan\n"
   ]
  },
  {
   "cell_type": "code",
   "execution_count": 91,
   "metadata": {},
   "outputs": [
    {
     "data": {
      "text/html": [
       "<div>\n",
       "<style scoped>\n",
       "    .dataframe tbody tr th:only-of-type {\n",
       "        vertical-align: middle;\n",
       "    }\n",
       "\n",
       "    .dataframe tbody tr th {\n",
       "        vertical-align: top;\n",
       "    }\n",
       "\n",
       "    .dataframe thead th {\n",
       "        text-align: right;\n",
       "    }\n",
       "</style>\n",
       "<table border=\"1\" class=\"dataframe\">\n",
       "  <thead>\n",
       "    <tr style=\"text-align: right;\">\n",
       "      <th>plan</th>\n",
       "      <th>month</th>\n",
       "      <th>surf</th>\n",
       "      <th>ultimate</th>\n",
       "    </tr>\n",
       "  </thead>\n",
       "  <tbody>\n",
       "    <tr>\n",
       "      <th>0</th>\n",
       "      <td>2018-01</td>\n",
       "      <td>10.0</td>\n",
       "      <td>29.0</td>\n",
       "    </tr>\n",
       "    <tr>\n",
       "      <th>1</th>\n",
       "      <td>2018-02</td>\n",
       "      <td>110.0</td>\n",
       "      <td>121.0</td>\n",
       "    </tr>\n",
       "    <tr>\n",
       "      <th>2</th>\n",
       "      <td>2018-03</td>\n",
       "      <td>312.0</td>\n",
       "      <td>221.0</td>\n",
       "    </tr>\n",
       "    <tr>\n",
       "      <th>3</th>\n",
       "      <td>2018-04</td>\n",
       "      <td>611.0</td>\n",
       "      <td>342.0</td>\n",
       "    </tr>\n",
       "    <tr>\n",
       "      <th>4</th>\n",
       "      <td>2018-05</td>\n",
       "      <td>1086.0</td>\n",
       "      <td>489.0</td>\n",
       "    </tr>\n",
       "    <tr>\n",
       "      <th>5</th>\n",
       "      <td>2018-06</td>\n",
       "      <td>1502.0</td>\n",
       "      <td>724.0</td>\n",
       "    </tr>\n",
       "    <tr>\n",
       "      <th>6</th>\n",
       "      <td>2018-07</td>\n",
       "      <td>2040.0</td>\n",
       "      <td>972.0</td>\n",
       "    </tr>\n",
       "    <tr>\n",
       "      <th>7</th>\n",
       "      <td>2018-08</td>\n",
       "      <td>2733.0</td>\n",
       "      <td>1265.0</td>\n",
       "    </tr>\n",
       "    <tr>\n",
       "      <th>8</th>\n",
       "      <td>2018-09</td>\n",
       "      <td>3233.0</td>\n",
       "      <td>1460.0</td>\n",
       "    </tr>\n",
       "    <tr>\n",
       "      <th>9</th>\n",
       "      <td>2018-10</td>\n",
       "      <td>4120.0</td>\n",
       "      <td>1877.0</td>\n",
       "    </tr>\n",
       "    <tr>\n",
       "      <th>10</th>\n",
       "      <td>2018-11</td>\n",
       "      <td>4647.0</td>\n",
       "      <td>2173.0</td>\n",
       "    </tr>\n",
       "    <tr>\n",
       "      <th>11</th>\n",
       "      <td>2018-12</td>\n",
       "      <td>5792.0</td>\n",
       "      <td>2776.0</td>\n",
       "    </tr>\n",
       "  </tbody>\n",
       "</table>\n",
       "</div>"
      ],
      "text/plain": [
       "plan    month    surf  ultimate\n",
       "0     2018-01    10.0      29.0\n",
       "1     2018-02   110.0     121.0\n",
       "2     2018-03   312.0     221.0\n",
       "3     2018-04   611.0     342.0\n",
       "4     2018-05  1086.0     489.0\n",
       "5     2018-06  1502.0     724.0\n",
       "6     2018-07  2040.0     972.0\n",
       "7     2018-08  2733.0    1265.0\n",
       "8     2018-09  3233.0    1460.0\n",
       "9     2018-10  4120.0    1877.0\n",
       "10    2018-11  4647.0    2173.0\n",
       "11    2018-12  5792.0    2776.0"
      ]
     },
     "execution_count": 91,
     "metadata": {},
     "output_type": "execute_result"
    }
   ],
   "source": [
    "# Total pemakaian internet yang dihabiskan per bulan pada setiap paketnya\n",
    "total_internet = pd.pivot_table(df, index='month', columns='plan', values='gb_used', aggfunc='sum').reset_index()\n",
    "total_internet['month'] = total_internet['month'].astype(str)\n",
    "total_internet"
   ]
  },
  {
   "cell_type": "code",
   "execution_count": 92,
   "metadata": {},
   "outputs": [
    {
     "data": {
      "image/png": "[encoded data removed]",
      "text/plain": [
       "<Figure size 864x360 with 1 Axes>"
      ]
     },
     "metadata": {
      "needs_background": "light"
     },
     "output_type": "display_data"
    }
   ],
   "source": [
    "# Lineplot total pemakaian internet  berdasarkan paket surf dan ultimate per bulannya\n",
    "\n",
    "plt.figure(figsize=(12, 5))\n",
    "sns.lineplot(data=total_internet, x=\"month\", y=\"surf\", color= '#f0c75e', label='Surf')\n",
    "sns.lineplot(data=total_internet, x=\"month\", y=\"ultimate\", color='#77ab59', label='Ultimate')\n",
    "plt.legend()\n",
    "plt.xlabel('Bulan')\n",
    "plt.ylabel('Internet terpakai')\n",
    "plt.title('Total Pemakaian Internet pada Paket Surf dan Ultimate per Bulan')\n",
    "plt.xticks(rotation=45)\n",
    "plt.show()"
   ]
  },
  {
   "cell_type": "code",
   "execution_count": 93,
   "metadata": {},
   "outputs": [
    {
     "data": {
      "text/plain": [
       "<AxesSubplot:title={'center':'Distribusi Rata-Rata pemakaian Internet'}, xlabel='Total Internet terpakai', ylabel='Frekuensi'>"
      ]
     },
     "execution_count": 93,
     "metadata": {},
     "output_type": "execute_result"
    },
    {
     "data": {
      "image/png": "[encoded data removed]",
      "text/plain": [
       "<Figure size 864x360 with 1 Axes>"
      ]
     },
     "metadata": {
      "needs_background": "light"
     },
     "output_type": "display_data"
    }
   ],
   "source": [
    "# Distribusi Rata-Rata Pemakaian Internet Di Setiap Paket Berdasarkan Dataframe\n",
    "\n",
    "plt.figure(figsize=(12, 5))\n",
    "\n",
    "plt.xlabel('Total Internet terpakai')\n",
    "plt.ylabel('Frekuensi')\n",
    "plt.title('Distribusi Rata-Rata pemakaian Internet')\n",
    "plt.legend(title='Paket', labels=['Surf', 'Ultimate'])\n",
    "sns.histplot(data=df, x=\"gb_used\", hue=\"plan\")"
   ]
  },
  {
   "cell_type": "markdown",
   "metadata": {},
   "source": [
    "### Rata - rata pemakaian internet berdasarkan bulan dan paket\n"
   ]
  },
  {
   "cell_type": "code",
   "execution_count": 94,
   "metadata": {},
   "outputs": [],
   "source": [
    "# Hitung rata-rata pemakaian internet berdasarkan bulan dan paket\n",
    "avg_monthly_internet = pd.pivot_table(df, index='user_id', columns='plan', values='gb_used', aggfunc='mean').reset_index()"
   ]
  },
  {
   "cell_type": "code",
   "execution_count": 95,
   "metadata": {},
   "outputs": [
    {
     "data": {
      "text/html": [
       "<div>\n",
       "<style scoped>\n",
       "    .dataframe tbody tr th:only-of-type {\n",
       "        vertical-align: middle;\n",
       "    }\n",
       "\n",
       "    .dataframe tbody tr th {\n",
       "        vertical-align: top;\n",
       "    }\n",
       "\n",
       "    .dataframe thead th {\n",
       "        text-align: right;\n",
       "    }\n",
       "</style>\n",
       "<table border=\"1\" class=\"dataframe\">\n",
       "  <thead>\n",
       "    <tr style=\"text-align: right;\">\n",
       "      <th>plan</th>\n",
       "      <th>user_id</th>\n",
       "      <th>surf</th>\n",
       "    </tr>\n",
       "  </thead>\n",
       "  <tbody>\n",
       "    <tr>\n",
       "      <th>1</th>\n",
       "      <td>1001</td>\n",
       "      <td>16.00</td>\n",
       "    </tr>\n",
       "    <tr>\n",
       "      <th>2</th>\n",
       "      <td>1002</td>\n",
       "      <td>13.67</td>\n",
       "    </tr>\n",
       "    <tr>\n",
       "      <th>3</th>\n",
       "      <td>1003</td>\n",
       "      <td>27.00</td>\n",
       "    </tr>\n",
       "    <tr>\n",
       "      <th>4</th>\n",
       "      <td>1004</td>\n",
       "      <td>19.62</td>\n",
       "    </tr>\n",
       "    <tr>\n",
       "      <th>5</th>\n",
       "      <td>1005</td>\n",
       "      <td>17.00</td>\n",
       "    </tr>\n",
       "    <tr>\n",
       "      <th>...</th>\n",
       "      <td>...</td>\n",
       "      <td>...</td>\n",
       "    </tr>\n",
       "    <tr>\n",
       "      <th>484</th>\n",
       "      <td>1494</td>\n",
       "      <td>15.33</td>\n",
       "    </tr>\n",
       "    <tr>\n",
       "      <th>485</th>\n",
       "      <td>1495</td>\n",
       "      <td>24.75</td>\n",
       "    </tr>\n",
       "    <tr>\n",
       "      <th>486</th>\n",
       "      <td>1496</td>\n",
       "      <td>13.00</td>\n",
       "    </tr>\n",
       "    <tr>\n",
       "      <th>488</th>\n",
       "      <td>1498</td>\n",
       "      <td>20.73</td>\n",
       "    </tr>\n",
       "    <tr>\n",
       "      <th>489</th>\n",
       "      <td>1499</td>\n",
       "      <td>18.00</td>\n",
       "    </tr>\n",
       "  </tbody>\n",
       "</table>\n",
       "<p>333 rows × 2 columns</p>\n",
       "</div>"
      ],
      "text/plain": [
       "plan  user_id   surf\n",
       "1        1001  16.00\n",
       "2        1002  13.67\n",
       "3        1003  27.00\n",
       "4        1004  19.62\n",
       "5        1005  17.00\n",
       "..        ...    ...\n",
       "484      1494  15.33\n",
       "485      1495  24.75\n",
       "486      1496  13.00\n",
       "488      1498  20.73\n",
       "489      1499  18.00\n",
       "\n",
       "[333 rows x 2 columns]"
      ]
     },
     "execution_count": 95,
     "metadata": {},
     "output_type": "execute_result"
    }
   ],
   "source": [
    "# Rata-rata pemakaian internet paket surf perbulan\n",
    "avg_surf_internet = avg_monthly_internet .loc[:, ['user_id', 'surf']].dropna().round(2)\n",
    "avg_surf_internet"
   ]
  },
  {
   "cell_type": "code",
   "execution_count": 96,
   "metadata": {},
   "outputs": [
    {
     "data": {
      "text/html": [
       "<div>\n",
       "<style scoped>\n",
       "    .dataframe tbody tr th:only-of-type {\n",
       "        vertical-align: middle;\n",
       "    }\n",
       "\n",
       "    .dataframe tbody tr th {\n",
       "        vertical-align: top;\n",
       "    }\n",
       "\n",
       "    .dataframe thead th {\n",
       "        text-align: right;\n",
       "    }\n",
       "</style>\n",
       "<table border=\"1\" class=\"dataframe\">\n",
       "  <thead>\n",
       "    <tr style=\"text-align: right;\">\n",
       "      <th>plan</th>\n",
       "      <th>user_id</th>\n",
       "      <th>ultimate</th>\n",
       "    </tr>\n",
       "  </thead>\n",
       "  <tbody>\n",
       "    <tr>\n",
       "      <th>0</th>\n",
       "      <td>1000</td>\n",
       "      <td>2.00</td>\n",
       "    </tr>\n",
       "    <tr>\n",
       "      <th>6</th>\n",
       "      <td>1006</td>\n",
       "      <td>17.50</td>\n",
       "    </tr>\n",
       "    <tr>\n",
       "      <th>8</th>\n",
       "      <td>1008</td>\n",
       "      <td>18.67</td>\n",
       "    </tr>\n",
       "    <tr>\n",
       "      <th>11</th>\n",
       "      <td>1011</td>\n",
       "      <td>18.86</td>\n",
       "    </tr>\n",
       "    <tr>\n",
       "      <th>13</th>\n",
       "      <td>1013</td>\n",
       "      <td>20.00</td>\n",
       "    </tr>\n",
       "    <tr>\n",
       "      <th>...</th>\n",
       "      <td>...</td>\n",
       "      <td>...</td>\n",
       "    </tr>\n",
       "    <tr>\n",
       "      <th>472</th>\n",
       "      <td>1482</td>\n",
       "      <td>7.00</td>\n",
       "    </tr>\n",
       "    <tr>\n",
       "      <th>477</th>\n",
       "      <td>1487</td>\n",
       "      <td>14.00</td>\n",
       "    </tr>\n",
       "    <tr>\n",
       "      <th>480</th>\n",
       "      <td>1490</td>\n",
       "      <td>31.83</td>\n",
       "    </tr>\n",
       "    <tr>\n",
       "      <th>483</th>\n",
       "      <td>1493</td>\n",
       "      <td>15.20</td>\n",
       "    </tr>\n",
       "    <tr>\n",
       "      <th>487</th>\n",
       "      <td>1497</td>\n",
       "      <td>11.00</td>\n",
       "    </tr>\n",
       "  </tbody>\n",
       "</table>\n",
       "<p>157 rows × 2 columns</p>\n",
       "</div>"
      ],
      "text/plain": [
       "plan  user_id  ultimate\n",
       "0        1000      2.00\n",
       "6        1006     17.50\n",
       "8        1008     18.67\n",
       "11       1011     18.86\n",
       "13       1013     20.00\n",
       "..        ...       ...\n",
       "472      1482      7.00\n",
       "477      1487     14.00\n",
       "480      1490     31.83\n",
       "483      1493     15.20\n",
       "487      1497     11.00\n",
       "\n",
       "[157 rows x 2 columns]"
      ]
     },
     "execution_count": 96,
     "metadata": {},
     "output_type": "execute_result"
    }
   ],
   "source": [
    "# Rata-rata pemakaian internet paket ultimate perbulan\n",
    "avg_ult_internet = avg_monthly_internet .loc[:, ['user_id', 'ultimate']].dropna().round(2)\n",
    "avg_ult_internet"
   ]
  },
  {
   "cell_type": "code",
   "execution_count": 97,
   "metadata": {},
   "outputs": [
    {
     "data": {
      "image/png": "[encoded data removed]",
      "text/plain": [
       "<Figure size 1080x360 with 2 Axes>"
      ]
     },
     "metadata": {
      "needs_background": "light"
     },
     "output_type": "display_data"
    }
   ],
   "source": [
    "# Histogram perbandingan rata rata pemakaian internet pada paket surf dan ultimate\n",
    "plt.figure(figsize=(15, 5))\n",
    "plt.subplot(1, 2, 1)\n",
    "plt.title('Surf')\n",
    "sns.histplot(avg_surf_internet['surf'])\n",
    "\n",
    "plt.subplot(1, 2, 2)\n",
    "plt.title('Ultimate')\n",
    "sns.histplot(avg_ult_internet['ultimate'])\n",
    "plt.show()"
   ]
  },
  {
   "cell_type": "code",
   "execution_count": 98,
   "metadata": {},
   "outputs": [
    {
     "name": "stdout",
     "output_type": "stream",
     "text": [
      "Surf:\n",
      "Standar Deviasinya 6.1\n",
      "Varians nya 37.3\n",
      "\n",
      "Ultimate:\n",
      "Standar Deviasinya 5.8\n",
      "Varians nya 33.4\n"
     ]
    }
   ],
   "source": [
    "# Varians dan Standar deviasi dari rata rata pemakaian internet pada paket surf dan utimate\n",
    "# Surf\n",
    "surf_std = round(avg_surf_internet['surf'].std(), 1)\n",
    "surf_var = round(avg_surf_internet['surf'].var(), 1)\n",
    "print('Surf:')\n",
    "print(f'Standar Deviasinya {surf_std}')\n",
    "print(f'Varians nya {surf_var}')\n",
    "print()\n",
    "ulti_std = round(avg_ult_internet['ultimate'].std(), 1)\n",
    "ulti_var = round(avg_ult_internet['ultimate'].var(), 1)\n",
    "# ultimate\n",
    "print('Ultimate:')\n",
    "print(f'Standar Deviasinya {ulti_std}')\n",
    "print(f'Varians nya {ulti_var}')\n"
   ]
  },
  {
   "cell_type": "markdown",
   "metadata": {},
   "source": [
    "[Rumuskan kesimpulan tentang bagaimana pengguna cenderung mengonsumsi paket data internet? Apakah perilaku mereka berbeda antara setiap paketnya?]"
   ]
  },
  {
   "cell_type": "markdown",
   "metadata": {},
   "source": [
    "**DESCRIPTION** \n",
    "\n",
    "Perilaku Pengguna dalam pemakaian internet pada setiap paketnya dapat disimpulkan sebagai berikut\n",
    "\n",
    "* Paket Surf:\n",
    "\n",
    "1. Rata-rata pemakaian internet berkisar antara 5 hingga 3.170 GB per bulan.\n",
    "\n",
    "2. Pengguna pada paket \"Surf\" memiliki rata-rata pemakaian internet yang lebih rendah dibandingkan dengan pengguna paket \"Ultimate\".\n",
    "\n",
    "* Paket Ultimate:\n",
    "\n",
    "1. Rata-rata pemakaian internet berkisar antara 22 hingga 31.83 GB per bulan.\n",
    "\n",
    "2. Pengguna pada paket \"Ultimate\" memiliki rata-rata pemakaian internet yang lebih tinggi dibandingkan dengan pengguna paket \"Surf\".\n",
    "\n",
    "* Standar deviasi yang relatif rendah untuk kedua paket menunjukkan bahwa pengguna pada kedua paket memiliki tingkat konsistensi yang tinggi dalam penggunaan internet mereka setiap bulan.\n",
    "\n",
    "* Perilaku pengguna dalam pemakaian internet berbeda antara setiap paket. Pengguna paket \"Ultimate\" cenderung menggunakan lebih banyak internet secara rata-rata per bulan dibandingkan dengan pengguna paket \"Surf\". Meskipun begitu, pengguna pada kedua paket menunjukkan tingkat konsistensi yang tinggi dalam penggunaan internet mereka."
   ]
  },
  {
   "cell_type": "markdown",
   "metadata": {},
   "source": [
    "<div class=\"alert alert-success\">\n",
    "<b>Code Reviewers's comment v.1</b> <a class=\"tocSkip\"></a>\n",
    "\n",
    "Bagus, code yang dijalankan sudah sesuai dengan instruksi dari project.\n",
    "\n",
    "</div>"
   ]
  },
  {
   "cell_type": "markdown",
   "metadata": {},
   "source": [
    " "
   ]
  },
  {
   "cell_type": "markdown",
   "metadata": {},
   "source": [
    "## Data Income (Pendapatan) <a id='income_eda'></a>"
   ]
  },
  {
   "cell_type": "markdown",
   "metadata": {},
   "source": [
    "[Seperti halnya Anda telah mempelajari perilaku pengguna, deskripsikan secara statistik pendapatan yang diperoleh antara tiap-tiap paket prabayar]."
   ]
  },
  {
   "cell_type": "markdown",
   "metadata": {},
   "source": [
    "### Rata - rata pendapat dari pengguna paket per bulan"
   ]
  },
  {
   "cell_type": "code",
   "execution_count": 99,
   "metadata": {},
   "outputs": [
    {
     "data": {
      "text/html": [
       "<div>\n",
       "<style scoped>\n",
       "    .dataframe tbody tr th:only-of-type {\n",
       "        vertical-align: middle;\n",
       "    }\n",
       "\n",
       "    .dataframe tbody tr th {\n",
       "        vertical-align: top;\n",
       "    }\n",
       "\n",
       "    .dataframe thead th {\n",
       "        text-align: right;\n",
       "    }\n",
       "</style>\n",
       "<table border=\"1\" class=\"dataframe\">\n",
       "  <thead>\n",
       "    <tr style=\"text-align: right;\">\n",
       "      <th>plan</th>\n",
       "      <th>month</th>\n",
       "      <th>surf</th>\n",
       "      <th>ultimate</th>\n",
       "    </tr>\n",
       "  </thead>\n",
       "  <tbody>\n",
       "    <tr>\n",
       "      <th>0</th>\n",
       "      <td>2018-01</td>\n",
       "      <td>20.000000</td>\n",
       "      <td>70.000000</td>\n",
       "    </tr>\n",
       "    <tr>\n",
       "      <th>1</th>\n",
       "      <td>2018-02</td>\n",
       "      <td>34.396667</td>\n",
       "      <td>70.000000</td>\n",
       "    </tr>\n",
       "    <tr>\n",
       "      <th>2</th>\n",
       "      <td>2018-03</td>\n",
       "      <td>45.941304</td>\n",
       "      <td>74.666667</td>\n",
       "    </tr>\n",
       "    <tr>\n",
       "      <th>3</th>\n",
       "      <td>2018-04</td>\n",
       "      <td>40.710600</td>\n",
       "      <td>73.000000</td>\n",
       "    </tr>\n",
       "    <tr>\n",
       "      <th>4</th>\n",
       "      <td>2018-05</td>\n",
       "      <td>47.498312</td>\n",
       "      <td>70.724138</td>\n",
       "    </tr>\n",
       "    <tr>\n",
       "      <th>5</th>\n",
       "      <td>2018-06</td>\n",
       "      <td>49.276289</td>\n",
       "      <td>71.489362</td>\n",
       "    </tr>\n",
       "    <tr>\n",
       "      <th>6</th>\n",
       "      <td>2018-07</td>\n",
       "      <td>62.508760</td>\n",
       "      <td>71.898305</td>\n",
       "    </tr>\n",
       "    <tr>\n",
       "      <th>7</th>\n",
       "      <td>2018-08</td>\n",
       "      <td>63.869444</td>\n",
       "      <td>72.859155</td>\n",
       "    </tr>\n",
       "    <tr>\n",
       "      <th>8</th>\n",
       "      <td>2018-09</td>\n",
       "      <td>58.116856</td>\n",
       "      <td>71.953488</td>\n",
       "    </tr>\n",
       "    <tr>\n",
       "      <th>9</th>\n",
       "      <td>2018-10</td>\n",
       "      <td>65.168059</td>\n",
       "      <td>72.311321</td>\n",
       "    </tr>\n",
       "    <tr>\n",
       "      <th>10</th>\n",
       "      <td>2018-11</td>\n",
       "      <td>57.968940</td>\n",
       "      <td>71.708661</td>\n",
       "    </tr>\n",
       "    <tr>\n",
       "      <th>11</th>\n",
       "      <td>2018-12</td>\n",
       "      <td>70.399811</td>\n",
       "      <td>73.291391</td>\n",
       "    </tr>\n",
       "  </tbody>\n",
       "</table>\n",
       "</div>"
      ],
      "text/plain": [
       "plan    month       surf   ultimate\n",
       "0     2018-01  20.000000  70.000000\n",
       "1     2018-02  34.396667  70.000000\n",
       "2     2018-03  45.941304  74.666667\n",
       "3     2018-04  40.710600  73.000000\n",
       "4     2018-05  47.498312  70.724138\n",
       "5     2018-06  49.276289  71.489362\n",
       "6     2018-07  62.508760  71.898305\n",
       "7     2018-08  63.869444  72.859155\n",
       "8     2018-09  58.116856  71.953488\n",
       "9     2018-10  65.168059  72.311321\n",
       "10    2018-11  57.968940  71.708661\n",
       "11    2018-12  70.399811  73.291391"
      ]
     },
     "execution_count": 99,
     "metadata": {},
     "output_type": "execute_result"
    }
   ],
   "source": [
    "# Rata-rata pendapatan dari pengguna setiap paket per bulannya\n",
    "avg_income = pd.pivot_table(df, index='month', columns='plan', values='total_income', aggfunc='mean').reset_index()\n",
    "avg_income['month'] = avg_income['month'].astype(str)\n",
    "avg_income"
   ]
  },
  {
   "cell_type": "code",
   "execution_count": 100,
   "metadata": {},
   "outputs": [
    {
     "data": {
      "image/png": "[encoded data removed]",
      "text/plain": [
       "<Figure size 864x432 with 1 Axes>"
      ]
     },
     "metadata": {
      "needs_background": "light"
     },
     "output_type": "display_data"
    }
   ],
   "source": [
    "# Diagram Batang dari Rata-rata pendapatan dari pengguna setiap paket per bulannya\n",
    "\n",
    "avg_income.plot(x='month', y=['surf', 'ultimate'], kind='bar', figsize=(12, 6))\n",
    "plt.xlabel('Bulan')\n",
    "plt.ylabel('Rata-Rata Pendapatan')\n",
    "plt.title(\"Rata-rata Pendapatan pada Paket Surf dan Ultimate per Bulan\")\n",
    "plt.legend(title='Paket', title_fontsize='12', labels=['Surf', 'Ultimate'], fontsize='10')\n",
    "plt.tight_layout()\n",
    "plt.show() "
   ]
  },
  {
   "cell_type": "markdown",
   "metadata": {},
   "source": [
    "### Total pendapatan dari pengguna paket per bulan\n"
   ]
  },
  {
   "cell_type": "code",
   "execution_count": 101,
   "metadata": {},
   "outputs": [
    {
     "data": {
      "text/html": [
       "<div>\n",
       "<style scoped>\n",
       "    .dataframe tbody tr th:only-of-type {\n",
       "        vertical-align: middle;\n",
       "    }\n",
       "\n",
       "    .dataframe tbody tr th {\n",
       "        vertical-align: top;\n",
       "    }\n",
       "\n",
       "    .dataframe thead th {\n",
       "        text-align: right;\n",
       "    }\n",
       "</style>\n",
       "<table border=\"1\" class=\"dataframe\">\n",
       "  <thead>\n",
       "    <tr style=\"text-align: right;\">\n",
       "      <th>plan</th>\n",
       "      <th>month</th>\n",
       "      <th>surf</th>\n",
       "      <th>ultimate</th>\n",
       "    </tr>\n",
       "  </thead>\n",
       "  <tbody>\n",
       "    <tr>\n",
       "      <th>0</th>\n",
       "      <td>2018-01</td>\n",
       "      <td>40.00</td>\n",
       "      <td>280.0</td>\n",
       "    </tr>\n",
       "    <tr>\n",
       "      <th>1</th>\n",
       "      <td>2018-02</td>\n",
       "      <td>309.57</td>\n",
       "      <td>490.0</td>\n",
       "    </tr>\n",
       "    <tr>\n",
       "      <th>2</th>\n",
       "      <td>2018-03</td>\n",
       "      <td>1056.65</td>\n",
       "      <td>896.0</td>\n",
       "    </tr>\n",
       "    <tr>\n",
       "      <th>3</th>\n",
       "      <td>2018-04</td>\n",
       "      <td>2035.53</td>\n",
       "      <td>1533.0</td>\n",
       "    </tr>\n",
       "    <tr>\n",
       "      <th>4</th>\n",
       "      <td>2018-05</td>\n",
       "      <td>3657.37</td>\n",
       "      <td>2051.0</td>\n",
       "    </tr>\n",
       "    <tr>\n",
       "      <th>5</th>\n",
       "      <td>2018-06</td>\n",
       "      <td>4779.80</td>\n",
       "      <td>3360.0</td>\n",
       "    </tr>\n",
       "    <tr>\n",
       "      <th>6</th>\n",
       "      <td>2018-07</td>\n",
       "      <td>7563.56</td>\n",
       "      <td>4242.0</td>\n",
       "    </tr>\n",
       "    <tr>\n",
       "      <th>7</th>\n",
       "      <td>2018-08</td>\n",
       "      <td>10346.85</td>\n",
       "      <td>5173.0</td>\n",
       "    </tr>\n",
       "    <tr>\n",
       "      <th>8</th>\n",
       "      <td>2018-09</td>\n",
       "      <td>11274.67</td>\n",
       "      <td>6188.0</td>\n",
       "    </tr>\n",
       "    <tr>\n",
       "      <th>9</th>\n",
       "      <td>2018-10</td>\n",
       "      <td>15444.83</td>\n",
       "      <td>7665.0</td>\n",
       "    </tr>\n",
       "    <tr>\n",
       "      <th>10</th>\n",
       "      <td>2018-11</td>\n",
       "      <td>16405.21</td>\n",
       "      <td>9107.0</td>\n",
       "    </tr>\n",
       "    <tr>\n",
       "      <th>11</th>\n",
       "      <td>2018-12</td>\n",
       "      <td>22387.14</td>\n",
       "      <td>11067.0</td>\n",
       "    </tr>\n",
       "  </tbody>\n",
       "</table>\n",
       "</div>"
      ],
      "text/plain": [
       "plan    month      surf  ultimate\n",
       "0     2018-01     40.00     280.0\n",
       "1     2018-02    309.57     490.0\n",
       "2     2018-03   1056.65     896.0\n",
       "3     2018-04   2035.53    1533.0\n",
       "4     2018-05   3657.37    2051.0\n",
       "5     2018-06   4779.80    3360.0\n",
       "6     2018-07   7563.56    4242.0\n",
       "7     2018-08  10346.85    5173.0\n",
       "8     2018-09  11274.67    6188.0\n",
       "9     2018-10  15444.83    7665.0\n",
       "10    2018-11  16405.21    9107.0\n",
       "11    2018-12  22387.14   11067.0"
      ]
     },
     "execution_count": 101,
     "metadata": {},
     "output_type": "execute_result"
    }
   ],
   "source": [
    "# Total pendapatan dari pengguna per bulan pada setiap paketnya\n",
    "income_monthly = pd.pivot_table(df, index='month', columns='plan', values='total_income', aggfunc='sum').reset_index()\n",
    "income_monthly['month'] = income_monthly['month'].astype(str)\n",
    "income_monthly"
   ]
  },
  {
   "cell_type": "code",
   "execution_count": 102,
   "metadata": {},
   "outputs": [
    {
     "data": {
      "image/png": "[encoded data removed]",
      "text/plain": [
       "<Figure size 864x360 with 1 Axes>"
      ]
     },
     "metadata": {
      "needs_background": "light"
     },
     "output_type": "display_data"
    }
   ],
   "source": [
    "#Lineplot total pendapatan dari pengguna berdasarkan paket surf dan ultimate per bulannya\n",
    "\n",
    "plt.figure(figsize=(12, 5))\n",
    "sns.lineplot(data=income_monthly, x=\"month\", y=\"surf\", color='#f0c75e', label='Surf')\n",
    "sns.lineplot(data=income_monthly, x=\"month\", y=\"ultimate\", color='#77ab59', label='Ultimate')\n",
    "plt.legend()\n",
    "plt.xlabel('Bulan')\n",
    "plt.ylabel('Pendapatan')\n",
    "plt.title('Total Pendapatan dari Paket Surf dan Ultimate per Bulan')\n",
    "plt.xticks(rotation=45)\n",
    "plt.show()"
   ]
  },
  {
   "cell_type": "code",
   "execution_count": 103,
   "metadata": {
    "scrolled": false
   },
   "outputs": [
    {
     "data": {
      "text/plain": [
       "<AxesSubplot:title={'center':'Distribusi Rata-Rata Pendapatan User di Setiap Paket'}, xlabel='Total Pendapatan', ylabel='Frekuensi '>"
      ]
     },
     "execution_count": 103,
     "metadata": {},
     "output_type": "execute_result"
    },
    {
     "data": {
      "image/png": "[encoded data removed]",
      "text/plain": [
       "<Figure size 864x360 with 1 Axes>"
      ]
     },
     "metadata": {
      "needs_background": "light"
     },
     "output_type": "display_data"
    }
   ],
   "source": [
    "#Distribusi Rata-Rata pendapatan dari pengguna di Setiap Paket berdasarkan dataframe\n",
    "\n",
    "plt.figure(figsize=(12, 5))\n",
    "plt.xlabel('Total Pendapatan')\n",
    "plt.ylabel('Frekuensi ')\n",
    "plt.title('Distribusi Rata-Rata Pendapatan User di Setiap Paket')\n",
    "plt.legend(title='Paket', labels=['Surf', 'Ultimate'])\n",
    "sns.histplot(data=df, x=\"total_income\", hue=\"plan\")"
   ]
  },
  {
   "cell_type": "markdown",
   "metadata": {},
   "source": [
    "### Rata - rata pendapatan dari pengguna paket berdasarkan bulan dan paket\n"
   ]
  },
  {
   "cell_type": "code",
   "execution_count": 104,
   "metadata": {},
   "outputs": [],
   "source": [
    "# Hitung rata-rata pendapatan dari pengguna berdasarkan bulan dan paket\n",
    "\n",
    "avg_monthly_income = pd.pivot_table(df, index='user_id', columns='plan', values='total_income', aggfunc='mean').reset_index()"
   ]
  },
  {
   "cell_type": "code",
   "execution_count": 105,
   "metadata": {
    "scrolled": true
   },
   "outputs": [
    {
     "data": {
      "text/html": [
       "<div>\n",
       "<style scoped>\n",
       "    .dataframe tbody tr th:only-of-type {\n",
       "        vertical-align: middle;\n",
       "    }\n",
       "\n",
       "    .dataframe tbody tr th {\n",
       "        vertical-align: top;\n",
       "    }\n",
       "\n",
       "    .dataframe thead th {\n",
       "        text-align: right;\n",
       "    }\n",
       "</style>\n",
       "<table border=\"1\" class=\"dataframe\">\n",
       "  <thead>\n",
       "    <tr style=\"text-align: right;\">\n",
       "      <th>plan</th>\n",
       "      <th>user_id</th>\n",
       "      <th>surf</th>\n",
       "    </tr>\n",
       "  </thead>\n",
       "  <tbody>\n",
       "    <tr>\n",
       "      <th>1</th>\n",
       "      <td>1001</td>\n",
       "      <td>50.018000</td>\n",
       "    </tr>\n",
       "    <tr>\n",
       "      <th>2</th>\n",
       "      <td>1002</td>\n",
       "      <td>33.333333</td>\n",
       "    </tr>\n",
       "    <tr>\n",
       "      <th>3</th>\n",
       "      <td>1003</td>\n",
       "      <td>158.120000</td>\n",
       "    </tr>\n",
       "    <tr>\n",
       "      <th>4</th>\n",
       "      <td>1004</td>\n",
       "      <td>76.250000</td>\n",
       "    </tr>\n",
       "    <tr>\n",
       "      <th>5</th>\n",
       "      <td>1005</td>\n",
       "      <td>40.000000</td>\n",
       "    </tr>\n",
       "  </tbody>\n",
       "</table>\n",
       "</div>"
      ],
      "text/plain": [
       "plan  user_id        surf\n",
       "1        1001   50.018000\n",
       "2        1002   33.333333\n",
       "3        1003  158.120000\n",
       "4        1004   76.250000\n",
       "5        1005   40.000000"
      ]
     },
     "execution_count": 105,
     "metadata": {},
     "output_type": "execute_result"
    }
   ],
   "source": [
    "# Rata-rata pendapatan dari pengguna paket surf perbulan\n",
    "avg_surf_income = avg_monthly_income.loc[:, ['user_id', 'surf']].dropna()\n",
    "avg_surf_income.head()"
   ]
  },
  {
   "cell_type": "code",
   "execution_count": 106,
   "metadata": {},
   "outputs": [
    {
     "data": {
      "text/html": [
       "<div>\n",
       "<style scoped>\n",
       "    .dataframe tbody tr th:only-of-type {\n",
       "        vertical-align: middle;\n",
       "    }\n",
       "\n",
       "    .dataframe tbody tr th {\n",
       "        vertical-align: top;\n",
       "    }\n",
       "\n",
       "    .dataframe thead th {\n",
       "        text-align: right;\n",
       "    }\n",
       "</style>\n",
       "<table border=\"1\" class=\"dataframe\">\n",
       "  <thead>\n",
       "    <tr style=\"text-align: right;\">\n",
       "      <th>plan</th>\n",
       "      <th>user_id</th>\n",
       "      <th>ultimate</th>\n",
       "    </tr>\n",
       "  </thead>\n",
       "  <tbody>\n",
       "    <tr>\n",
       "      <th>0</th>\n",
       "      <td>1000</td>\n",
       "      <td>70.0</td>\n",
       "    </tr>\n",
       "    <tr>\n",
       "      <th>6</th>\n",
       "      <td>1006</td>\n",
       "      <td>77.0</td>\n",
       "    </tr>\n",
       "    <tr>\n",
       "      <th>8</th>\n",
       "      <td>1008</td>\n",
       "      <td>70.0</td>\n",
       "    </tr>\n",
       "    <tr>\n",
       "      <th>11</th>\n",
       "      <td>1011</td>\n",
       "      <td>70.0</td>\n",
       "    </tr>\n",
       "    <tr>\n",
       "      <th>13</th>\n",
       "      <td>1013</td>\n",
       "      <td>70.0</td>\n",
       "    </tr>\n",
       "  </tbody>\n",
       "</table>\n",
       "</div>"
      ],
      "text/plain": [
       "plan  user_id  ultimate\n",
       "0        1000      70.0\n",
       "6        1006      77.0\n",
       "8        1008      70.0\n",
       "11       1011      70.0\n",
       "13       1013      70.0"
      ]
     },
     "execution_count": 106,
     "metadata": {},
     "output_type": "execute_result"
    }
   ],
   "source": [
    "# Rata-rata pendapatan dari pengguna paket ultimate perbulan\n",
    "avg_ult_income = avg_monthly_income.loc[:, ['user_id', 'ultimate']].dropna()\n",
    "avg_ult_income.head()"
   ]
  },
  {
   "cell_type": "code",
   "execution_count": 107,
   "metadata": {},
   "outputs": [
    {
     "data": {
      "image/png": "[encoded data removed]",
      "text/plain": [
       "<Figure size 864x360 with 2 Axes>"
      ]
     },
     "metadata": {
      "needs_background": "light"
     },
     "output_type": "display_data"
    }
   ],
   "source": [
    "# Histogram perbandingan rata rata pendapatan dari pengguna pada paket surf dan ultimate\n",
    "plt.figure(figsize=(12, 5))\n",
    "plt.subplot(1, 2, 1)\n",
    "plt.title('Surf')\n",
    "sns.histplot(avg_surf_income['surf'], binwidth=5, color='red')\n",
    "\n",
    "plt.subplot(1, 2, 2)\n",
    "plt.title('Ultimate')\n",
    "sns.histplot(avg_ult_income['ultimate'], binwidth=5, color='blue')\n",
    "plt.show()"
   ]
  },
  {
   "cell_type": "code",
   "execution_count": 108,
   "metadata": {},
   "outputs": [
    {
     "name": "stdout",
     "output_type": "stream",
     "text": [
      "Surf:\n",
      "Standar Deviasinya 43.5\n",
      "Varians nya 1891.7\n",
      "\n",
      "Ultimate:\n",
      "Standar Deviasinya 7.4\n",
      "Varians nya 54.7\n"
     ]
    }
   ],
   "source": [
    "# Varians dan Standar deviasi dari rata rata pendapatan dari pengguna pada paket surf dan utimate\n",
    "\n",
    "# Surf\n",
    "surf_std = round(avg_surf_income['surf'].std(), 1)\n",
    "surf_var = round(avg_surf_income['surf'].var(), 1)\n",
    "print('Surf:')\n",
    "print(f'Standar Deviasinya {surf_std}')\n",
    "print(f'Varians nya {surf_var}')\n",
    "print()\n",
    "ulti_std = round(avg_ult_income['ultimate'].std(), 1)\n",
    "ulti_var = round(avg_ult_income['ultimate'].var(), 1)\n",
    "# ultimate\n",
    "print('Ultimate:')\n",
    "print(f'Standar Deviasinya {ulti_std}')\n",
    "print(f'Varians nya {ulti_var}')"
   ]
  },
  {
   "cell_type": "markdown",
   "metadata": {},
   "source": [
    "[Rumuskan kesimpulan tentang bagaimana perbedaan pendapatan yang dihasilkan setiap paket.]"
   ]
  },
  {
   "cell_type": "markdown",
   "metadata": {},
   "source": [
    "**DESCRIBE**\n",
    "\n",
    "Perilaku Pengguna dalam pendapatan pada setiap paketnya dapat disimpulkan sebagai berikut\n",
    "\n",
    "* Paket Surf:\n",
    "\n",
    "1. Rata-rata pendapatan berkisar antara 20 USD hingga 70 USD  per bulan.\n",
    "2. Distribusi pendapatan pengguna paket \"Surf\" memiliki variasi yang lebih tinggi dengan standar deviasi sekitar 43.5 dan varians sekitar 1891.7\n",
    "\n",
    "* Paket Ultimate:\n",
    "\n",
    "1. Rata-rata pendapatan adalah 70 USD per bulan dan tetap stabil sepanjang tahun.\n",
    "2. Distribusi pendapatan pengguna paket \"Ultimate\" lebih stabil dengan standar deviasi rendah yaitu sekitar 7.4 dan varians sekitar 54.7.\n",
    "\n",
    "*  Pengguna paket \"Ultimate\" memiliki rata-rata pendapatan yang lebih tinggi, dan distribusi pendapatannya lebih stabil dibandingkan dengan pengguna paket \"Surf\".\n",
    "\n",
    "* Sementara itu, pengguna pada paket \"Surf\" memiliki variasi yang lebih tinggi dalam pendapatan mereka.\n",
    "\n",
    "* Pengguna paket \"Ultimate\" memiliki pendapatan rata-rata yang konsisten sepanjang tahun, sementara pengguna paket \"Surf\" memiliki variasi pendapatan yang lebih besar. Hal ini dapat disebabkan oleh kebutuhan pengguna paket \"Surf\" yang lebih bervariasi."
   ]
  },
  {
   "cell_type": "markdown",
   "metadata": {},
   "source": [
    "<div class=\"alert alert-success\">\n",
    "<b>Code Reviewers's comment v.1</b> <a class=\"tocSkip\"></a>\n",
    "\n",
    "Bagus, code yang dijalankan sudah sesuai dengan instruksi dari project.\n",
    "\n",
    "</div>"
   ]
  },
  {
   "cell_type": "markdown",
   "metadata": {},
   "source": [
    "## Korelasi Antar Data <a id='data_correlation'></a>\n"
   ]
  },
  {
   "cell_type": "markdown",
   "metadata": {},
   "source": [
    "### Bagaimana korelasi antara durasi telepon dengan pendapatan di setiap paket?"
   ]
  },
  {
   "cell_type": "code",
   "execution_count": 109,
   "metadata": {},
   "outputs": [
    {
     "data": {
      "text/html": [
       "<div>\n",
       "<style scoped>\n",
       "    .dataframe tbody tr th:only-of-type {\n",
       "        vertical-align: middle;\n",
       "    }\n",
       "\n",
       "    .dataframe tbody tr th {\n",
       "        vertical-align: top;\n",
       "    }\n",
       "\n",
       "    .dataframe thead th {\n",
       "        text-align: right;\n",
       "    }\n",
       "</style>\n",
       "<table border=\"1\" class=\"dataframe\">\n",
       "  <thead>\n",
       "    <tr style=\"text-align: right;\">\n",
       "      <th></th>\n",
       "      <th>duration</th>\n",
       "      <th>total_income</th>\n",
       "    </tr>\n",
       "  </thead>\n",
       "  <tbody>\n",
       "    <tr>\n",
       "      <th>duration</th>\n",
       "      <td>1.000000</td>\n",
       "      <td>0.281659</td>\n",
       "    </tr>\n",
       "    <tr>\n",
       "      <th>total_income</th>\n",
       "      <td>0.281659</td>\n",
       "      <td>1.000000</td>\n",
       "    </tr>\n",
       "  </tbody>\n",
       "</table>\n",
       "</div>"
      ],
      "text/plain": [
       "              duration  total_income\n",
       "duration      1.000000      0.281659\n",
       "total_income  0.281659      1.000000"
      ]
     },
     "execution_count": 109,
     "metadata": {},
     "output_type": "execute_result"
    }
   ],
   "source": [
    "# Korelasi antara penggunaan internet dengan total income di paket surf\n",
    "surf_calls = df.loc[df['plan']=='surf', ['duration', 'total_income']]\n",
    "surf_calls.corr()"
   ]
  },
  {
   "cell_type": "code",
   "execution_count": 110,
   "metadata": {},
   "outputs": [
    {
     "data": {
      "image/png": "[encoded data removed]",
      "text/plain": [
       "<Figure size 432x288 with 1 Axes>"
      ]
     },
     "metadata": {
      "needs_background": "light"
     },
     "output_type": "display_data"
    }
   ],
   "source": [
    "sns.scatterplot(data=surf_calls, x='duration', y='total_income', color='red')\n",
    "plt.show()"
   ]
  },
  {
   "cell_type": "code",
   "execution_count": 111,
   "metadata": {},
   "outputs": [
    {
     "data": {
      "text/html": [
       "<div>\n",
       "<style scoped>\n",
       "    .dataframe tbody tr th:only-of-type {\n",
       "        vertical-align: middle;\n",
       "    }\n",
       "\n",
       "    .dataframe tbody tr th {\n",
       "        vertical-align: top;\n",
       "    }\n",
       "\n",
       "    .dataframe thead th {\n",
       "        text-align: right;\n",
       "    }\n",
       "</style>\n",
       "<table border=\"1\" class=\"dataframe\">\n",
       "  <thead>\n",
       "    <tr style=\"text-align: right;\">\n",
       "      <th></th>\n",
       "      <th>duration</th>\n",
       "      <th>total_income</th>\n",
       "    </tr>\n",
       "  </thead>\n",
       "  <tbody>\n",
       "    <tr>\n",
       "      <th>duration</th>\n",
       "      <td>1.000000</td>\n",
       "      <td>-0.074266</td>\n",
       "    </tr>\n",
       "    <tr>\n",
       "      <th>total_income</th>\n",
       "      <td>-0.074266</td>\n",
       "      <td>1.000000</td>\n",
       "    </tr>\n",
       "  </tbody>\n",
       "</table>\n",
       "</div>"
      ],
      "text/plain": [
       "              duration  total_income\n",
       "duration      1.000000     -0.074266\n",
       "total_income -0.074266      1.000000"
      ]
     },
     "execution_count": 111,
     "metadata": {},
     "output_type": "execute_result"
    }
   ],
   "source": [
    "ult_calls = df.loc[df['plan']=='ultimate', ['duration', 'total_income']]\n",
    "ult_calls.corr()"
   ]
  },
  {
   "cell_type": "code",
   "execution_count": 112,
   "metadata": {},
   "outputs": [
    {
     "data": {
      "image/png": "[encoded data removed]",
      "text/plain": [
       "<Figure size 432x288 with 1 Axes>"
      ]
     },
     "metadata": {
      "needs_background": "light"
     },
     "output_type": "display_data"
    }
   ],
   "source": [
    "sns.scatterplot(data=ult_calls, x='duration', y='total_income', color='blue')\n",
    "plt.show()"
   ]
  },
  {
   "cell_type": "code",
   "execution_count": 113,
   "metadata": {},
   "outputs": [
    {
     "data": {
      "text/html": [
       "<div>\n",
       "<style scoped>\n",
       "    .dataframe tbody tr th:only-of-type {\n",
       "        vertical-align: middle;\n",
       "    }\n",
       "\n",
       "    .dataframe tbody tr th {\n",
       "        vertical-align: top;\n",
       "    }\n",
       "\n",
       "    .dataframe thead th {\n",
       "        text-align: right;\n",
       "    }\n",
       "</style>\n",
       "<table border=\"1\" class=\"dataframe\">\n",
       "  <thead>\n",
       "    <tr style=\"text-align: right;\">\n",
       "      <th></th>\n",
       "      <th>gb_used</th>\n",
       "      <th>total_income</th>\n",
       "    </tr>\n",
       "  </thead>\n",
       "  <tbody>\n",
       "    <tr>\n",
       "      <th>gb_used</th>\n",
       "      <td>1.000000</td>\n",
       "      <td>0.892567</td>\n",
       "    </tr>\n",
       "    <tr>\n",
       "      <th>total_income</th>\n",
       "      <td>0.892567</td>\n",
       "      <td>1.000000</td>\n",
       "    </tr>\n",
       "  </tbody>\n",
       "</table>\n",
       "</div>"
      ],
      "text/plain": [
       "               gb_used  total_income\n",
       "gb_used       1.000000      0.892567\n",
       "total_income  0.892567      1.000000"
      ]
     },
     "execution_count": 113,
     "metadata": {},
     "output_type": "execute_result"
    }
   ],
   "source": [
    "surf_internet = df.loc[df['plan']=='surf', ['gb_used', 'total_income']]\n",
    "surf_internet.corr()"
   ]
  },
  {
   "cell_type": "markdown",
   "metadata": {},
   "source": [
    "### Bagaimana korelasi antara SMS yang terkirim dan pendapatan di setiap paket?"
   ]
  },
  {
   "cell_type": "code",
   "execution_count": 114,
   "metadata": {},
   "outputs": [
    {
     "data": {
      "text/html": [
       "<div>\n",
       "<style scoped>\n",
       "    .dataframe tbody tr th:only-of-type {\n",
       "        vertical-align: middle;\n",
       "    }\n",
       "\n",
       "    .dataframe tbody tr th {\n",
       "        vertical-align: top;\n",
       "    }\n",
       "\n",
       "    .dataframe thead th {\n",
       "        text-align: right;\n",
       "    }\n",
       "</style>\n",
       "<table border=\"1\" class=\"dataframe\">\n",
       "  <thead>\n",
       "    <tr style=\"text-align: right;\">\n",
       "      <th></th>\n",
       "      <th>msg_count</th>\n",
       "      <th>total_income</th>\n",
       "    </tr>\n",
       "  </thead>\n",
       "  <tbody>\n",
       "    <tr>\n",
       "      <th>msg_count</th>\n",
       "      <td>1.000000</td>\n",
       "      <td>0.166645</td>\n",
       "    </tr>\n",
       "    <tr>\n",
       "      <th>total_income</th>\n",
       "      <td>0.166645</td>\n",
       "      <td>1.000000</td>\n",
       "    </tr>\n",
       "  </tbody>\n",
       "</table>\n",
       "</div>"
      ],
      "text/plain": [
       "              msg_count  total_income\n",
       "msg_count      1.000000      0.166645\n",
       "total_income   0.166645      1.000000"
      ]
     },
     "execution_count": 114,
     "metadata": {},
     "output_type": "execute_result"
    }
   ],
   "source": [
    "# Korelasi antara penggunaan internet dengan total income di paket surf\n",
    "surf_msg = df.loc[df['plan']=='surf', ['msg_count', 'total_income']]\n",
    "surf_msg.corr()"
   ]
  },
  {
   "cell_type": "code",
   "execution_count": 115,
   "metadata": {},
   "outputs": [
    {
     "data": {
      "image/png": "[encoded data removed]",
      "text/plain": [
       "<Figure size 432x288 with 1 Axes>"
      ]
     },
     "metadata": {
      "needs_background": "light"
     },
     "output_type": "display_data"
    }
   ],
   "source": [
    "sns.scatterplot(data=surf_msg, x='msg_count', y='total_income', color='red')\n",
    "plt.show()"
   ]
  },
  {
   "cell_type": "code",
   "execution_count": 116,
   "metadata": {},
   "outputs": [
    {
     "data": {
      "text/html": [
       "<div>\n",
       "<style scoped>\n",
       "    .dataframe tbody tr th:only-of-type {\n",
       "        vertical-align: middle;\n",
       "    }\n",
       "\n",
       "    .dataframe tbody tr th {\n",
       "        vertical-align: top;\n",
       "    }\n",
       "\n",
       "    .dataframe thead th {\n",
       "        text-align: right;\n",
       "    }\n",
       "</style>\n",
       "<table border=\"1\" class=\"dataframe\">\n",
       "  <thead>\n",
       "    <tr style=\"text-align: right;\">\n",
       "      <th></th>\n",
       "      <th>msg_count</th>\n",
       "      <th>total_income</th>\n",
       "    </tr>\n",
       "  </thead>\n",
       "  <tbody>\n",
       "    <tr>\n",
       "      <th>msg_count</th>\n",
       "      <td>1.000000</td>\n",
       "      <td>0.172605</td>\n",
       "    </tr>\n",
       "    <tr>\n",
       "      <th>total_income</th>\n",
       "      <td>0.172605</td>\n",
       "      <td>1.000000</td>\n",
       "    </tr>\n",
       "  </tbody>\n",
       "</table>\n",
       "</div>"
      ],
      "text/plain": [
       "              msg_count  total_income\n",
       "msg_count      1.000000      0.172605\n",
       "total_income   0.172605      1.000000"
      ]
     },
     "execution_count": 116,
     "metadata": {},
     "output_type": "execute_result"
    }
   ],
   "source": [
    "ult_msg = df.loc[df['plan']=='ultimate', ['msg_count', 'total_income']]\n",
    "ult_msg.corr()"
   ]
  },
  {
   "cell_type": "code",
   "execution_count": 117,
   "metadata": {},
   "outputs": [
    {
     "data": {
      "image/png": "[encoded data removed]",
      "text/plain": [
       "<Figure size 432x288 with 1 Axes>"
      ]
     },
     "metadata": {
      "needs_background": "light"
     },
     "output_type": "display_data"
    }
   ],
   "source": [
    "sns.scatterplot(data=ult_msg, x='msg_count', y='total_income', color='blue')\n",
    "plt.show()"
   ]
  },
  {
   "cell_type": "markdown",
   "metadata": {},
   "source": [
    "### Bagaimana korelasi antara  Internet yang digunakan dan pendapatan di setiap paket?"
   ]
  },
  {
   "cell_type": "code",
   "execution_count": 118,
   "metadata": {},
   "outputs": [
    {
     "data": {
      "text/html": [
       "<div>\n",
       "<style scoped>\n",
       "    .dataframe tbody tr th:only-of-type {\n",
       "        vertical-align: middle;\n",
       "    }\n",
       "\n",
       "    .dataframe tbody tr th {\n",
       "        vertical-align: top;\n",
       "    }\n",
       "\n",
       "    .dataframe thead th {\n",
       "        text-align: right;\n",
       "    }\n",
       "</style>\n",
       "<table border=\"1\" class=\"dataframe\">\n",
       "  <thead>\n",
       "    <tr style=\"text-align: right;\">\n",
       "      <th></th>\n",
       "      <th>gb_used</th>\n",
       "      <th>total_income</th>\n",
       "    </tr>\n",
       "  </thead>\n",
       "  <tbody>\n",
       "    <tr>\n",
       "      <th>gb_used</th>\n",
       "      <td>1.000000</td>\n",
       "      <td>0.892567</td>\n",
       "    </tr>\n",
       "    <tr>\n",
       "      <th>total_income</th>\n",
       "      <td>0.892567</td>\n",
       "      <td>1.000000</td>\n",
       "    </tr>\n",
       "  </tbody>\n",
       "</table>\n",
       "</div>"
      ],
      "text/plain": [
       "               gb_used  total_income\n",
       "gb_used       1.000000      0.892567\n",
       "total_income  0.892567      1.000000"
      ]
     },
     "execution_count": 118,
     "metadata": {},
     "output_type": "execute_result"
    }
   ],
   "source": [
    "# Korelasi antara penggunaan internet dengan total income di paket surf\n",
    "surf_internet = df.loc[df['plan']=='surf', ['gb_used', 'total_income']]\n",
    "surf_internet.corr()"
   ]
  },
  {
   "cell_type": "code",
   "execution_count": 119,
   "metadata": {},
   "outputs": [
    {
     "data": {
      "image/png": "[encoded data removed]",
      "text/plain": [
       "<Figure size 432x288 with 1 Axes>"
      ]
     },
     "metadata": {
      "needs_background": "light"
     },
     "output_type": "display_data"
    }
   ],
   "source": [
    "# visualisasi scatterplot untuk melihat korelasinya\n",
    "sns.scatterplot(data = surf_internet, x='gb_used', y='total_income', color='red')\n",
    "plt.show()"
   ]
  },
  {
   "cell_type": "code",
   "execution_count": 120,
   "metadata": {},
   "outputs": [
    {
     "data": {
      "text/html": [
       "<div>\n",
       "<style scoped>\n",
       "    .dataframe tbody tr th:only-of-type {\n",
       "        vertical-align: middle;\n",
       "    }\n",
       "\n",
       "    .dataframe tbody tr th {\n",
       "        vertical-align: top;\n",
       "    }\n",
       "\n",
       "    .dataframe thead th {\n",
       "        text-align: right;\n",
       "    }\n",
       "</style>\n",
       "<table border=\"1\" class=\"dataframe\">\n",
       "  <thead>\n",
       "    <tr style=\"text-align: right;\">\n",
       "      <th></th>\n",
       "      <th>gb_used</th>\n",
       "      <th>total_income</th>\n",
       "    </tr>\n",
       "  </thead>\n",
       "  <tbody>\n",
       "    <tr>\n",
       "      <th>gb_used</th>\n",
       "      <td>1.000000</td>\n",
       "      <td>0.556239</td>\n",
       "    </tr>\n",
       "    <tr>\n",
       "      <th>total_income</th>\n",
       "      <td>0.556239</td>\n",
       "      <td>1.000000</td>\n",
       "    </tr>\n",
       "  </tbody>\n",
       "</table>\n",
       "</div>"
      ],
      "text/plain": [
       "               gb_used  total_income\n",
       "gb_used       1.000000      0.556239\n",
       "total_income  0.556239      1.000000"
      ]
     },
     "execution_count": 120,
     "metadata": {},
     "output_type": "execute_result"
    }
   ],
   "source": [
    "# Korelasi antara penggunaan internet dengan total income di paket ultimate\n",
    "ult_internet = df.loc[df['plan']=='ultimate', ['gb_used', 'total_income']]\n",
    "ult_internet.corr()"
   ]
  },
  {
   "cell_type": "code",
   "execution_count": 121,
   "metadata": {},
   "outputs": [
    {
     "data": {
      "image/png": "[encoded data removed]",
      "text/plain": [
       "<Figure size 432x288 with 1 Axes>"
      ]
     },
     "metadata": {
      "needs_background": "light"
     },
     "output_type": "display_data"
    }
   ],
   "source": [
    "# visualisasi scatterplot untuk melihat korelasinya\n",
    "sns.scatterplot(data = ult_internet, x='gb_used', y='total_income', color='blue')\n",
    "plt.show()"
   ]
  },
  {
   "cell_type": "markdown",
   "metadata": {},
   "source": [
    "**DESCRIPTION**\n",
    "\n",
    "Berikut adalah kesimpulan dari korelasi antar data telepon, sms, dan internet yandg dikorelasikan dengan data pendapatan\n",
    "\n",
    "_Paket Surf_:\n",
    "\n",
    "1. Durasi Telepon vs. Pendapatan:\n",
    "\n",
    "- Korelasi: 0.281659\n",
    "- Scatter plot menunjukkan hubungan positif yang lemah antara durasi telepon dan pendapatan.\n",
    "\n",
    "2. SMS Terkirim vs. Pendapatan:\n",
    "\n",
    "- Korelasi: 0.166645\n",
    "- Scatter plot menunjukkan hubungan positif yang lemah antara jumlah SMS terkirim dan pendapatan.\n",
    "\n",
    "3. Pemakaian Internet vs. Pendapatan:\n",
    "\n",
    "- Korelasi: 0.892567\n",
    "- Scatter plot menunjukkan hubungan positif yang kuat antara pemakaian internet dan pendapatan.\n",
    "\n",
    "_Paket Ultimate_:\n",
    "\n",
    "1. Durasi Telepon vs. Pendapatan:\n",
    "\n",
    "- Korelasi: 0.892567\n",
    "\n",
    "- Scatter plot menunjukkan hubungan positif yang kuat antara pemakaian internet dan pendapatan.\n",
    "\n",
    "2. SMS Terkirim vs. Pendapatan:\n",
    "\n",
    "- Korelasi: 0.172605\n",
    "- Scatter plot menunjukkan hubungan positif yang lemah antara jumlah SMS terkirim dan pendapatan.\n",
    "\n",
    "3. Pemakaian Internet vs. Pendapatan:\n",
    "\n",
    "- Korelasi: 0.556239\n",
    "- Scatter plot menunjukkan hubungan positif yang cukup kuat antara pemakaian internet dan pendapatan.\n",
    "\n",
    "\n",
    "Dapat disimpulkan bahwa korelasi yang paling kuat terlihat antara pemakaian internet dengan pendapatan pada pengguna paket Surf, mengindikasikan bahwa penggunaan internet yang lebih tinggi cenderung meningkatkan pendapatan mereka. Durasi telepon, jumlah SMS terkirim, dan pemakaian internet semuanya memiliki korelasi positif dengan pendapatan, namun korelasinya lemah terutama pada pengguna paket Ultimate."
   ]
  },
  {
   "cell_type": "markdown",
   "metadata": {},
   "source": [
    "<div class=\"alert alert-success\">\n",
    "<b>Code Reviewers's comment v.1</b> <a class=\"tocSkip\"></a>\n",
    "\n",
    "Bagus, code yang dijalankan sudah sesuai dengan instruksi dari project.\n",
    "\n",
    "</div>"
   ]
  },
  {
   "cell_type": "markdown",
   "metadata": {},
   "source": [
    "# 5. Menguji Hipotesis Statistik <a id='hypotesis'></a>"
   ]
  },
  {
   "cell_type": "markdown",
   "metadata": {},
   "source": [
    "[Ujilah hipotesis yang menyatakan bahwa pendapatan rata-rata dari pengguna paket prabayar Ultimate dan Surf berbeda.]"
   ]
  },
  {
   "cell_type": "markdown",
   "metadata": {},
   "source": [
    "[Rumuskan hipotesis nol dan alternatif, pilih pengujian statistiknya, dan tentukan nilai \"alpha\".]"
   ]
  },
  {
   "cell_type": "markdown",
   "metadata": {},
   "source": [
    "## Rata-rata pendapatan pengguna paket telepon Ultimate dan Surf berbeda <a id='income_avg'></a>\n",
    "\n"
   ]
  },
  {
   "cell_type": "markdown",
   "metadata": {},
   "source": [
    "* Pengujian Statistik: Uji T independen (two-sample t-test)\n",
    "\n",
    "* Alpha (tingkat signifikansi): 0.05(5%)\n",
    "\n",
    "- Hipotesis: \n",
    "\n",
    "  -    Hipotesis Nol (H0): Rata-rata pendapatan pengguna paket Ultimate sama dengan rata-rata pendapatan pengguna paket Surf.\n",
    "\n",
    "  * Hipotesis Alternatif (H1): Rata-rata pendapatan pengguna paket Ultimate tidak sama dengan rata-rata pendapatan pengguna paket Surf. "
   ]
  },
  {
   "cell_type": "code",
   "execution_count": 126,
   "metadata": {},
   "outputs": [
    {
     "name": "stdout",
     "output_type": "stream",
     "text": [
      "P-Value for total_income: 1.979075778525107e-08\n",
      "H1 Diterima: Rata-rata pendapatan dari pengguna paket ultimate dan surf BEDA\n"
     ]
    }
   ],
   "source": [
    "# Uji hipotesisnya\n",
    "\n",
    "alpha = 0.05\n",
    "p_value_income = ttest_ind(df[df['plan'] == 'surf']['total_income'], df[df['plan'] == 'ultimate']['total_income'], nan_policy='omit').pvalue\n",
    "\n",
    "# Print the p-value and hypothesis result for total_income\n",
    "print(f'P-Value for total_income: {p_value_income}')\n",
    "if p_value_income >= alpha:\n",
    "    print('H0 Diterima: Rata-rata pendapatan dari pengguna paket ultimate dan surf SAMA')\n",
    "else:\n",
    "    print('H1 Diterima: Rata-rata pendapatan dari pengguna paket ultimate dan surf BEDA')"
   ]
  },
  {
   "cell_type": "code",
   "execution_count": 125,
   "metadata": {},
   "outputs": [
    {
     "name": "stdout",
     "output_type": "stream",
     "text": [
      "Rata-rata pendapatan di paket surf: 60.58561983471074\n",
      "Rata-rata pendapatan di paket ultimate: 72.29444444444445\n"
     ]
    }
   ],
   "source": [
    "# Print the mean total_income for surf and ultimate\n",
    "print('Rata-rata pendapatan di paket surf:', df[df['plan'] == 'surf']['total_income'].mean())\n",
    "print('Rata-rata pendapatan di paket ultimate:', df[df['plan'] == 'ultimate']['total_income'].mean())"
   ]
  },
  {
   "cell_type": "markdown",
   "metadata": {},
   "source": [
    "<div class=\"alert alert-danger\">\n",
    "<b>Code Reviewers's comment v.1</b> <a class=\"tocSkip\"></a>\n",
    "\n",
    "- tidak harus di aggregasi ya kak\n",
    "    - jadi bisa langsung pakai df ya\n",
    "    - dan hal yang diukur adalah revenue/total_income bukan duration ya karena di H0 dan H1 sudah dijelaskan yaitu `pendapatan`\n",
    "\n",
    "</div>"
   ]
  },
  {
   "cell_type": "markdown",
   "metadata": {},
   "source": [
    "<div class=\"alert alert-block alert-info\">\n",
    "<b>Student answer.</b> <a class=\"tocSkip\"></a>\n",
    "    \n",
    "Telah diubah menjadi df dan hitungan menggunakan data pendapatan (total_income)\n",
    "</div>"
   ]
  },
  {
   "cell_type": "markdown",
   "metadata": {},
   "source": [
    "<div class=\"alert alert-success\">\n",
    "<b>Code Reviewers's comment v.1</b> <a class=\"tocSkip\"></a>\n",
    "\n",
    "Bagus, code yang dijalankan sudah sesuai dengan instruksi dari project.\n",
    "\n",
    "</div>"
   ]
  },
  {
   "cell_type": "markdown",
   "metadata": {},
   "source": [
    "**RESULTS**\n",
    "\n",
    "* Karena P-Value (1.979075778525107e-08) lebih kecil dari tingkat signifikansi (0.05), maka kita terima hipotesis alternatif (H1).\n",
    "\n",
    "* Artinya, terdapat perbedaan yang signifikan dalam rata-rata pendapatan antara pengguna paket Surf dan Ultimate.\n",
    "\n",
    "* Rata-rata pendapatan pengguna paket Ultimate (72.29) lebih tinggi daripada rata-rata pendapatan pengguna paket Surf (60.59)."
   ]
  },
  {
   "cell_type": "markdown",
   "metadata": {},
   "source": [
    "## Rata-rata pendapatan pengguna di wilayah NY-NJ berbeda dengan pendapatan pengguna dari wilayah lain <a id='income_area'></a>\n"
   ]
  },
  {
   "cell_type": "markdown",
   "metadata": {},
   "source": [
    "[Ujilah hipotesis bahwa pendapatan rata-rata dari pengguna di wilayah NY-NJ berbeda dengan pendapatan pengguna dari wilayah lain.]"
   ]
  },
  {
   "cell_type": "markdown",
   "metadata": {},
   "source": [
    "[Rumuskan hipotesis nol dan alternatif, pilih pengujian statistiknya, dan tentukan nilai \"alpha\".]"
   ]
  },
  {
   "cell_type": "markdown",
   "metadata": {},
   "source": [
    "* Pengujian Statistik: Uji T independen (two-sample t-test)\n",
    "* Alpha (tingkat signifikansi): 0.05 (5%)\n",
    "* Hipotesis:\n",
    "\n",
    "   *   Hipotesis Nol (H0): Rata-rata pendapatan pengguna di wilayah NY-NJ sama dengan rata-rata pendapatan pengguna di wilayah lain.\n",
    "   *   Hipotesis Alternatif (H1): Rata-rata pendapatan pengguna di wilayah NY-NJ berbeda dengan rata-rata pendapatan pengguna di wilayah lain. \n"
   ]
  },
  {
   "cell_type": "code",
   "execution_count": 123,
   "metadata": {},
   "outputs": [
    {
     "name": "stdout",
     "output_type": "stream",
     "text": [
      "T-Statistic: -2.1144925728780337\n",
      "P-Value: 0.03491254854185281\n"
     ]
    }
   ],
   "source": [
    "# Uji hipotesisnya\n",
    "\n",
    "income_nynj = df[df['is_nynj'] == 1]['total_income'].dropna()\n",
    "income_non_nynj = df[df['is_nynj'] == 0]['total_income'].dropna()\n",
    "# Lakukan uji t independen\n",
    "t_stat, p_value = ttest_ind(income_nynj, income_non_nynj, equal_var=False)\n",
    "print('T-Statistic:', t_stat)\n",
    "print('P-Value:', p_value)\n"
   ]
  },
  {
   "cell_type": "code",
   "execution_count": 127,
   "metadata": {},
   "outputs": [
    {
     "name": "stdout",
     "output_type": "stream",
     "text": [
      " H1 diterima: Rata-rata pendapatan di wilayah NY-NJ BEDA dengan rata-rata pendapatan di wilayah lain.\n"
     ]
    }
   ],
   "source": [
    "# Tampilkan hasil\n",
    "alpha = 0.05\n",
    "\n",
    "# Evaluasi hasil uji\n",
    "if p_value >= alpha:\n",
    "    print(' H0 diterima: Rata-rata pendapatan di wilayah NY-NJ SAMA dengan rata-rata pendapatan di wilayah lain.')\n",
    "else:\n",
    "    print(' H1 diterima: Rata-rata pendapatan di wilayah NY-NJ BEDA dengan rata-rata pendapatan di wilayah lain.')"
   ]
  },
  {
   "cell_type": "markdown",
   "metadata": {},
   "source": [
    "**RESULTS**\n",
    "\n",
    "* Karena P-Value (0.03491254854185281) kurang dari tingkat signifikansi (0.05), maka kita terima hipotesis alternatif (H1).\n",
    "\n",
    "* Artinya, terdapat perbedaan yang signifikan dalam rata-rata pendapatan antara pengguna di wilayah NY-NJ dan pengguna di wilayah lain.\n",
    "\n",
    "* Rata-rata pendapatan pengguna di wilayah NY-NJ berbeda dengan rata-rata pendapatan pengguna di wilayah lain."
   ]
  },
  {
   "cell_type": "markdown",
   "metadata": {},
   "source": [
    "<div class=\"alert alert-success\">\n",
    "<b>Code Reviewers's comment v.1</b> <a class=\"tocSkip\"></a>\n",
    "\n",
    "Bagus, code yang dijalankan sudah sesuai dengan instruksi dari project.\n",
    "\n",
    "</div>"
   ]
  },
  {
   "cell_type": "markdown",
   "metadata": {},
   "source": [
    "## Kesimpulan Umum <a id='conclusion'></a>\n",
    "\n",
    "\n",
    "[Tuliskan kesimpulan Anda di bagian akhir, pastikan kesimpulan tersebut mencakup semua keputusan (asumsi) penting yang telah Anda buat, serta yang menuntun Anda pada cara Anda memproses dan menganalisis data.]"
   ]
  },
  {
   "cell_type": "markdown",
   "metadata": {},
   "source": [
    "* Tujuan dari proyek ini adalah untuk menganalisis perilaku pengguna dan menentukan paket prabayar mana yang membawa lebih banyak pendapatan. Hasil analisis adalah sebagai berikut:\n",
    "\n",
    "1. Perilaku Pengguna pada Paket Surf:\n",
    "\n",
    "    * Sebagian besar pengguna paket Surf cenderung melampaui batas penggunaan bulanan mereka, terutama dalam hal panggilan, SMS, dan pemakaian internet.\n",
    "\n",
    "2.  Perilaku Pengguna pada Paket Ultimate:\n",
    "\n",
    "    * Meskipun pengguna paket Ultimate memiliki rata-rata penggunaan yang lebih tinggi, perilaku mereka cenderung lebih konsisten setiap bulan.\n",
    "\n",
    "3. Perbandingan Pendapatan dan Penggunaan: \n",
    "\n",
    "    * Berdasarkan uji hipotesis statistik, terdapat bukti signifikan bahwa rata-rata pendapatan dari pengguna paket Ultimate dan Surf tidak sama. Pengguna paket Ultimate memiliki rata-rata pendapatan yang lebih tinggi, memberikan peluang untuk meningkatkan pendapatan perusahaan.\n",
    "    \n",
    "4. Perbedaan Pendapatan di Wilayah NY-NJ:\n",
    "\n",
    "    * Selain itu, hasil uji hipotesis statistik juga menunjukkan perbedaan yang signifikan antara rata-rata pendapatan di wilayah NY-NJ dan wilayah lain. Hal ini memberikan panduan strategis untuk penyesuaian kebijakan harga atau penargetan pasar yang lebih tepat di wilayah-wilayah tersebut.\n",
    "    \n",
    "* Dalam konteks ini, meskipun pengguna paket Surf cenderung melampaui batas penggunaan mereka, pengguna paket Ultimate memiliki rata-rata pendapatan yang lebih tinggi dan konsisten setiap bulan. Dengan demikian, penekanan dapat diberikan pada meningkatkan penggunaan dan kepuasan pengguna paket Ultimate untuk meningkatkan pendapatan. Selain itu, strategi pemasaran yang sesuai dapat diterapkan untuk mengatasi perilaku pengguna paket Surf yang melebihi batas penggunaan bulanan.\n",
    "\n",
    " \n",
    "  * Rekomendasi:\n",
    " \n",
    " - Meningkatkan kepuasan pengguna dengan meninjau kembali batasan penggunaan bulanan dalam paket Surf, sehingga dapat mengurangi pelanggaran yang ada.\n",
    " \n",
    " - Perbaiki penyelenggaraan paket Ultimate dengan memfokuskan pada strategi pemasaran yang memberikan penekanan pada kestabilan penggunaan bulanan dan manfaat yang lebih besar.\n",
    "\n",
    " - Sesuaikan strategi harga dan pemasaran di wilayah NY-NJ untuk memaksimalkan pendapatan dengan menargetkan segmen pasar yang tepat."
   ]
  },
  {
   "cell_type": "markdown",
   "metadata": {},
   "source": [
    "<div class=\"alert alert-block alert-warning\">\n",
    "\n",
    "# General comments #1\n",
    "<b>Reviewer's comment</b> <a class=\"tocSkip\"></a>\n",
    "\n",
    "Good Job Cakra! Sebagian besar kamu telah menyelesaikan project ini dengan baik namun masih ada beberapa hal yang bisa diimprove yang saya tandai dengan comment berwarna kuning dan merah. Jika kamu telah merevisinya, projectmu akan di approve dan kamu bisa lanjut ke tahapan selanjutnya!. \n",
    "    \n",
    "Keep going Cakra, you are doing very well!\n",
    "    \n",
    "\n",
    "</div>"
   ]
  },
  {
   "cell_type": "markdown",
   "metadata": {},
   "source": [
    "<div class=\"alert alert-block alert-success\">\n",
    "\n",
    "# General comments #2\n",
    "<b>Reviewer's comment</b> <a class=\"tocSkip\"></a>\n",
    "\n",
    "Good Job Cakra! Revisi sudah sesuai ya!\n",
    "    \n",
    "Keep going Cakra, you are doing very well!\n",
    "    \n",
    "\n",
    "</div>"
   ]
  },
  {
   "cell_type": "code",
   "execution_count": null,
   "metadata": {},
   "outputs": [],
   "source": []
  }
 ],
 "metadata": {
  "ExecuteTimeLog": [
   {
    "duration": 828,
    "start_time": "2021-11-16T09:21:11.304Z"
   },
   {
    "duration": 893,
    "start_time": "2021-11-16T09:21:17.728Z"
   },
   {
    "duration": 1150,
    "start_time": "2021-11-16T09:21:29.568Z"
   },
   {
    "duration": 3,
    "start_time": "2021-11-16T09:24:14.495Z"
   },
   {
    "duration": 120,
    "start_time": "2021-11-16T09:24:46.630Z"
   },
   {
    "duration": 3,
    "start_time": "2021-11-16T09:28:27.882Z"
   },
   {
    "duration": 4,
    "start_time": "2021-11-16T09:29:54.281Z"
   },
   {
    "duration": 3,
    "start_time": "2021-11-16T09:30:45.936Z"
   },
   {
    "duration": 4,
    "start_time": "2021-11-16T09:31:06.300Z"
   },
   {
    "duration": 113,
    "start_time": "2021-11-16T09:31:37.208Z"
   },
   {
    "duration": 143,
    "start_time": "2021-11-16T09:31:48.656Z"
   },
   {
    "duration": 98,
    "start_time": "2021-11-16T09:31:55.678Z"
   },
   {
    "duration": 3,
    "start_time": "2021-11-16T09:32:08.535Z"
   },
   {
    "duration": 111,
    "start_time": "2021-11-16T09:32:10.120Z"
   },
   {
    "duration": 3,
    "start_time": "2021-11-16T09:32:15.732Z"
   },
   {
    "duration": 4,
    "start_time": "2021-11-16T09:32:29.423Z"
   },
   {
    "duration": 3,
    "start_time": "2021-11-16T10:03:03.074Z"
   },
   {
    "duration": 3,
    "start_time": "2021-11-16T10:10:01.288Z"
   },
   {
    "duration": 3,
    "start_time": "2021-11-16T10:10:46.923Z"
   },
   {
    "duration": 121,
    "start_time": "2021-11-16T10:37:46.494Z"
   },
   {
    "duration": 125,
    "start_time": "2021-11-16T10:38:20.632Z"
   },
   {
    "duration": 112,
    "start_time": "2021-11-16T10:46:53.001Z"
   },
   {
    "duration": 110,
    "start_time": "2021-11-16T10:48:25.775Z"
   },
   {
    "duration": 3,
    "start_time": "2021-11-16T10:50:18.720Z"
   },
   {
    "duration": 4,
    "start_time": "2021-11-16T10:50:37.649Z"
   },
   {
    "duration": 2,
    "start_time": "2021-11-16T10:50:51.884Z"
   },
   {
    "duration": 3,
    "start_time": "2021-11-16T10:51:56.237Z"
   },
   {
    "duration": 101,
    "start_time": "2021-11-16T10:53:13.791Z"
   },
   {
    "duration": 3,
    "start_time": "2021-11-16T10:55:59.186Z"
   },
   {
    "duration": 3,
    "start_time": "2021-11-16T10:56:10.751Z"
   },
   {
    "duration": 3,
    "start_time": "2021-11-16T10:56:49.038Z"
   },
   {
    "duration": 3,
    "start_time": "2021-11-16T10:56:49.174Z"
   },
   {
    "duration": 4,
    "start_time": "2021-11-16T10:56:49.414Z"
   },
   {
    "duration": 3,
    "start_time": "2021-11-16T10:56:49.680Z"
   },
   {
    "duration": 3,
    "start_time": "2021-11-16T10:56:50.370Z"
   },
   {
    "duration": 114,
    "start_time": "2021-11-16T10:59:34.518Z"
   },
   {
    "duration": 3,
    "start_time": "2021-11-16T11:01:41.201Z"
   },
   {
    "duration": 116,
    "start_time": "2021-11-16T11:01:48.754Z"
   },
   {
    "duration": 3,
    "start_time": "2021-11-16T11:02:16.685Z"
   },
   {
    "duration": 3,
    "start_time": "2021-11-16T11:02:19.479Z"
   },
   {
    "duration": 3,
    "start_time": "2021-11-16T11:02:47.067Z"
   },
   {
    "duration": 3,
    "start_time": "2021-11-16T11:02:49.353Z"
   },
   {
    "duration": 3,
    "start_time": "2021-11-16T11:03:07.835Z"
   },
   {
    "duration": 3,
    "start_time": "2021-11-16T11:03:07.953Z"
   },
   {
    "duration": 112,
    "start_time": "2021-11-16T11:07:52.072Z"
   },
   {
    "duration": 187,
    "start_time": "2021-11-16T11:09:23.468Z"
   },
   {
    "duration": 4,
    "start_time": "2021-11-16T11:10:01.455Z"
   },
   {
    "duration": 3,
    "start_time": "2021-11-16T11:10:05.069Z"
   },
   {
    "duration": 4,
    "start_time": "2021-11-16T11:10:13.376Z"
   },
   {
    "duration": 3,
    "start_time": "2021-11-16T11:10:14.434Z"
   },
   {
    "duration": 3,
    "start_time": "2021-11-16T11:10:22.853Z"
   },
   {
    "duration": 4,
    "start_time": "2021-11-16T11:27:29.279Z"
   },
   {
    "duration": 4,
    "start_time": "2021-11-16T11:29:08.919Z"
   },
   {
    "duration": 118,
    "start_time": "2021-11-16T11:29:46.703Z"
   },
   {
    "duration": 437,
    "start_time": "2021-11-16T11:36:02.181Z"
   },
   {
    "duration": 157,
    "start_time": "2021-11-16T11:36:14.388Z"
   },
   {
    "duration": 207,
    "start_time": "2021-11-16T11:47:15.898Z"
   },
   {
    "duration": 3,
    "start_time": "2021-11-16T11:53:52.092Z"
   },
   {
    "duration": 3,
    "start_time": "2021-11-16T11:53:52.236Z"
   },
   {
    "duration": 3,
    "start_time": "2021-11-16T11:59:12.005Z"
   },
   {
    "duration": 112,
    "start_time": "2021-11-16T12:00:33.446Z"
   },
   {
    "duration": 3,
    "start_time": "2021-11-16T12:02:14.453Z"
   },
   {
    "duration": 3,
    "start_time": "2021-11-16T12:02:39.512Z"
   },
   {
    "duration": 106,
    "start_time": "2021-11-16T12:03:03.460Z"
   },
   {
    "duration": 3,
    "start_time": "2021-11-17T20:37:21.139Z"
   },
   {
    "duration": 3,
    "start_time": "2021-11-17T20:37:22.229Z"
   },
   {
    "duration": 3,
    "start_time": "2021-11-17T20:38:38.806Z"
   },
   {
    "duration": 3,
    "start_time": "2021-11-17T20:38:41.958Z"
   },
   {
    "duration": 3,
    "start_time": "2021-11-17T20:43:46.551Z"
   },
   {
    "duration": 4,
    "start_time": "2021-11-17T20:58:21.835Z"
   },
   {
    "duration": 3,
    "start_time": "2021-11-17T20:59:21.872Z"
   },
   {
    "duration": 4,
    "start_time": "2021-11-17T20:59:45.352Z"
   },
   {
    "duration": 4,
    "start_time": "2021-11-17T20:59:49.646Z"
   },
   {
    "duration": 159,
    "start_time": "2021-11-17T21:02:26.949Z"
   },
   {
    "duration": 3,
    "start_time": "2021-11-17T21:03:53.461Z"
   },
   {
    "duration": 3,
    "start_time": "2021-11-17T21:03:53.694Z"
   },
   {
    "duration": 3,
    "start_time": "2021-11-17T21:05:28.145Z"
   },
   {
    "duration": 116,
    "start_time": "2021-11-17T21:05:57.787Z"
   },
   {
    "duration": 3,
    "start_time": "2021-11-17T21:06:37.993Z"
   },
   {
    "duration": 3,
    "start_time": "2021-11-17T21:06:38.261Z"
   },
   {
    "duration": 3,
    "start_time": "2021-11-17T21:11:54.358Z"
   },
   {
    "duration": 3,
    "start_time": "2021-11-17T21:12:43.846Z"
   },
   {
    "duration": 4,
    "start_time": "2021-11-17T21:13:08.773Z"
   },
   {
    "duration": 3,
    "start_time": "2021-11-17T21:14:44.441Z"
   },
   {
    "duration": 3,
    "start_time": "2021-11-17T21:15:42.059Z"
   },
   {
    "duration": 4,
    "start_time": "2021-11-17T21:15:51.995Z"
   },
   {
    "duration": 3,
    "start_time": "2021-11-17T21:15:53.923Z"
   },
   {
    "duration": 3,
    "start_time": "2021-11-17T21:15:55.282Z"
   },
   {
    "duration": 3,
    "start_time": "2021-11-17T21:16:28.492Z"
   },
   {
    "duration": 3,
    "start_time": "2021-11-17T21:16:32.603Z"
   },
   {
    "duration": 3,
    "start_time": "2021-11-17T21:17:06.941Z"
   },
   {
    "duration": 98,
    "start_time": "2021-11-17T21:18:05.733Z"
   },
   {
    "duration": 4,
    "start_time": "2021-11-17T21:21:35.255Z"
   },
   {
    "duration": 3,
    "start_time": "2021-11-17T21:21:37.804Z"
   },
   {
    "duration": 4,
    "start_time": "2021-11-17T21:23:06.071Z"
   },
   {
    "duration": 3,
    "start_time": "2021-11-17T21:23:24.799Z"
   },
   {
    "duration": 3,
    "start_time": "2021-11-17T21:23:32.591Z"
   },
   {
    "duration": 98,
    "start_time": "2021-11-17T21:28:31.559Z"
   },
   {
    "duration": 3,
    "start_time": "2021-11-17T21:28:45.448Z"
   },
   {
    "duration": 3,
    "start_time": "2021-11-17T21:29:17.303Z"
   },
   {
    "duration": 3,
    "start_time": "2021-11-17T21:29:29.617Z"
   },
   {
    "duration": 3,
    "start_time": "2021-11-17T21:29:32.681Z"
   },
   {
    "duration": 3,
    "start_time": "2021-11-17T21:36:11.474Z"
   },
   {
    "duration": 3,
    "start_time": "2021-11-17T21:36:14.791Z"
   },
   {
    "duration": 3,
    "start_time": "2021-11-17T21:36:53.943Z"
   },
   {
    "duration": 3,
    "start_time": "2021-11-17T21:36:56.165Z"
   },
   {
    "duration": 4,
    "start_time": "2021-11-17T21:37:16.590Z"
   },
   {
    "duration": 3,
    "start_time": "2021-11-17T21:37:22.702Z"
   },
   {
    "duration": 4,
    "start_time": "2021-11-17T21:38:03.479Z"
   },
   {
    "duration": 3,
    "start_time": "2021-11-17T21:38:08.601Z"
   },
   {
    "duration": 3,
    "start_time": "2021-11-17T21:38:12.928Z"
   },
   {
    "duration": 3,
    "start_time": "2021-11-17T21:38:48.896Z"
   },
   {
    "duration": 2,
    "start_time": "2021-11-17T21:38:49.171Z"
   },
   {
    "duration": 4,
    "start_time": "2021-11-17T21:39:57.889Z"
   },
   {
    "duration": 3,
    "start_time": "2021-11-17T21:39:58.057Z"
   },
   {
    "duration": 3,
    "start_time": "2021-11-17T21:41:20.108Z"
   },
   {
    "duration": 3,
    "start_time": "2021-11-17T21:41:20.629Z"
   },
   {
    "duration": 3,
    "start_time": "2021-11-17T21:42:49.136Z"
   },
   {
    "duration": 3,
    "start_time": "2021-11-17T21:43:15.137Z"
   },
   {
    "duration": 4,
    "start_time": "2021-11-17T21:43:16.766Z"
   },
   {
    "duration": 4,
    "start_time": "2021-11-17T21:43:31.711Z"
   },
   {
    "duration": 3,
    "start_time": "2021-11-17T21:43:36.312Z"
   },
   {
    "duration": 4,
    "start_time": "2021-11-17T21:45:08.825Z"
   },
   {
    "duration": 4,
    "start_time": "2021-11-17T21:45:10.119Z"
   },
   {
    "duration": 4,
    "start_time": "2021-11-17T21:45:13.748Z"
   },
   {
    "duration": 3,
    "start_time": "2021-11-17T21:45:22.219Z"
   },
   {
    "duration": 3,
    "start_time": "2021-11-17T21:45:33.412Z"
   },
   {
    "duration": 2,
    "start_time": "2021-11-17T21:46:01.885Z"
   },
   {
    "duration": 3,
    "start_time": "2021-11-17T21:46:03.628Z"
   },
   {
    "duration": 107,
    "start_time": "2021-11-17T21:47:32.512Z"
   },
   {
    "duration": 103,
    "start_time": "2021-11-17T21:50:36.243Z"
   },
   {
    "duration": 3,
    "start_time": "2021-11-18T06:28:31.440Z"
   },
   {
    "duration": 3,
    "start_time": "2021-11-18T06:29:00.168Z"
   },
   {
    "duration": 3,
    "start_time": "2021-11-18T06:31:27.008Z"
   },
   {
    "duration": 2,
    "start_time": "2021-11-18T06:35:34.288Z"
   },
   {
    "duration": 2,
    "start_time": "2021-11-18T06:38:04.527Z"
   }
  ],
  "kernelspec": {
   "display_name": "Python 3 (ipykernel)",
   "language": "python",
   "name": "python3"
  },
  "language_info": {
   "codemirror_mode": {
    "name": "ipython",
    "version": 3
   },
   "file_extension": ".py",
   "mimetype": "text/x-python",
   "name": "python",
   "nbconvert_exporter": "python",
   "pygments_lexer": "ipython3",
   "version": "3.9.5"
  },
  "toc": {
   "base_numbering": 1,
   "nav_menu": {},
   "number_sections": false,
   "sideBar": true,
   "skip_h1_title": false,
   "title_cell": "Table of Contents",
   "title_sidebar": "Contents",
   "toc_cell": false,
   "toc_position": {
    "height": "618px",
    "left": "172px",
    "top": "148.125px",
    "width": "349px"
   },
   "toc_section_display": true,
   "toc_window_display": true
  }
 },
 "nbformat": 4,
 "nbformat_minor": 2
}
