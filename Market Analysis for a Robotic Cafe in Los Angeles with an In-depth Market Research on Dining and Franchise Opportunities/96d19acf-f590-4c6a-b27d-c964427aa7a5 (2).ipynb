{
 "cells": [
  {
   "cell_type": "markdown",
   "metadata": {},
   "source": [
    "<div style=\"border:solid black 2px; padding: 20px\"><h1 style=\"color:black; margin-bottom:20px\">Reviewer's comment v1</h1>\n",
    "Halo Cakra !\n",
    "\n",
    "Perkenalkan saya disini sebagai Code Reviewers, disini dengan senang hati saya akan mereview tugas Cakra ya.\n",
    "\n",
    "Saya akan memberikan beberapa komen seperti dibawah ini, tolong jangan dipindah, dirubah, maupun dihapus ya.\n",
    "\n",
    "Komen yang saya berikan akan muncul dalam warna hijau, kuning, atau pun merah seperti ini:\n",
    "\n",
    "<div class=\"alert alert-success\">\n",
    "<b>Code Reviewers's comment v.1</b> <a class=\"tocSkip\"></a>\n",
    "\n",
    "Bagus, code yang dijalankan sudah sesuai dengan instruksi dari project.\n",
    "\n",
    "</div>\n",
    "\n",
    "<div class=\"alert alert-warning\">\n",
    "<b>Code Reviewers's comment v.1</b> <a class=\"tocSkip\"></a>\n",
    "\n",
    "Terdapat beberapa catatan.\n",
    "\n",
    "</div>\n",
    "\n",
    "<div class=\"alert alert-danger\">\n",
    "<b>Code Reviewers's comment v.1</b> <a class=\"tocSkip\"></a>\n",
    "\n",
    "Perlu beberapa perbaikan\n",
    "\n",
    "</div>\n",
    "\n",
    "Dan tentu saja Cakra dapat menjawab saya dengan menggunakan ini\n",
    "\n",
    "<div class=\"alert alert-block alert-info\">\n",
    "<b>Student answer.</b> <a class=\"tocSkip\"></a>\n",
    "    \n",
    "Baik kak\n",
    "</div>"
   ]
  },
  {
   "cell_type": "markdown",
   "metadata": {},
   "source": [
    "# Konten <a id='back'></a>\n",
    "\n",
    "* [Deskripsi Proyek](#intro)\n",
    "\n",
    "* [Tahap 1.Data load](#data_load)\n",
    "    * [1.1 Memuat Library](#library_load)\n",
    "    * [1.2 Informasi dan Deskripsi Data Awal](#data_info)\n",
    "\n",
    "    \n",
    "* [Tahap 2. Exploratory Data Analysis](#data_analysis) \n",
    "\n",
    "   * [2.1 Teliti proporsi dari berbagai jenis usaha. Buat grafiknya](#business_type) \n",
    "   * [2.2 Teliti proporsi dari usaha berbasis waralaba dan nonwaralaba. Buat grafiknya](#frachise_or_no) \n",
    "   * [2.3 Jenis usaha mana yang biasanya merupakan usaha berbasis waralaba?](#frachise_type) \n",
    "   * [2.4 Mana yang merupakan ciri-ciri dari jenis usaha berbasis waralaba: memiliki banyak tempat dengan jumlah kursi yang sedikit atau memiliki beberapa tempat dengan jumlah kursi yang banyak?](#chair_franchise)\n",
    "   * [2.5 Tentukan jumlah rata-rata kursi untuk setiap jenis usaha. Secara rata-rata, jenis usaha mana yang memiliki jumlah kursi terbanyak? Buat grafiknya](#avg_chair)\n",
    "   * [2.6 Pindahkan data nama jalan dari kolom address ke kolom terpisah](#name_cleaned)\n",
    "   * [2.7 Buat grafik yang menampilkan sepuluh nama jalan teratas berdasarkan jumlah usaha (tempat makan)](#top_10_roads) \n",
    "   * [2.8 Temukan jumlah jalan yang hanya memiliki satu usaha (tempat makan)](#one_business) \n",
    "   * [2.9 Untuk jalan yang dihuni oleh banyak usaha (tempat makan), perhatikan distribusi jumlah kursinya. Tren apa yang bisa kamu amati?](#chair_distribution)\n",
    "\n",
    " \n",
    " \n",
    "  \n",
    "    \n",
    "\n",
    "\n",
    "\n",
    "\n",
    "\n",
    "* [Kesimpulan Umum](#conlusion)\n",
    "* [Link Presentasi](#presentation)"
   ]
  },
  {
   "cell_type": "markdown",
   "metadata": {},
   "source": [
    "## Deskripsi proyek <a id='intro'></a>\n",
    "\n",
    "Kamu telah memutuskan untuk membuka sebuah kafe kecil di Los Angeles. Kafe milikmu bisa dibilang cukup unik karena kamu \"memperkerjakan\" robot sebagai pelayan atau pramusaji. Proyek ini memang menjanjikan, tetapi membutuhkan modal yang besar. Oleh karena itu, kamu dan para mitra memutuskan untuk menarik minat investor agar mau berinvestasi. Mereka tertarik dengan kondisi pasar saat ini—tetapi, apakah kamu bisa mempertahankan kesuksesan saat daya tarik sang robot mulai pudar?\n",
    "Mengingat kamu adalah seorang pakar analisis, para mitra pun memintamu untuk mempersiapkan sejumlah riset pasar. Kamu memiliki data open-source terkait jenis-jenis usaha tempat makan di LA.\n",
    "\n",
    "\n",
    "\n"
   ]
  },
  {
   "cell_type": "markdown",
   "metadata": {},
   "source": [
    "<div class=\"alert alert-success\">\n",
    "<b>Code Reviewers's comment v.1</b> <a class=\"tocSkip\"></a>\n",
    "\n",
    "Bagus, code yang dijalankan sudah sesuai dengan instruksi dari project.\n",
    "\n",
    "</div>"
   ]
  },
  {
   "cell_type": "markdown",
   "metadata": {},
   "source": [
    "# 1.  Data Preparation <a id='data_load'></a>"
   ]
  },
  {
   "cell_type": "markdown",
   "metadata": {},
   "source": [
    "## 1.1 Import Libraries and load datasets <a id='library_load'></a>"
   ]
  },
  {
   "cell_type": "code",
   "execution_count": 1,
   "metadata": {},
   "outputs": [],
   "source": [
    "import pandas as pd, numpy as np, datetime as dt\n",
    "import matplotlib.pyplot as plt, seaborn as sns\n",
    "import plotly.express as px\n",
    "from scipy import stats as st"
   ]
  },
  {
   "cell_type": "markdown",
   "metadata": {},
   "source": [
    "**Deskripsi data**\n",
    "\n",
    "Tabel rest_data:\n",
    "\n",
    "- `object_name` — nama usaha\n",
    "- `chain` — usaha berbasis waralaba (TRUE/FALSE)\n",
    "- `object_type` — jenis usaha\n",
    "- `address` — alamat\n",
    "- `number` — jumlah kursi"
   ]
  },
  {
   "cell_type": "code",
   "execution_count": 2,
   "metadata": {},
   "outputs": [
    {
     "data": {
      "text/html": [
       "<div>\n",
       "<style scoped>\n",
       "    .dataframe tbody tr th:only-of-type {\n",
       "        vertical-align: middle;\n",
       "    }\n",
       "\n",
       "    .dataframe tbody tr th {\n",
       "        vertical-align: top;\n",
       "    }\n",
       "\n",
       "    .dataframe thead th {\n",
       "        text-align: right;\n",
       "    }\n",
       "</style>\n",
       "<table border=\"1\" class=\"dataframe\">\n",
       "  <thead>\n",
       "    <tr style=\"text-align: right;\">\n",
       "      <th></th>\n",
       "      <th>id</th>\n",
       "      <th>object_name</th>\n",
       "      <th>address</th>\n",
       "      <th>chain</th>\n",
       "      <th>object_type</th>\n",
       "      <th>number</th>\n",
       "    </tr>\n",
       "  </thead>\n",
       "  <tbody>\n",
       "    <tr>\n",
       "      <th>0</th>\n",
       "      <td>11786</td>\n",
       "      <td>HABITAT COFFEE SHOP</td>\n",
       "      <td>3708 N EAGLE ROCK BLVD</td>\n",
       "      <td>False</td>\n",
       "      <td>Cafe</td>\n",
       "      <td>26</td>\n",
       "    </tr>\n",
       "    <tr>\n",
       "      <th>1</th>\n",
       "      <td>11787</td>\n",
       "      <td>REILLY'S</td>\n",
       "      <td>100 WORLD WAY # 120</td>\n",
       "      <td>False</td>\n",
       "      <td>Restaurant</td>\n",
       "      <td>9</td>\n",
       "    </tr>\n",
       "    <tr>\n",
       "      <th>2</th>\n",
       "      <td>11788</td>\n",
       "      <td>STREET CHURROS</td>\n",
       "      <td>6801 HOLLYWOOD BLVD # 253</td>\n",
       "      <td>False</td>\n",
       "      <td>Fast Food</td>\n",
       "      <td>20</td>\n",
       "    </tr>\n",
       "    <tr>\n",
       "      <th>3</th>\n",
       "      <td>11789</td>\n",
       "      <td>TRINITI ECHO PARK</td>\n",
       "      <td>1814 W SUNSET BLVD</td>\n",
       "      <td>False</td>\n",
       "      <td>Restaurant</td>\n",
       "      <td>22</td>\n",
       "    </tr>\n",
       "    <tr>\n",
       "      <th>4</th>\n",
       "      <td>11790</td>\n",
       "      <td>POLLEN</td>\n",
       "      <td>2100 ECHO PARK AVE</td>\n",
       "      <td>False</td>\n",
       "      <td>Restaurant</td>\n",
       "      <td>20</td>\n",
       "    </tr>\n",
       "  </tbody>\n",
       "</table>\n",
       "</div>"
      ],
      "text/plain": [
       "      id          object_name                    address  chain object_type  \\\n",
       "0  11786  HABITAT COFFEE SHOP     3708 N EAGLE ROCK BLVD  False        Cafe   \n",
       "1  11787             REILLY'S        100 WORLD WAY # 120  False  Restaurant   \n",
       "2  11788       STREET CHURROS  6801 HOLLYWOOD BLVD # 253  False   Fast Food   \n",
       "3  11789    TRINITI ECHO PARK         1814 W SUNSET BLVD  False  Restaurant   \n",
       "4  11790               POLLEN         2100 ECHO PARK AVE  False  Restaurant   \n",
       "\n",
       "   number  \n",
       "0      26  \n",
       "1       9  \n",
       "2      20  \n",
       "3      22  \n",
       "4      20  "
      ]
     },
     "execution_count": 2,
     "metadata": {},
     "output_type": "execute_result"
    }
   ],
   "source": [
    "path = r'C:/Users/cakra2/OneDrive/Desktop/TripleTen-Project-Sprint/PROJECT 9/DATASET/'\n",
    "\n",
    "dataset = path+'rest_data_us.csv'\n",
    "rest_data = pd.read_csv(dataset)\n",
    "rest_data.head()"
   ]
  },
  {
   "cell_type": "code",
   "execution_count": 3,
   "metadata": {},
   "outputs": [
    {
     "name": "stdout",
     "output_type": "stream",
     "text": [
      "<class 'pandas.core.frame.DataFrame'>\n",
      "RangeIndex: 9651 entries, 0 to 9650\n",
      "Data columns (total 6 columns):\n",
      " #   Column       Non-Null Count  Dtype \n",
      "---  ------       --------------  ----- \n",
      " 0   id           9651 non-null   int64 \n",
      " 1   object_name  9651 non-null   object\n",
      " 2   address      9651 non-null   object\n",
      " 3   chain        9648 non-null   object\n",
      " 4   object_type  9651 non-null   object\n",
      " 5   number       9651 non-null   int64 \n",
      "dtypes: int64(2), object(4)\n",
      "memory usage: 452.5+ KB\n"
     ]
    },
    {
     "data": {
      "text/html": [
       "<div>\n",
       "<style scoped>\n",
       "    .dataframe tbody tr th:only-of-type {\n",
       "        vertical-align: middle;\n",
       "    }\n",
       "\n",
       "    .dataframe tbody tr th {\n",
       "        vertical-align: top;\n",
       "    }\n",
       "\n",
       "    .dataframe thead th {\n",
       "        text-align: right;\n",
       "    }\n",
       "</style>\n",
       "<table border=\"1\" class=\"dataframe\">\n",
       "  <thead>\n",
       "    <tr style=\"text-align: right;\">\n",
       "      <th></th>\n",
       "      <th>id</th>\n",
       "      <th>object_name</th>\n",
       "      <th>address</th>\n",
       "      <th>chain</th>\n",
       "      <th>object_type</th>\n",
       "      <th>number</th>\n",
       "    </tr>\n",
       "  </thead>\n",
       "  <tbody>\n",
       "    <tr>\n",
       "      <th>3280</th>\n",
       "      <td>15066</td>\n",
       "      <td>SHUTO IZAKAYA</td>\n",
       "      <td>3869 WILSHIRE BLVD</td>\n",
       "      <td>True</td>\n",
       "      <td>Restaurant</td>\n",
       "      <td>35</td>\n",
       "    </tr>\n",
       "    <tr>\n",
       "      <th>3180</th>\n",
       "      <td>14966</td>\n",
       "      <td>YAKITORIYA</td>\n",
       "      <td>11301 W OLYMPIC BLVD STE 101</td>\n",
       "      <td>False</td>\n",
       "      <td>Restaurant</td>\n",
       "      <td>40</td>\n",
       "    </tr>\n",
       "    <tr>\n",
       "      <th>8431</th>\n",
       "      <td>20217</td>\n",
       "      <td>OI ASIAN FUSION</td>\n",
       "      <td>4734 HOLLYWOOD BLVD</td>\n",
       "      <td>False</td>\n",
       "      <td>Restaurant</td>\n",
       "      <td>5</td>\n",
       "    </tr>\n",
       "    <tr>\n",
       "      <th>8395</th>\n",
       "      <td>20181</td>\n",
       "      <td>DOMINOS PIZZA</td>\n",
       "      <td>520 W AVENUE 26 # #B</td>\n",
       "      <td>True</td>\n",
       "      <td>Pizza</td>\n",
       "      <td>12</td>\n",
       "    </tr>\n",
       "    <tr>\n",
       "      <th>7467</th>\n",
       "      <td>19253</td>\n",
       "      <td>GLATT MART KITCHEN</td>\n",
       "      <td>8706 W PICO BLVD</td>\n",
       "      <td>False</td>\n",
       "      <td>Restaurant</td>\n",
       "      <td>7</td>\n",
       "    </tr>\n",
       "  </tbody>\n",
       "</table>\n",
       "</div>"
      ],
      "text/plain": [
       "         id         object_name                       address  chain  \\\n",
       "3280  15066       SHUTO IZAKAYA            3869 WILSHIRE BLVD   True   \n",
       "3180  14966          YAKITORIYA  11301 W OLYMPIC BLVD STE 101  False   \n",
       "8431  20217     OI ASIAN FUSION           4734 HOLLYWOOD BLVD  False   \n",
       "8395  20181       DOMINOS PIZZA          520 W AVENUE 26 # #B   True   \n",
       "7467  19253  GLATT MART KITCHEN              8706 W PICO BLVD  False   \n",
       "\n",
       "     object_type  number  \n",
       "3280  Restaurant      35  \n",
       "3180  Restaurant      40  \n",
       "8431  Restaurant       5  \n",
       "8395       Pizza      12  \n",
       "7467  Restaurant       7  "
      ]
     },
     "execution_count": 3,
     "metadata": {},
     "output_type": "execute_result"
    }
   ],
   "source": [
    "rest_data.info()\n",
    "rest_data.sample(5)"
   ]
  },
  {
   "cell_type": "markdown",
   "metadata": {},
   "source": [
    "Tahap ini kita memuat library yang diperlukan dan juga memuat dataset yang akan digunakan. Selain itu kita mengecek info data dan sample data terlihat bahwa ada 6 kolom dan 9651 pada masing masing data. Tetapi terdapat 3 data hilang pada kolom chain yang akan diproses pada tahap selanjutnya yaitu pengecekan kualitas data\n",
    "\n"
   ]
  },
  {
   "cell_type": "markdown",
   "metadata": {},
   "source": [
    "<div class=\"alert alert-success\">\n",
    "<b>Code Reviewers's comment v.1</b> <a class=\"tocSkip\"></a>\n",
    "\n",
    "Bagus, code yang dijalankan sudah sesuai dengan instruksi dari project.\n",
    "\n",
    "</div>"
   ]
  },
  {
   "cell_type": "markdown",
   "metadata": {},
   "source": [
    "## 1.2 Data Quality Checking <a id='data_info'></a>"
   ]
  },
  {
   "cell_type": "code",
   "execution_count": 4,
   "metadata": {},
   "outputs": [
    {
     "data": {
      "text/html": [
       "<div>\n",
       "<style scoped>\n",
       "    .dataframe tbody tr th:only-of-type {\n",
       "        vertical-align: middle;\n",
       "    }\n",
       "\n",
       "    .dataframe tbody tr th {\n",
       "        vertical-align: top;\n",
       "    }\n",
       "\n",
       "    .dataframe thead th {\n",
       "        text-align: right;\n",
       "    }\n",
       "</style>\n",
       "<table border=\"1\" class=\"dataframe\">\n",
       "  <thead>\n",
       "    <tr style=\"text-align: right;\">\n",
       "      <th></th>\n",
       "      <th>id</th>\n",
       "      <th>number</th>\n",
       "    </tr>\n",
       "  </thead>\n",
       "  <tbody>\n",
       "    <tr>\n",
       "      <th>count</th>\n",
       "      <td>9651.000000</td>\n",
       "      <td>9651.000000</td>\n",
       "    </tr>\n",
       "    <tr>\n",
       "      <th>mean</th>\n",
       "      <td>16611.000000</td>\n",
       "      <td>43.695161</td>\n",
       "    </tr>\n",
       "    <tr>\n",
       "      <th>std</th>\n",
       "      <td>2786.148058</td>\n",
       "      <td>47.622874</td>\n",
       "    </tr>\n",
       "    <tr>\n",
       "      <th>min</th>\n",
       "      <td>11786.000000</td>\n",
       "      <td>1.000000</td>\n",
       "    </tr>\n",
       "    <tr>\n",
       "      <th>25%</th>\n",
       "      <td>14198.500000</td>\n",
       "      <td>14.000000</td>\n",
       "    </tr>\n",
       "    <tr>\n",
       "      <th>50%</th>\n",
       "      <td>16611.000000</td>\n",
       "      <td>27.000000</td>\n",
       "    </tr>\n",
       "    <tr>\n",
       "      <th>75%</th>\n",
       "      <td>19023.500000</td>\n",
       "      <td>46.000000</td>\n",
       "    </tr>\n",
       "    <tr>\n",
       "      <th>max</th>\n",
       "      <td>21436.000000</td>\n",
       "      <td>229.000000</td>\n",
       "    </tr>\n",
       "  </tbody>\n",
       "</table>\n",
       "</div>"
      ],
      "text/plain": [
       "                 id       number\n",
       "count   9651.000000  9651.000000\n",
       "mean   16611.000000    43.695161\n",
       "std     2786.148058    47.622874\n",
       "min    11786.000000     1.000000\n",
       "25%    14198.500000    14.000000\n",
       "50%    16611.000000    27.000000\n",
       "75%    19023.500000    46.000000\n",
       "max    21436.000000   229.000000"
      ]
     },
     "execution_count": 4,
     "metadata": {},
     "output_type": "execute_result"
    }
   ],
   "source": [
    "rest_data.describe()"
   ]
  },
  {
   "cell_type": "code",
   "execution_count": 5,
   "metadata": {},
   "outputs": [
    {
     "data": {
      "text/html": [
       "<div>\n",
       "<style scoped>\n",
       "    .dataframe tbody tr th:only-of-type {\n",
       "        vertical-align: middle;\n",
       "    }\n",
       "\n",
       "    .dataframe tbody tr th {\n",
       "        vertical-align: top;\n",
       "    }\n",
       "\n",
       "    .dataframe thead th {\n",
       "        text-align: right;\n",
       "    }\n",
       "</style>\n",
       "<table border=\"1\" class=\"dataframe\">\n",
       "  <thead>\n",
       "    <tr style=\"text-align: right;\">\n",
       "      <th></th>\n",
       "      <th>missing_values</th>\n",
       "      <th>% of total</th>\n",
       "    </tr>\n",
       "  </thead>\n",
       "  <tbody>\n",
       "    <tr>\n",
       "      <th>chain</th>\n",
       "      <td>3</td>\n",
       "      <td>0.0</td>\n",
       "    </tr>\n",
       "    <tr>\n",
       "      <th>id</th>\n",
       "      <td>0</td>\n",
       "      <td>0.0</td>\n",
       "    </tr>\n",
       "    <tr>\n",
       "      <th>object_name</th>\n",
       "      <td>0</td>\n",
       "      <td>0.0</td>\n",
       "    </tr>\n",
       "    <tr>\n",
       "      <th>address</th>\n",
       "      <td>0</td>\n",
       "      <td>0.0</td>\n",
       "    </tr>\n",
       "    <tr>\n",
       "      <th>object_type</th>\n",
       "      <td>0</td>\n",
       "      <td>0.0</td>\n",
       "    </tr>\n",
       "    <tr>\n",
       "      <th>number</th>\n",
       "      <td>0</td>\n",
       "      <td>0.0</td>\n",
       "    </tr>\n",
       "  </tbody>\n",
       "</table>\n",
       "</div>"
      ],
      "text/plain": [
       "             missing_values  % of total\n",
       "chain                     3         0.0\n",
       "id                        0         0.0\n",
       "object_name               0         0.0\n",
       "address                   0         0.0\n",
       "object_type               0         0.0\n",
       "number                    0         0.0"
      ]
     },
     "execution_count": 5,
     "metadata": {},
     "output_type": "execute_result"
    }
   ],
   "source": [
    "null_value = rest_data.isna().sum().to_frame()\n",
    "null_value = null_value.rename(columns = {0: 'missing_values'})\n",
    "null_value['% of total'] = (null_value['missing_values'] / rest_data.shape[0]).round(2)\n",
    "null_value.sort_values(by = 'missing_values', ascending = False)"
   ]
  },
  {
   "cell_type": "code",
   "execution_count": 6,
   "metadata": {},
   "outputs": [],
   "source": [
    "rest_data = rest_data.dropna().reset_index(drop = True)"
   ]
  },
  {
   "cell_type": "code",
   "execution_count": 7,
   "metadata": {},
   "outputs": [],
   "source": [
    "rest_data['id'] = rest_data['id'].astype('str')\n",
    "rest_data['chain'] = rest_data['chain'].astype('bool')"
   ]
  },
  {
   "cell_type": "code",
   "execution_count": 8,
   "metadata": {},
   "outputs": [
    {
     "name": "stdout",
     "output_type": "stream",
     "text": [
      "<class 'pandas.core.frame.DataFrame'>\n",
      "RangeIndex: 9648 entries, 0 to 9647\n",
      "Data columns (total 6 columns):\n",
      " #   Column       Non-Null Count  Dtype \n",
      "---  ------       --------------  ----- \n",
      " 0   id           9648 non-null   object\n",
      " 1   object_name  9648 non-null   object\n",
      " 2   address      9648 non-null   object\n",
      " 3   chain        9648 non-null   bool  \n",
      " 4   object_type  9648 non-null   object\n",
      " 5   number       9648 non-null   int64 \n",
      "dtypes: bool(1), int64(1), object(4)\n",
      "memory usage: 386.4+ KB\n"
     ]
    }
   ],
   "source": [
    "rest_data.info()"
   ]
  },
  {
   "cell_type": "code",
   "execution_count": 9,
   "metadata": {},
   "outputs": [
    {
     "data": {
      "text/plain": [
       "0"
      ]
     },
     "execution_count": 9,
     "metadata": {},
     "output_type": "execute_result"
    }
   ],
   "source": [
    "rest_data.duplicated().sum()"
   ]
  },
  {
   "cell_type": "code",
   "execution_count": 10,
   "metadata": {},
   "outputs": [
    {
     "data": {
      "text/plain": [
       "id             0\n",
       "object_name    0\n",
       "address        0\n",
       "chain          0\n",
       "object_type    0\n",
       "number         0\n",
       "dtype: int64"
      ]
     },
     "execution_count": 10,
     "metadata": {},
     "output_type": "execute_result"
    }
   ],
   "source": [
    "rest_data[rest_data['number'] <= 0].count()"
   ]
  },
  {
   "cell_type": "markdown",
   "metadata": {},
   "source": [
    "Terdapat 3 data hilang pada kolom chain, untuk itu kita lakukan dropna agar data menjadi rata. Selain itu juga mengubah kedua tipe data pada kolom `id` menjadi string dan `chain` menjadi boolean untuk representasi data yang lebih baik. Selain itu kita juga memeriksa apakah ada data yang terduplikat dan nilai negatif. Data sekarang sudah bersih dan dapat dilanjutkan menuju proses analisis data"
   ]
  },
  {
   "cell_type": "markdown",
   "metadata": {},
   "source": [
    "<div class=\"alert alert-success\">\n",
    "<b>Code Reviewers's comment v.1</b> <a class=\"tocSkip\"></a>\n",
    "\n",
    "Bagus, code yang dijalankan sudah sesuai dengan instruksi dari project.\n",
    "\n",
    "</div>"
   ]
  },
  {
   "cell_type": "markdown",
   "metadata": {},
   "source": [
    "# 2. Exploratory Data Analysis <a id='data_analysis'></a>"
   ]
  },
  {
   "cell_type": "markdown",
   "metadata": {},
   "source": [
    "## 2.1 Teliti proporsi dari berbagai jenis usaha. Buat grafiknya <a id='business_type'></a>"
   ]
  },
  {
   "cell_type": "code",
   "execution_count": 11,
   "metadata": {},
   "outputs": [
    {
     "data": {
      "text/html": [
       "<div>\n",
       "<style scoped>\n",
       "    .dataframe tbody tr th:only-of-type {\n",
       "        vertical-align: middle;\n",
       "    }\n",
       "\n",
       "    .dataframe tbody tr th {\n",
       "        vertical-align: top;\n",
       "    }\n",
       "\n",
       "    .dataframe thead th {\n",
       "        text-align: right;\n",
       "    }\n",
       "</style>\n",
       "<table border=\"1\" class=\"dataframe\">\n",
       "  <thead>\n",
       "    <tr style=\"text-align: right;\">\n",
       "      <th></th>\n",
       "      <th>object_type</th>\n",
       "      <th>count</th>\n",
       "      <th>percentage</th>\n",
       "    </tr>\n",
       "  </thead>\n",
       "  <tbody>\n",
       "    <tr>\n",
       "      <th>0</th>\n",
       "      <td>Restaurant</td>\n",
       "      <td>7253</td>\n",
       "      <td>75.18</td>\n",
       "    </tr>\n",
       "    <tr>\n",
       "      <th>1</th>\n",
       "      <td>Fast Food</td>\n",
       "      <td>1066</td>\n",
       "      <td>11.05</td>\n",
       "    </tr>\n",
       "    <tr>\n",
       "      <th>2</th>\n",
       "      <td>Cafe</td>\n",
       "      <td>435</td>\n",
       "      <td>4.51</td>\n",
       "    </tr>\n",
       "    <tr>\n",
       "      <th>3</th>\n",
       "      <td>Pizza</td>\n",
       "      <td>319</td>\n",
       "      <td>3.31</td>\n",
       "    </tr>\n",
       "    <tr>\n",
       "      <th>4</th>\n",
       "      <td>Bar</td>\n",
       "      <td>292</td>\n",
       "      <td>3.03</td>\n",
       "    </tr>\n",
       "    <tr>\n",
       "      <th>5</th>\n",
       "      <td>Bakery</td>\n",
       "      <td>283</td>\n",
       "      <td>2.93</td>\n",
       "    </tr>\n",
       "  </tbody>\n",
       "</table>\n",
       "</div>"
      ],
      "text/plain": [
       "  object_type  count  percentage\n",
       "0  Restaurant   7253       75.18\n",
       "1   Fast Food   1066       11.05\n",
       "2        Cafe    435        4.51\n",
       "3       Pizza    319        3.31\n",
       "4         Bar    292        3.03\n",
       "5      Bakery    283        2.93"
      ]
     },
     "execution_count": 11,
     "metadata": {},
     "output_type": "execute_result"
    }
   ],
   "source": [
    "business_type = rest_data['object_type'].value_counts().reset_index()\n",
    "business_type.columns = ['object_type', 'count']\n",
    "business_type['percentage'] = ((business_type['count'] / business_type['count'].sum()) * 100).round(2)\n",
    "business_type"
   ]
  },
  {
   "cell_type": "code",
   "execution_count": 12,
   "metadata": {},
   "outputs": [
    {
     "data": {
      "image/png": "[encoded data removed]",
      "text/plain": [
       "<Figure size 720x432 with 1 Axes>"
      ]
     },
     "metadata": {
      "needs_background": "light"
     },
     "output_type": "display_data"
    }
   ],
   "source": [
    "plt.figure(figsize=(10, 6))\n",
    "bar = sns.barplot(data=business_type, y='object_type', x='count', palette='viridis')\n",
    "\n",
    "# Add labels to the bars\n",
    "for p in bar.patches:\n",
    "    bar.annotate(f'{p.get_width():.0f}', (p.get_width(), p.get_y() + p.get_height() / 2), ha='left', va='center', fontsize=10, color='black')\n",
    "\n",
    "plt.title('Distribution of Business Types')\n",
    "plt.xlabel('Count')\n",
    "plt.ylabel('Business Type')\n",
    "plt.show()\n"
   ]
  },
  {
   "cell_type": "code",
   "execution_count": null,
   "metadata": {
    "scrolled": false
   },
   "outputs": [],
   "source": [
    "fig = px.pie(business_type, names='object_type', values='percentage', title='Distribution of Business Types')\n",
    "#fig.update_layout(width=500, height=500)\n",
    "fig.show()"
   ]
  },
  {
   "cell_type": "markdown",
   "metadata": {},
   "source": [
    "**Findings:**\n",
    "\n",
    "- Restoran (Restaurant): Menyumbang lebih dari 75% dari total tempat usaha dalam dataset. Ini menunjukkan bahwa restoran merupakan jenis usaha paling umum di antara yang lain.\n",
    "\n",
    "- Makanan Cepat Saji (Fast Food): Menyumbang sekitar 11% dari total tempat usaha. Meskipun jumlahnya lebih sedikit dibandingkan restoran, makanan cepat saji masih memiliki andil yang signifikan.\n",
    "\n",
    "- Cafe: Meskipun jumlahnya lebih sedikit dibandingkan restoran dan makanan cepat saji, kafe masih memegang posisi penting dengan sekitar 4.51%.\n",
    "\n",
    "- Pizza, Bar, Bakery: Menyumbang sekitar 3-3.5% masing-masing. Meskipun jumlahnya lebih kecil, keberagaman jenis usaha ini tetap penting untuk pertimbangan konsumen.\n",
    "\n",
    "**Insight:**\n",
    "\n",
    "Pemilik usaha atau calon investor dapat menggunakan informasi ini untuk memahami lanskap pasar dan memilih jenis usaha yang sesuai dengan kebutuhan dan tren pasar. Serta membantu pengambilan keputusan strategis dalam pengembangan bisnis, pemasaran, dan pertumbuhan usaha"
   ]
  },
  {
   "cell_type": "markdown",
   "metadata": {},
   "source": [
    "<div class=\"alert alert-success\">\n",
    "<b>Code Reviewers's comment v.1</b> <a class=\"tocSkip\"></a>\n",
    "\n",
    "Bagus, code yang dijalankan sudah sesuai dengan instruksi dari project.\n",
    "\n",
    "</div>"
   ]
  },
  {
   "cell_type": "markdown",
   "metadata": {},
   "source": [
    "## 2.2 Teliti proporsi dari usaha berbasis waralaba dan nonwaralaba. Buat grafiknya <a id='franchise_or_no'></a>"
   ]
  },
  {
   "cell_type": "code",
   "execution_count": null,
   "metadata": {},
   "outputs": [],
   "source": [
    "chain = rest_data.groupby('chain')['id'].count().reset_index()\n",
    "chain"
   ]
  },
  {
   "cell_type": "code",
   "execution_count": null,
   "metadata": {},
   "outputs": [],
   "source": [
    "fig = px.pie(chain, names='chain', values='id', title='Distribusi jenis tempat usaha berbasis waralaba dan nonwaralaba')\n",
    "#fig.update_layout(width=500, height=500)\n",
    "fig.show()"
   ]
  },
  {
   "cell_type": "markdown",
   "metadata": {},
   "source": [
    "**Findings:**\n",
    "\n",
    "- Mayoritas tempat usaha sekitar 5972 (61.9%) adalah nonwaralaba.\n",
    "- Proporsi tempat usaha berbasis waralaba sekitar 3676 (38%, menunjukkan adanya variasi di pasar antara waralaba dan nonwaralaba.\n",
    "\n",
    "**Insight:**\n",
    "\n",
    "\n",
    "- Meskipun ada banyak tempat usaha nonwaralaba, tempat usaha berbasis waralaba juga memiliki andil yang signifikan di pasar. Ini dapat menjadi peluang atau pertimbangan strategis untuk pemilik usaha atau calon investor.\n",
    "\n",
    "- Pelaku industri dapat mempertimbangkan tren dan preferensi konsumen terkait dengan jenis usaha ini untuk merencanakan strategi pemasaran dan pertumbuhan yang efektif."
   ]
  },
  {
   "cell_type": "markdown",
   "metadata": {},
   "source": [
    "<div class=\"alert alert-success\">\n",
    "<b>Code Reviewers's comment v.1</b> <a class=\"tocSkip\"></a>\n",
    "\n",
    "Bagus, code yang dijalankan sudah sesuai dengan instruksi dari project.\n",
    "\n",
    "</div>"
   ]
  },
  {
   "cell_type": "markdown",
   "metadata": {},
   "source": [
    "## 2.3  Jenis usaha mana yang biasanya merupakan usaha berbasis waralaba? <a id='franchise_type'></a>"
   ]
  },
  {
   "cell_type": "code",
   "execution_count": null,
   "metadata": {},
   "outputs": [],
   "source": [
    "business_chain = pd.pivot_table(rest_data, values ='id', index = 'object_type',\n",
    "                                columns = 'chain', aggfunc='count', margins=True)\n",
    "business_chain = business_chain[:6].fillna(0).reset_index()\n",
    "business_chain"
   ]
  },
  {
   "cell_type": "code",
   "execution_count": null,
   "metadata": {},
   "outputs": [],
   "source": [
    "business_chain['ratio'] = round(business_chain[True] / business_chain['All'] * 100, 2)\n",
    "business_chain"
   ]
  },
  {
   "cell_type": "code",
   "execution_count": null,
   "metadata": {},
   "outputs": [],
   "source": [
    "plt.figure(figsize=(10, 6))\n",
    "bar = sns.barplot(data=business_chain.sort_values(by='ratio', ascending=False), x='ratio', y='object_type',palette='viridis')\n",
    "\n",
    "# Add labels to the bars\n",
    "for p in bar.patches:\n",
    "    bar.annotate(f'{p.get_width():.0f}', (p.get_width(), p.get_y() + p.get_height() / 2), ha='left', va='center', fontsize=10, color='black')\n",
    "\n",
    "plt.title('Distribusi usaha berbasis waralaba berdasarkan rasio')\n",
    "plt.xlabel('Count')\n",
    "plt.ylabel('Business Type')\n",
    "plt.show()\n",
    "\n"
   ]
  },
  {
   "cell_type": "markdown",
   "metadata": {},
   "source": [
    "**Findings:**\n",
    "\n",
    "- Bakery: Semua bakery dalam dataset ini berbasis waralaba, yang menghasilkan rasio 100%. Tidak ada bakery non-waralaba.\n",
    "\n",
    "- Cafe: Dari total 435 cafe, 169 di antaranya non-waralaba (38.85%), sedangkan 266 berbasis waralaba (61.15%).\n",
    "\n",
    "- Fast Food: Dari total 1066 tempat makan cepat saji, 461 di antaranya non-waralaba (43.25%), dan 605 berbasis waralaba (56.75%).\n",
    "\n",
    "- Pizza: Dari total 319 tempat pizza, 166 di antaranya non-waralaba (52.04%), sedangkan 153 berbasis waralaba (47.96%).\n",
    "\n",
    "- Restoran: Dari total 7253 restoran, 4961 di antaranya non-waralaba (68.40%), dan 2292 berbasis waralaba (31.60%).\n",
    "\n",
    "- Bar: Dari total 292 bar, 215 di antaranya non-waralaba (73.63%), dan 77 berbasis waralaba (26.37%).\n",
    "\n",
    "\n",
    "\n",
    "**Insight:**\n",
    "\n",
    "- Bisnis bakery sepenuhnya berbasis waralaba dalam dataset ini.\n",
    "\n",
    "- Kategori cafe dan tempat makan cepat saji memiliki proporsi yang signifikan dalam kategori berbasis waralaba.\n",
    "\n",
    "- Pizza, Restoran, dan Bar cenderung memiliki rasio rendah dan cenderung berbasi non waralaba "
   ]
  },
  {
   "cell_type": "markdown",
   "metadata": {},
   "source": [
    "<div class=\"alert alert-success\">\n",
    "<b>Code Reviewers's comment v.1</b> <a class=\"tocSkip\"></a>\n",
    "\n",
    "Bagus, code yang dijalankan sudah sesuai dengan instruksi dari project.\n",
    "\n",
    "</div>"
   ]
  },
  {
   "cell_type": "markdown",
   "metadata": {},
   "source": [
    "## 2.4 Mana yang merupakan ciri-ciri dari jenis usaha berbasis waralaba: memiliki banyak tempat dengan jumlah kursi yang sedikit atau memiliki beberapa tempat dengan jumlah kursi yang banyak? <a id='chair_franchise'></a>\n",
    "\n"
   ]
  },
  {
   "cell_type": "code",
   "execution_count": null,
   "metadata": {},
   "outputs": [],
   "source": [
    "chain = rest_data[rest_data['chain']==True].reset_index(drop= True)\n",
    "chain['object_name'].value_counts().head()"
   ]
  },
  {
   "cell_type": "code",
   "execution_count": null,
   "metadata": {},
   "outputs": [],
   "source": [
    "chain.shape"
   ]
  },
  {
   "cell_type": "code",
   "execution_count": null,
   "metadata": {},
   "outputs": [],
   "source": [
    "# Display a histogram of the number of seats for chain businesses\n",
    "plt.figure(figsize=(10, 6))\n",
    "sns.histplot(data=chain, x='number', binwidth=10, kde=True, color='skyblue')\n",
    "plt.title(\"Distribusi Jumlah Kursi untuk Bisnis Berbasis Waralaba\")\n",
    "plt.xlabel(\"Jumlah Kursi\")\n",
    "plt.ylabel(\"Frekuensi\")"
   ]
  },
  {
   "cell_type": "markdown",
   "metadata": {},
   "source": [
    "**Findings:**\n",
    "\n",
    "- Bisnis yang paling umum dalam kategori berbasis waralaba adalah \"THE COFFEE BEAN & TEA LEAF\" dengan 47 tempat, diikuti oleh \"SUBWAY\" dengan 31 tempat. Ini menunjukkan bahwa beberapa merek waralaba memiliki sejumlah besar cabang.\n",
    "\n",
    "- Mayoritas bisnis berbasis waralaba memiliki jumlah kursi yang relatif sedikit, dengan sebagian besar berada di rentang 0 hingga 50 kursi.\n",
    "\n",
    "**Insight:**\n",
    "\n",
    "- Ciri-ciri umum dari bisnis berbasis waralaba dalam dataset ini adalah memiliki banyak cabang dengan jumlah kursi yang relatif sedikit. Ini dapat mencerminkan model bisnis waralaba yang lebih fokus pada skala kecil dan operasional yang efisien. Jumlah kursi yang lebih sedikit mungkin menjadi strategi untuk meningkatkan kecepatan layanan dan efisiensi operasional."
   ]
  },
  {
   "cell_type": "markdown",
   "metadata": {},
   "source": [
    "<div class=\"alert alert-success\">\n",
    "<b>Code Reviewers's comment v.1</b> <a class=\"tocSkip\"></a>\n",
    "\n",
    "Bagus, code yang dijalankan sudah sesuai dengan instruksi dari project.\n",
    "\n",
    "</div>"
   ]
  },
  {
   "cell_type": "markdown",
   "metadata": {},
   "source": [
    "## 2.5 Tentukan jumlah rata-rata kursi untuk setiap jenis usaha. Secara rata-rata, jenis usaha mana yang memiliki jumlah kursi terbanyak? Buat grafiknya. <a id='avg_chair'></a>\n",
    "\n"
   ]
  },
  {
   "cell_type": "code",
   "execution_count": null,
   "metadata": {
    "scrolled": false
   },
   "outputs": [],
   "source": [
    "# Cek mean and median dari jumlah kursinya\n",
    "mean_chair = rest_data.groupby('object_type').agg(mean=('number','mean'),median=('number','median')).sort_values(by='mean', ascending=False)\n",
    "mean_chair"
   ]
  },
  {
   "cell_type": "code",
   "execution_count": null,
   "metadata": {},
   "outputs": [],
   "source": [
    "fig = px.bar(mean_chair,\n",
    "             x=['mean', 'median'],\n",
    "             y=mean_chair.index,\n",
    "             orientation='h',\n",
    "\n",
    "             title='Mean dan Median kursi untuk setiap jenis usaha',\n",
    "             color_discrete_map={'mean': 'skyblue', 'median': 'orange'})\n",
    "\n",
    "# Customize the layout\n",
    "fig.update_layout(showlegend=True, legend_title_text='Statistic')\n",
    "fig.update_xaxes(title_text='Number of Seats')\n",
    "\n",
    "# Show the interactive plot\n",
    "fig.show()"
   ]
  },
  {
   "cell_type": "markdown",
   "metadata": {},
   "source": [
    "**Findings:**\n",
    "- Restoran memiliki rata-rata jumlah kursi tertinggi (48.05), diikuti oleh bar (44.77), dan tempat makan cepat saji (31.84).\n",
    "\n",
    "- Bakery memiliki rata-rata jumlah kursi terendah (21.77).\n",
    "\n",
    "- Restoran dan bar cenderung memiliki kapasitas tempat yang lebih besar.\n",
    "\n",
    "**Insight:**\n",
    "\n",
    "- Pada semua jenis usaha, nilai mean jumlah kursi lebih tinggi daripada median.\n",
    "\n",
    "- Hal ini menunjukkan adanya distribusi yang sedikit miring ke kanan (right-skewed) pada data jumlah kursi.\n",
    "\n",
    "- Terdapat beberapa tempat dengan jumlah kursi yang signifikan lebih tinggi, yang dapat mempengaruhi nilai mean."
   ]
  },
  {
   "cell_type": "markdown",
   "metadata": {},
   "source": [
    "<div class=\"alert alert-success\">\n",
    "<b>Code Reviewers's comment v.1</b> <a class=\"tocSkip\"></a>\n",
    "\n",
    "Bagus, code yang dijalankan sudah sesuai dengan instruksi dari project.\n",
    "\n",
    "</div>"
   ]
  },
  {
   "cell_type": "markdown",
   "metadata": {},
   "source": [
    "## 2.6 Pindahkan data nama jalan dari kolom address ke kolom terpisah.  <a id='name_cleaned'></a>\n",
    "\n"
   ]
  },
  {
   "cell_type": "code",
   "execution_count": null,
   "metadata": {},
   "outputs": [],
   "source": [
    "address = rest_data['address'].apply(lambda x: ' '.join(x.split(' ')[1:])).to_frame()\n",
    "address = address['address'].apply(lambda x: ''.join(x.split(' # ')[0])).to_frame()\n",
    "address = address['address'].apply(lambda x: ''.join(x.split('#')[0])).to_frame()\n",
    "\n",
    "address.value_counts().tail(10)\n"
   ]
  },
  {
   "cell_type": "code",
   "execution_count": null,
   "metadata": {},
   "outputs": [],
   "source": [
    "address['count'] = 1\n",
    "top_10_address = address.groupby('address').count().sort_values(by='count', ascending = False)[0:10].reset_index()\n",
    "top_10_address"
   ]
  },
  {
   "cell_type": "code",
   "execution_count": null,
   "metadata": {},
   "outputs": [],
   "source": [
    "rest_data['address_clean'] = address['address']\n",
    "rest_data"
   ]
  },
  {
   "cell_type": "markdown",
   "metadata": {},
   "source": [
    "Tahapan ini memisahkan data alamat menjadi tanpa nomor alamat. Selain itu terdapat top 10 jalan yang menjadi pusat bisnis terbanyak. Lalu data yang telah dipisah dimasukkan ke dataframe rest_data dengan nama kolom `address_clean`"
   ]
  },
  {
   "cell_type": "markdown",
   "metadata": {},
   "source": [
    "<div class=\"alert alert-success\">\n",
    "<b>Code Reviewers's comment v.1</b> <a class=\"tocSkip\"></a>\n",
    "\n",
    "Bagus, code yang dijalankan sudah sesuai dengan instruksi dari project.\n",
    "\n",
    "</div>"
   ]
  },
  {
   "cell_type": "markdown",
   "metadata": {},
   "source": [
    "## 2.7 Buat grafik yang menampilkan sepuluh nama jalan teratas berdasarkan jumlah usaha (tempat makan).  <a id='top_10_roads'></a>"
   ]
  },
  {
   "cell_type": "code",
   "execution_count": null,
   "metadata": {},
   "outputs": [],
   "source": [
    "street_restaurant_counts = rest_data[rest_data['object_type'] == 'Restaurant'].groupby('address_clean')['object_type'].count()\n",
    "\n",
    "top_10_restaurant = street_restaurant_counts.sort_values(ascending=False)[0:10].reset_index()\n",
    "top_10_restaurant = top_10_restaurant.rename(columns={'address_clean': 'address', 'object_type': 'count'})\n",
    "\n",
    "top_10_restaurant\n"
   ]
  },
  {
   "cell_type": "code",
   "execution_count": null,
   "metadata": {},
   "outputs": [],
   "source": [
    "plt.figure(figsize=(12, 8))\n",
    "barplot = sns.barplot(data=top_10_restaurant, x='count', y='address', palette='viridis')\n",
    "\n",
    "# Annotate the bars with count values\n",
    "for p in barplot.patches:\n",
    "    barplot.annotate(f'{int(p.get_width())}', \n",
    "                     (p.get_width(), p.get_y() + p.get_height() / 2),\n",
    "                     ha='left', va='center', xytext=(5, 0),\n",
    "                     textcoords='offset points', fontsize=10, color='black')\n",
    "\n",
    "plt.title(\"Top 10 Addresses by Count\")\n",
    "plt.xlabel(\"Count\")\n",
    "plt.ylabel(\"Address\")\n",
    "\n",
    "plt.show()"
   ]
  },
  {
   "cell_type": "markdown",
   "metadata": {},
   "source": [
    "**Findings**\n",
    "\n",
    "\n",
    "- W SUNSET BLVD dan W PICO BLVD adalah dua nama jalan teratas dengan jumlah restoran tertinggi, masing-masing 235 dan 232 restoran. Hal ini menunjukkan bahwa kedua jalan ini adalah pusat kegiatan kuliner yang signifikan, dan mungkin menjadi tujuan utama bagi orang-orang yang mencari berbagai pilihan makanan.\n",
    "\n",
    "- WILSHIRE BLVD dan HOLLYWOOD BLVD juga mencatat jumlah restoran yang cukup tinggi, dengan masing-masing 183 dan 163 restoran. Keberagaman kuliner di daerah ini dapat menjadi daya tarik bagi pengunjung dan peluang investasi untuk bisnis makanan dan minuman.\n",
    "\n",
    "- SANTA MONICA BLVD, S WESTERN AVE, dan W 3RD ST juga termasuk dalam nama jalan dengan jumlah restoran yang signifikan. Keberagaman ini menciptakan lingkungan kuliner yang dinamis dan dapat menarik berbagai konsumen.\n",
    "\n",
    "\n",
    "**Insight:**\n",
    "\n",
    "- Peta Kuliner: Pemangku kepentingan dapat menggunakan informasi ini untuk membuat peta kuliner di daerah tersebut. Mengetahui area dengan konsentrasi restoran yang tinggi dapat membantu dalam merencanakan pemasaran atau ekspansi bisnis.\n",
    "\n",
    "- Potensi Investasi: Nama jalan seperti W SUNSET BLVD dan W PICO BLVD menunjukkan tingginya potensi investasi di sektor makanan dan minuman. Pengusaha atau investor dapat mempertimbangkan lokasi ini untuk membuka bisnis baru.\n",
    "\n",
    "- Persaingan dan Diversifikasi: Tingginya jumlah restoran di beberapa nama jalan mengindikasikan persaingan yang ketat. Pengusaha baru perlu memahami pasar dengan baik dan mencari cara untuk membedakan bisnis mereka.\n",
    "\n",
    "- Analisis Trend Kuliner: Data ini juga dapat digunakan untuk menganalisis tren kuliner. Mengetahui jenis makanan atau gaya restoran yang dominan di suatu daerah dapat membantu pemangku kepentingan menyesuaikan strategi mereka.\n"
   ]
  },
  {
   "cell_type": "markdown",
   "metadata": {},
   "source": [
    "<div class=\"alert alert-success\">\n",
    "<b>Code Reviewers's comment v.1</b> <a class=\"tocSkip\"></a>\n",
    "\n",
    "Bagus, code yang dijalankan sudah sesuai dengan instruksi dari project.\n",
    "\n",
    "</div>"
   ]
  },
  {
   "cell_type": "markdown",
   "metadata": {},
   "source": [
    "## 2.8 Temukan jumlah jalan yang hanya memiliki satu usaha (tempat makan)  <a id='one_business'></a>"
   ]
  },
  {
   "cell_type": "code",
   "execution_count": null,
   "metadata": {},
   "outputs": [],
   "source": [
    "restaurant_counts_per_street = rest_data[rest_data['object_type'] == 'Restaurant'].groupby('address_clean')['object_type'].count()\n",
    "\n",
    "\n",
    "# Menemukan jalan yang hanya memiliki satu usaha (tempat makan)\n",
    "streets_with_single_restaurant = restaurant_counts_per_street[restaurant_counts_per_street == 1]\n",
    "streets_with_single_restaurant\n"
   ]
  },
  {
   "cell_type": "code",
   "execution_count": null,
   "metadata": {},
   "outputs": [],
   "source": [
    "# Jumlah jalan yang hanya memiliki satu usaha (tempat makan)\n",
    "number_of_streets_with_single_restaurant = len(streets_with_single_restaurant)\n",
    "\n",
    "print(f\"Jumlah jalan yang hanya memiliki satu usaha (tempat makan): {number_of_streets_with_single_restaurant}\")"
   ]
  },
  {
   "cell_type": "markdown",
   "metadata": {},
   "source": [
    "**Findings:**\n",
    "\n",
    "- 1149 Jalan dengan Satu Usaha: Terdapat 1149 nama jalan di dataset yang hanya memiliki satu usaha (tempat makan). Ini mencerminkan keragaman dan distribusi yang luas dari usaha makanan dan minuman di berbagai bagian kota atau wilayah.\n",
    "\n",
    "**Insight:**\n",
    "\n",
    "- Potensi Pertumbuhan: Jalan-jalan dengan satu usaha dapat menunjukkan potensi pertumbuhan dan peluang investasi. Pengusaha atau investor dapat mengeksplorasi daerah-daerah ini untuk melihat apakah ada peluang untuk membuka usaha baru.\n",
    "\n",
    "- Keunikan dan Spesialisasi: Jalan-jalan dengan satu usaha mungkin menunjukkan bisnis yang berspesialisasi atau unik dalam jenis makanan atau layanan tertentu. Ini dapat menjadi daya tarik bagi konsumen yang mencari pengalaman kuliner yang berbeda.\n",
    "\n",
    "- Analisis Lokasi: Pemangku kepentingan dapat melakukan analisis lebih lanjut untuk memahami konteks geografis dan demografis dari jalan-jalan ini. Hal ini dapat membantu dalam merencanakan strategi pemasaran yang lebih terfokus.\n",
    "\n",
    "\n",
    "\n",
    "\n",
    "\n",
    "\n"
   ]
  },
  {
   "cell_type": "markdown",
   "metadata": {},
   "source": [
    "<div class=\"alert alert-success\">\n",
    "<b>Code Reviewers's comment v.1</b> <a class=\"tocSkip\"></a>\n",
    "\n",
    "Bagus, code yang dijalankan sudah sesuai dengan instruksi dari project.\n",
    "\n",
    "</div>"
   ]
  },
  {
   "cell_type": "markdown",
   "metadata": {},
   "source": [
    "## 2.9 Untuk jalan yang dihuni oleh banyak usaha (tempat makan), perhatikan distribusi jumlah kursinya. Tren apa yang bisa kamu amati?  <a id='chair_distribution'></a>"
   ]
  },
  {
   "cell_type": "code",
   "execution_count": null,
   "metadata": {},
   "outputs": [],
   "source": [
    "street = (rest_data\n",
    "           .groupby('address_clean')\n",
    "           .agg({'id':'count','number':'mean'})\n",
    "           .rename(columns={'id':'number_of_establishment', 'number': 'avg_number_of_seats'})\n",
    "           .reset_index()\n",
    "           )\n",
    "street = street[street['number_of_establishment'] > 1].sort_values(by='number_of_establishment', ascending=False)\n",
    "street"
   ]
  },
  {
   "cell_type": "code",
   "execution_count": null,
   "metadata": {},
   "outputs": [],
   "source": [
    "# Membuat jointplot menggunakan Seaborn\n",
    "plt.figure(figsize=(12, 8))\n",
    "joint_plot = sns.jointplot(data=street, x='number_of_establishment', y='avg_number_of_seats', kind='reg')\n",
    "joint_plot.set_axis_labels(\"Number of Establishments\", \"Average Number of Seats\", fontsize=12)\n",
    "joint_plot.fig.suptitle(\"Hubungan antara Jumlah Usaha dan Rata-rata Jumlah Kursi di Jalan yang Dihuni Banyak Usaha\", y=1.02)\n",
    "plt.show()"
   ]
  },
  {
   "cell_type": "code",
   "execution_count": null,
   "metadata": {},
   "outputs": [],
   "source": [
    "avg_restaurants_by_street = rest_data[rest_data['object_type'] == 'Restaurant'].groupby('address_clean')['object_type'].count().mean()\n",
    "avg_restaurants_by_street\n"
   ]
  },
  {
   "cell_type": "code",
   "execution_count": null,
   "metadata": {},
   "outputs": [],
   "source": [
    "streets_more_than_100 = street_restaurant_counts[street_restaurant_counts > 100].sort_values(ascending=False)\n",
    "streets_more_than_100 "
   ]
  },
  {
   "cell_type": "code",
   "execution_count": null,
   "metadata": {},
   "outputs": [],
   "source": [
    "streets_filtered = rest_data[rest_data['address_clean'].isin(streets_more_than_100.index)]\n",
    "streets_filtered"
   ]
  },
  {
   "cell_type": "code",
   "execution_count": null,
   "metadata": {},
   "outputs": [],
   "source": [
    "avg_restaurant_seats = streets_filtered.groupby('address_clean')['number'].mean().sort_values(ascending=False).reset_index()\n",
    "# Membuat plot bar sederhana\n",
    "plt.figure(figsize=(10, 6))\n",
    "sns.barplot(x='number', y='address_clean', data=avg_restaurant_seats  , palette='viridis')\n",
    "\n",
    "# Menambahkan angka pada batang bar\n",
    "for i, value in enumerate(avg_restaurant_seats ['number']):\n",
    "    plt.text(value, i, f'{value:.2f}', ha='left', va='center', fontsize=10, color='black')\n",
    "\n",
    "plt.xlabel('Rata-rata Kursi per Restoran')\n",
    "plt.ylabel('Nama Jalan')\n",
    "plt.title('Rata-rata Kursi per Restoran di Jalan dengan Banyak Restoran')\n",
    "plt.show()"
   ]
  },
  {
   "cell_type": "code",
   "execution_count": null,
   "metadata": {
    "scrolled": false
   },
   "outputs": [],
   "source": [
    "def distribution_each_streets(data, *street_names):\n",
    "    for street_name in street_names:\n",
    "        # Membersihkan data berdasarkan nama jalan\n",
    "        street_data = data.loc[data['address_clean'] == street_name].reset_index(drop=True)\n",
    "        \n",
    "        # Menampilkan beberapa baris pertama data\n",
    "        print(street_data.head())\n",
    "        \n",
    "        # Membuat distribusi jumlah kursi menggunakan Seaborn\n",
    "        plt.figure(figsize=(12, 8))\n",
    "        sns.histplot(data=street_data, x='number', bins=20, kde=True, color='skyblue')\n",
    "        plt.title(f\"Distribusi Jumlah Kursi di Jalan {street_name}\")\n",
    "        plt.xlabel(\"Jumlah Kursi\")\n",
    "        plt.ylabel(\"Frekuensi\")\n",
    "        plt.show()\n",
    "\n",
    "# Memanggil fungsi untuk beberapa jalan\n",
    "distribution_each_streets(rest_data, 'HOLLYWOOD BLVD','WILSHIRE BLVD', 'W OLYMPIC BLVD','MELROSE AVE', 'W SUNSET BLVD' )"
   ]
  },
  {
   "cell_type": "markdown",
   "metadata": {},
   "source": [
    "**Findings:**\n",
    "\n",
    "- Rata-rata Jumlah Kursi: Terdapat variasi rata-rata jumlah kursi di jalan-jalan dengan banyak usaha (tempat makan). Beberapa jalan memiliki rata-rata kursi yang lebih tinggi daripada yang lain.\n",
    "\n",
    "- Tren Positif: Tampaknya ada tren positif antara jumlah usaha (tempat makan) di suatu jalan dengan rata-rata jumlah kursi. Artinya, semakin banyak usaha di suatu jalan, rata-rata jumlah kursi cenderung meningkat.\n",
    "\n",
    "- Jalan dengan Jumlah Kursi Tinggi: Jalan seperti \"W SUNSET BLVD\" dan \"WILSHIRE BLVD\" memiliki rata-rata jumlah kursi yang cukup tinggi, mencapai lebih dari 50 kursi per usaha.\n",
    "\n",
    "**Insight:**\n",
    "\n",
    "- Potensi Kepopuleran: Jalan-jalan dengan rata-rata jumlah kursi yang tinggi mungkin menunjukkan kepopuleran dan daya tarik bagi pengunjung. Pemilik usaha dapat mempertimbangkan strategi untuk meningkatkan jumlah kursi mereka.\n",
    "\n",
    "- Variasi di Setiap Jalan: Meskipun ada tren positif secara umum, masih terdapat variasi di setiap jalan. Analisis ini dapat membantu pemilik usaha untuk memahami posisi mereka dalam konteks jalan yang sama.\n",
    "\n",
    "- Pertimbangan Ekspansi: Bagi pemilik usaha yang ingin melakukan ekspansi, pemahaman terhadap tren jumlah kursi di jalan-jalan dengan banyak usaha dapat menjadi pertimbangan penting.\n",
    "\n",
    "- Pemahaman Lokal: Analisis ini memberikan wawasan tentang karakteristik bisnis di setiap jalan, yang dapat digunakan untuk pemahaman lebih baik tentang pasar lokal."
   ]
  },
  {
   "cell_type": "markdown",
   "metadata": {},
   "source": [
    "<div class=\"alert alert-success\">\n",
    "<b>Code Reviewers's comment v.1</b> <a class=\"tocSkip\"></a>\n",
    "\n",
    "Bagus, code yang dijalankan sudah sesuai dengan instruksi dari project.\n",
    "\n",
    "</div>"
   ]
  },
  {
   "cell_type": "markdown",
   "metadata": {},
   "source": [
    "# Kesimpulan Umum  <a id='conclusion'></a>"
   ]
  },
  {
   "cell_type": "markdown",
   "metadata": {},
   "source": [
    "**Kesimpulan:**\n",
    "1. Proporsi Jenis Usaha:\n",
    "\n",
    "- Restoran (Restaurant): Menyumbang lebih dari 75% dari total tempat usaha dalam dataset, menunjukkan popularitas dan keberagaman restoran di Los Angeles.\n",
    "\n",
    "- Makanan Cepat Saji (Fast Food): Menyumbang sekitar 11%, tetap memiliki andil yang signifikan di pasar.\n",
    "\n",
    "- Cafe: Meskipun jumlahnya lebih sedikit, kafe tetap memegang posisi penting dengan sekitar 4.51%.\n",
    "\n",
    "2. Waralaba vs. Nonwaralaba:\n",
    "\n",
    "- Nonwaralaba: Mayoritas tempat usaha (61.9%) adalah nonwaralaba.\n",
    "\n",
    "- Waralaba: Menyumbang sekitar 38%, menunjukkan variasi di pasar antara waralaba dan nonwaralaba.\n",
    "\n",
    "3. Jenis Usaha Berbasis Waralaba:\n",
    "\n",
    "- Bakery: 100% berbasis waralaba.\n",
    "\n",
    "- Cafe dan Fast Food: Memiliki proporsi yang signifikan dalam kategori berbasis waralaba.\n",
    "\n",
    "4. Jumlah Kursi Rata-rata:\n",
    "\n",
    "- Restoran: Memiliki rata-rata jumlah kursi tertinggi (48.05).\n",
    "\n",
    "- Bakery: Memiliki rata-rata jumlah kursi terendah (21.77).\n",
    "\n",
    "5. Top 10 Nama Jalan:\n",
    "\n",
    "- W SUNSET BLVD dan W PICO BLVD: Menjadi pusat kegiatan kuliner dengan jumlah restoran tertinggi.\n",
    "\n",
    "- WILSHIRE BLVD dan HOLLYWOOD BLVD: Juga mencatat jumlah restoran yang signifikan.\n",
    "\n",
    "6. Jalan dengan Satu Usaha:\n",
    "\n",
    "- 1149 Jalan: Menunjukkan keragaman dan distribusi usaha makanan di berbagai bagian kota atau wilayah.\n",
    "\n",
    "7. Distribusi Jumlah Kursi di Jalan Dengan Banyak Usaha:\n",
    "\n",
    "- Tren Positif: Ada tren positif antara jumlah usaha di suatu jalan dengan rata-rata jumlah kursi, menunjukkan potensi kepopuleran.\n",
    "\n",
    "- Jalan Dengan Jumlah Kursi Tinggi: W SUNSET BLVD dan WILSHIRE BLVD memiliki rata-rata jumlah kursi yang cukup tinggi.\n",
    "\n",
    "8. Pengembangan Usaha Berbasis Waralaba:\n",
    "\n",
    "- Peluang: Model bisnis waralaba dapat menjadi peluang untuk pertumbuhan bisnis. Fokus pada kategori seperti bakery, cafe, atau fast food dapat menguntungkan.\n",
    "\n",
    "- Pertimbangan: Perlu mempertimbangkan bahwa beberapa jenis usaha, seperti restoran dan bar, cenderung memiliki rasio rendah dalam model waralaba.\n",
    "\n",
    "**Rekomendasi Terbaik:**\n",
    "\n",
    "Direkomendasikan untuk pembukaan kafe unik dengan penggunaan robot sebagai pelayan di lokasi strategis seperti W SUNSET BLVD atau W PICO BLVD, berfokus pada model bisnis waralaba inovatif, menyajikan menu bervariasi dan berkualitas tinggi, memanfaatkan teknologi untuk memberikan pengalaman pelanggan yang unik, memperluas jumlah kursi dengan strategi pemasaran yang efektif, dan menjelajahi peluang kerjasama dengan merek-merek terkenal untuk memperkuat daya tarik dan pertumbuhan usaha di pasar makanan dan minuman Los Angeles yang dinamis."
   ]
  },
  {
   "cell_type": "markdown",
   "metadata": {},
   "source": [
    "## Untuk link presentasi bisa dilihat dibawah ini <a id='presentation'></a>\n",
    "\n",
    "[Link Presentasi](https://drive.google.com/file/d/1B32pK6JAEpop2JyUyHcUqrdIBmeVk0H2/view?usp=sharing)"
   ]
  },
  {
   "cell_type": "markdown",
   "metadata": {},
   "source": [
    "<div class=\"alert alert-success\">\n",
    "<b>Code Reviewers's comment v.1</b> <a class=\"tocSkip\"></a>\n",
    "\n",
    "Bagus, code yang dijalankan sudah sesuai dengan instruksi dari project.\n",
    "\n",
    "</div>"
   ]
  },
  {
   "cell_type": "markdown",
   "metadata": {},
   "source": [
    "<div class=\"alert alert-danger\">\n",
    "<b>Code Reviewers's comment v.1</b> <a class=\"tocSkip\"></a>\n",
    "\n",
    "- sepertinya presentasi belum dibuat ya ?\n",
    "\n",
    "</div>"
   ]
  },
  {
   "cell_type": "markdown",
   "metadata": {},
   "source": [
    "<div class=\"alert alert-block alert-info\">\n",
    "<b>Student answer.</b> <a class=\"tocSkip\"></a>\n",
    "    \n",
    "Oh iya, maaf kak lupa save di jupyternya, untuk linknya sudah saya sematkan kembali diatas kak\n",
    "</div>"
   ]
  }
 ],
 "metadata": {
  "kernelspec": {
   "display_name": "Python 3 (ipykernel)",
   "language": "python",
   "name": "python3"
  },
  "language_info": {
   "codemirror_mode": {
    "name": "ipython",
    "version": 3
   },
   "file_extension": ".py",
   "mimetype": "text/x-python",
   "name": "python",
   "nbconvert_exporter": "python",
   "pygments_lexer": "ipython3",
   "version": "3.9.5"
  },
  "toc": {
   "base_numbering": 1,
   "nav_menu": {},
   "number_sections": false,
   "sideBar": true,
   "skip_h1_title": false,
   "title_cell": "Table of Contents",
   "title_sidebar": "Contents",
   "toc_cell": false,
   "toc_position": {
    "height": "calc(100% - 180px)",
    "left": "10px",
    "top": "150px",
    "width": "393.6px"
   },
   "toc_section_display": true,
   "toc_window_display": false
  }
 },
 "nbformat": 4,
 "nbformat_minor": 2
}
