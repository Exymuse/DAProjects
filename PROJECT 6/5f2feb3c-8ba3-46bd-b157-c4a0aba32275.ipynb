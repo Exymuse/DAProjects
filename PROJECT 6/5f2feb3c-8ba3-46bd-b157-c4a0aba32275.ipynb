{
 "cells": [
  {
   "cell_type": "markdown",
   "metadata": {},
   "source": [
    "<div style=\"border:solid black 2px; padding: 20px\"><h1 style=\"color:black; margin-bottom:20px\">Reviewer's comment v1</h1>\n",
    "Halo Cakra !\n",
    "\n",
    "Perkenalkan saya disini sebagai Code Reviewers, disini dengan senang hati saya akan mereview tugas Cakra ya.\n",
    "\n",
    "Saya akan memberikan beberapa komen seperti dibawah ini, tolong jangan dipindah, dirubah, maupun dihapus ya.\n",
    "\n",
    "Komen yang saya berikan akan muncul dalam warna hijau, kuning, atau pun merah seperti ini:\n",
    "\n",
    "<div class=\"alert alert-success\">\n",
    "<b>Code Reviewers's comment v.1</b> <a class=\"tocSkip\"></a>\n",
    "\n",
    "Bagus, code yang dijalankan sudah sesuai dengan instruksi dari project.\n",
    "\n",
    "</div>\n",
    "\n",
    "<div class=\"alert alert-warning\">\n",
    "<b>Code Reviewers's comment v.1</b> <a class=\"tocSkip\"></a>\n",
    "\n",
    "Terdapat beberapa catatan.\n",
    "\n",
    "</div>\n",
    "\n",
    "<div class=\"alert alert-danger\">\n",
    "<b>Code Reviewers's comment v.1</b> <a class=\"tocSkip\"></a>\n",
    "\n",
    "Perlu beberapa perbaikan\n",
    "\n",
    "</div>\n",
    "\n",
    "Dan tentu saja Cakra dapat menjawab saya dengan menggunakan ini\n",
    "\n",
    "<div class=\"alert alert-block alert-info\">\n",
    "<b>Student answer.</b> <a class=\"tocSkip\"></a>\n",
    "    \n",
    "Baik kak\n",
    "</div>"
   ]
  },
  {
   "cell_type": "markdown",
   "metadata": {},
   "source": [
    "# Tahap 4. Analisis data eksploratif (Python)\n",
    "\n",
    "Selain data yang kamu peroleh dalam tugas sebelumnya, kamu sudah diberikan file kedua. Sekarang, kamu memiliki dua file CSV berikut:\n",
    "\n",
    "/datasets/project_sql_result_01.csv - memuat data berikut ini:\n",
    "\n",
    "- company_name: nama perusahaan taksi\n",
    "\n",
    "- trips_amount: jumlah perjalanan untuk setiap perusahaan taksi pada tanggal 15-16 November 2017.\n",
    "\n",
    "/datasets/project_sql_result_04.csv - memuat data berikut ini:\n",
    "\n",
    "- dropoff_location_name: nama wilayah di Chicago tempat perjalanan berakhir\n",
    "\n",
    "- average_trips: jumlah rata-rata perjalanan yang berakhir di setiap wilayah pada bulan November 2017.\n",
    "\n",
    "Untuk kedua dataset tersebut, sekarang kamu perlu untuk\n",
    "\n",
    "- mengimpor kedua file\n",
    "\n",
    "- mempelajari isi data\n",
    "\n",
    "- memastikan tipe datanya sudah benar\n",
    "\n",
    "- mengidentifikasi 10 wilayah teratas yang dijadikan sebagai titik pengantaran\n",
    "\n",
    "- membuat grafik: perusahaan taksi dan jumlah perjalanannya, 10 wilayah teratas berdasarkan jumlah pengantaran\n",
    "\n",
    "- menarik kesimpulan berdasarkan grafik yang sudah dibuat dan menjelaskan hasilnya\n"
   ]
  },
  {
   "cell_type": "markdown",
   "metadata": {},
   "source": [
    "<div class=\"alert alert-success\">\n",
    "<b>Code Reviewers's comment v.1</b> <a class=\"tocSkip\"></a>\n",
    "\n",
    "Bagus, code yang dijalankan sudah sesuai dengan instruksi dari project.\n",
    "\n",
    "</div>"
   ]
  },
  {
   "cell_type": "markdown",
   "metadata": {},
   "source": [
    "## 4.1 Mengimpor kedua file dan mempelajari isi data"
   ]
  },
  {
   "cell_type": "code",
   "execution_count": 5,
   "metadata": {},
   "outputs": [],
   "source": [
    "# Memasukkan library yang diperlukan\n",
    "import pandas as pd\n",
    "import matplotlib.pyplot as plt\n",
    "import seaborn as sns\n",
    "from scipy.stats import levene, shapiro, mannwhitneyu"
   ]
  },
  {
   "cell_type": "code",
   "execution_count": 6,
   "metadata": {},
   "outputs": [],
   "source": [
    "dataset = r'C:/Users/cakra2/OneDrive/Desktop/TripleTen-Project-Sprint/PROJECT 6/DATASET/'"
   ]
  },
  {
   "cell_type": "code",
   "execution_count": 7,
   "metadata": {},
   "outputs": [
    {
     "name": "stdout",
     "output_type": "stream",
     "text": [
      "<class 'pandas.core.frame.DataFrame'>\n",
      "RangeIndex: 64 entries, 0 to 63\n",
      "Data columns (total 2 columns):\n",
      " #   Column        Non-Null Count  Dtype \n",
      "---  ------        --------------  ----- \n",
      " 0   company_name  64 non-null     object\n",
      " 1   trips_amount  64 non-null     int64 \n",
      "dtypes: int64(1), object(1)\n",
      "memory usage: 1.1+ KB\n"
     ]
    },
    {
     "data": {
      "text/html": [
       "<div>\n",
       "<style scoped>\n",
       "    .dataframe tbody tr th:only-of-type {\n",
       "        vertical-align: middle;\n",
       "    }\n",
       "\n",
       "    .dataframe tbody tr th {\n",
       "        vertical-align: top;\n",
       "    }\n",
       "\n",
       "    .dataframe thead th {\n",
       "        text-align: right;\n",
       "    }\n",
       "</style>\n",
       "<table border=\"1\" class=\"dataframe\">\n",
       "  <thead>\n",
       "    <tr style=\"text-align: right;\">\n",
       "      <th></th>\n",
       "      <th>company_name</th>\n",
       "      <th>trips_amount</th>\n",
       "    </tr>\n",
       "  </thead>\n",
       "  <tbody>\n",
       "    <tr>\n",
       "      <th>18</th>\n",
       "      <td>24 Seven Taxi</td>\n",
       "      <td>1775</td>\n",
       "    </tr>\n",
       "    <tr>\n",
       "      <th>22</th>\n",
       "      <td>Chicago Independents</td>\n",
       "      <td>1296</td>\n",
       "    </tr>\n",
       "    <tr>\n",
       "      <th>47</th>\n",
       "      <td>4615 - 83503 Tyrone Henderson</td>\n",
       "      <td>21</td>\n",
       "    </tr>\n",
       "    <tr>\n",
       "      <th>29</th>\n",
       "      <td>303 Taxi</td>\n",
       "      <td>250</td>\n",
       "    </tr>\n",
       "    <tr>\n",
       "      <th>34</th>\n",
       "      <td>Norshore Cab</td>\n",
       "      <td>127</td>\n",
       "    </tr>\n",
       "  </tbody>\n",
       "</table>\n",
       "</div>"
      ],
      "text/plain": [
       "                     company_name  trips_amount\n",
       "18                  24 Seven Taxi          1775\n",
       "22           Chicago Independents          1296\n",
       "47  4615 - 83503 Tyrone Henderson            21\n",
       "29                       303 Taxi           250\n",
       "34                   Norshore Cab           127"
      ]
     },
     "execution_count": 7,
     "metadata": {},
     "output_type": "execute_result"
    }
   ],
   "source": [
    "# Memasukkan kedua data dan mempelajari isi data untuk analisis\n",
    "data1 = pd.read_csv(dataset + 'moved_project_sql_result_01.csv')\n",
    "data1.info()\n",
    "data1.sample(5)"
   ]
  },
  {
   "cell_type": "code",
   "execution_count": 8,
   "metadata": {},
   "outputs": [
    {
     "ename": "AttributeError",
     "evalue": "'str' object has no attribute 'info'",
     "output_type": "error",
     "traceback": [
      "\u001b[1;31m---------------------------------------------------------------------------\u001b[0m",
      "\u001b[1;31mAttributeError\u001b[0m                            Traceback (most recent call last)",
      "Cell \u001b[1;32mIn[8], line 3\u001b[0m\n\u001b[0;32m      1\u001b[0m dataset \u001b[38;5;241m=\u001b[39m \u001b[38;5;124mr\u001b[39m\u001b[38;5;124m'\u001b[39m\u001b[38;5;124mC:/Users/cakra2/OneDrive/Desktop/TripleTen-Project-Sprint/PROJECT 6/DATASET/\u001b[39m\u001b[38;5;124m'\u001b[39m\n\u001b[0;32m      2\u001b[0m data2 \u001b[38;5;241m=\u001b[39m (dataset \u001b[38;5;241m+\u001b[39m \u001b[38;5;124m'\u001b[39m\u001b[38;5;124mmoved_project_sql_result_04.csv\u001b[39m\u001b[38;5;124m'\u001b[39m)\n\u001b[1;32m----> 3\u001b[0m \u001b[43mdata2\u001b[49m\u001b[38;5;241;43m.\u001b[39;49m\u001b[43minfo\u001b[49m()\n\u001b[0;32m      4\u001b[0m data2\u001b[38;5;241m.\u001b[39msample(\u001b[38;5;241m5\u001b[39m)\n",
      "\u001b[1;31mAttributeError\u001b[0m: 'str' object has no attribute 'info'"
     ]
    }
   ],
   "source": [
    "dataset = r'C:/Users/cakra2/OneDrive/Desktop/TripleTen-Project-Sprint/PROJECT 6/DATASET/'\n",
    "data2 = (dataset + 'moved_project_sql_result_04.csv')\n",
    "data2.info()\n",
    "data2.sample(5)"
   ]
  },
  {
   "cell_type": "markdown",
   "metadata": {},
   "source": [
    "**DESCRIPTION**\n",
    "\n",
    "Pada tahap ini data dan juga library yang diperlukan telah dimasukkan. Terlihat `data1` merupakan data jumlah perjalanan pada masing masing perushaan. Sedangkan `data2` merupakan rata rata perljalanan pada masing masing wilayah. Selanjutnya data di cek apakah ada nilai hilang serta memastikan tipe data.  "
   ]
  },
  {
   "cell_type": "markdown",
   "metadata": {},
   "source": [
    "<div class=\"alert alert-success\">\n",
    "<b>Code Reviewers's comment v.1</b> <a class=\"tocSkip\"></a>\n",
    "\n",
    "Bagus, code yang dijalankan sudah sesuai dengan instruksi dari project.\n",
    "\n",
    "</div>"
   ]
  },
  {
   "cell_type": "markdown",
   "metadata": {},
   "source": [
    "## 4.2 Cek data hilang dan memastikan tipe data"
   ]
  },
  {
   "cell_type": "code",
   "execution_count": null,
   "metadata": {},
   "outputs": [
    {
     "data": {
      "text/plain": [
       "company_name    0\n",
       "trips_amount    0\n",
       "dtype: int64"
      ]
     },
     "execution_count": 5,
     "metadata": {},
     "output_type": "execute_result"
    }
   ],
   "source": [
    "# Cek data hilang \n",
    "data1.isna().sum()"
   ]
  },
  {
   "cell_type": "code",
   "execution_count": null,
   "metadata": {},
   "outputs": [
    {
     "data": {
      "text/plain": [
       "dropoff_location_name    0\n",
       "average_trips            0\n",
       "dtype: int64"
      ]
     },
     "execution_count": 6,
     "metadata": {},
     "output_type": "execute_result"
    }
   ],
   "source": [
    "data2.isna().sum()"
   ]
  },
  {
   "cell_type": "code",
   "execution_count": null,
   "metadata": {},
   "outputs": [
    {
     "data": {
      "text/plain": [
       "company_name    object\n",
       "trips_amount     int16\n",
       "dtype: object"
      ]
     },
     "execution_count": 7,
     "metadata": {},
     "output_type": "execute_result"
    }
   ],
   "source": [
    "# memastikan tipe data pada masing masing data\n",
    "data1['trips_amount'] = data1['trips_amount'].astype('int16')\n",
    "data1.dtypes"
   ]
  },
  {
   "cell_type": "code",
   "execution_count": null,
   "metadata": {},
   "outputs": [
    {
     "data": {
      "text/plain": [
       "dropoff_location_name     object\n",
       "average_trips            float32\n",
       "dtype: object"
      ]
     },
     "execution_count": 8,
     "metadata": {},
     "output_type": "execute_result"
    }
   ],
   "source": [
    "data2['average_trips'] = data2['average_trips'].astype('float32')\n",
    "data2.dtypes"
   ]
  },
  {
   "cell_type": "markdown",
   "metadata": {},
   "source": [
    "**DESCRIPTION**\n",
    "\n",
    "Terlihat bahwa tidak ada nilai hilang pada masing masing data dan tipe data tersebut telah di sesuaikan dengan masing masing data. Selanjutnya kita cari 10 perusahaan dengan jumlah perjalanan tertinggi dan buat grafiknya"
   ]
  },
  {
   "cell_type": "markdown",
   "metadata": {},
   "source": [
    "<div class=\"alert alert-success\">\n",
    "<b>Code Reviewers's comment v.1</b> <a class=\"tocSkip\"></a>\n",
    "\n",
    "Bagus, code yang dijalankan sudah sesuai dengan instruksi dari project.\n",
    "\n",
    "</div>"
   ]
  },
  {
   "cell_type": "markdown",
   "metadata": {},
   "source": [
    "## 4.3 Presentase Top 10 Perusahaan dengan Jumlah Perjalanan Tertinggi\""
   ]
  },
  {
   "cell_type": "code",
   "execution_count": null,
   "metadata": {},
   "outputs": [],
   "source": [
    "# Membuat kolom baru berbentuk presentase dari trips_amount\n",
    "total_trips = data1['trips_amount'].sum()\n",
    "data1['percentage'] = (data1['trips_amount'] / total_trips) * 100"
   ]
  },
  {
   "cell_type": "code",
   "execution_count": null,
   "metadata": {
    "scrolled": true
   },
   "outputs": [
    {
     "data": {
      "text/html": [
       "<div>\n",
       "<style scoped>\n",
       "    .dataframe tbody tr th:only-of-type {\n",
       "        vertical-align: middle;\n",
       "    }\n",
       "\n",
       "    .dataframe tbody tr th {\n",
       "        vertical-align: top;\n",
       "    }\n",
       "\n",
       "    .dataframe thead th {\n",
       "        text-align: right;\n",
       "    }\n",
       "</style>\n",
       "<table border=\"1\" class=\"dataframe\">\n",
       "  <thead>\n",
       "    <tr style=\"text-align: right;\">\n",
       "      <th></th>\n",
       "      <th>company_name</th>\n",
       "      <th>trips_amount</th>\n",
       "      <th>percentage</th>\n",
       "    </tr>\n",
       "  </thead>\n",
       "  <tbody>\n",
       "    <tr>\n",
       "      <th>0</th>\n",
       "      <td>Flash Cab</td>\n",
       "      <td>19558</td>\n",
       "      <td>14.243578</td>\n",
       "    </tr>\n",
       "    <tr>\n",
       "      <th>1</th>\n",
       "      <td>Taxi Affiliation Services</td>\n",
       "      <td>11422</td>\n",
       "      <td>8.318343</td>\n",
       "    </tr>\n",
       "    <tr>\n",
       "      <th>2</th>\n",
       "      <td>Medallion Leasing</td>\n",
       "      <td>10367</td>\n",
       "      <td>7.550014</td>\n",
       "    </tr>\n",
       "    <tr>\n",
       "      <th>3</th>\n",
       "      <td>Yellow Cab</td>\n",
       "      <td>9888</td>\n",
       "      <td>7.201171</td>\n",
       "    </tr>\n",
       "    <tr>\n",
       "      <th>4</th>\n",
       "      <td>Taxi Affiliation Service Yellow</td>\n",
       "      <td>9299</td>\n",
       "      <td>6.772218</td>\n",
       "    </tr>\n",
       "    <tr>\n",
       "      <th>5</th>\n",
       "      <td>Chicago Carriage Cab Corp</td>\n",
       "      <td>9181</td>\n",
       "      <td>6.686282</td>\n",
       "    </tr>\n",
       "    <tr>\n",
       "      <th>6</th>\n",
       "      <td>City Service</td>\n",
       "      <td>8448</td>\n",
       "      <td>6.152457</td>\n",
       "    </tr>\n",
       "    <tr>\n",
       "      <th>7</th>\n",
       "      <td>Sun Taxi</td>\n",
       "      <td>7701</td>\n",
       "      <td>5.608436</td>\n",
       "    </tr>\n",
       "    <tr>\n",
       "      <th>8</th>\n",
       "      <td>Star North Management LLC</td>\n",
       "      <td>7455</td>\n",
       "      <td>5.429281</td>\n",
       "    </tr>\n",
       "    <tr>\n",
       "      <th>9</th>\n",
       "      <td>Blue Ribbon Taxi Association Inc.</td>\n",
       "      <td>5953</td>\n",
       "      <td>4.335414</td>\n",
       "    </tr>\n",
       "  </tbody>\n",
       "</table>\n",
       "</div>"
      ],
      "text/plain": [
       "                        company_name  trips_amount  percentage\n",
       "0                          Flash Cab         19558   14.243578\n",
       "1          Taxi Affiliation Services         11422    8.318343\n",
       "2                  Medallion Leasing         10367    7.550014\n",
       "3                         Yellow Cab          9888    7.201171\n",
       "4    Taxi Affiliation Service Yellow          9299    6.772218\n",
       "5          Chicago Carriage Cab Corp          9181    6.686282\n",
       "6                       City Service          8448    6.152457\n",
       "7                           Sun Taxi          7701    5.608436\n",
       "8          Star North Management LLC          7455    5.429281\n",
       "9  Blue Ribbon Taxi Association Inc.          5953    4.335414"
      ]
     },
     "execution_count": 10,
     "metadata": {},
     "output_type": "execute_result"
    }
   ],
   "source": [
    "# mengidentifikasi 10 jumlah perjalanan teratas pada masing masing perushaaan\n",
    "top_company = data1.sort_values(by='trips_amount', ascending=False)[:10]\n",
    "top_company"
   ]
  },
  {
   "cell_type": "code",
   "execution_count": null,
   "metadata": {
    "scrolled": false
   },
   "outputs": [
    {
     "data": {
      "image/png": "[encoded data removed]",
      "text/plain": [
       "<Figure size 1008x432 with 1 Axes>"
      ]
     },
     "metadata": {
      "needs_background": "light"
     },
     "output_type": "display_data"
    }
   ],
   "source": [
    "# Grafik presentase top 10 Perusahaan dengan jumlah trip teratas\n",
    "plt.figure(figsize=(14, 6))\n",
    "plt.title('Presentase Top 10 Perusahaan dengan jumlah trip teratas')\n",
    "ax = sns.barplot(data=top_company, x='percentage', y='company_name')\n",
    "\n",
    "\n",
    "for p in ax.patches: \n",
    "    ax.annotate(f'{int(p.get_width()):.0f}%', (p.get_width(), p.get_y() + p.get_height() / 2)) \n",
    "\n",
    "plt.tight_layout()\n",
    "plt.show()"
   ]
  },
  {
   "cell_type": "markdown",
   "metadata": {},
   "source": [
    "**DESCRIPTION**\n",
    "\n",
    "- Findings:\n",
    "  - Dalam 2 hari perusahaan taksi \"Flash Cab\" adalah perusahaan dengan jumlah perjalanan tertinggi, mencapai sekitar 14% (19558 trip) dari total perjalanan.\n",
    "\n",
    "  - Perusahaan \"Taxi Affiliation Services\" dan \"Medallion Leasing\" juga memiliki jumlah perjalanan yang signifikan, masing-masing sekitar 8% dan 7% dari total perjalanan.\n",
    "\n",
    "\n",
    "- Insights:\n",
    "  - Perusahaan taksi \"Flash Cab\" merupakan memiliki jumlah perjalanan tertinggi diantara lainna\n",
    "  - Dibandingkan kompetitor rangking kedua, jumlah perjalanan \"Flash Cab\" 2x lipat dari Taxi Affiliation Services\n",
    "  - \"Flash Cab\" menjadi pesaing terkuat Zuber\n",
    "\n",
    "- Recommendation:\n",
    "\n",
    "  - Perusahaan \"Flash Cab\" merupakan pesaing terkuat perusahaan \"Zuber\" di Chicago, oleh karena itu Zuber harus mempelajari apa yang menyebabkan perusahaan tersebut memiliki trip yang sangat tinggi hingga 2x lipat.\n"
   ]
  },
  {
   "cell_type": "markdown",
   "metadata": {},
   "source": [
    "<div class=\"alert alert-success\">\n",
    "<b>Code Reviewers's comment v.1</b> <a class=\"tocSkip\"></a>\n",
    "\n",
    "Bagus, code yang dijalankan sudah sesuai dengan instruksi dari project.\n",
    "\n",
    "</div>"
   ]
  },
  {
   "cell_type": "markdown",
   "metadata": {},
   "source": [
    "## 4.4  Presentase Top 10 jumlah rata rata perjalanan pada masing masing wilayah\""
   ]
  },
  {
   "cell_type": "code",
   "execution_count": null,
   "metadata": {},
   "outputs": [],
   "source": [
    "# Membuat kolom baru berbentuk presentase dari average_trips\n",
    "total_trips = data2['average_trips'].sum()\n",
    "\n",
    "# Membuat kolom baru 'percentage' yang berisi presentase setiap nilai terhadap total\n",
    "data2['percentage'] = (data2['average_trips'] / total_trips) * 100"
   ]
  },
  {
   "cell_type": "code",
   "execution_count": null,
   "metadata": {},
   "outputs": [
    {
     "data": {
      "text/html": [
       "<div>\n",
       "<style scoped>\n",
       "    .dataframe tbody tr th:only-of-type {\n",
       "        vertical-align: middle;\n",
       "    }\n",
       "\n",
       "    .dataframe tbody tr th {\n",
       "        vertical-align: top;\n",
       "    }\n",
       "\n",
       "    .dataframe thead th {\n",
       "        text-align: right;\n",
       "    }\n",
       "</style>\n",
       "<table border=\"1\" class=\"dataframe\">\n",
       "  <thead>\n",
       "    <tr style=\"text-align: right;\">\n",
       "      <th></th>\n",
       "      <th>dropoff_location_name</th>\n",
       "      <th>average_trips</th>\n",
       "      <th>percentage</th>\n",
       "    </tr>\n",
       "  </thead>\n",
       "  <tbody>\n",
       "    <tr>\n",
       "      <th>0</th>\n",
       "      <td>Loop</td>\n",
       "      <td>10727.466797</td>\n",
       "      <td>19.021799</td>\n",
       "    </tr>\n",
       "    <tr>\n",
       "      <th>1</th>\n",
       "      <td>River North</td>\n",
       "      <td>9523.666992</td>\n",
       "      <td>16.887238</td>\n",
       "    </tr>\n",
       "    <tr>\n",
       "      <th>2</th>\n",
       "      <td>Streeterville</td>\n",
       "      <td>6664.666504</td>\n",
       "      <td>11.817697</td>\n",
       "    </tr>\n",
       "    <tr>\n",
       "      <th>3</th>\n",
       "      <td>West Loop</td>\n",
       "      <td>5163.666504</td>\n",
       "      <td>9.156143</td>\n",
       "    </tr>\n",
       "    <tr>\n",
       "      <th>4</th>\n",
       "      <td>O'Hare</td>\n",
       "      <td>2546.899902</td>\n",
       "      <td>4.516129</td>\n",
       "    </tr>\n",
       "    <tr>\n",
       "      <th>5</th>\n",
       "      <td>Lake View</td>\n",
       "      <td>2420.966553</td>\n",
       "      <td>4.292825</td>\n",
       "    </tr>\n",
       "    <tr>\n",
       "      <th>6</th>\n",
       "      <td>Grant Park</td>\n",
       "      <td>2068.533447</td>\n",
       "      <td>3.667896</td>\n",
       "    </tr>\n",
       "    <tr>\n",
       "      <th>7</th>\n",
       "      <td>Museum Campus</td>\n",
       "      <td>1510.000000</td>\n",
       "      <td>2.677512</td>\n",
       "    </tr>\n",
       "    <tr>\n",
       "      <th>8</th>\n",
       "      <td>Gold Coast</td>\n",
       "      <td>1364.233276</td>\n",
       "      <td>2.419040</td>\n",
       "    </tr>\n",
       "    <tr>\n",
       "      <th>9</th>\n",
       "      <td>Sheffield &amp; DePaul</td>\n",
       "      <td>1259.766724</td>\n",
       "      <td>2.233801</td>\n",
       "    </tr>\n",
       "  </tbody>\n",
       "</table>\n",
       "</div>"
      ],
      "text/plain": [
       "  dropoff_location_name  average_trips  percentage\n",
       "0                  Loop   10727.466797   19.021799\n",
       "1           River North    9523.666992   16.887238\n",
       "2         Streeterville    6664.666504   11.817697\n",
       "3             West Loop    5163.666504    9.156143\n",
       "4                O'Hare    2546.899902    4.516129\n",
       "5             Lake View    2420.966553    4.292825\n",
       "6            Grant Park    2068.533447    3.667896\n",
       "7         Museum Campus    1510.000000    2.677512\n",
       "8            Gold Coast    1364.233276    2.419040\n",
       "9    Sheffield & DePaul    1259.766724    2.233801"
      ]
     },
     "execution_count": 13,
     "metadata": {},
     "output_type": "execute_result"
    }
   ],
   "source": [
    "# mengidentifikasi 10 jumlah rata-rata perjalanan yang berakhir di setiap wilayah\n",
    "top_dropoff = data2.sort_values(by='average_trips', ascending=False).head(10)\n",
    "top_dropoff\n"
   ]
  },
  {
   "cell_type": "code",
   "execution_count": null,
   "metadata": {},
   "outputs": [
    {
     "data": {
      "image/png": "[encoded data removed]",
      "text/plain": [
       "<Figure size 1008x432 with 1 Axes>"
      ]
     },
     "metadata": {
      "needs_background": "light"
     },
     "output_type": "display_data"
    }
   ],
   "source": [
    "# Grafik Presentase Top 10 jumlah rata-rata perjalanan yang berakhir di setiap wilayah\n",
    "plt.figure(figsize=(14, 6))\n",
    "plt.title('Presentase Top 10 jumlah rata-rata perjalanan yang berakhir di setiap wilayah ')\n",
    "ax = sns.barplot(data=top_dropoff, x='percentage', y='dropoff_location_name')\n",
    "\n",
    "# Add labels to the bars\n",
    "\n",
    "for p in ax.patches: \n",
    "    ax.annotate(f'{int(p.get_width()):.0f}%', (p.get_width(), p.get_y() + p.get_height() / 2)) \n",
    "\n",
    "plt.tight_layout()\n",
    "plt.show()\n",
    "\n"
   ]
  },
  {
   "cell_type": "markdown",
   "metadata": {},
   "source": [
    "**DESCRIPTION**\n",
    "- Findings:\n",
    "\n",
    "  - Wilayah \"Loop\" adalah yang paling banyak dikunjungi dengan rata-rata perjalanan sekitar 19%(10727.466797) dari total perjalanan.\n",
    "  - Wilayah \"River North\" dan \"Streeterville\" juga memiliki rata-rata perjalanan yang tinggi, masing-masing sekitar 16.89% dan 11.82% dari total perjalanan.\n",
    "\n",
    "\n",
    "- Insights:\n",
    "\n",
    "   - Beberapa wilayah \"Loop,\" \"River North,\" dan \"Streeterville\" menjadi titik-titik tujuan yang paling populer. Ini mungkin karena keberadaan berbagai atraksi wisata, restoran, dan bisnis di wilayah-wilayah ini.\n",
    "\n",
    "\n",
    "- Recommendation:\n",
    "\n",
    "  - Perusahaan Zuber dapat mempertimbangkan peningkatan layanan di wilayah-wilayah yang paling sering dikunjungi, seperti \"Loop\" dan \"River North,\" untuk memenangkan lebih banyak pelanggan.\n",
    "  - Ini juga memungkinkan bahwa perusahaan kompetitor sering mengambil pelanggan di ketiga wilayah tersebut seperti \"Loop\", \"River North\", dan \"Streeterville\"."
   ]
  },
  {
   "cell_type": "markdown",
   "metadata": {},
   "source": [
    "<div class=\"alert alert-success\">\n",
    "<b>Code Reviewers's comment v.1</b> <a class=\"tocSkip\"></a>\n",
    "\n",
    "Bagus, code yang dijalankan sudah sesuai dengan instruksi dari project.\n",
    "\n",
    "</div>"
   ]
  },
  {
   "cell_type": "markdown",
   "metadata": {},
   "source": [
    "# Tahap 5. Menguji hipotesis (Python)\n",
    "\n",
    "/datasets/project_sql_result_07.csv — hasil dari kueri terakhir. File ini memuat data perjalanan dari Loop ke Bandara Internasional O'Hare. Ingat, berikut adalah nilai kolom-kolom yang ada di tabel ini:\n",
    "\n",
    "- start_ts -- tanggal dan waktu penjemputan\n",
    "\n",
    "- weather_conditions -- kondisi cuaca saat perjalanan dimulai\n",
    "\n",
    "- duration_seconds -- durasi perjalanan dalam satuan detik\n",
    "\n",
    "Uji hipotesis berikut:\n",
    "\n",
    "\"Durasi rata-rata perjalanan dari Loop ke Bandara Internasional O'Hare berubah saat hujan di hari Sabtu.\" \n",
    "\n",
    "Tentukan secara mandiri seberapa besar level signifikansinya (alpha).\n",
    "\n",
    "Jelaskan:\n",
    "\n",
    "\n",
    "- Bagaimana kamu merumuskan hipotesis nol dan hipotesis alternatif\n",
    "\n",
    "- Kriteria apa yang kamu gunakan untuk menguji hipotesis dan alasan menggunakannya"
   ]
  },
  {
   "cell_type": "code",
   "execution_count": null,
   "metadata": {
    "scrolled": false
   },
   "outputs": [
    {
     "name": "stdout",
     "output_type": "stream",
     "text": [
      "<class 'pandas.core.frame.DataFrame'>\n",
      "RangeIndex: 1068 entries, 0 to 1067\n",
      "Data columns (total 3 columns):\n",
      " #   Column              Non-Null Count  Dtype  \n",
      "---  ------              --------------  -----  \n",
      " 0   start_ts            1068 non-null   object \n",
      " 1   weather_conditions  1068 non-null   object \n",
      " 2   duration_seconds    1068 non-null   float64\n",
      "dtypes: float64(1), object(2)\n",
      "memory usage: 25.2+ KB\n"
     ]
    },
    {
     "data": {
      "text/html": [
       "<div>\n",
       "<style scoped>\n",
       "    .dataframe tbody tr th:only-of-type {\n",
       "        vertical-align: middle;\n",
       "    }\n",
       "\n",
       "    .dataframe tbody tr th {\n",
       "        vertical-align: top;\n",
       "    }\n",
       "\n",
       "    .dataframe thead th {\n",
       "        text-align: right;\n",
       "    }\n",
       "</style>\n",
       "<table border=\"1\" class=\"dataframe\">\n",
       "  <thead>\n",
       "    <tr style=\"text-align: right;\">\n",
       "      <th></th>\n",
       "      <th>start_ts</th>\n",
       "      <th>weather_conditions</th>\n",
       "      <th>duration_seconds</th>\n",
       "    </tr>\n",
       "  </thead>\n",
       "  <tbody>\n",
       "    <tr>\n",
       "      <th>736</th>\n",
       "      <td>2017-11-04 14:00:00</td>\n",
       "      <td>Good</td>\n",
       "      <td>2948.0</td>\n",
       "    </tr>\n",
       "    <tr>\n",
       "      <th>243</th>\n",
       "      <td>2017-11-11 05:00:00</td>\n",
       "      <td>Good</td>\n",
       "      <td>1320.0</td>\n",
       "    </tr>\n",
       "    <tr>\n",
       "      <th>628</th>\n",
       "      <td>2017-11-18 07:00:00</td>\n",
       "      <td>Bad</td>\n",
       "      <td>1200.0</td>\n",
       "    </tr>\n",
       "    <tr>\n",
       "      <th>158</th>\n",
       "      <td>2017-11-11 17:00:00</td>\n",
       "      <td>Good</td>\n",
       "      <td>2160.0</td>\n",
       "    </tr>\n",
       "    <tr>\n",
       "      <th>589</th>\n",
       "      <td>2017-11-18 12:00:00</td>\n",
       "      <td>Bad</td>\n",
       "      <td>2606.0</td>\n",
       "    </tr>\n",
       "  </tbody>\n",
       "</table>\n",
       "</div>"
      ],
      "text/plain": [
       "                start_ts weather_conditions  duration_seconds\n",
       "736  2017-11-04 14:00:00               Good            2948.0\n",
       "243  2017-11-11 05:00:00               Good            1320.0\n",
       "628  2017-11-18 07:00:00                Bad            1200.0\n",
       "158  2017-11-11 17:00:00               Good            2160.0\n",
       "589  2017-11-18 12:00:00                Bad            2606.0"
      ]
     },
     "execution_count": 15,
     "metadata": {},
     "output_type": "execute_result"
    }
   ],
   "source": [
    "# Mengimpor data dan mempelajari data \n",
    "\n",
    "path3 = (dataset + 'moved_project_sql_result_07.csv')\n",
    "data3 = pd.read_csv(path3) \n",
    "data3.info()\n",
    "data3.sample(5)"
   ]
  },
  {
   "cell_type": "code",
   "execution_count": null,
   "metadata": {},
   "outputs": [
    {
     "data": {
      "text/html": [
       "<div>\n",
       "<style scoped>\n",
       "    .dataframe tbody tr th:only-of-type {\n",
       "        vertical-align: middle;\n",
       "    }\n",
       "\n",
       "    .dataframe tbody tr th {\n",
       "        vertical-align: top;\n",
       "    }\n",
       "\n",
       "    .dataframe thead th {\n",
       "        text-align: right;\n",
       "    }\n",
       "</style>\n",
       "<table border=\"1\" class=\"dataframe\">\n",
       "  <thead>\n",
       "    <tr style=\"text-align: right;\">\n",
       "      <th></th>\n",
       "      <th>duration_seconds</th>\n",
       "    </tr>\n",
       "  </thead>\n",
       "  <tbody>\n",
       "    <tr>\n",
       "      <th>count</th>\n",
       "      <td>1068.000000</td>\n",
       "    </tr>\n",
       "    <tr>\n",
       "      <th>mean</th>\n",
       "      <td>2071.731273</td>\n",
       "    </tr>\n",
       "    <tr>\n",
       "      <th>std</th>\n",
       "      <td>769.461125</td>\n",
       "    </tr>\n",
       "    <tr>\n",
       "      <th>min</th>\n",
       "      <td>0.000000</td>\n",
       "    </tr>\n",
       "    <tr>\n",
       "      <th>25%</th>\n",
       "      <td>1438.250000</td>\n",
       "    </tr>\n",
       "    <tr>\n",
       "      <th>50%</th>\n",
       "      <td>1980.000000</td>\n",
       "    </tr>\n",
       "    <tr>\n",
       "      <th>75%</th>\n",
       "      <td>2580.000000</td>\n",
       "    </tr>\n",
       "    <tr>\n",
       "      <th>max</th>\n",
       "      <td>7440.000000</td>\n",
       "    </tr>\n",
       "  </tbody>\n",
       "</table>\n",
       "</div>"
      ],
      "text/plain": [
       "       duration_seconds\n",
       "count       1068.000000\n",
       "mean        2071.731273\n",
       "std          769.461125\n",
       "min            0.000000\n",
       "25%         1438.250000\n",
       "50%         1980.000000\n",
       "75%         2580.000000\n",
       "max         7440.000000"
      ]
     },
     "execution_count": 16,
     "metadata": {},
     "output_type": "execute_result"
    }
   ],
   "source": [
    "data3.describe()"
   ]
  },
  {
   "cell_type": "code",
   "execution_count": null,
   "metadata": {},
   "outputs": [
    {
     "data": {
      "text/plain": [
       "start_ts              0\n",
       "weather_conditions    0\n",
       "duration_seconds      0\n",
       "dtype: int64"
      ]
     },
     "execution_count": 17,
     "metadata": {},
     "output_type": "execute_result"
    }
   ],
   "source": [
    "# Mengecek data hilang\n",
    "data3.isna().sum()"
   ]
  },
  {
   "cell_type": "code",
   "execution_count": null,
   "metadata": {},
   "outputs": [],
   "source": [
    "# Memastikan tipe data\n",
    "data3['start_ts'] = pd.to_datetime(data3['start_ts'])"
   ]
  },
  {
   "cell_type": "code",
   "execution_count": null,
   "metadata": {},
   "outputs": [
    {
     "data": {
      "text/plain": [
       "array([5])"
      ]
     },
     "execution_count": 19,
     "metadata": {},
     "output_type": "execute_result"
    }
   ],
   "source": [
    "# Memastikan hari adalah hari sabtu\n",
    "data3['start_ts'].dt.weekday.unique()"
   ]
  },
  {
   "cell_type": "code",
   "execution_count": null,
   "metadata": {},
   "outputs": [
    {
     "data": {
      "image/png": "[encoded data removed]",
      "text/plain": [
       "<Figure size 864x432 with 1 Axes>"
      ]
     },
     "metadata": {
      "needs_background": "light"
     },
     "output_type": "display_data"
    }
   ],
   "source": [
    "# Membuat violinplot distribusi durasi perjalanan dari wilayah Loop ke O Hare di hari Sabtu\n",
    "plt.figure(figsize=(12, 6))\n",
    "plt.title('Distribusi Durasi Perjalanan Dari Loop ke Bandara O Hare pada Hari Sabtu')\n",
    "sns.violinplot(data=data3, x='duration_seconds', y='weather_conditions')\n",
    "plt.show()"
   ]
  },
  {
   "cell_type": "code",
   "execution_count": null,
   "metadata": {},
   "outputs": [],
   "source": [
    "# Memisahkan data cuaca bagu dan cuaca buruk\n",
    "good_weather = data3.loc[data3['weather_conditions'] == 'Good']\n",
    "bad_weather = data3.loc[data3['weather_conditions'] == 'Bad']"
   ]
  },
  {
   "cell_type": "code",
   "execution_count": null,
   "metadata": {},
   "outputs": [],
   "source": [
    "# Function untuk membersihkan outlier untuk data diatas\n",
    "def remove_outliers_iqr(data):\n",
    "    Q1 = data['duration_seconds'].quantile(0.25)\n",
    "    Q3 = data['duration_seconds'].quantile(0.75)\n",
    "    IQR = Q3 - Q1\n",
    "    lower_bound = Q1 - 1.5 * IQR\n",
    "    upper_bound = Q3 + 1.5 * IQR\n",
    "    return data[(data['duration_seconds'] >= lower_bound) & (data['duration_seconds'] <= upper_bound)]\n"
   ]
  },
  {
   "cell_type": "code",
   "execution_count": null,
   "metadata": {},
   "outputs": [
    {
     "data": {
      "text/html": [
       "<div>\n",
       "<style scoped>\n",
       "    .dataframe tbody tr th:only-of-type {\n",
       "        vertical-align: middle;\n",
       "    }\n",
       "\n",
       "    .dataframe tbody tr th {\n",
       "        vertical-align: top;\n",
       "    }\n",
       "\n",
       "    .dataframe thead th {\n",
       "        text-align: right;\n",
       "    }\n",
       "</style>\n",
       "<table border=\"1\" class=\"dataframe\">\n",
       "  <thead>\n",
       "    <tr style=\"text-align: right;\">\n",
       "      <th></th>\n",
       "      <th>start_ts</th>\n",
       "      <th>weather_conditions</th>\n",
       "      <th>duration_seconds</th>\n",
       "    </tr>\n",
       "  </thead>\n",
       "  <tbody>\n",
       "    <tr>\n",
       "      <th>0</th>\n",
       "      <td>2017-11-25 16:00:00</td>\n",
       "      <td>Good</td>\n",
       "      <td>2410.0</td>\n",
       "    </tr>\n",
       "    <tr>\n",
       "      <th>1</th>\n",
       "      <td>2017-11-25 14:00:00</td>\n",
       "      <td>Good</td>\n",
       "      <td>1920.0</td>\n",
       "    </tr>\n",
       "    <tr>\n",
       "      <th>2</th>\n",
       "      <td>2017-11-25 12:00:00</td>\n",
       "      <td>Good</td>\n",
       "      <td>1543.0</td>\n",
       "    </tr>\n",
       "    <tr>\n",
       "      <th>3</th>\n",
       "      <td>2017-11-04 10:00:00</td>\n",
       "      <td>Good</td>\n",
       "      <td>2512.0</td>\n",
       "    </tr>\n",
       "    <tr>\n",
       "      <th>4</th>\n",
       "      <td>2017-11-11 07:00:00</td>\n",
       "      <td>Good</td>\n",
       "      <td>1440.0</td>\n",
       "    </tr>\n",
       "    <tr>\n",
       "      <th>...</th>\n",
       "      <td>...</td>\n",
       "      <td>...</td>\n",
       "      <td>...</td>\n",
       "    </tr>\n",
       "    <tr>\n",
       "      <th>1062</th>\n",
       "      <td>2017-11-11 06:00:00</td>\n",
       "      <td>Good</td>\n",
       "      <td>1500.0</td>\n",
       "    </tr>\n",
       "    <tr>\n",
       "      <th>1063</th>\n",
       "      <td>2017-11-25 11:00:00</td>\n",
       "      <td>Good</td>\n",
       "      <td>0.0</td>\n",
       "    </tr>\n",
       "    <tr>\n",
       "      <th>1064</th>\n",
       "      <td>2017-11-11 10:00:00</td>\n",
       "      <td>Good</td>\n",
       "      <td>1318.0</td>\n",
       "    </tr>\n",
       "    <tr>\n",
       "      <th>1065</th>\n",
       "      <td>2017-11-11 13:00:00</td>\n",
       "      <td>Good</td>\n",
       "      <td>2100.0</td>\n",
       "    </tr>\n",
       "    <tr>\n",
       "      <th>1066</th>\n",
       "      <td>2017-11-11 08:00:00</td>\n",
       "      <td>Good</td>\n",
       "      <td>1380.0</td>\n",
       "    </tr>\n",
       "  </tbody>\n",
       "</table>\n",
       "<p>882 rows × 3 columns</p>\n",
       "</div>"
      ],
      "text/plain": [
       "                start_ts weather_conditions  duration_seconds\n",
       "0    2017-11-25 16:00:00               Good            2410.0\n",
       "1    2017-11-25 14:00:00               Good            1920.0\n",
       "2    2017-11-25 12:00:00               Good            1543.0\n",
       "3    2017-11-04 10:00:00               Good            2512.0\n",
       "4    2017-11-11 07:00:00               Good            1440.0\n",
       "...                  ...                ...               ...\n",
       "1062 2017-11-11 06:00:00               Good            1500.0\n",
       "1063 2017-11-25 11:00:00               Good               0.0\n",
       "1064 2017-11-11 10:00:00               Good            1318.0\n",
       "1065 2017-11-11 13:00:00               Good            2100.0\n",
       "1066 2017-11-11 08:00:00               Good            1380.0\n",
       "\n",
       "[882 rows x 3 columns]"
      ]
     },
     "execution_count": 23,
     "metadata": {},
     "output_type": "execute_result"
    }
   ],
   "source": [
    "# Membersihkan outlier untuk distribusi pada cuaca bagus\n",
    "good = remove_outliers_iqr(good_weather)\n",
    "good"
   ]
  },
  {
   "cell_type": "code",
   "execution_count": null,
   "metadata": {},
   "outputs": [
    {
     "data": {
      "image/png": "[encoded data removed]",
      "text/plain": [
       "<Figure size 864x432 with 1 Axes>"
      ]
     },
     "metadata": {
      "needs_background": "light"
     },
     "output_type": "display_data"
    }
   ],
   "source": [
    "# Grafik distribusi cuaca bagus \n",
    "plt.figure(figsize=(12, 6))\n",
    "plt.title('Distribusi Durasi Perjalanan Dari Loop ke Bandara O Hare pada Hari Sabtu saat cuaca Baik')\n",
    "sns.violinplot(data=good, x='duration_seconds')\n",
    "plt.show()"
   ]
  },
  {
   "cell_type": "code",
   "execution_count": null,
   "metadata": {},
   "outputs": [
    {
     "data": {
      "text/html": [
       "<div>\n",
       "<style scoped>\n",
       "    .dataframe tbody tr th:only-of-type {\n",
       "        vertical-align: middle;\n",
       "    }\n",
       "\n",
       "    .dataframe tbody tr th {\n",
       "        vertical-align: top;\n",
       "    }\n",
       "\n",
       "    .dataframe thead th {\n",
       "        text-align: right;\n",
       "    }\n",
       "</style>\n",
       "<table border=\"1\" class=\"dataframe\">\n",
       "  <thead>\n",
       "    <tr style=\"text-align: right;\">\n",
       "      <th></th>\n",
       "      <th>start_ts</th>\n",
       "      <th>weather_conditions</th>\n",
       "      <th>duration_seconds</th>\n",
       "    </tr>\n",
       "  </thead>\n",
       "  <tbody>\n",
       "    <tr>\n",
       "      <th>6</th>\n",
       "      <td>2017-11-04 16:00:00</td>\n",
       "      <td>Bad</td>\n",
       "      <td>2969.0</td>\n",
       "    </tr>\n",
       "    <tr>\n",
       "      <th>30</th>\n",
       "      <td>2017-11-18 12:00:00</td>\n",
       "      <td>Bad</td>\n",
       "      <td>1980.0</td>\n",
       "    </tr>\n",
       "    <tr>\n",
       "      <th>34</th>\n",
       "      <td>2017-11-04 17:00:00</td>\n",
       "      <td>Bad</td>\n",
       "      <td>2460.0</td>\n",
       "    </tr>\n",
       "    <tr>\n",
       "      <th>51</th>\n",
       "      <td>2017-11-04 16:00:00</td>\n",
       "      <td>Bad</td>\n",
       "      <td>2760.0</td>\n",
       "    </tr>\n",
       "    <tr>\n",
       "      <th>52</th>\n",
       "      <td>2017-11-18 12:00:00</td>\n",
       "      <td>Bad</td>\n",
       "      <td>2460.0</td>\n",
       "    </tr>\n",
       "    <tr>\n",
       "      <th>...</th>\n",
       "      <td>...</td>\n",
       "      <td>...</td>\n",
       "      <td>...</td>\n",
       "    </tr>\n",
       "    <tr>\n",
       "      <th>1031</th>\n",
       "      <td>2017-11-18 12:00:00</td>\n",
       "      <td>Bad</td>\n",
       "      <td>2560.0</td>\n",
       "    </tr>\n",
       "    <tr>\n",
       "      <th>1032</th>\n",
       "      <td>2017-11-18 10:00:00</td>\n",
       "      <td>Bad</td>\n",
       "      <td>1908.0</td>\n",
       "    </tr>\n",
       "    <tr>\n",
       "      <th>1053</th>\n",
       "      <td>2017-11-18 12:00:00</td>\n",
       "      <td>Bad</td>\n",
       "      <td>2400.0</td>\n",
       "    </tr>\n",
       "    <tr>\n",
       "      <th>1061</th>\n",
       "      <td>2017-11-18 16:00:00</td>\n",
       "      <td>Bad</td>\n",
       "      <td>2186.0</td>\n",
       "    </tr>\n",
       "    <tr>\n",
       "      <th>1067</th>\n",
       "      <td>2017-11-04 16:00:00</td>\n",
       "      <td>Bad</td>\n",
       "      <td>2834.0</td>\n",
       "    </tr>\n",
       "  </tbody>\n",
       "</table>\n",
       "<p>177 rows × 3 columns</p>\n",
       "</div>"
      ],
      "text/plain": [
       "                start_ts weather_conditions  duration_seconds\n",
       "6    2017-11-04 16:00:00                Bad            2969.0\n",
       "30   2017-11-18 12:00:00                Bad            1980.0\n",
       "34   2017-11-04 17:00:00                Bad            2460.0\n",
       "51   2017-11-04 16:00:00                Bad            2760.0\n",
       "52   2017-11-18 12:00:00                Bad            2460.0\n",
       "...                  ...                ...               ...\n",
       "1031 2017-11-18 12:00:00                Bad            2560.0\n",
       "1032 2017-11-18 10:00:00                Bad            1908.0\n",
       "1053 2017-11-18 12:00:00                Bad            2400.0\n",
       "1061 2017-11-18 16:00:00                Bad            2186.0\n",
       "1067 2017-11-04 16:00:00                Bad            2834.0\n",
       "\n",
       "[177 rows x 3 columns]"
      ]
     },
     "execution_count": 25,
     "metadata": {},
     "output_type": "execute_result"
    }
   ],
   "source": [
    "# Membersihkan outlier untuk distribusi pada cuaca buruk\n",
    "bad = remove_outliers_iqr(bad_weather)\n",
    "bad"
   ]
  },
  {
   "cell_type": "code",
   "execution_count": null,
   "metadata": {},
   "outputs": [
    {
     "data": {
      "image/png": "[encoded data removed]",
      "text/plain": [
       "<Figure size 864x432 with 1 Axes>"
      ]
     },
     "metadata": {
      "needs_background": "light"
     },
     "output_type": "display_data"
    }
   ],
   "source": [
    "# Grafik distribusi cuaca buruk\n",
    "plt.figure(figsize=(12, 6))\n",
    "plt.title('Distribusi Durasi Perjalanan Dari Loop ke Bandara O Hare pada Hari Sabtu saat cuaca Buruk')\n",
    "sns.violinplot(data=bad, x='duration_seconds')\n",
    "plt.show()"
   ]
  },
  {
   "cell_type": "code",
   "execution_count": null,
   "metadata": {},
   "outputs": [],
   "source": [
    "# Mengambil durasi waktu pada data dengan outlier yang telah dibersihkan\n",
    "good_duration = good['duration_seconds']\n",
    "bad_duration  = bad['duration_seconds']"
   ]
  },
  {
   "cell_type": "markdown",
   "metadata": {},
   "source": [
    "<div class=\"alert alert-success\">\n",
    "<b>Code Reviewers's comment v.1</b> <a class=\"tocSkip\"></a>\n",
    "\n",
    "Bagus, code yang dijalankan sudah sesuai dengan instruksi dari project.\n",
    "\n",
    "</div>"
   ]
  },
  {
   "cell_type": "code",
   "execution_count": null,
   "metadata": {},
   "outputs": [],
   "source": [
    "# uji kesamaan variasi distribusi\n",
    "p_value = levene(good_duration, bad_duration, center='median').pvalue"
   ]
  },
  {
   "cell_type": "code",
   "execution_count": null,
   "metadata": {},
   "outputs": [
    {
     "data": {
      "text/plain": [
       "8.395970071377549e-19"
      ]
     },
     "execution_count": 29,
     "metadata": {},
     "output_type": "execute_result"
    }
   ],
   "source": [
    "# uji distribusi normal pada masing masing data, jika p-value <5% distribusinya tidak normal\n",
    "shapiro(good_duration).pvalue"
   ]
  },
  {
   "cell_type": "code",
   "execution_count": null,
   "metadata": {},
   "outputs": [
    {
     "data": {
      "text/plain": [
       "0.0002595653641037643"
      ]
     },
     "execution_count": 30,
     "metadata": {},
     "output_type": "execute_result"
    }
   ],
   "source": [
    "shapiro(bad_duration).pvalue"
   ]
  },
  {
   "cell_type": "markdown",
   "metadata": {},
   "source": [
    "- Hipotesis\n",
    "    - H0: Rata2 Durasi Perjalanan dari Loop ke Bandara O Hare pada hari sabtu saat hujan dan tidak hujan adalah sama\n",
    "    - H1: Rata2 Durasi Perjalanan dari Loop ke Bandara O Hare pada hari sabtu saat hujan dan tidak hujan adalah berbeda\n",
    "\n",
    "- Metode: Independent Two sample test (mannwhitneyu)\n",
    "- Alpha: 5%"
   ]
  },
  {
   "cell_type": "code",
   "execution_count": null,
   "metadata": {},
   "outputs": [
    {
     "name": "stdout",
     "output_type": "stream",
     "text": [
      "H1: Rata2 Durasi Perjalanan dari Loop ke Bandara O Hare pada hari sabtu saat hujan dan tidak hujan adalah berbeda\n"
     ]
    }
   ],
   "source": [
    "# Dikarenakan distribusi tidak normal kita gunakan Mann-Whitney U Test (Non-Parametric) \n",
    "alpha = 0.05\n",
    "\n",
    "# Perform Mann-Whitney U test\n",
    "statistic, p_value_mw = mannwhitneyu(good_duration, bad_duration)\n",
    "\n",
    "# Compare p-value to alpha\n",
    "if p_value_mw < alpha:\n",
    "    print(\"H1: Rata2 Durasi Perjalanan dari Loop ke Bandara O Hare pada hari sabtu saat hujan dan tidak hujan adalah berbeda\")\n",
    "else:\n",
    "    print(\"Fail to reject the null hypothesis: Tidak ada perbedaan yang signifikan.\")\n"
   ]
  },
  {
   "cell_type": "code",
   "execution_count": null,
   "metadata": {},
   "outputs": [
    {
     "name": "stdout",
     "output_type": "stream",
     "text": [
      "Rata2 Durasi Saat Normal: 32.946938775510205 menit\n",
      "Rata2 Durasi Saat Hujan : 40.57975517890772 menit\n"
     ]
    }
   ],
   "source": [
    "# Rata-rata Durasi Perjalanan dari Loop ke Bandara O Hare pada hari sabtu saat hujan dan tidak hujan adalah berbeda\n",
    "print('Rata2 Durasi Saat Normal:', good_duration.mean() / 60, 'menit')\n",
    "print('Rata2 Durasi Saat Hujan :', bad_duration.mean() / 60, 'menit')"
   ]
  },
  {
   "cell_type": "markdown",
   "metadata": {},
   "source": [
    "**DESCRIPTION**\n",
    "\n",
    "- Findings:\n",
    "\n",
    "  - P-value dari distribusi data bad menunjukkan terdapat distribusi tidak normal \n",
    "  - Rata rata durasi perjalanan dari loop ke bandara O Hare saat normal dan hujan berbeda\n",
    "\n",
    "- Insights:\n",
    "\n",
    "  - Sebagian besar perjalanan dari Loop ke Bandara O'Hare pada hari Sabtu berlangsung kurang dari 4000 detik.\n",
    "\n",
    "  - Distribusi durasi perjalanan cenderung lebih bervariasi pada cuaca \"Bad,\" dengan beberapa perjalanan yang lebih lama.\n",
    "\n",
    "- Recommendation:\n",
    "\n",
    "  - Berdasarkan uji hiptotesis diatas bahwa cucaca dapa mempengaruhi durasi perjalanan terutama perjalanan dari Loop ke bandara   \n",
    "  - Perusahaan Zuber dapat mempertimbangkan faktor cuaca saat merencanakan perjalanan atau menghitung perkiraan waktu perjalanan untuk penumpangnya."
   ]
  },
  {
   "cell_type": "markdown",
   "metadata": {},
   "source": [
    "<div class=\"alert alert-success\">\n",
    "<b>Code Reviewers's comment v.1</b> <a class=\"tocSkip\"></a>\n",
    "\n",
    "Bagus, code yang dijalankan sudah sesuai dengan instruksi dari project.\n",
    "\n",
    "</div>"
   ]
  },
  {
   "cell_type": "markdown",
   "metadata": {},
   "source": [
    "# Kesimpulan Umum"
   ]
  },
  {
   "cell_type": "markdown",
   "metadata": {},
   "source": [
    "Pada analisis ini, kita mengeksplorasi tiga aspek berbeda dari data Zuber. Pertama, kami mengidentifikasi perusahaan taksi dan wilayah tujuan dengan jumlah perjalanan tertinggi. Kedua, kami memeriksa distribusi perjalanan dari Loop ke Bandara Internasional O'Hare, terutama pada hari Sabtu, dan membandingkannya antara cuaca baik dan cuaca buruk. Terakhir, kami mengidentifikasi perusahaan dengan jumlah perjalanan tertinggi dan wilayah tujuan dengan rata-rata perjalanan tertinggi.\n",
    "\n",
    "- Hasilnya adalah:\n",
    "\n",
    "  - \"Flash Cab\" adalah perusahaan taksi dengan jumlah perjalanan tertinggi, yang dapat menjadi pesaing kuat untuk perusahaan Zuber. Mereka memiliki jumlah perjalanan lebih dari dua kali lipat dari perusahaan taksi rangking kedua.\n",
    "\n",
    "  - Wilayah \"Loop\" adalah destinasi yang paling sering dikunjungi oleh penumpang, diikuti oleh \"River North\" dan \"Streeterville.\" Ini mengindikasikan bahwa Zuber harus mempertimbangkan untuk meningkatkan layanan di wilayah-wilayah ini untuk memenangkan lebih banyak pelanggan.\n",
    "\n",
    "  - Berdasarkan analisis cuaca, terdapat perbedaan signifikan dalam durasi perjalanan dari Loop ke Bandara Internasional O'Hare saat cuaca buruk dibandingkan dengan cuaca baik. Pada cuaca buruk, rata-rata durasi perjalanan lebih lama, yang bisa menjadi faktor yang perlu dipertimbangkan oleh Zuber dalam merencanakan perjalanan.\n",
    "  "
   ]
  },
  {
   "cell_type": "markdown",
   "metadata": {},
   "source": [
    "<div class=\"alert alert-success\">\n",
    "<b>Code Reviewers's comment v.1</b> <a class=\"tocSkip\"></a>\n",
    "\n",
    "Bagus, code yang dijalankan sudah sesuai dengan instruksi dari project.\n",
    "\n",
    "</div>"
   ]
  },
  {
   "cell_type": "code",
   "execution_count": null,
   "metadata": {},
   "outputs": [],
   "source": []
  }
 ],
 "metadata": {
  "kernelspec": {
   "display_name": "Python 3 (ipykernel)",
   "language": "python",
   "name": "python3"
  },
  "language_info": {
   "codemirror_mode": {
    "name": "ipython",
    "version": 3
   },
   "file_extension": ".py",
   "mimetype": "text/x-python",
   "name": "python",
   "nbconvert_exporter": "python",
   "pygments_lexer": "ipython3",
   "version": "3.12.1"
  },
  "toc": {
   "base_numbering": 1,
   "nav_menu": {},
   "number_sections": false,
   "sideBar": true,
   "skip_h1_title": false,
   "title_cell": "Table of Contents",
   "title_sidebar": "Contents",
   "toc_cell": false,
   "toc_position": {
    "height": "calc(100% - 180px)",
    "left": "10px",
    "top": "150px",
    "width": "368px"
   },
   "toc_section_display": true,
   "toc_window_display": false
  }
 },
 "nbformat": 4,
 "nbformat_minor": 2
}
